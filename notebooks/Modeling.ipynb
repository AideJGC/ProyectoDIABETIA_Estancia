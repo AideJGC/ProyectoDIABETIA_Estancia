{
 "cells": [
  {
   "cell_type": "markdown",
   "metadata": {},
   "source": [
    "# Modeling\n",
    "## Estancia de investigación Maestría de Ciencia de Datos\n",
    "## Aide Jazmín González Cruz\n",
    "\n",
    "### 1. Carga de librerías"
   ]
  },
  {
   "cell_type": "code",
   "execution_count": 62,
   "metadata": {},
   "outputs": [],
   "source": [
    "import pandas as pd\n",
    "import numpy as np\n",
    "from sklearn.model_selection import GridSearchCV, TimeSeriesSplit, train_test_split\n",
    "from sklearn.ensemble import RandomForestClassifier\n",
    "from sklearn.preprocessing import MinMaxScaler, OneHotEncoder, KBinsDiscretizer\n",
    "from sklearn.compose import ColumnTransformer\n",
    "from sklearn.base import BaseEstimator,TransformerMixin\n",
    "from sklearn.linear_model import LogisticRegression\n",
    "from sklearn.tree import DecisionTreeClassifier\n",
    "from siuba import *\n",
    "import time\n",
    "from time import gmtime, strftime\n",
    "\n",
    "import sys\n",
    "import os\n",
    "from os.path import dirname\n",
    "from datetime import datetime\n",
    "import warnings\n",
    "warnings.filterwarnings('ignore')\n",
    "sys.path.append(dirname('../src'))\n",
    "from src.utils import utils\n"
   ]
  },
  {
   "cell_type": "markdown",
   "metadata": {},
   "source": [
    "### 2. Carga de features y división de datos de entrenamiento y validación"
   ]
  },
  {
   "cell_type": "code",
   "execution_count": 20,
   "metadata": {},
   "outputs": [
    {
     "data": {
      "text/html": [
       "<div>\n",
       "<style scoped>\n",
       "    .dataframe tbody tr th:only-of-type {\n",
       "        vertical-align: middle;\n",
       "    }\n",
       "\n",
       "    .dataframe tbody tr th {\n",
       "        vertical-align: top;\n",
       "    }\n",
       "\n",
       "    .dataframe thead th {\n",
       "        text-align: right;\n",
       "    }\n",
       "</style>\n",
       "<table border=\"1\" class=\"dataframe\">\n",
       "  <thead>\n",
       "    <tr style=\"text-align: right;\">\n",
       "      <th></th>\n",
       "      <th>avg_vent_entre_consul</th>\n",
       "      <th>max_dif_vent_entre_consul</th>\n",
       "      <th>max_dif_imc_calculado</th>\n",
       "      <th>ventana</th>\n",
       "      <th>num_med_preglucosa</th>\n",
       "      <th>avg_edad</th>\n",
       "      <th>min_edad</th>\n",
       "      <th>min_preglucosa</th>\n",
       "      <th>max_preglucosa</th>\n",
       "      <th>avg_diastolica_a</th>\n",
       "      <th>...</th>\n",
       "      <th>num_obesidad_extrema_hipov_alveolar</th>\n",
       "      <th>año_dx_dm</th>\n",
       "      <th>num_dm_no_especificada_c_cirp</th>\n",
       "      <th>num_E832</th>\n",
       "      <th>avg_dm_no_especificada</th>\n",
       "      <th>num_E780</th>\n",
       "      <th>peso</th>\n",
       "      <th>avg_uretritis_sind_uretral</th>\n",
       "      <th>avg_enf_alcoholica_higado</th>\n",
       "      <th>label</th>\n",
       "    </tr>\n",
       "  </thead>\n",
       "  <tbody>\n",
       "    <tr>\n",
       "      <th>0</th>\n",
       "      <td>29.833333</td>\n",
       "      <td>100.0</td>\n",
       "      <td>34.375000</td>\n",
       "      <td>1.0</td>\n",
       "      <td>9.000000</td>\n",
       "      <td>48.160000</td>\n",
       "      <td>47.0</td>\n",
       "      <td>108.000000</td>\n",
       "      <td>373.000000</td>\n",
       "      <td>78.571429</td>\n",
       "      <td>...</td>\n",
       "      <td>25.0</td>\n",
       "      <td>1999.000000</td>\n",
       "      <td>25.0</td>\n",
       "      <td>25.0</td>\n",
       "      <td>12.5</td>\n",
       "      <td>25.0</td>\n",
       "      <td>1.0</td>\n",
       "      <td>12.5</td>\n",
       "      <td>12.5</td>\n",
       "      <td>0</td>\n",
       "    </tr>\n",
       "    <tr>\n",
       "      <th>1</th>\n",
       "      <td>30.000000</td>\n",
       "      <td>69.0</td>\n",
       "      <td>34.375000</td>\n",
       "      <td>2.0</td>\n",
       "      <td>4.000000</td>\n",
       "      <td>49.000000</td>\n",
       "      <td>48.0</td>\n",
       "      <td>109.000000</td>\n",
       "      <td>253.000000</td>\n",
       "      <td>79.545455</td>\n",
       "      <td>...</td>\n",
       "      <td>24.0</td>\n",
       "      <td>1999.000000</td>\n",
       "      <td>24.0</td>\n",
       "      <td>24.0</td>\n",
       "      <td>12.0</td>\n",
       "      <td>24.0</td>\n",
       "      <td>1.0</td>\n",
       "      <td>12.0</td>\n",
       "      <td>12.0</td>\n",
       "      <td>0</td>\n",
       "    </tr>\n",
       "    <tr>\n",
       "      <th>2</th>\n",
       "      <td>33.857143</td>\n",
       "      <td>69.0</td>\n",
       "      <td>33.593750</td>\n",
       "      <td>3.0</td>\n",
       "      <td>1.000000</td>\n",
       "      <td>50.142857</td>\n",
       "      <td>49.0</td>\n",
       "      <td>253.000000</td>\n",
       "      <td>253.000000</td>\n",
       "      <td>79.523810</td>\n",
       "      <td>...</td>\n",
       "      <td>21.0</td>\n",
       "      <td>1999.000000</td>\n",
       "      <td>21.0</td>\n",
       "      <td>21.0</td>\n",
       "      <td>10.5</td>\n",
       "      <td>21.0</td>\n",
       "      <td>1.0</td>\n",
       "      <td>10.5</td>\n",
       "      <td>10.5</td>\n",
       "      <td>0</td>\n",
       "    </tr>\n",
       "    <tr>\n",
       "      <th>3</th>\n",
       "      <td>37.450000</td>\n",
       "      <td>112.0</td>\n",
       "      <td>33.593750</td>\n",
       "      <td>4.0</td>\n",
       "      <td>4.000000</td>\n",
       "      <td>51.200000</td>\n",
       "      <td>50.0</td>\n",
       "      <td>80.000000</td>\n",
       "      <td>210.000000</td>\n",
       "      <td>79.842105</td>\n",
       "      <td>...</td>\n",
       "      <td>20.0</td>\n",
       "      <td>1999.000000</td>\n",
       "      <td>20.0</td>\n",
       "      <td>20.0</td>\n",
       "      <td>10.0</td>\n",
       "      <td>20.0</td>\n",
       "      <td>1.0</td>\n",
       "      <td>10.0</td>\n",
       "      <td>10.0</td>\n",
       "      <td>1</td>\n",
       "    </tr>\n",
       "    <tr>\n",
       "      <th>4</th>\n",
       "      <td>185.000000</td>\n",
       "      <td>542.0</td>\n",
       "      <td>38.204082</td>\n",
       "      <td>1.0</td>\n",
       "      <td>3.941176</td>\n",
       "      <td>32.500000</td>\n",
       "      <td>32.0</td>\n",
       "      <td>125.188235</td>\n",
       "      <td>199.752941</td>\n",
       "      <td>77.500000</td>\n",
       "      <td>...</td>\n",
       "      <td>4.0</td>\n",
       "      <td>2001.333333</td>\n",
       "      <td>4.0</td>\n",
       "      <td>4.0</td>\n",
       "      <td>2.0</td>\n",
       "      <td>4.0</td>\n",
       "      <td>1.0</td>\n",
       "      <td>2.0</td>\n",
       "      <td>2.0</td>\n",
       "      <td>0</td>\n",
       "    </tr>\n",
       "  </tbody>\n",
       "</table>\n",
       "<p>5 rows × 541 columns</p>\n",
       "</div>"
      ],
      "text/plain": [
       "   avg_vent_entre_consul  max_dif_vent_entre_consul  max_dif_imc_calculado  \\\n",
       "0              29.833333                      100.0              34.375000   \n",
       "1              30.000000                       69.0              34.375000   \n",
       "2              33.857143                       69.0              33.593750   \n",
       "3              37.450000                      112.0              33.593750   \n",
       "4             185.000000                      542.0              38.204082   \n",
       "\n",
       "   ventana  num_med_preglucosa   avg_edad  min_edad  min_preglucosa  \\\n",
       "0      1.0            9.000000  48.160000      47.0      108.000000   \n",
       "1      2.0            4.000000  49.000000      48.0      109.000000   \n",
       "2      3.0            1.000000  50.142857      49.0      253.000000   \n",
       "3      4.0            4.000000  51.200000      50.0       80.000000   \n",
       "4      1.0            3.941176  32.500000      32.0      125.188235   \n",
       "\n",
       "   max_preglucosa  avg_diastolica_a  ...  num_obesidad_extrema_hipov_alveolar  \\\n",
       "0      373.000000         78.571429  ...                                 25.0   \n",
       "1      253.000000         79.545455  ...                                 24.0   \n",
       "2      253.000000         79.523810  ...                                 21.0   \n",
       "3      210.000000         79.842105  ...                                 20.0   \n",
       "4      199.752941         77.500000  ...                                  4.0   \n",
       "\n",
       "     año_dx_dm  num_dm_no_especificada_c_cirp  num_E832  \\\n",
       "0  1999.000000                           25.0      25.0   \n",
       "1  1999.000000                           24.0      24.0   \n",
       "2  1999.000000                           21.0      21.0   \n",
       "3  1999.000000                           20.0      20.0   \n",
       "4  2001.333333                            4.0       4.0   \n",
       "\n",
       "   avg_dm_no_especificada  num_E780  peso  avg_uretritis_sind_uretral  \\\n",
       "0                    12.5      25.0   1.0                        12.5   \n",
       "1                    12.0      24.0   1.0                        12.0   \n",
       "2                    10.5      21.0   1.0                        10.5   \n",
       "3                    10.0      20.0   1.0                        10.0   \n",
       "4                     2.0       4.0   1.0                         2.0   \n",
       "\n",
       "   avg_enf_alcoholica_higado  label  \n",
       "0                       12.5      0  \n",
       "1                       12.0      0  \n",
       "2                       10.5      0  \n",
       "3                       10.0      1  \n",
       "4                        2.0      0  \n",
       "\n",
       "[5 rows x 541 columns]"
      ]
     },
     "execution_count": 20,
     "metadata": {},
     "output_type": "execute_result"
    }
   ],
   "source": [
    "df = utils.load_df(\"../Data/feature_sel.pkl\")\n",
    "df.head(5)"
   ]
  },
  {
   "cell_type": "code",
   "execution_count": 21,
   "metadata": {},
   "outputs": [
    {
     "name": "stdout",
     "output_type": "stream",
     "text": [
      "<class 'pandas.core.frame.DataFrame'>\n",
      "RangeIndex: 129 entries, 0 to 128\n",
      "Columns: 541 entries, avg_vent_entre_consul to label\n",
      "dtypes: float64(540), int64(1)\n",
      "memory usage: 545.4 KB\n"
     ]
    }
   ],
   "source": [
    "df.info()"
   ]
  },
  {
   "cell_type": "code",
   "execution_count": 22,
   "metadata": {},
   "outputs": [
    {
     "name": "stdout",
     "output_type": "stream",
     "text": [
      "(129, 540)\n",
      "(129, 1)\n"
     ]
    }
   ],
   "source": [
    "X = df.loc[:, df.columns != 'label']\n",
    "print(X.shape)\n",
    "Y = df[[\"label\"]]\n",
    "print(Y.shape)"
   ]
  },
  {
   "cell_type": "code",
   "execution_count": 23,
   "metadata": {},
   "outputs": [],
   "source": [
    "X_train,X_test,y_train,y_test = train_test_split(X,Y,test_size=0.3)"
   ]
  },
  {
   "cell_type": "markdown",
   "metadata": {},
   "source": [
    "### 3. Magic Loop\n",
    "\n",
    "- Diccionario de algoritmos a aplicar"
   ]
  },
  {
   "cell_type": "code",
   "execution_count": 24,
   "metadata": {},
   "outputs": [],
   "source": [
    "algorithms_dict = {'tree': 'tree_grid_search',\n",
    "                   'random_forest': 'rf_grid_search',\n",
    "                   'logistic': 'logistic_grid_search',\n",
    "                   'xgboost': 'xgboost_grid_search'}"
   ]
  },
  {
   "cell_type": "markdown",
   "metadata": {},
   "source": [
    "- Diccionario de configuraciones"
   ]
  },
  {
   "cell_type": "code",
   "execution_count": 25,
   "metadata": {},
   "outputs": [],
   "source": [
    "grid_search_dict = {\n",
    "                        'tree_grid_search': {\n",
    "                            'max_depth': [5, 10, 15],\n",
    "                            'min_samples_leaf': [3, 5, 7]\n",
    "                        },\n",
    "                        'rf_grid_search': {\n",
    "                            'n_estimators': [30, 50, 100],\n",
    "                            'max_depth': [5, 10, 15],\n",
    "                            'min_samples_leaf': [3, 5, 10]\n",
    "                        },\n",
    "                        'logistic_grid_search':{\n",
    "                            'C':np.logspace(-3,3,7),\n",
    "                            'penalty':['l2']\n",
    "                        },\n",
    "                        'xgboost_grid_search':{\n",
    "                            'max_depth': range (2, 10, 1),\n",
    "                            'n_estimators': range(60, 220, 40),\n",
    "                            'learning_rate': [0.1, 0.01, 0.05]\n",
    "                        }\n",
    "                    }"
   ]
  },
  {
   "cell_type": "markdown",
   "metadata": {},
   "source": [
    "- Diccionario de estimadores"
   ]
  },
  {
   "cell_type": "code",
   "execution_count": 26,
   "metadata": {},
   "outputs": [],
   "source": [
    "from xgboost import XGBClassifier"
   ]
  },
  {
   "cell_type": "code",
   "execution_count": 27,
   "metadata": {},
   "outputs": [],
   "source": [
    "from sklearn.tree import DecisionTreeClassifier\n",
    "estimators_dict = {'tree': DecisionTreeClassifier(random_state=1111),\n",
    "                   'random_forest': RandomForestClassifier(oob_score=True, random_state=2222),\n",
    "                   'logistic': LogisticRegression(random_state=3333),\n",
    "                   'xgboost': XGBClassifier(objective= 'binary:logistic',nthread=4,seed=42)\n",
    "                  } "
   ]
  },
  {
   "cell_type": "code",
   "execution_count": 28,
   "metadata": {},
   "outputs": [],
   "source": [
    "def magic_loop(algorithms, features, labels):\n",
    "    best_estimators = []\n",
    "    for algorithm in algorithms:\n",
    "        estimator = estimators_dict[algorithm]\n",
    "        grid_search_to_look = algorithms_dict[algorithm]\n",
    "        grid_params = grid_search_dict[grid_search_to_look]\n",
    "        #tscv = TimeSeriesSplit(n_splits=5)\n",
    "        \n",
    "        #gs = GridSearchCV(estimator, grid_params, scoring='precision', cv=5, n_jobs=-1)\n",
    "        gs = GridSearchCV(estimator, grid_params, scoring='roc_auc', cv=5, n_jobs=-1)\n",
    "        \n",
    "        #train\n",
    "        gs.fit(features, labels)\n",
    "        #best estimator\n",
    "        best_estimators.append(gs)\n",
    "        \n",
    "        \n",
    "    return best_estimators"
   ]
  },
  {
   "cell_type": "code",
   "execution_count": 29,
   "metadata": {},
   "outputs": [],
   "source": [
    "#scoring_met= 'recall'\n",
    "algorithms = ['tree', 'random_forest','logistic','xgboost']\n",
    "models = []\n",
    "start_time = time.time()\n",
    "models_list = []"
   ]
  },
  {
   "cell_type": "code",
   "execution_count": 30,
   "metadata": {},
   "outputs": [
    {
     "name": "stdout",
     "output_type": "stream",
     "text": [
      "Empty DataFrame\n",
      "Columns: []\n",
      "Index: [81, 6, 44, 105, 25, 83, 87, 13, 114, 19, 12, 29, 120, 62, 82, 90, 119, 103, 79, 48, 88, 69, 57, 117, 28, 39, 91, 110, 58, 86, 122, 77, 73, 70, 100, 80, 47, 43, 94, 4, 21, 98, 5, 42, 38, 74, 71, 116, 126, 36, 61, 66, 3, 8, 15, 128, 14, 20, 54, 24, 99, 75, 95, 18, 67, 2, 23, 31, 97, 76, 121, 27, 102, 106, 68, 52, 17, 55, 34, 0, 63, 124, 93, 65, 96, 123, 49, 72, 16, 51]\n",
      "\n",
      "[90 rows x 0 columns]\n"
     ]
    }
   ],
   "source": [
    "# Select dataframe columns with any NaN value\n",
    "subset_df = X_train.loc[:, X_train.isnull().any()]\n",
    "print(subset_df)"
   ]
  },
  {
   "cell_type": "code",
   "execution_count": 31,
   "metadata": {},
   "outputs": [
    {
     "data": {
      "text/plain": [
       "['avg_vent_entre_consul',\n",
       " 'max_dif_vent_entre_consul',\n",
       " 'max_dif_imc_calculado',\n",
       " 'ventana',\n",
       " 'num_med_preglucosa',\n",
       " 'avg_edad',\n",
       " 'min_edad',\n",
       " 'min_preglucosa',\n",
       " 'max_preglucosa',\n",
       " 'avg_diastolica_a',\n",
       " 'min_dif_imc_calculado',\n",
       " 'min_dif_vent_entre_consul',\n",
       " 'min_peso',\n",
       " 'avg_peso',\n",
       " 'avg_sistolica_a',\n",
       " 'avg_dif_imc_calculado',\n",
       " 'avg_altura',\n",
       " 'edad_range',\n",
       " 'max_sistolica_a',\n",
       " 'num_med_presion_a',\n",
       " 'epoca_nac',\n",
       " 'max_edad',\n",
       " 'avg_preglucosa',\n",
       " 'min_altura',\n",
       " 'max_diastolica_a',\n",
       " 'dm_años_int',\n",
       " 'max_peso',\n",
       " 'num_med_imc_calculado',\n",
       " 'avg_g8',\n",
       " 'max_num_med',\n",
       " 'max_altura',\n",
       " 'min_diastolica_a',\n",
       " 'num_med',\n",
       " 'avg_num_med',\n",
       " 'num_med_colesterol',\n",
       " 'avg_ANTIULCEROSOS_Y_PROTECTORES_DE_LA_MUCOSA_GASTRICA',\n",
       " 'num_ANTIULCEROSOS_Y_PROTECTORES_DE_LA_MUCOSA_GASTRICA',\n",
       " 'avg_dm_no_insulinodep',\n",
       " 'avg_dif_date_lab',\n",
       " 'g8',\n",
       " 'dm_años_flt',\n",
       " 'imc_range',\n",
       " 'num_med_edad',\n",
       " 'min_sistolica_a',\n",
       " 'avg_E832',\n",
       " 'num_dm_no_insulinodep_sin_mc',\n",
       " 'min_creatinina',\n",
       " 'avg_g5',\n",
       " 'num_med_peso',\n",
       " 'max_trigliceridos',\n",
       " 'num_E881',\n",
       " 'num_g8',\n",
       " 'num_med_vent_entre_consul',\n",
       " 'g23',\n",
       " 'avg_trigliceridos',\n",
       " 'avg_ANTIEMETICOS',\n",
       " 'avg_I158',\n",
       " 'año_dx_hta',\n",
       " 'num_ANTIULCEROSOS_PROTECTOR_GASTRICO',\n",
       " 'avg_I708',\n",
       " 'dm',\n",
       " 'num_E720',\n",
       " 'num_dm_asoc_desnutricion_c_ne',\n",
       " 'max_dif_date_lab',\n",
       " 'num_VITAMINICOS',\n",
       " 'avg_E853',\n",
       " 'ANTIULCEROSOS_Y_PROTECTORES_DE_LA_MUCOSA_GASTRICA',\n",
       " 'num_med_altura',\n",
       " 'avg_dm_asoc_desnutricion_c_oft',\n",
       " 'avg_malformaciones_congenitas',\n",
       " 'num_E740',\n",
       " 'num_fibrosis_cirrosis_higado',\n",
       " 'avg_obesidad_extrema_hipov_alveolar',\n",
       " 'avg_enf_sist_osteomuscular_y_tejido',\n",
       " 'num_ANTIEMETICOS',\n",
       " 'avg_E802',\n",
       " 'num_E830',\n",
       " 'avg_num_consultas_by_year',\n",
       " 'avg_otras_dm_coma',\n",
       " 'avg_ANTIANEMICOS',\n",
       " 'ANTIANEMICOS',\n",
       " 'num_med_enf_org_genitales_masculinos',\n",
       " 'num_med_enf_endocrinas',\n",
       " 'num_adiposidad_localizada',\n",
       " 'num_dm_asoc_desnutricion_ceto',\n",
       " 'g14',\n",
       " 'num_hipertension_portal',\n",
       " 'avg_ANTIULCEROSOS_PROTECTOR_GASTRICO',\n",
       " 'num_E859',\n",
       " 'num_ot_trast_sistema_urinario',\n",
       " 'avg_sind_nefritico_ne',\n",
       " 'avg_obesidad_morbida',\n",
       " 'ANTIFUNGICOS',\n",
       " 'trast_glomerulares_enf_c_ot_part',\n",
       " 'num_hipercarotinemia',\n",
       " 'sexo',\n",
       " 'min_num_med',\n",
       " 'num_I139',\n",
       " 'num_dm_no_especificada_c_renal',\n",
       " 'avg_nefropatia_hereditaria_no_c_ot_part',\n",
       " 'avg_E779',\n",
       " 'avg_E761',\n",
       " 'avg_hepatitis_granulomatosa_no_c_ot_part',\n",
       " 'num_dm_no_especificada_c_esp',\n",
       " 'avg_E841',\n",
       " 'num_dm_insulinodep_c_neu',\n",
       " 'num_E744',\n",
       " 'min_trigliceridos',\n",
       " 'avg_I152',\n",
       " 'num_ANTIANEMICOS',\n",
       " 'avg_dm_no_insulinodep_sin_mc',\n",
       " 'avg_dm_asoc_desnutricion_coma',\n",
       " 'num_E708',\n",
       " 'num_E800',\n",
       " 'avg_ANTIBIOTICOS.1',\n",
       " 'avg_E90',\n",
       " 'avg_enf_endocrinas',\n",
       " 'num_necrosis_hemorragica_central_higado',\n",
       " 'avg_trast_glomerulares_enf_c_ot_part',\n",
       " 'num_med_enf_sist_nervioso',\n",
       " 'avg_enf_higado_ne',\n",
       " 'num_E831',\n",
       " 'ANTIEMETICOS',\n",
       " 'num_E872',\n",
       " 'avg_trastornos_sist_genitourinario_consec_proced',\n",
       " 'avg_obesidad_por_drogas',\n",
       " 'avg_trast_uretra_enf_c_ot_part',\n",
       " 'preglucosa',\n",
       " 'avg_E724',\n",
       " 'num_I119',\n",
       " 'avg_dm_no_especificada_c_mult',\n",
       " 'num_E763',\n",
       " 'num_colico_renal_ne',\n",
       " 'enf_org_genitales_masculinos',\n",
       " 'avg_ot_hiperalimentacion_esp',\n",
       " 'num_E839',\n",
       " 'num_E852',\n",
       " 'enf_viricas',\n",
       " 'num_E709',\n",
       " 'num_E803',\n",
       " 'avg_E858',\n",
       " 'max_creatinina',\n",
       " 'num_otras_dm_c_mult',\n",
       " 'num_hepatitis_cronica_no_c_ot_part',\n",
       " 'num_degeneracion_grasa_higado_no_c_ot_part',\n",
       " 'avg_uropatia_obstructiva_por_reflujo',\n",
       " 'num_ANTIBIOTICOS.1',\n",
       " 'num_E751',\n",
       " 'num_med_trigliceridos',\n",
       " 'postglucosa',\n",
       " 'num_E781',\n",
       " 'avg_VITAMINICOS',\n",
       " 'num_hipervitaminosis_a',\n",
       " 'avg_hepatitis_autoinmune',\n",
       " 'num_otras_dm_c_neu',\n",
       " 'num_E752',\n",
       " 'num_dm_no_insulinodep',\n",
       " 'avg_dm_no_especificada_c_ne',\n",
       " 'avg_g12',\n",
       " 'avg_dm_no_insulinodep_c_mult',\n",
       " 'avg_E881',\n",
       " 'num_obesidad_simple',\n",
       " 'avg_secuelas_hiperalimentacion',\n",
       " 'trastornos_sist_genitourinario_consec_proced',\n",
       " 'avg_I709',\n",
       " 'sum_num_consultas',\n",
       " 'num_E762',\n",
       " 'num_E804',\n",
       " 'num_sind_nefrotico',\n",
       " 'otras_dm_coma',\n",
       " 'avg_I159',\n",
       " 'avg_dm_asoc_desnutricion',\n",
       " 'obesidad_extrema_hipov_alveolar',\n",
       " 'num_I151',\n",
       " 'trigliceridos',\n",
       " 'num_E730',\n",
       " 'num_dm_insulinodep_coma',\n",
       " 'avg_E880',\n",
       " 'min_colesterol',\n",
       " 'enf_endocrinas',\n",
       " 'num_sind_nefritico_ne',\n",
       " 'num_E713',\n",
       " 'num_E721',\n",
       " 'num_otras_dm_ceto',\n",
       " 'num_congestion_pasiva_cronica_higado',\n",
       " 'num_disf_neuromusc_vejiga_no_c_ot_part',\n",
       " 'avg_g23',\n",
       " 'num_otras_enfes_esp_higado',\n",
       " 'avg_E786',\n",
       " 'num_I709',\n",
       " 'avg_hipervitaminosis_d',\n",
       " 'E791',\n",
       " 'num_E806',\n",
       " 'num_dm_no_insulinodep_c_esp',\n",
       " 'avg_g6',\n",
       " 'avg_I119',\n",
       " 'ANTIDIABETICOS.1',\n",
       " 'num_sindrome_de_megavitamina_b6',\n",
       " 'num_med_tumores_insitu',\n",
       " 'num_E835',\n",
       " 'avg_enf_cerebrovasculares',\n",
       " 'num_dm_insulinodep_c_cirp',\n",
       " 'avg_E751',\n",
       " 'num_trast_uretra_enf_c_ot_part',\n",
       " 'avg_colesterol',\n",
       " 'g6',\n",
       " 'avg_E712',\n",
       " 'avg_dm_no_insulinodep_c_oft',\n",
       " 'num_I129',\n",
       " 'avg_insuficiencia_hepatica_no_c_ot_part',\n",
       " 'fibrosis_cirrosis_higado',\n",
       " 'avg_obesidad_exceso_calorias',\n",
       " 'avg_dm_asoc_desnutricion_c_neu',\n",
       " 'avg_E805',\n",
       " 'min_postglucosa',\n",
       " 'num_E87',\n",
       " 'num_E756',\n",
       " 'dm_no_especificada_c_renal',\n",
       " 'num_E760',\n",
       " 'avg_E788',\n",
       " 'num_dm_no_insulinodep_c_neu',\n",
       " 'avg_E778',\n",
       " 'avg_I10',\n",
       " 'avg_ot_trast_sistema_urinario',\n",
       " 'num_E731',\n",
       " 'num_hepatitis_reactiva_no_especifica',\n",
       " 'avg_E754',\n",
       " 'ANTIMICOTICOS_SISTEMICOS_Y_TOPICOS',\n",
       " 'num_med_sintomas_signos_hallazgos_anormales_clin_lab_no_clasif',\n",
       " 'g7',\n",
       " 'avg_E769',\n",
       " 'E724',\n",
       " 'avg_insuficiencia_renal_cronica',\n",
       " 'avg_E791',\n",
       " 'avg_sind_nefritico_cron',\n",
       " 'num_enf_toxica_higado',\n",
       " 'avg_obesidad',\n",
       " 'avg_E790',\n",
       " 'avg_adiposidad_localizada',\n",
       " 'enf_ot_partes_aparato_digestivo',\n",
       " 'ot_enf_inf_y_paras_y_efec_tardios',\n",
       " 'num_E877',\n",
       " 'avg_dm_no_insulinodep_c_ne',\n",
       " 'num_E779',\n",
       " 'num_E798',\n",
       " 'num_dm_no_insulinodep_c_ne',\n",
       " 'avg_E741',\n",
       " 'avg_dm_asoc_desnutricion_sin_mc',\n",
       " 'max_dif_vent_entre_lab',\n",
       " 'avg_E806',\n",
       " 'num_otra_hiperalimentacion',\n",
       " 'avg_E768',\n",
       " 'avg_flebitis_de_la_vena_porta',\n",
       " 'num_ot_trast_riñon_ureter_enf_c_ot_part',\n",
       " 'num_insuficiencia_hepatica_no_c_ot_part',\n",
       " 'num_nefropatia_hereditaria_no_c_ot_part',\n",
       " 'avg_infarto_higado',\n",
       " 'avg_E877',\n",
       " 'avg_degeneracion_grasa_higado_no_c_ot_part',\n",
       " 'num_otras_dm_c_oft',\n",
       " 'num_ot_trast_uretra',\n",
       " 'max_hba1c',\n",
       " 'avg_I701',\n",
       " 'num_I708',\n",
       " 'num_peliosis_hepatica',\n",
       " 'num_dm_insulinodep_c_mult',\n",
       " 'avg_E756',\n",
       " 'avg_T466',\n",
       " 'avg_hematuria_recur_persist',\n",
       " 'num_E848',\n",
       " 'avg_otras_dm_c_oft',\n",
       " 'num_med_enf_inf_intestinales',\n",
       " 'num_otras_dm_sin_mc',\n",
       " 'avg_obesidad_simple',\n",
       " 'avg_E711',\n",
       " 'num_I702',\n",
       " 'trastornos_mentales',\n",
       " 'avg_hipervitaminosis_a',\n",
       " 'avg_sintomas_signos_hallazgos_anormales_clin_lab_no_clasif',\n",
       " 'num_E741',\n",
       " 'avg_E753',\n",
       " 'avg_I139',\n",
       " 'avg_E840',\n",
       " 'max_colesterol',\n",
       " 'avg_E859',\n",
       " 'tumores_malig_huesos_articulares_conjuntivo_piel_mama',\n",
       " 'E753',\n",
       " 'avg_E755',\n",
       " 'necrosis_hemorragica_central_higado',\n",
       " 'num_otras_dm_c_esp',\n",
       " 'E738',\n",
       " 'avg_E872',\n",
       " 'num_dm_asoc_desnutricion_c_esp',\n",
       " 'dm_no_especificada_c_esp',\n",
       " 'hipervitaminosis_d',\n",
       " 'riñon_pequeño_causa_desconocida',\n",
       " 'num_E786',\n",
       " 'avg_calculo_vias_urinarias_enf_c_ot_part',\n",
       " 'num_E853',\n",
       " 'num_E90',\n",
       " 'avg_dm_insulinodep_c_oft',\n",
       " 'avg_dm_asoc_desnutricion_ceto',\n",
       " 'avg_otras_enf_renales_tubuloint',\n",
       " 'avg_E835',\n",
       " 'num_trast_resul_fun_tub_renal_alt',\n",
       " 'num_ot_hiperalimentacion_esp',\n",
       " 'avg_I110',\n",
       " 'avg_E738',\n",
       " 'enf_sist_osteomuscular_y_tejido',\n",
       " 'avg_trast_resul_fun_tub_renal_alt',\n",
       " 'ANTIULCEROSOS_PROTECTOR_GASTRICO',\n",
       " 'avg_E833',\n",
       " 'num_g5',\n",
       " 'avg_E720',\n",
       " 'avg_E838',\n",
       " 'E839',\n",
       " 'tfg',\n",
       " 'num_ANTIDIABETICOS.1',\n",
       " 'num_g23',\n",
       " 'avg_E834',\n",
       " 'avg_E770',\n",
       " 'num_Y526',\n",
       " 'avg_E870',\n",
       " 'num_otras_dm_c_ne',\n",
       " 'ANTIBIOTICOS.1',\n",
       " 'E889',\n",
       " 'num_cistitis',\n",
       " 'num_E802',\n",
       " 'insuficiencia_renal_ne',\n",
       " 'avg_E701',\n",
       " 'avg_E710',\n",
       " 'num_E738',\n",
       " 'E713',\n",
       " 'avg_E763',\n",
       " 'avg_E804',\n",
       " 'avg_dm_insulinodep_c_cirp',\n",
       " 'creatinina',\n",
       " 'num_E723',\n",
       " 'num_med_enf_sist_osteomuscular_y_tejido',\n",
       " 'E871',\n",
       " 'avg_E783',\n",
       " 'ANTIALERGICOS',\n",
       " 'num_dm_asoc_desnutricion_c_mult',\n",
       " 'dm_no_insulinodep_c_mult',\n",
       " 'dm_asoc_desnutricion_c_esp',\n",
       " 'avg_E740',\n",
       " 'num_uretritis_sind_uretral',\n",
       " 'avg_E799',\n",
       " 'E853',\n",
       " 'avg_dm_asoc_desnutricion_c_esp',\n",
       " 'dm_no_especificada_ceto',\n",
       " 'avg_E873',\n",
       " 'E785',\n",
       " 'avg_calculo_riñon_ureter',\n",
       " 'num_E789',\n",
       " 'num_otras_dm_c_renal',\n",
       " 'num_E742',\n",
       " 'avg_E722',\n",
       " 'hipervitaminosis_a',\n",
       " 'avg_E781',\n",
       " 'avg_otras_dm_c_esp',\n",
       " 'E834',\n",
       " 'num_E771',\n",
       " 'avg_hepatitis_cronica_no_c_ot_part',\n",
       " 'avg_E702',\n",
       " 'avg_ANTIDIABETICOS.1',\n",
       " 'avg_peliosis_hepatica',\n",
       " 'avg_proteinuria_aislada_lesion_morfo_esp',\n",
       " 'avg_E744',\n",
       " 'avg_E731',\n",
       " 'num_E753',\n",
       " 'avg_E713',\n",
       " 'vent_entre_lab',\n",
       " 'num_E701',\n",
       " 'avg_E871',\n",
       " 'sind_nefritico_ag',\n",
       " 'avg_dm_insulinodep',\n",
       " 'avg_dm_insulinodep_c_mult',\n",
       " 'num_sind_nefritico_cron',\n",
       " 'avg_necrosis_hemorragica_central_higado',\n",
       " 'avg_nefritis_tubuloint_aguda',\n",
       " 'num_hiperalimentacion',\n",
       " 'num_dm_asoc_desnutricion_c_cirp',\n",
       " 'num_dm_insulinodep_c_oft',\n",
       " 'avg_E708',\n",
       " 'num_absceso_higado',\n",
       " 'num_FACTOR_VITAMINICO',\n",
       " 'avg_dm_no_especificada_c_neu',\n",
       " 'E877',\n",
       " 'num_E838',\n",
       " 'num_dm_asoc_desnutricion_c_neu',\n",
       " 'avg_E850',\n",
       " 'VITAMINICOS',\n",
       " 'E804',\n",
       " 'avg_sind_nefritico_progr',\n",
       " 'num_otras_enfes_inflamatorias_higado_esp',\n",
       " 'max_postglucosa',\n",
       " 'num_enf_alcoholica_higado',\n",
       " 'E90',\n",
       " 'num_med_creatinina',\n",
       " 'num_trast_renales_tubuloint_enf_c_ot_part',\n",
       " 'num_g6',\n",
       " 'avg_aumento_anormal_peso',\n",
       " 'num_E849',\n",
       " 'avg_E752',\n",
       " 'num_hepatitis_granulomatosa_no_c_ot_part',\n",
       " 'avg_E771',\n",
       " 'avg_E742',\n",
       " 'avg_E798',\n",
       " 'avg_sindrome_hepatorrenal',\n",
       " 'avg_E800',\n",
       " 'avg_otras_dm_ceto',\n",
       " 'num_otras_enf_renales_tubuloint',\n",
       " 'num_E700',\n",
       " 'avg_enf_toxica_higado',\n",
       " 'FACTOR_VITAMINICO',\n",
       " 'g5',\n",
       " 'avg_E878',\n",
       " 'FARMACOS_UTILIZADOS_EN_NEFROLOGIA',\n",
       " 'avg_E743',\n",
       " 'avg_fiebre_y_enf_cardiacas_reumaticas',\n",
       " 'avg_comp_precoces_traumatismos',\n",
       " 'num_I131',\n",
       " 'num_dm_no_especificada_c_oft',\n",
       " 'num_dm_insulinodep_c_ne',\n",
       " 'avg_dm_insulinodep_sin_mc',\n",
       " 'num_ot_trast_vejiga',\n",
       " 'num_E788',\n",
       " 'num_dm_asoc_desnutricion_coma',\n",
       " 'avg_dm_insulinodep_coma',\n",
       " 'avg_I131',\n",
       " 'num_secuelas_hiperalimentacion',\n",
       " 'num_E841',\n",
       " 'num_E768',\n",
       " 'num_E807',\n",
       " 'num_riñon_contraido_ne',\n",
       " 'num_I701',\n",
       " 'num_E791',\n",
       " 'avg_otras_dm_c_neu',\n",
       " 'num_E89',\n",
       " 'avg_congestion_pasiva_cronica_higado',\n",
       " 'num_med_sindrome_maltrato',\n",
       " 'avg_E876',\n",
       " 'num_obesidad',\n",
       " 'avg_E721',\n",
       " 'num_E878',\n",
       " 'avg_dm_asoc_desnutricion_c_cirp',\n",
       " 'num_E785',\n",
       " 'num_hematuria_recur_persist',\n",
       " 'num_E755',\n",
       " 'avg_dm_asoc_desnutricion_c_ne',\n",
       " 'num_dm_no_insulinodep_coma',\n",
       " 'num_E889',\n",
       " 'num_E801',\n",
       " 'avg_E89',\n",
       " 'num_dm_insulinodep',\n",
       " 'num_dm_asoc_desnutricion_c_renal',\n",
       " 'num_dm_asoc_desnutricion_sin_mc',\n",
       " 'enf_sist_nervioso',\n",
       " 'avg_Y526',\n",
       " 'avg_I129',\n",
       " 'avg_E784',\n",
       " 'num_E876',\n",
       " 'num_I130',\n",
       " 'avg_sindrome_maltrato',\n",
       " 'num_calculo_vias_urinarias_enf_c_ot_part',\n",
       " 'avg_I130',\n",
       " 'avg_E725',\n",
       " 'num_dm_no_insulinodep_c_renal',\n",
       " 'avg_E875',\n",
       " 'num_dm_no_insulinodep_c_oft',\n",
       " 'avg_dm_asoc_desnutricion_c_mult',\n",
       " 'avg_colico_renal_ne',\n",
       " 'avg_I132',\n",
       " 'num_E782',\n",
       " 'avg_E723',\n",
       " 'num_E778',\n",
       " 'num_E725',\n",
       " 'num_insuficiencia_renal_aguda',\n",
       " 'avg_E889',\n",
       " 'num_E754',\n",
       " 'avg_tumores_insitu',\n",
       " 'avg_dm_asoc_desnutricion_c_renal',\n",
       " 'num_E871',\n",
       " 'avg_E888',\n",
       " 'avg_E785',\n",
       " 'num_riñon_pequeño_causa_desconocida',\n",
       " 'num_obesidad_morbida',\n",
       " 'num_dm_no_especificada_c_mult',\n",
       " 'num_med_tumores_malig_org_respiratorios_intratoracicos',\n",
       " 'avg_E882',\n",
       " 'num_E790',\n",
       " 'g12',\n",
       " 'avg_E807',\n",
       " 'num_E702',\n",
       " 'avg_riñon_contraido_ne',\n",
       " 'avg_nefritis_tubuloint_ne_aguda_cronica',\n",
       " 'num_dm_no_especificada',\n",
       " 'num_nefritis_tubuloint_aguda',\n",
       " 'num_dm_no_insulinodep_c_mult',\n",
       " 'num_calculo_riñon_ureter',\n",
       " 'num_E858',\n",
       " 'imc',\n",
       " 'avg_otras_dm_c_renal',\n",
       " 'avg_dm_no_insulinodep_c_neu',\n",
       " 'avg_cistitis',\n",
       " 'num_E834',\n",
       " 'avg_dm_no_insulinodep_ceto',\n",
       " 'num_uropatia_obstructiva_por_reflujo',\n",
       " 'num_nefritis_tubuloint_ne_aguda_cronica',\n",
       " 'num_E854',\n",
       " 'avg_afecc_tub_tubuloint_drog_metp',\n",
       " 'avg_dm_insulinodep_c_ne',\n",
       " 'num_E761',\n",
       " 'num_E750',\n",
       " 'avg_dm_insulinodep_c_esp',\n",
       " 'num_hepatitis_autoinmune',\n",
       " 'avg_dm_insulinodep_c_renal',\n",
       " 'avg_E748',\n",
       " 'num_sindrome_hepatorrenal',\n",
       " 'num_E870',\n",
       " 'avg_dm_no_especificada_sin_mc',\n",
       " 'avg_trast_renales_tubuloint_enf_c_ot_part',\n",
       " 'num_I10',\n",
       " 'vent_entre_consul',\n",
       " 'avg_E700',\n",
       " 'avg_E851',\n",
       " 'num_I700',\n",
       " 'avg_E830',\n",
       " 'avg_dm_insulinodep_ceto',\n",
       " 'num_infarto_higado',\n",
       " 'num_obesidad_extrema_hipov_alveolar',\n",
       " 'año_dx_dm',\n",
       " 'num_dm_no_especificada_c_cirp',\n",
       " 'num_E832',\n",
       " 'avg_dm_no_especificada',\n",
       " 'num_E780',\n",
       " 'peso',\n",
       " 'avg_uretritis_sind_uretral',\n",
       " 'avg_enf_alcoholica_higado']"
      ]
     },
     "execution_count": 31,
     "metadata": {},
     "output_type": "execute_result"
    }
   ],
   "source": [
    "X_train.columns.values.tolist()"
   ]
  },
  {
   "cell_type": "code",
   "execution_count": null,
   "metadata": {},
   "outputs": [],
   "source": []
  },
  {
   "cell_type": "code",
   "execution_count": 32,
   "metadata": {},
   "outputs": [
    {
     "name": "stdout",
     "output_type": "stream",
     "text": [
      "Selección de variables completada satisfactoriamente en  3503.6151435375214  segundos\n"
     ]
    }
   ],
   "source": [
    "best = magic_loop(algorithms, X_train, y_train)\n",
    "print(\"Selección de variables completada satisfactoriamente en \", time.time() - start_time, ' segundos')"
   ]
  },
  {
   "cell_type": "code",
   "execution_count": 43,
   "metadata": {},
   "outputs": [
    {
     "data": {
      "text/plain": [
       "XGBClassifier(base_score=0.5, booster='gbtree', callbacks=None,\n",
       "              colsample_bylevel=1, colsample_bynode=1, colsample_bytree=1,\n",
       "              early_stopping_rounds=None, enable_categorical=False,\n",
       "              eval_metric=None, gamma=0, gpu_id=-1, grow_policy='depthwise',\n",
       "              importance_type=None, interaction_constraints='',\n",
       "              learning_rate=0.05, max_bin=256, max_cat_to_onehot=4,\n",
       "              max_delta_step=0, max_depth=5, max_leaves=0, min_child_weight=1,\n",
       "              missing=nan, monotone_constraints='()', n_estimators=60, n_jobs=4,\n",
       "              nthread=4, num_parallel_tree=1, predictor='auto', random_state=42,\n",
       "              reg_alpha=0, ...)"
      ]
     },
     "execution_count": 43,
     "metadata": {},
     "output_type": "execute_result"
    }
   ],
   "source": [
    "model0 = best[0].best_estimator_\n",
    "model0\n",
    "\n",
    "model1 = best[1].best_estimator_\n",
    "model1\n",
    "\n",
    "model2 = best[2].best_estimator_\n",
    "model2\n",
    "\n",
    "model3 = best[3].best_estimator_\n",
    "model3"
   ]
  },
  {
   "cell_type": "code",
   "execution_count": 44,
   "metadata": {},
   "outputs": [],
   "source": [
    "utils.save_df(model0, \"../output/best_model0_av.pkl\")\n",
    "utils.save_df(model1, \"../output/best_model1_av.pkl\")\n",
    "utils.save_df(model2, \"../output/best_model2_av.pkl\")\n",
    "utils.save_df(model3, \"../output/best_model3_av.pkl\")"
   ]
  },
  {
   "cell_type": "markdown",
   "metadata": {},
   "source": [
    "### 4. Evaluando modelo"
   ]
  },
  {
   "cell_type": "code",
   "execution_count": 45,
   "metadata": {},
   "outputs": [],
   "source": [
    "from sklearn.metrics import roc_curve, roc_auc_score\n",
    "from sklearn.metrics import accuracy_score, precision_recall_curve, precision_score, recall_score\n",
    "from sklearn.metrics import confusion_matrix, plot_confusion_matrix\n",
    "import matplotlib.pyplot as plt"
   ]
  },
  {
   "cell_type": "code",
   "execution_count": 47,
   "metadata": {},
   "outputs": [],
   "source": [
    "predicted_labels0 = model0.predict(X_test)\n",
    "predicted_scores0 = model0.predict_proba(X_test)\n",
    "\n",
    "predicted_labels1 = model1.predict(X_test)\n",
    "predicted_scores1 = model1.predict_proba(X_test)\n",
    "\n",
    "predicted_labels2 = model2.predict(X_test)\n",
    "predicted_scores2 = model2.predict_proba(X_test)\n",
    "\n",
    "predicted_labels3 = model3.predict(X_test)\n",
    "predicted_scores3 = model3.predict_proba(X_test)\n"
   ]
  },
  {
   "cell_type": "code",
   "execution_count": 48,
   "metadata": {},
   "outputs": [
    {
     "data": {
      "image/png": "[encoded data removed]",
      "text/plain": [
       "<Figure size 432x288 with 1 Axes>"
      ]
     },
     "metadata": {
      "needs_background": "light"
     },
     "output_type": "display_data"
    },
    {
     "name": "stdout",
     "output_type": "stream",
     "text": [
      "[[27  6]\n",
      " [ 5  1]]\n"
     ]
    },
    {
     "data": {
      "text/plain": [
       "<sklearn.metrics._plot.confusion_matrix.ConfusionMatrixDisplay at 0x7f24f2e71790>"
      ]
     },
     "execution_count": 48,
     "metadata": {},
     "output_type": "execute_result"
    },
    {
     "data": {
      "image/png": "[encoded data removed]",
      "text/plain": [
       "<Figure size 432x288 with 2 Axes>"
      ]
     },
     "metadata": {
      "needs_background": "light"
     },
     "output_type": "display_data"
    }
   ],
   "source": [
    "### Curva ROC\n",
    "plt.figure()\n",
    "fpr, tpr, thresholds = roc_curve(y_test, predicted_scores0[:, 1], pos_label=1)\n",
    "plt.clf()\n",
    "plt.plot([0, 1], [0, 1], 'k--', c=\"red\")\n",
    "plt.plot(fpr, tpr)\n",
    "plt.title(\"ROC best RF, AUC: {}\".format(roc_auc_score(y_test, predicted_labels0)))\n",
    "plt.xlabel(\"fpr\")\n",
    "plt.ylabel(\"tpr\")\n",
    "#plt.savefig('../output/ROC_curve.png', bbox_inches='tight')\n",
    "plt.show()\n",
    "\n",
    "print(confusion_matrix(y_test, predicted_labels0))\n",
    "plot_confusion_matrix(model0, X_test, y_test, cmap=plt.cm.Blues)  "
   ]
  },
  {
   "cell_type": "code",
   "execution_count": 49,
   "metadata": {},
   "outputs": [
    {
     "data": {
      "image/png": "[encoded data removed]",
      "text/plain": [
       "<Figure size 432x288 with 1 Axes>"
      ]
     },
     "metadata": {
      "needs_background": "light"
     },
     "output_type": "display_data"
    },
    {
     "name": "stdout",
     "output_type": "stream",
     "text": [
      "[[33  0]\n",
      " [ 6  0]]\n"
     ]
    },
    {
     "data": {
      "text/plain": [
       "<sklearn.metrics._plot.confusion_matrix.ConfusionMatrixDisplay at 0x7f24f2e8eb10>"
      ]
     },
     "execution_count": 49,
     "metadata": {},
     "output_type": "execute_result"
    },
    {
     "data": {
      "image/png": "[encoded data removed]",
      "text/plain": [
       "<Figure size 432x288 with 2 Axes>"
      ]
     },
     "metadata": {
      "needs_background": "light"
     },
     "output_type": "display_data"
    }
   ],
   "source": [
    "### Curva ROC\n",
    "plt.figure()\n",
    "fpr, tpr, thresholds = roc_curve(y_test, predicted_scores1[:, 1], pos_label=1)\n",
    "plt.clf()\n",
    "plt.plot([0, 1], [0, 1], 'k--', c=\"red\")\n",
    "plt.plot(fpr, tpr)\n",
    "plt.title(\"ROC best RF, AUC: {}\".format(roc_auc_score(y_test, predicted_labels1)))\n",
    "plt.xlabel(\"fpr\")\n",
    "plt.ylabel(\"tpr\")\n",
    "#plt.savefig('../output/ROC_curve.png', bbox_inches='tight')\n",
    "plt.show()\n",
    "\n",
    "print(confusion_matrix(y_test, predicted_labels1))\n",
    "plot_confusion_matrix(model1, X_test, y_test, cmap=plt.cm.Blues)  "
   ]
  },
  {
   "cell_type": "code",
   "execution_count": 50,
   "metadata": {},
   "outputs": [
    {
     "data": {
      "image/png": "[encoded data removed]",
      "text/plain": [
       "<Figure size 432x288 with 1 Axes>"
      ]
     },
     "metadata": {
      "needs_background": "light"
     },
     "output_type": "display_data"
    },
    {
     "name": "stdout",
     "output_type": "stream",
     "text": [
      "[[26  7]\n",
      " [ 4  2]]\n"
     ]
    },
    {
     "data": {
      "text/plain": [
       "<sklearn.metrics._plot.confusion_matrix.ConfusionMatrixDisplay at 0x7f24f2c25f10>"
      ]
     },
     "execution_count": 50,
     "metadata": {},
     "output_type": "execute_result"
    },
    {
     "data": {
      "image/png": "[encoded data removed]",
      "text/plain": [
       "<Figure size 432x288 with 2 Axes>"
      ]
     },
     "metadata": {
      "needs_background": "light"
     },
     "output_type": "display_data"
    }
   ],
   "source": [
    "### Curva ROC\n",
    "plt.figure()\n",
    "fpr, tpr, thresholds = roc_curve(y_test, predicted_scores2[:, 1], pos_label=1)\n",
    "plt.clf()\n",
    "plt.plot([0, 1], [0, 1], 'k--', c=\"red\")\n",
    "plt.plot(fpr, tpr)\n",
    "plt.title(\"ROC best RF, AUC: {}\".format(roc_auc_score(y_test, predicted_labels2)))\n",
    "plt.xlabel(\"fpr\")\n",
    "plt.ylabel(\"tpr\")\n",
    "#plt.savefig('../output/ROC_curve.png', bbox_inches='tight')\n",
    "plt.show()\n",
    "\n",
    "print(confusion_matrix(y_test, predicted_labels2))\n",
    "plot_confusion_matrix(model2, X_test, y_test, cmap=plt.cm.Blues)  "
   ]
  },
  {
   "cell_type": "code",
   "execution_count": 51,
   "metadata": {},
   "outputs": [
    {
     "data": {
      "image/png": "[encoded data removed]",
      "text/plain": [
       "<Figure size 432x288 with 1 Axes>"
      ]
     },
     "metadata": {
      "needs_background": "light"
     },
     "output_type": "display_data"
    },
    {
     "name": "stdout",
     "output_type": "stream",
     "text": [
      "[[25  8]\n",
      " [ 4  2]]\n"
     ]
    },
    {
     "data": {
      "text/plain": [
       "<sklearn.metrics._plot.confusion_matrix.ConfusionMatrixDisplay at 0x7f24f2d00f10>"
      ]
     },
     "execution_count": 51,
     "metadata": {},
     "output_type": "execute_result"
    },
    {
     "data": {
      "image/png": "[encoded data removed]",
      "text/plain": [
       "<Figure size 432x288 with 2 Axes>"
      ]
     },
     "metadata": {
      "needs_background": "light"
     },
     "output_type": "display_data"
    }
   ],
   "source": [
    "### Curva ROC\n",
    "plt.figure()\n",
    "fpr, tpr, thresholds = roc_curve(y_test, predicted_scores3[:, 1], pos_label=1)\n",
    "plt.clf()\n",
    "plt.plot([0, 1], [0, 1], 'k--', c=\"red\")\n",
    "plt.plot(fpr, tpr)\n",
    "plt.title(\"ROC best RF, AUC: {}\".format(roc_auc_score(y_test, predicted_labels3)))\n",
    "plt.xlabel(\"fpr\")\n",
    "plt.ylabel(\"tpr\")\n",
    "#plt.savefig('../output/ROC_curve.png', bbox_inches='tight')\n",
    "plt.show()\n",
    "\n",
    "print(confusion_matrix(y_test, predicted_labels3))\n",
    "plot_confusion_matrix(model3, X_test, y_test, cmap=plt.cm.Blues)  "
   ]
  },
  {
   "cell_type": "code",
   "execution_count": 38,
   "metadata": {},
   "outputs": [],
   "source": [
    "def get_metrics_report(fpr, tpr, thresholds, precision, recall, thresholds_2):\n",
    "    df_1 = pd.DataFrame({'threshold': thresholds_2, 'precision': precision,\n",
    "                         'recall': recall})\n",
    "    df_1['f1_score'] = 2 * (df_1.precision * df_1.recall) / (df_1.precision + df_1.recall)\n",
    "\n",
    "    df_2 = pd.DataFrame({'tpr': tpr, 'fpr': fpr, 'threshold': thresholds})\n",
    "    df_2['tnr'] = 1 - df_2['fpr']\n",
    "    df_2['fnr'] = 1 - df_2['tpr']\n",
    "\n",
    "    df = df_1.merge(df_2, on=\"threshold\")\n",
    "\n",
    "    return df"
   ]
  },
  {
   "cell_type": "code",
   "execution_count": 39,
   "metadata": {},
   "outputs": [
    {
     "data": {
      "image/png": "[encoded data removed]",
      "text/plain": [
       "<Figure size 432x288 with 1 Axes>"
      ]
     },
     "metadata": {
      "needs_background": "light"
     },
     "output_type": "display_data"
    }
   ],
   "source": [
    "# Generando métricas\n",
    "precision, recall, thresholds_2 = precision_recall_curve(y_test, predicted_scores[:, 1], pos_label=1)\n",
    "thresholds_2 = np.append(thresholds_2, 1)\n",
    "metrics_report = get_metrics_report(fpr, tpr, thresholds, precision, recall, thresholds_2)\n",
    "#save_metrics(metrics_report, '../output/metricas_offline.pkl')\n",
    "\n",
    "# Curva: Precision-recall\n",
    "plt.figure()\n",
    "plt.plot(metrics_report['threshold'], metrics_report['precision'], 'k--', c=\"red\", label='precision')\n",
    "plt.plot(metrics_report['threshold'], metrics_report['recall'], 'k--', c=\"blue\", label='recall')\n",
    "plt.xlabel('threshold')\n",
    "plt.ylim([0, 1])\n",
    "plt.legend(bbox_to_anchor=(1, 1), fontsize=12)\n",
    "plt.savefig('../output/recall_precision.png', bbox_inches='tight')\n",
    "#plt.show()"
   ]
  },
  {
   "cell_type": "code",
   "execution_count": 40,
   "metadata": {},
   "outputs": [],
   "source": [
    "# Curva: recall-precision @k\n",
    "data_junta = pd.concat([X_test, y_test], axis=1)\n",
    "data_filtrada = data_junta\n",
    "datos_finales_X = pd.DataFrame(data_filtrada.drop(['label'], axis=1))\n",
    "y_true = data_filtrada.label\n",
    "y_scores = model.predict_proba(datos_finales_X)"
   ]
  },
  {
   "cell_type": "code",
   "execution_count": 41,
   "metadata": {},
   "outputs": [],
   "source": [
    "def param_graf(y_true, y_scores):\n",
    "    k_values = np.linspace(0, 0.99, 100)\n",
    "    lista = []\n",
    "\n",
    "    for k in k_values:\n",
    "        p_k = precision_at_k(y_true, pd.DataFrame(y_scores)[1], k)\n",
    "        r_k = recall_at_k(y_true, pd.DataFrame(y_scores)[1], k)\n",
    "        lista = lista + [[p_k, r_k, k]]\n",
    "\n",
    "    p_r_g = pd.DataFrame(lista, columns=[\"p_k\", \"r_k\", \"k\"])\n",
    "\n",
    "    return p_r_g\n",
    "\n",
    "def precision_at_k(y_true, y_scores, k):\n",
    "    threshold = np.sort(y_scores)[::-1][int(k * len(y_scores))]\n",
    "    y_pred = np.asarray([1 if i >= threshold else 0 for i in y_scores])\n",
    "\n",
    "    return precision_score(y_true, y_pred)\n",
    "\n",
    "def recall_at_k(y_true, y_scores, k):\n",
    "    threshold = np.sort(y_scores)[::-1][int(k * len(y_scores))]\n",
    "    y_pred = np.asarray([1 if i >= threshold else 0 for i in y_scores])\n",
    "\n",
    "    return recall_score(y_true, y_pred)"
   ]
  },
  {
   "cell_type": "code",
   "execution_count": 42,
   "metadata": {},
   "outputs": [
    {
     "data": {
      "image/png": "[encoded data removed]",
      "text/plain": [
       "<Figure size 432x288 with 1 Axes>"
      ]
     },
     "metadata": {
      "needs_background": "light"
     },
     "output_type": "display_data"
    }
   ],
   "source": [
    "p_r_g = param_graf(y_true, y_scores)\n",
    "\n",
    "plt.figure()\n",
    "plt.plot(p_r_g[\"k\"], p_r_g[\"p_k\"], label=\"P\")\n",
    "plt.plot(p_r_g[\"k\"], p_r_g[\"r_k\"], label=\"R\")\n",
    "plt.title(\"Precision and recall at k%: PA\")\n",
    "plt.axvline(x=0.037, c='red', linestyle='--')\n",
    "plt.ylabel(\"Mejor valor\")\n",
    "plt.legend(['Precision', 'Recall'])\n",
    "plt.xlabel(\"%k\")\n",
    "plt.savefig('../output/recall_precision_k.png', bbox_inches='tight')\n",
    "#plt.show()"
   ]
  },
  {
   "cell_type": "code",
   "execution_count": null,
   "metadata": {},
   "outputs": [],
   "source": []
  }
 ],
 "metadata": {
  "kernelspec": {
   "display_name": "Python 3",
   "language": "python",
   "name": "python3"
  },
  "language_info": {
   "codemirror_mode": {
    "name": "ipython",
    "version": 3
   },
   "file_extension": ".py",
   "mimetype": "text/x-python",
   "name": "python",
   "nbconvert_exporter": "python",
   "pygments_lexer": "ipython3",
   "version": "3.7.4"
  }
 },
 "nbformat": 4,
 "nbformat_minor": 4
}
