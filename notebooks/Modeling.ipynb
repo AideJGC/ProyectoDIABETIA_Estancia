{
 "cells": [
  {
   "cell_type": "markdown",
   "metadata": {},
   "source": [
    "# Modeling\n",
    "## Estancia de investigación Maestría de Ciencia de Datos\n",
    "## Aide Jazmín González Cruz\n",
    "\n",
    "### 1. Carga de librerías"
   ]
  },
  {
   "cell_type": "code",
   "execution_count": 1,
   "metadata": {},
   "outputs": [],
   "source": [
    "import pandas as pd\n",
    "import numpy as np\n",
    "from sklearn.model_selection import GridSearchCV, TimeSeriesSplit, train_test_split\n",
    "from sklearn.ensemble import RandomForestClassifier\n",
    "from sklearn.preprocessing import MinMaxScaler, OneHotEncoder, KBinsDiscretizer\n",
    "from sklearn.compose import ColumnTransformer\n",
    "from sklearn.base import BaseEstimator,TransformerMixin\n",
    "from sklearn.linear_model import LogisticRegression\n",
    "from sklearn.tree import DecisionTreeClassifier\n",
    "from siuba import *\n",
    "import time\n",
    "from time import gmtime, strftime\n",
    "\n",
    "import sys\n",
    "import os\n",
    "from os.path import dirname\n",
    "from datetime import datetime\n",
    "import warnings\n",
    "warnings.filterwarnings('ignore')\n",
    "sys.path.append(dirname('../src'))\n",
    "from src.utils import utils\n"
   ]
  },
  {
   "cell_type": "markdown",
   "metadata": {},
   "source": [
    "### 2. Carga de features y división de datos de entrenamiento y validación"
   ]
  },
  {
   "cell_type": "code",
   "execution_count": 2,
   "metadata": {},
   "outputs": [
    {
     "data": {
      "text/html": [
       "<div>\n",
       "<style scoped>\n",
       "    .dataframe tbody tr th:only-of-type {\n",
       "        vertical-align: middle;\n",
       "    }\n",
       "\n",
       "    .dataframe tbody tr th {\n",
       "        vertical-align: top;\n",
       "    }\n",
       "\n",
       "    .dataframe thead th {\n",
       "        text-align: right;\n",
       "    }\n",
       "</style>\n",
       "<table border=\"1\" class=\"dataframe\">\n",
       "  <thead>\n",
       "    <tr style=\"text-align: right;\">\n",
       "      <th></th>\n",
       "      <th>max_preglucosa</th>\n",
       "      <th>avg_preglucosa</th>\n",
       "      <th>min_preglucosa</th>\n",
       "      <th>avg_sistolica_a</th>\n",
       "      <th>edad_range</th>\n",
       "      <th>avg_diastolica_a</th>\n",
       "      <th>dm_años_int</th>\n",
       "      <th>dm_años_flt</th>\n",
       "      <th>ANTIARRITMICOS</th>\n",
       "      <th>num_med_preglucosa</th>\n",
       "      <th>...</th>\n",
       "      <th>OFTALMICOS</th>\n",
       "      <th>OTROS INOTROPICOS POSITIVOS</th>\n",
       "      <th>sintomas_signos_hallazgos_anormales_clin_lab_no_clasif</th>\n",
       "      <th>ANTIPALUDICOS</th>\n",
       "      <th>min_acido_urico</th>\n",
       "      <th>ANTISEPTICOS</th>\n",
       "      <th>ANTIPROSTATICOS</th>\n",
       "      <th>ANTIOSTEOPOROSICOS</th>\n",
       "      <th>enf_ot_partes_aparato_digestivo</th>\n",
       "      <th>label</th>\n",
       "    </tr>\n",
       "  </thead>\n",
       "  <tbody>\n",
       "    <tr>\n",
       "      <th>0</th>\n",
       "      <td>373.000000</td>\n",
       "      <td>150.000000</td>\n",
       "      <td>108.000</td>\n",
       "      <td>119.523810</td>\n",
       "      <td>5.0</td>\n",
       "      <td>78.571429</td>\n",
       "      <td>1.184464</td>\n",
       "      <td>1.569907</td>\n",
       "      <td>0.0</td>\n",
       "      <td>9.0</td>\n",
       "      <td>...</td>\n",
       "      <td>0.0</td>\n",
       "      <td>0.0</td>\n",
       "      <td>1.0</td>\n",
       "      <td>0.0</td>\n",
       "      <td>4.96</td>\n",
       "      <td>0.0</td>\n",
       "      <td>0.0</td>\n",
       "      <td>0.0</td>\n",
       "      <td>0.0</td>\n",
       "      <td>0</td>\n",
       "    </tr>\n",
       "    <tr>\n",
       "      <th>1</th>\n",
       "      <td>253.000000</td>\n",
       "      <td>169.000000</td>\n",
       "      <td>109.000</td>\n",
       "      <td>120.000000</td>\n",
       "      <td>5.0</td>\n",
       "      <td>79.523810</td>\n",
       "      <td>1.184464</td>\n",
       "      <td>1.569907</td>\n",
       "      <td>0.0</td>\n",
       "      <td>3.0</td>\n",
       "      <td>...</td>\n",
       "      <td>0.0</td>\n",
       "      <td>0.0</td>\n",
       "      <td>1.0</td>\n",
       "      <td>0.0</td>\n",
       "      <td>4.96</td>\n",
       "      <td>0.0</td>\n",
       "      <td>0.0</td>\n",
       "      <td>0.0</td>\n",
       "      <td>0.0</td>\n",
       "      <td>0</td>\n",
       "    </tr>\n",
       "    <tr>\n",
       "      <th>2</th>\n",
       "      <td>253.000000</td>\n",
       "      <td>253.000000</td>\n",
       "      <td>253.000</td>\n",
       "      <td>120.476190</td>\n",
       "      <td>6.0</td>\n",
       "      <td>79.523810</td>\n",
       "      <td>1.184464</td>\n",
       "      <td>1.569907</td>\n",
       "      <td>0.0</td>\n",
       "      <td>1.0</td>\n",
       "      <td>...</td>\n",
       "      <td>0.0</td>\n",
       "      <td>0.0</td>\n",
       "      <td>1.0</td>\n",
       "      <td>0.0</td>\n",
       "      <td>4.96</td>\n",
       "      <td>0.0</td>\n",
       "      <td>0.0</td>\n",
       "      <td>0.0</td>\n",
       "      <td>0.0</td>\n",
       "      <td>0</td>\n",
       "    </tr>\n",
       "    <tr>\n",
       "      <th>3</th>\n",
       "      <td>210.000000</td>\n",
       "      <td>155.750000</td>\n",
       "      <td>80.000</td>\n",
       "      <td>122.842105</td>\n",
       "      <td>6.0</td>\n",
       "      <td>79.842105</td>\n",
       "      <td>1.184464</td>\n",
       "      <td>1.569907</td>\n",
       "      <td>0.0</td>\n",
       "      <td>4.0</td>\n",
       "      <td>...</td>\n",
       "      <td>0.0</td>\n",
       "      <td>0.0</td>\n",
       "      <td>1.0</td>\n",
       "      <td>0.0</td>\n",
       "      <td>4.96</td>\n",
       "      <td>0.0</td>\n",
       "      <td>0.0</td>\n",
       "      <td>0.0</td>\n",
       "      <td>0.0</td>\n",
       "      <td>1</td>\n",
       "    </tr>\n",
       "    <tr>\n",
       "      <th>4</th>\n",
       "      <td>198.358333</td>\n",
       "      <td>152.899811</td>\n",
       "      <td>119.675</td>\n",
       "      <td>100.000000</td>\n",
       "      <td>4.0</td>\n",
       "      <td>77.500000</td>\n",
       "      <td>1.184464</td>\n",
       "      <td>1.569907</td>\n",
       "      <td>0.0</td>\n",
       "      <td>5.0</td>\n",
       "      <td>...</td>\n",
       "      <td>0.0</td>\n",
       "      <td>0.0</td>\n",
       "      <td>1.0</td>\n",
       "      <td>0.0</td>\n",
       "      <td>4.96</td>\n",
       "      <td>0.0</td>\n",
       "      <td>0.0</td>\n",
       "      <td>0.0</td>\n",
       "      <td>0.0</td>\n",
       "      <td>0</td>\n",
       "    </tr>\n",
       "  </tbody>\n",
       "</table>\n",
       "<p>5 rows × 148 columns</p>\n",
       "</div>"
      ],
      "text/plain": [
       "   max_preglucosa  avg_preglucosa  min_preglucosa  avg_sistolica_a  \\\n",
       "0      373.000000      150.000000         108.000       119.523810   \n",
       "1      253.000000      169.000000         109.000       120.000000   \n",
       "2      253.000000      253.000000         253.000       120.476190   \n",
       "3      210.000000      155.750000          80.000       122.842105   \n",
       "4      198.358333      152.899811         119.675       100.000000   \n",
       "\n",
       "   edad_range  avg_diastolica_a  dm_años_int  dm_años_flt  ANTIARRITMICOS  \\\n",
       "0         5.0         78.571429     1.184464     1.569907             0.0   \n",
       "1         5.0         79.523810     1.184464     1.569907             0.0   \n",
       "2         6.0         79.523810     1.184464     1.569907             0.0   \n",
       "3         6.0         79.842105     1.184464     1.569907             0.0   \n",
       "4         4.0         77.500000     1.184464     1.569907             0.0   \n",
       "\n",
       "   num_med_preglucosa  ...  OFTALMICOS  OTROS INOTROPICOS POSITIVOS  \\\n",
       "0                 9.0  ...         0.0                          0.0   \n",
       "1                 3.0  ...         0.0                          0.0   \n",
       "2                 1.0  ...         0.0                          0.0   \n",
       "3                 4.0  ...         0.0                          0.0   \n",
       "4                 5.0  ...         0.0                          0.0   \n",
       "\n",
       "   sintomas_signos_hallazgos_anormales_clin_lab_no_clasif  ANTIPALUDICOS  \\\n",
       "0                                                1.0                 0.0   \n",
       "1                                                1.0                 0.0   \n",
       "2                                                1.0                 0.0   \n",
       "3                                                1.0                 0.0   \n",
       "4                                                1.0                 0.0   \n",
       "\n",
       "   min_acido_urico  ANTISEPTICOS  ANTIPROSTATICOS  ANTIOSTEOPOROSICOS  \\\n",
       "0             4.96           0.0              0.0                 0.0   \n",
       "1             4.96           0.0              0.0                 0.0   \n",
       "2             4.96           0.0              0.0                 0.0   \n",
       "3             4.96           0.0              0.0                 0.0   \n",
       "4             4.96           0.0              0.0                 0.0   \n",
       "\n",
       "   enf_ot_partes_aparato_digestivo  label  \n",
       "0                              0.0      0  \n",
       "1                              0.0      0  \n",
       "2                              0.0      0  \n",
       "3                              0.0      1  \n",
       "4                              0.0      0  \n",
       "\n",
       "[5 rows x 148 columns]"
      ]
     },
     "execution_count": 2,
     "metadata": {},
     "output_type": "execute_result"
    }
   ],
   "source": [
    "df = utils.load_df(\"../Data/feature_sel2.pkl\")\n",
    "df.head(5)"
   ]
  },
  {
   "cell_type": "code",
   "execution_count": 3,
   "metadata": {},
   "outputs": [
    {
     "name": "stdout",
     "output_type": "stream",
     "text": [
      "<class 'pandas.core.frame.DataFrame'>\n",
      "RangeIndex: 166 entries, 0 to 165\n",
      "Columns: 148 entries, max_preglucosa to label\n",
      "dtypes: float64(147), int64(1)\n",
      "memory usage: 192.1 KB\n"
     ]
    }
   ],
   "source": [
    "df.info()"
   ]
  },
  {
   "cell_type": "code",
   "execution_count": 4,
   "metadata": {},
   "outputs": [
    {
     "name": "stdout",
     "output_type": "stream",
     "text": [
      "(166, 147)\n",
      "(166, 1)\n"
     ]
    }
   ],
   "source": [
    "X = df.loc[:, df.columns != 'label']\n",
    "print(X.shape)\n",
    "Y = df[[\"label\"]]\n",
    "print(Y.shape)"
   ]
  },
  {
   "cell_type": "code",
   "execution_count": 5,
   "metadata": {},
   "outputs": [],
   "source": [
    "X_train,X_test,y_train,y_test = train_test_split(X,Y,test_size=0.3)"
   ]
  },
  {
   "cell_type": "code",
   "execution_count": 6,
   "metadata": {},
   "outputs": [],
   "source": [
    "#from imblearn.over_sampling import SMOTE\n",
    "#sm = SMOTE(random_state=42)\n",
    "#X_res, y_res = sm.fit_resample(X_train, y_train)\n",
    "#X_train = X_res\n",
    "#y_train = y_res"
   ]
  },
  {
   "cell_type": "markdown",
   "metadata": {},
   "source": [
    "### 3. Magic Loop\n",
    "\n",
    "- Diccionario de algoritmos a aplicar"
   ]
  },
  {
   "cell_type": "code",
   "execution_count": 7,
   "metadata": {},
   "outputs": [],
   "source": [
    "algorithms_dict = {'tree': 'tree_grid_search',\n",
    "                   'random_forest': 'rf_grid_search',\n",
    "                   'logistic': 'logistic_grid_search',\n",
    "                   'xgboost': 'xgboost_grid_search'}"
   ]
  },
  {
   "cell_type": "markdown",
   "metadata": {},
   "source": [
    "- Diccionario de configuraciones"
   ]
  },
  {
   "cell_type": "code",
   "execution_count": 8,
   "metadata": {},
   "outputs": [],
   "source": [
    "grid_search_dict = {\n",
    "                        'tree_grid_search': {\n",
    "                            'max_depth': [5, 10, 15],\n",
    "                            'min_samples_leaf': [3, 5, 7]\n",
    "                        },\n",
    "                        'rf_grid_search': {\n",
    "                            'n_estimators': [30, 50, 100],\n",
    "                            'max_depth': [5, 10, 15],\n",
    "                            'min_samples_leaf': [3, 5, 10]\n",
    "                        },\n",
    "                        'logistic_grid_search':{\n",
    "                            'C':np.logspace(-3,3,7),\n",
    "                            'penalty':['l2']\n",
    "                        },\n",
    "                        'xgboost_grid_search':{\n",
    "                            'max_depth': range (2, 10, 1),\n",
    "                            'n_estimators': range(60, 220, 40),\n",
    "                            'learning_rate': [0.1, 0.01, 0.05]\n",
    "                        }\n",
    "                    }"
   ]
  },
  {
   "cell_type": "markdown",
   "metadata": {},
   "source": [
    "- Diccionario de estimadores"
   ]
  },
  {
   "cell_type": "code",
   "execution_count": 9,
   "metadata": {},
   "outputs": [],
   "source": [
    "from xgboost import XGBClassifier"
   ]
  },
  {
   "cell_type": "code",
   "execution_count": 10,
   "metadata": {},
   "outputs": [],
   "source": [
    "from sklearn.tree import DecisionTreeClassifier\n",
    "estimators_dict = {'tree': DecisionTreeClassifier(random_state=1111),\n",
    "                   'random_forest': RandomForestClassifier(oob_score=True, random_state=2222),\n",
    "                   'logistic': LogisticRegression(random_state=3333),\n",
    "                   'xgboost': XGBClassifier(objective= 'binary:logistic',nthread=4,seed=42)\n",
    "                  } "
   ]
  },
  {
   "cell_type": "code",
   "execution_count": 11,
   "metadata": {},
   "outputs": [],
   "source": [
    "def magic_loop(algorithms, features, labels):\n",
    "    best_estimators = []\n",
    "    for algorithm in algorithms:\n",
    "        estimator = estimators_dict[algorithm]\n",
    "        grid_search_to_look = algorithms_dict[algorithm]\n",
    "        grid_params = grid_search_dict[grid_search_to_look]\n",
    "        #tscv = TimeSeriesSplit(n_splits=5)\n",
    "        \n",
    "        #gs = GridSearchCV(estimator, grid_params, scoring='precision', cv=5, n_jobs=-1)\n",
    "        gs = GridSearchCV(estimator, grid_params, scoring='roc_auc', cv=5, n_jobs=-1)\n",
    "        \n",
    "        #train\n",
    "        gs.fit(features, labels)\n",
    "        #best estimator\n",
    "        best_estimators.append(gs)\n",
    "        \n",
    "        \n",
    "    return best_estimators"
   ]
  },
  {
   "cell_type": "code",
   "execution_count": 12,
   "metadata": {},
   "outputs": [],
   "source": [
    "#scoring_met= 'recall'\n",
    "algorithms = ['tree', 'random_forest','logistic','xgboost']\n",
    "models = []\n",
    "start_time = time.time()\n",
    "models_list = []"
   ]
  },
  {
   "cell_type": "code",
   "execution_count": 13,
   "metadata": {},
   "outputs": [
    {
     "name": "stdout",
     "output_type": "stream",
     "text": [
      "Empty DataFrame\n",
      "Columns: []\n",
      "Index: [28, 151, 39, 150, 94, 96, 111, 143, 162, 124, 147, 7, 83, 87, 22, 57, 43, 77, 90, 61, 129, 119, 108, 45, 63, 91, 157, 106, 70, 79, 12, 144, 110, 73, 71, 42, 122, 33, 44, 53, 149, 64, 164, 88, 134, 14, 19, 47, 3, 81, 20, 115, 51, 66, 93, 74, 49, 138, 100, 139, 35, 18, 163, 121, 38, 95, 142, 148, 135, 78, 118, 4, 48, 68, 30, 24, 46, 34, 75, 123, 109, 86, 6, 80, 27, 103, 11, 137, 98, 16, 161, 1, 13, 0, 52, 59, 116, 165, 140, 155, ...]\n",
      "\n",
      "[116 rows x 0 columns]\n"
     ]
    }
   ],
   "source": [
    "# Select dataframe columns with any NaN value\n",
    "subset_df = X_train.loc[:, X_train.isnull().any()]\n",
    "print(subset_df)"
   ]
  },
  {
   "cell_type": "code",
   "execution_count": 14,
   "metadata": {},
   "outputs": [
    {
     "data": {
      "text/plain": [
       "['max_preglucosa',\n",
       " 'avg_preglucosa',\n",
       " 'min_preglucosa',\n",
       " 'avg_sistolica_a',\n",
       " 'edad_range',\n",
       " 'avg_diastolica_a',\n",
       " 'dm_años_int',\n",
       " 'dm_años_flt',\n",
       " 'ANTIARRITMICOS',\n",
       " 'num_med_preglucosa',\n",
       " 'num_med_presion_a',\n",
       " 'ANTIANEMICOS',\n",
       " 'avg_num_consultas_by_year',\n",
       " 'sum_num_consultas',\n",
       " 'max_colesterol',\n",
       " 'avg_num_med',\n",
       " 'max_num_med',\n",
       " 'num_med',\n",
       " 'ANTIMIGRANOSOS',\n",
       " 'ANTIDEPRESIVOS',\n",
       " 'ventana',\n",
       " 'año_dx_dm',\n",
       " 'epoca_nac',\n",
       " 'avg_trigliceridos',\n",
       " 'ANESTESICOS LOCALES',\n",
       " 'avg_colesterol',\n",
       " 'ANTIHIPERTENSIVOS',\n",
       " 'max_diastolica_a',\n",
       " 'max_trigliceridos',\n",
       " 'min_sistolica_a',\n",
       " 'enf_endocrinas',\n",
       " 'ANTIDIABETICOS',\n",
       " 'g14',\n",
       " 'g5',\n",
       " 'trigliceridos',\n",
       " 'max_sistolica_a',\n",
       " 'ANTIMICROBIANOS',\n",
       " 'SEDANTES HIPNOTICOS',\n",
       " 'imc_range',\n",
       " 'CORTICOSTEROIDES',\n",
       " 'DIURETICOS',\n",
       " 'ANTIRREUMATICOS',\n",
       " 'enf_sist_osteomuscular_y_tejido',\n",
       " 'ANTIADRENERGICOS',\n",
       " 'E65_E68',\n",
       " 'dm',\n",
       " 'E70_E90',\n",
       " 'ANTITUSIGENOS',\n",
       " 'num_med_colesterol',\n",
       " 'min_trigliceridos',\n",
       " 'num_med_trigliceridos',\n",
       " 'ANTIGOTOSOS',\n",
       " 'g6',\n",
       " 'min_diastolica_a',\n",
       " 'ANTIEPILEPTICOS',\n",
       " 'ANSIOLITICOS',\n",
       " 'colesterol',\n",
       " 'EXPECTORANTES',\n",
       " 'trastornos_mama',\n",
       " 'PROCINETICOS GASTROINTESTINALES',\n",
       " 'ANTIANGINOSOS',\n",
       " 'preglucosa',\n",
       " 'min_colesterol',\n",
       " 'sindrome_maltrato',\n",
       " 'enf_sist_nervioso',\n",
       " 'ANTIALERGICOS',\n",
       " 'max_creatinina',\n",
       " 'g23',\n",
       " 'ANTIMICOTICOS',\n",
       " 'HIPOLIPEMIANTES',\n",
       " 'O22',\n",
       " 'g12',\n",
       " 'g8',\n",
       " 'avg_creatinina',\n",
       " 'ACIDIFICANTES DE LAS VIAS URINARIAS',\n",
       " 'HEMATOPOYETICOS',\n",
       " 'sexo',\n",
       " 'ANTISEPTICOS URINARIOS',\n",
       " 'ANTIULCEROSOS',\n",
       " 'avg_urea',\n",
       " 'ANTIINFLAMATORIOS',\n",
       " 'E14',\n",
       " 'ADYUVANTES DE LA ANALGESIA',\n",
       " 'MINERALES',\n",
       " 'VITAMINAS',\n",
       " 'ot_enf_inf_y_paras_y_efec_tardios',\n",
       " 'g7',\n",
       " 'ADRENERGICOS',\n",
       " 'bezafibrato',\n",
       " 'ANTIEMETICOS',\n",
       " 'avg_acido_urico',\n",
       " 'ANTIHISTAMINICOS',\n",
       " 'ANTIVIRALES',\n",
       " 'enf_inf_intestinales',\n",
       " 'postglucosa',\n",
       " 'ANTIVERTIGINOSOS',\n",
       " 'comp_precoces_traumatismos',\n",
       " 'DERMATOLOGICOS',\n",
       " 'ANTIARTRITICOS',\n",
       " 'ELECTROLITOS ORALES',\n",
       " 'ANTIASMATICOS',\n",
       " 'min_num_med',\n",
       " 'O24',\n",
       " 'malformaciones_congenitas',\n",
       " 'ANTIDIARREICOS',\n",
       " 'fiebre_y_enf_cardiacas_reumaticas',\n",
       " 'ANTIESPASMODICOS',\n",
       " 'ANTIPROTOZOARIOS',\n",
       " 'BRONCODILATADORES',\n",
       " 'ANTIACIDOS',\n",
       " 'avg_hba1c',\n",
       " 'E13',\n",
       " 'tumores_insitu',\n",
       " 'num_med_acido_urico',\n",
       " 'min_creatinina',\n",
       " 'enf_aparato_urinario',\n",
       " 'max_urea',\n",
       " 'GLUCOSIDOS CARDIACOS',\n",
       " 'enf_viricas',\n",
       " 'urea',\n",
       " 'ANTICOLINERGICOS',\n",
       " 'inf_y_enf_vias_respiratorias_sup',\n",
       " 'E10',\n",
       " 'E12',\n",
       " 'tumores_malig_org_respiratorios_intratoracicos',\n",
       " 'tfg',\n",
       " 'num_med_creatinina',\n",
       " 'trastornos_sist_genitourinario_consec_proced',\n",
       " 'max_acido_urico',\n",
       " 'max_hba1c',\n",
       " 'ANTIAMEBIANOS',\n",
       " 'hdl',\n",
       " 'num_med_urea',\n",
       " 'creatinina',\n",
       " 'ANALGESICOS',\n",
       " 'ANTIHELMINTICOS',\n",
       " 'num_med_hba1c',\n",
       " 'acido_urico',\n",
       " 'OFTALMICOS',\n",
       " 'OTROS INOTROPICOS POSITIVOS',\n",
       " 'sintomas_signos_hallazgos_anormales_clin_lab_no_clasif',\n",
       " 'ANTIPALUDICOS',\n",
       " 'min_acido_urico',\n",
       " 'ANTISEPTICOS',\n",
       " 'ANTIPROSTATICOS',\n",
       " 'ANTIOSTEOPOROSICOS',\n",
       " 'enf_ot_partes_aparato_digestivo']"
      ]
     },
     "execution_count": 14,
     "metadata": {},
     "output_type": "execute_result"
    }
   ],
   "source": [
    "X_train.columns.values.tolist()"
   ]
  },
  {
   "cell_type": "code",
   "execution_count": null,
   "metadata": {},
   "outputs": [],
   "source": []
  },
  {
   "cell_type": "code",
   "execution_count": 15,
   "metadata": {},
   "outputs": [
    {
     "name": "stdout",
     "output_type": "stream",
     "text": [
      "Selección de variables completada satisfactoriamente en  3770.8860585689545  segundos\n"
     ]
    }
   ],
   "source": [
    "best = magic_loop(algorithms, X_train, y_train)\n",
    "print(\"Selección de variables completada satisfactoriamente en \", time.time() - start_time, ' segundos')"
   ]
  },
  {
   "cell_type": "code",
   "execution_count": 16,
   "metadata": {},
   "outputs": [
    {
     "data": {
      "text/plain": [
       "XGBClassifier(base_score=0.5, booster='gbtree', callbacks=None,\n",
       "              colsample_bylevel=1, colsample_bynode=1, colsample_bytree=1,\n",
       "              early_stopping_rounds=None, enable_categorical=False,\n",
       "              eval_metric=None, gamma=0, gpu_id=-1, grow_policy='depthwise',\n",
       "              importance_type=None, interaction_constraints='',\n",
       "              learning_rate=0.1, max_bin=256, max_cat_to_onehot=4,\n",
       "              max_delta_step=0, max_depth=5, max_leaves=0, min_child_weight=1,\n",
       "              missing=nan, monotone_constraints='()', n_estimators=60, n_jobs=4,\n",
       "              nthread=4, num_parallel_tree=1, predictor='auto', random_state=42,\n",
       "              reg_alpha=0, ...)"
      ]
     },
     "execution_count": 16,
     "metadata": {},
     "output_type": "execute_result"
    }
   ],
   "source": [
    "model0 = best[0].best_estimator_\n",
    "model0\n",
    "\n",
    "model1 = best[1].best_estimator_\n",
    "model1\n",
    "\n",
    "model2 = best[2].best_estimator_\n",
    "model2\n",
    "\n",
    "model3 = best[3].best_estimator_\n",
    "model3"
   ]
  },
  {
   "cell_type": "code",
   "execution_count": 17,
   "metadata": {},
   "outputs": [],
   "source": [
    "utils.save_df(model0, \"../output/best_model0_av.pkl\")\n",
    "utils.save_df(model1, \"../output/best_model1_av.pkl\")\n",
    "utils.save_df(model2, \"../output/best_model2_av.pkl\")\n",
    "utils.save_df(model3, \"../output/best_model3_av.pkl\")"
   ]
  },
  {
   "cell_type": "markdown",
   "metadata": {},
   "source": [
    "### 4. Evaluando modelo"
   ]
  },
  {
   "cell_type": "code",
   "execution_count": 18,
   "metadata": {},
   "outputs": [],
   "source": [
    "from sklearn.metrics import roc_curve, roc_auc_score\n",
    "from sklearn.metrics import accuracy_score, precision_recall_curve, precision_score, recall_score\n",
    "from sklearn.metrics import confusion_matrix, plot_confusion_matrix\n",
    "import matplotlib.pyplot as plt"
   ]
  },
  {
   "cell_type": "code",
   "execution_count": 19,
   "metadata": {},
   "outputs": [],
   "source": [
    "predicted_labels0 = model0.predict(X_test)\n",
    "predicted_scores0 = model0.predict_proba(X_test)\n",
    "\n",
    "predicted_labels1 = model1.predict(X_test)\n",
    "predicted_scores1 = model1.predict_proba(X_test)\n",
    "\n",
    "predicted_labels2 = model2.predict(X_test)\n",
    "predicted_scores2 = model2.predict_proba(X_test)\n",
    "\n",
    "predicted_labels3 = model3.predict(X_test)\n",
    "predicted_scores3 = model3.predict_proba(X_test)\n"
   ]
  },
  {
   "cell_type": "code",
   "execution_count": 20,
   "metadata": {},
   "outputs": [
    {
     "data": {
      "image/png": "[encoded data removed]",
      "text/plain": [
       "<Figure size 432x288 with 1 Axes>"
      ]
     },
     "metadata": {
      "needs_background": "light"
     },
     "output_type": "display_data"
    },
    {
     "name": "stdout",
     "output_type": "stream",
     "text": [
      "[[30 13]\n",
      " [ 4  3]]\n"
     ]
    },
    {
     "data": {
      "text/plain": [
       "<sklearn.metrics._plot.confusion_matrix.ConfusionMatrixDisplay at 0x7f192b62ad10>"
      ]
     },
     "execution_count": 20,
     "metadata": {},
     "output_type": "execute_result"
    },
    {
     "data": {
      "image/png": "[encoded data removed]",
      "text/plain": [
       "<Figure size 432x288 with 2 Axes>"
      ]
     },
     "metadata": {
      "needs_background": "light"
     },
     "output_type": "display_data"
    }
   ],
   "source": [
    "### Curva ROC\n",
    "plt.figure()\n",
    "fpr, tpr, thresholds = roc_curve(y_test, predicted_scores0[:, 1], pos_label=1)\n",
    "plt.clf()\n",
    "plt.plot([0, 1], [0, 1], 'k--', c=\"red\")\n",
    "plt.plot(fpr, tpr)\n",
    "plt.title(\"ROC best RF, AUC: {}\".format(roc_auc_score(y_test, predicted_labels0)))\n",
    "plt.xlabel(\"fpr\")\n",
    "plt.ylabel(\"tpr\")\n",
    "#plt.savefig('../output/ROC_curve.png', bbox_inches='tight')\n",
    "plt.show()\n",
    "\n",
    "print(confusion_matrix(y_test, predicted_labels0))\n",
    "plot_confusion_matrix(model0, X_test, y_test, cmap=plt.cm.Blues)  "
   ]
  },
  {
   "cell_type": "code",
   "execution_count": 21,
   "metadata": {},
   "outputs": [
    {
     "data": {
      "image/png": "[encoded data removed]",
      "text/plain": [
       "<Figure size 432x288 with 1 Axes>"
      ]
     },
     "metadata": {
      "needs_background": "light"
     },
     "output_type": "display_data"
    },
    {
     "name": "stdout",
     "output_type": "stream",
     "text": [
      "[[41  2]\n",
      " [ 6  1]]\n"
     ]
    },
    {
     "data": {
      "text/plain": [
       "<sklearn.metrics._plot.confusion_matrix.ConfusionMatrixDisplay at 0x7f192b4a6790>"
      ]
     },
     "execution_count": 21,
     "metadata": {},
     "output_type": "execute_result"
    },
    {
     "data": {
      "image/png": "[encoded data removed]",
      "text/plain": [
       "<Figure size 432x288 with 2 Axes>"
      ]
     },
     "metadata": {
      "needs_background": "light"
     },
     "output_type": "display_data"
    }
   ],
   "source": [
    "### Curva ROC\n",
    "plt.figure()\n",
    "fpr, tpr, thresholds = roc_curve(y_test, predicted_scores1[:, 1], pos_label=1)\n",
    "plt.clf()\n",
    "plt.plot([0, 1], [0, 1], 'k--', c=\"red\")\n",
    "plt.plot(fpr, tpr)\n",
    "plt.title(\"ROC best RF, AUC: {}\".format(roc_auc_score(y_test, predicted_labels1)))\n",
    "plt.xlabel(\"fpr\")\n",
    "plt.ylabel(\"tpr\")\n",
    "#plt.savefig('../output/ROC_curve.png', bbox_inches='tight')\n",
    "plt.show()\n",
    "\n",
    "print(confusion_matrix(y_test, predicted_labels1))\n",
    "plot_confusion_matrix(model1, X_test, y_test, cmap=plt.cm.Blues)  "
   ]
  },
  {
   "cell_type": "code",
   "execution_count": 22,
   "metadata": {},
   "outputs": [
    {
     "data": {
      "image/png": "[encoded data removed]",
      "text/plain": [
       "<Figure size 432x288 with 1 Axes>"
      ]
     },
     "metadata": {
      "needs_background": "light"
     },
     "output_type": "display_data"
    },
    {
     "name": "stdout",
     "output_type": "stream",
     "text": [
      "[[41  2]\n",
      " [ 6  1]]\n"
     ]
    },
    {
     "data": {
      "text/plain": [
       "<sklearn.metrics._plot.confusion_matrix.ConfusionMatrixDisplay at 0x7f192b44dad0>"
      ]
     },
     "execution_count": 22,
     "metadata": {},
     "output_type": "execute_result"
    },
    {
     "data": {
      "image/png": "[encoded data removed]",
      "text/plain": [
       "<Figure size 432x288 with 2 Axes>"
      ]
     },
     "metadata": {
      "needs_background": "light"
     },
     "output_type": "display_data"
    }
   ],
   "source": [
    "### Curva ROC\n",
    "plt.figure()\n",
    "fpr, tpr, thresholds = roc_curve(y_test, predicted_scores2[:, 1], pos_label=1)\n",
    "plt.clf()\n",
    "plt.plot([0, 1], [0, 1], 'k--', c=\"red\")\n",
    "plt.plot(fpr, tpr)\n",
    "plt.title(\"ROC best RF, AUC: {}\".format(roc_auc_score(y_test, predicted_labels2)))\n",
    "plt.xlabel(\"fpr\")\n",
    "plt.ylabel(\"tpr\")\n",
    "#plt.savefig('../output/ROC_curve.png', bbox_inches='tight')\n",
    "plt.show()\n",
    "\n",
    "print(confusion_matrix(y_test, predicted_labels2))\n",
    "plot_confusion_matrix(model2, X_test, y_test, cmap=plt.cm.Blues)  "
   ]
  },
  {
   "cell_type": "code",
   "execution_count": 23,
   "metadata": {},
   "outputs": [
    {
     "data": {
      "image/png": "[encoded data removed]",
      "text/plain": [
       "<Figure size 432x288 with 1 Axes>"
      ]
     },
     "metadata": {
      "needs_background": "light"
     },
     "output_type": "display_data"
    },
    {
     "name": "stdout",
     "output_type": "stream",
     "text": [
      "[[35  8]\n",
      " [ 6  1]]\n"
     ]
    },
    {
     "data": {
      "text/plain": [
       "<sklearn.metrics._plot.confusion_matrix.ConfusionMatrixDisplay at 0x7f192b299d10>"
      ]
     },
     "execution_count": 23,
     "metadata": {},
     "output_type": "execute_result"
    },
    {
     "data": {
      "image/png": "[encoded data removed]",
      "text/plain": [
       "<Figure size 432x288 with 2 Axes>"
      ]
     },
     "metadata": {
      "needs_background": "light"
     },
     "output_type": "display_data"
    }
   ],
   "source": [
    "### Curva ROC\n",
    "plt.figure()\n",
    "fpr, tpr, thresholds = roc_curve(y_test, predicted_scores3[:, 1], pos_label=1)\n",
    "plt.clf()\n",
    "plt.plot([0, 1], [0, 1], 'k--', c=\"red\")\n",
    "plt.plot(fpr, tpr)\n",
    "plt.title(\"ROC best RF, AUC: {}\".format(roc_auc_score(y_test, predicted_labels3)))\n",
    "plt.xlabel(\"fpr\")\n",
    "plt.ylabel(\"tpr\")\n",
    "#plt.savefig('../output/ROC_curve.png', bbox_inches='tight')\n",
    "plt.show()\n",
    "\n",
    "print(confusion_matrix(y_test, predicted_labels3))\n",
    "plot_confusion_matrix(model3, X_test, y_test, cmap=plt.cm.Blues)  "
   ]
  },
  {
   "cell_type": "code",
   "execution_count": 24,
   "metadata": {},
   "outputs": [],
   "source": [
    "def get_metrics_report(fpr, tpr, thresholds, precision, recall, thresholds_2):\n",
    "    df_1 = pd.DataFrame({'threshold': thresholds_2, 'precision': precision,\n",
    "                         'recall': recall})\n",
    "    df_1['f1_score'] = 2 * (df_1.precision * df_1.recall) / (df_1.precision + df_1.recall)\n",
    "\n",
    "    df_2 = pd.DataFrame({'tpr': tpr, 'fpr': fpr, 'threshold': thresholds})\n",
    "    df_2['tnr'] = 1 - df_2['fpr']\n",
    "    df_2['fnr'] = 1 - df_2['tpr']\n",
    "\n",
    "    df = df_1.merge(df_2, on=\"threshold\")\n",
    "\n",
    "    return df"
   ]
  },
  {
   "cell_type": "code",
   "execution_count": 25,
   "metadata": {},
   "outputs": [
    {
     "data": {
      "image/png": "[encoded data removed]",
      "text/plain": [
       "<Figure size 432x288 with 1 Axes>"
      ]
     },
     "metadata": {
      "needs_background": "light"
     },
     "output_type": "display_data"
    }
   ],
   "source": [
    "# Generando métricas\n",
    "precision, recall, thresholds_2 = precision_recall_curve(y_test, predicted_scores1[:, 1], pos_label=1)\n",
    "thresholds_2 = np.append(thresholds_2, 1)\n",
    "metrics_report = get_metrics_report(fpr, tpr, thresholds, precision, recall, thresholds_2)\n",
    "#save_metrics(metrics_report, '../output/metricas_offline.pkl')\n",
    "\n",
    "# Curva: Precision-recall\n",
    "plt.figure()\n",
    "plt.plot(metrics_report['threshold'], metrics_report['precision'], 'k--', c=\"red\", label='precision')\n",
    "plt.plot(metrics_report['threshold'], metrics_report['recall'], 'k--', c=\"blue\", label='recall')\n",
    "plt.xlabel('threshold')\n",
    "plt.ylim([0, 1])\n",
    "plt.legend(bbox_to_anchor=(1, 1), fontsize=12)\n",
    "plt.savefig('../output/recall_precision.png', bbox_inches='tight')\n",
    "#plt.show()"
   ]
  },
  {
   "cell_type": "code",
   "execution_count": 26,
   "metadata": {},
   "outputs": [],
   "source": [
    "# Curva: recall-precision @k\n",
    "data_junta = pd.concat([X_test, y_test], axis=1)\n",
    "data_filtrada = data_junta\n",
    "datos_finales_X = pd.DataFrame(data_filtrada.drop(['label'], axis=1))\n",
    "y_true = data_filtrada.label\n",
    "y_scores = model1.predict_proba(datos_finales_X)"
   ]
  },
  {
   "cell_type": "code",
   "execution_count": 27,
   "metadata": {},
   "outputs": [],
   "source": [
    "def param_graf(y_true, y_scores):\n",
    "    k_values = np.linspace(0, 0.99, 100)\n",
    "    lista = []\n",
    "\n",
    "    for k in k_values:\n",
    "        p_k = precision_at_k(y_true, pd.DataFrame(y_scores)[1], k)\n",
    "        r_k = recall_at_k(y_true, pd.DataFrame(y_scores)[1], k)\n",
    "        lista = lista + [[p_k, r_k, k]]\n",
    "\n",
    "    p_r_g = pd.DataFrame(lista, columns=[\"p_k\", \"r_k\", \"k\"])\n",
    "\n",
    "    return p_r_g\n",
    "\n",
    "def precision_at_k(y_true, y_scores, k):\n",
    "    threshold = np.sort(y_scores)[::-1][int(k * len(y_scores))]\n",
    "    y_pred = np.asarray([1 if i >= threshold else 0 for i in y_scores])\n",
    "\n",
    "    return precision_score(y_true, y_pred)\n",
    "\n",
    "def recall_at_k(y_true, y_scores, k):\n",
    "    threshold = np.sort(y_scores)[::-1][int(k * len(y_scores))]\n",
    "    y_pred = np.asarray([1 if i >= threshold else 0 for i in y_scores])\n",
    "\n",
    "    return recall_score(y_true, y_pred)"
   ]
  },
  {
   "cell_type": "code",
   "execution_count": 28,
   "metadata": {},
   "outputs": [
    {
     "data": {
      "image/png": "[encoded data removed]",
      "text/plain": [
       "<Figure size 432x288 with 1 Axes>"
      ]
     },
     "metadata": {
      "needs_background": "light"
     },
     "output_type": "display_data"
    }
   ],
   "source": [
    "p_r_g = param_graf(y_true, y_scores)\n",
    "\n",
    "plt.figure()\n",
    "plt.plot(p_r_g[\"k\"], p_r_g[\"p_k\"], label=\"P\")\n",
    "plt.plot(p_r_g[\"k\"], p_r_g[\"r_k\"], label=\"R\")\n",
    "plt.title(\"Precision and recall at k%: PA\")\n",
    "plt.axvline(x=0.037, c='red', linestyle='--')\n",
    "plt.ylabel(\"Mejor valor\")\n",
    "plt.legend(['Precision', 'Recall'])\n",
    "plt.xlabel(\"%k\")\n",
    "plt.savefig('../output/recall_precision_k.png', bbox_inches='tight')\n",
    "#plt.show()"
   ]
  },
  {
   "cell_type": "code",
   "execution_count": null,
   "metadata": {},
   "outputs": [],
   "source": []
  }
 ],
 "metadata": {
  "kernelspec": {
   "display_name": "Python 3",
   "language": "python",
   "name": "python3"
  },
  "language_info": {
   "codemirror_mode": {
    "name": "ipython",
    "version": 3
   },
   "file_extension": ".py",
   "mimetype": "text/x-python",
   "name": "python",
   "nbconvert_exporter": "python",
   "pygments_lexer": "ipython3",
   "version": "3.7.4"
  }
 },
 "nbformat": 4,
 "nbformat_minor": 4
}
