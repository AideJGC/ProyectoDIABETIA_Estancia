{
 "cells": [
  {
   "cell_type": "markdown",
   "metadata": {},
   "source": [
    "# Modeling\n",
    "## Estancia de investigación Maestría de Ciencia de Datos\n",
    "## Aide Jazmín González Cruz\n",
    "\n",
    "### 1. Carga de librerías"
   ]
  },
  {
   "cell_type": "code",
   "execution_count": 1,
   "metadata": {},
   "outputs": [],
   "source": [
    "import pandas as pd\n",
    "import numpy as np\n",
    "from sklearn.model_selection import GridSearchCV, TimeSeriesSplit, train_test_split\n",
    "from sklearn.ensemble import RandomForestClassifier\n",
    "from sklearn.preprocessing import MinMaxScaler, OneHotEncoder, KBinsDiscretizer\n",
    "from sklearn.compose import ColumnTransformer\n",
    "from sklearn.base import BaseEstimator,TransformerMixin\n",
    "from sklearn.linear_model import LogisticRegression\n",
    "from sklearn.tree import DecisionTreeClassifier\n",
    "#from siuba import *\n",
    "import time\n",
    "from time import gmtime, strftime\n",
    "\n",
    "import sys\n",
    "import os\n",
    "from os.path import dirname\n",
    "from datetime import datetime\n",
    "import warnings\n",
    "warnings.filterwarnings('ignore')\n",
    "sys.path.append(dirname('../src'))\n",
    "from src.utils import utils\n"
   ]
  },
  {
   "cell_type": "markdown",
   "metadata": {},
   "source": [
    "### 2. Carga de features y división de datos de entrenamiento y validación"
   ]
  },
  {
   "cell_type": "code",
   "execution_count": 2,
   "metadata": {},
   "outputs": [
    {
     "data": {
      "text/html": [
       "<div>\n",
       "<style scoped>\n",
       "    .dataframe tbody tr th:only-of-type {\n",
       "        vertical-align: middle;\n",
       "    }\n",
       "\n",
       "    .dataframe tbody tr th {\n",
       "        vertical-align: top;\n",
       "    }\n",
       "\n",
       "    .dataframe thead th {\n",
       "        text-align: right;\n",
       "    }\n",
       "</style>\n",
       "<table border=\"1\" class=\"dataframe\">\n",
       "  <thead>\n",
       "    <tr style=\"text-align: right;\">\n",
       "      <th></th>\n",
       "      <th>enf_endocrinas</th>\n",
       "      <th>dm_años_int</th>\n",
       "      <th>min_preglucosa</th>\n",
       "      <th>num_med_presion_a</th>\n",
       "      <th>año_dx_dm</th>\n",
       "      <th>colesterol</th>\n",
       "      <th>ventana</th>\n",
       "      <th>dm</th>\n",
       "      <th>num_med</th>\n",
       "      <th>avg_num_med</th>\n",
       "      <th>...</th>\n",
       "      <th>g7</th>\n",
       "      <th>ANTIAMEBIANOS</th>\n",
       "      <th>ldl</th>\n",
       "      <th>E12</th>\n",
       "      <th>sintomas_signos_hallazgos_anormales_clin_lab_no_clasif</th>\n",
       "      <th>ANTIPALUDICOS</th>\n",
       "      <th>max_tfg</th>\n",
       "      <th>bezafibrato</th>\n",
       "      <th>min_num_med</th>\n",
       "      <th>label</th>\n",
       "    </tr>\n",
       "  </thead>\n",
       "  <tbody>\n",
       "    <tr>\n",
       "      <th>0</th>\n",
       "      <td>1.0</td>\n",
       "      <td>0.375000</td>\n",
       "      <td>47.0</td>\n",
       "      <td>26.0</td>\n",
       "      <td>1998.0</td>\n",
       "      <td>1.0</td>\n",
       "      <td>1.0</td>\n",
       "      <td>1.0</td>\n",
       "      <td>26.0</td>\n",
       "      <td>0.423077</td>\n",
       "      <td>...</td>\n",
       "      <td>0.0</td>\n",
       "      <td>0.0</td>\n",
       "      <td>0.0</td>\n",
       "      <td>1.0</td>\n",
       "      <td>1.0</td>\n",
       "      <td>0.0</td>\n",
       "      <td>88.000000</td>\n",
       "      <td>1.0</td>\n",
       "      <td>0.0</td>\n",
       "      <td>1</td>\n",
       "    </tr>\n",
       "    <tr>\n",
       "      <th>1</th>\n",
       "      <td>1.0</td>\n",
       "      <td>1.190476</td>\n",
       "      <td>67.0</td>\n",
       "      <td>21.0</td>\n",
       "      <td>1998.0</td>\n",
       "      <td>1.0</td>\n",
       "      <td>2.0</td>\n",
       "      <td>1.0</td>\n",
       "      <td>21.0</td>\n",
       "      <td>0.142857</td>\n",
       "      <td>...</td>\n",
       "      <td>0.0</td>\n",
       "      <td>0.0</td>\n",
       "      <td>0.0</td>\n",
       "      <td>0.0</td>\n",
       "      <td>0.0</td>\n",
       "      <td>0.0</td>\n",
       "      <td>88.000000</td>\n",
       "      <td>1.0</td>\n",
       "      <td>0.0</td>\n",
       "      <td>1</td>\n",
       "    </tr>\n",
       "    <tr>\n",
       "      <th>2</th>\n",
       "      <td>1.0</td>\n",
       "      <td>2.409091</td>\n",
       "      <td>62.0</td>\n",
       "      <td>21.0</td>\n",
       "      <td>1998.0</td>\n",
       "      <td>1.0</td>\n",
       "      <td>3.0</td>\n",
       "      <td>1.0</td>\n",
       "      <td>22.0</td>\n",
       "      <td>0.409091</td>\n",
       "      <td>...</td>\n",
       "      <td>0.0</td>\n",
       "      <td>0.0</td>\n",
       "      <td>0.0</td>\n",
       "      <td>1.0</td>\n",
       "      <td>1.0</td>\n",
       "      <td>0.0</td>\n",
       "      <td>46.000000</td>\n",
       "      <td>1.0</td>\n",
       "      <td>0.0</td>\n",
       "      <td>1</td>\n",
       "    </tr>\n",
       "    <tr>\n",
       "      <th>3</th>\n",
       "      <td>1.0</td>\n",
       "      <td>3.291667</td>\n",
       "      <td>46.0</td>\n",
       "      <td>23.0</td>\n",
       "      <td>1998.0</td>\n",
       "      <td>1.0</td>\n",
       "      <td>4.0</td>\n",
       "      <td>1.0</td>\n",
       "      <td>24.0</td>\n",
       "      <td>1.250000</td>\n",
       "      <td>...</td>\n",
       "      <td>0.0</td>\n",
       "      <td>0.0</td>\n",
       "      <td>1.0</td>\n",
       "      <td>1.0</td>\n",
       "      <td>1.0</td>\n",
       "      <td>0.0</td>\n",
       "      <td>46.000000</td>\n",
       "      <td>1.0</td>\n",
       "      <td>0.0</td>\n",
       "      <td>1</td>\n",
       "    </tr>\n",
       "    <tr>\n",
       "      <th>4</th>\n",
       "      <td>0.0</td>\n",
       "      <td>1.709221</td>\n",
       "      <td>108.0</td>\n",
       "      <td>21.0</td>\n",
       "      <td>1999.0</td>\n",
       "      <td>0.0</td>\n",
       "      <td>1.0</td>\n",
       "      <td>1.0</td>\n",
       "      <td>25.0</td>\n",
       "      <td>0.000000</td>\n",
       "      <td>...</td>\n",
       "      <td>0.0</td>\n",
       "      <td>0.0</td>\n",
       "      <td>0.0</td>\n",
       "      <td>1.0</td>\n",
       "      <td>1.0</td>\n",
       "      <td>0.0</td>\n",
       "      <td>91.158437</td>\n",
       "      <td>1.0</td>\n",
       "      <td>0.0</td>\n",
       "      <td>0</td>\n",
       "    </tr>\n",
       "  </tbody>\n",
       "</table>\n",
       "<p>5 rows × 197 columns</p>\n",
       "</div>"
      ],
      "text/plain": [
       "   enf_endocrinas  dm_años_int  min_preglucosa  num_med_presion_a  año_dx_dm  \\\n",
       "0             1.0     0.375000            47.0               26.0     1998.0   \n",
       "1             1.0     1.190476            67.0               21.0     1998.0   \n",
       "2             1.0     2.409091            62.0               21.0     1998.0   \n",
       "3             1.0     3.291667            46.0               23.0     1998.0   \n",
       "4             0.0     1.709221           108.0               21.0     1999.0   \n",
       "\n",
       "   colesterol  ventana   dm  num_med  avg_num_med  ...   g7  ANTIAMEBIANOS  \\\n",
       "0         1.0      1.0  1.0     26.0     0.423077  ...  0.0            0.0   \n",
       "1         1.0      2.0  1.0     21.0     0.142857  ...  0.0            0.0   \n",
       "2         1.0      3.0  1.0     22.0     0.409091  ...  0.0            0.0   \n",
       "3         1.0      4.0  1.0     24.0     1.250000  ...  0.0            0.0   \n",
       "4         0.0      1.0  1.0     25.0     0.000000  ...  0.0            0.0   \n",
       "\n",
       "   ldl  E12  sintomas_signos_hallazgos_anormales_clin_lab_no_clasif  \\\n",
       "0  0.0  1.0                                                1.0        \n",
       "1  0.0  0.0                                                0.0        \n",
       "2  0.0  1.0                                                1.0        \n",
       "3  1.0  1.0                                                1.0        \n",
       "4  0.0  1.0                                                1.0        \n",
       "\n",
       "   ANTIPALUDICOS    max_tfg  bezafibrato  min_num_med  label  \n",
       "0            0.0  88.000000          1.0          0.0      1  \n",
       "1            0.0  88.000000          1.0          0.0      1  \n",
       "2            0.0  46.000000          1.0          0.0      1  \n",
       "3            0.0  46.000000          1.0          0.0      1  \n",
       "4            0.0  91.158437          1.0          0.0      0  \n",
       "\n",
       "[5 rows x 197 columns]"
      ]
     },
     "execution_count": 2,
     "metadata": {},
     "output_type": "execute_result"
    }
   ],
   "source": [
    "df = utils.load_df(\"../Data/feature_sel.pkl\")\n",
    "df.head(5)"
   ]
  },
  {
   "cell_type": "code",
   "execution_count": 3,
   "metadata": {},
   "outputs": [
    {
     "data": {
      "text/plain": [
       "['enf_endocrinas',\n",
       " 'dm_años_int',\n",
       " 'min_preglucosa',\n",
       " 'num_med_presion_a',\n",
       " 'año_dx_dm',\n",
       " 'colesterol',\n",
       " 'ventana',\n",
       " 'dm',\n",
       " 'num_med',\n",
       " 'avg_num_med',\n",
       " 'avg_num_consultas_by_year',\n",
       " 'trigliceridos',\n",
       " 'sum_num_consultas',\n",
       " 'num_med_preglucosa',\n",
       " 'avg_diastolica_a',\n",
       " 'avg_preglucosa',\n",
       " 'ANTIANEMICOS',\n",
       " 'max_preglucosa',\n",
       " 'avg_sistolica_a',\n",
       " 'num_med_trigliceridos',\n",
       " 'edad_range',\n",
       " 'E70_E90',\n",
       " 'max_sistolica_a',\n",
       " 'max_colesterol',\n",
       " 'max_num_med',\n",
       " 'imc_range',\n",
       " 'epoca_nac',\n",
       " 'min_colesterol',\n",
       " 'fn_sistolica_a',\n",
       " 'min_trigliceridos',\n",
       " 'ANTIRREUMATICOS',\n",
       " 'g8',\n",
       " 'avg_colesterol',\n",
       " 'max_trigliceridos',\n",
       " 'E65_E68',\n",
       " 'num_med_postglucosa',\n",
       " 'num_med_colesterol',\n",
       " 'min_sistolica_a',\n",
       " 'avg_trigliceridos',\n",
       " 'enf_aparato_urinario',\n",
       " 'avg_creatinina',\n",
       " 'preglucosa',\n",
       " 'max_diastolica_a',\n",
       " 'min_diastolica_a',\n",
       " 'postglucosa',\n",
       " 'g23',\n",
       " 'ANTITUSIGENOS',\n",
       " 'max_postglucosa',\n",
       " 'min_creatinina',\n",
       " 'enf_ot_partes_aparato_digestivo',\n",
       " 'EXPECTORANTES',\n",
       " 'ANTIDIABETICOS',\n",
       " 'ANTIGOTOSOS',\n",
       " 'GLUCOSIDOS CARDIACOS',\n",
       " 'min_postglucosa',\n",
       " 'enf_sist_osteomuscular_y_tejido',\n",
       " 'tumores_malig_sitios_mul_indep',\n",
       " 'avg_postglucosa',\n",
       " 'I6_I8',\n",
       " 'ANTIMICROBIANOS',\n",
       " 'ANTIINFLAMATORIOS',\n",
       " 'g6',\n",
       " 'ANTIASMATICOS',\n",
       " 'ANTIALERGICOS',\n",
       " 'ANTIEPILEPTICOS',\n",
       " 'trastornos_mentales',\n",
       " 'acido_urico',\n",
       " 'ANESTESICOS LOCALES',\n",
       " 'OTROS INOTROPICOS POSITIVOS',\n",
       " 'ot_enf_inf_y_paras_y_efec_tardios',\n",
       " 'sexo',\n",
       " 'max_creatinina',\n",
       " 'ANTIDEPRESIVOS',\n",
       " 'CORTICOSTEROIDES',\n",
       " 'creatinina',\n",
       " 'fn_diastolica_a',\n",
       " 'avg_tfg',\n",
       " 'sindrome_maltrato',\n",
       " 'ANTIULCEROSOS',\n",
       " 'max_hba1c',\n",
       " 'HIPOLIPEMIANTES',\n",
       " 'g9',\n",
       " 'tumores_malig_org_respiratorios_intratoracicos',\n",
       " 'tumores_insitu',\n",
       " 'ANTIARTRITICOS',\n",
       " 'ANALGESICOS',\n",
       " 'g5',\n",
       " 'min_tfg',\n",
       " 'DIURETICOS',\n",
       " 'MINERALES',\n",
       " 'PROCINETICOS GASTROINTESTINALES',\n",
       " 'fracturas',\n",
       " 'ELECTROLITOS ORALES',\n",
       " 'ANTIHISTAMINICOS',\n",
       " 'trastornos_mama',\n",
       " 'ANTIACIDOS',\n",
       " 'min_acido_urico',\n",
       " 'ACIDIFICANTES DE LAS VIAS URINARIAS',\n",
       " 'otras_enf_aparato_vasc',\n",
       " 'VITAMINAS',\n",
       " 'E14',\n",
       " 'ANTIDIARREICOS',\n",
       " 'enf_sangre_org_hematop',\n",
       " 'ANTISEPTICOS',\n",
       " 'enf_org_genitales_femeninos',\n",
       " 'OFTALMICOS',\n",
       " 'ADYUVANTES DE LA ANALGESIA',\n",
       " 'avg_acido_urico',\n",
       " 'ANTISEPTICOS URINARIOS',\n",
       " 'g3',\n",
       " 'enf_cerebrovasculares',\n",
       " 'avg_plaquetas',\n",
       " 'min_ldl',\n",
       " 'max_hdl',\n",
       " 'hba1c',\n",
       " 'num_med_hba1c',\n",
       " 'ANTIESPASMODICOS',\n",
       " 'g12',\n",
       " 'fiebre_y_enf_cardiacas_reumaticas',\n",
       " 'min_hba1c',\n",
       " 'ANTIVIRALES',\n",
       " 'map_g',\n",
       " 'ANTIEMETICOS',\n",
       " 'max_ldl',\n",
       " 'num_med_urea',\n",
       " 'enf_org_genitales_masculinos',\n",
       " 'DERMATOLOGICOS',\n",
       " 'max_plaquetas',\n",
       " 'SOLUCIONES ELECTROLITICAS',\n",
       " 'enf_ojo_anexos',\n",
       " 'ANTICOLINERGICOS',\n",
       " 'SEDANTES HIPNOTICOS',\n",
       " 'trastornos_sist_genitourinario_consec_proced',\n",
       " 'ADRENERGICOS',\n",
       " 'g14',\n",
       " 'inf_y_enf_vias_respiratorias_sup',\n",
       " 'g19',\n",
       " 'max_acido_urico',\n",
       " 'min_hdl',\n",
       " 'ANSIOLITICOS',\n",
       " 'tumores_malig_huesos_articulares_conjuntivo_piel_mama',\n",
       " 'avg_ldl',\n",
       " 'g4',\n",
       " 'enf_circulacion_pulmonar_enf_corazon',\n",
       " 'HEMATOPOYETICOS',\n",
       " 'O24',\n",
       " 'plaquetas',\n",
       " 'avg_hba1c',\n",
       " 'ANTIOSTEOPOROSICOS',\n",
       " 'ANTIMICOTICOS',\n",
       " 'enf_sist_nervioso',\n",
       " 'E0_E64',\n",
       " 'min_plaquetas',\n",
       " 'E10',\n",
       " 'ANTIPROTOZOARIOS',\n",
       " 'presion_arterial',\n",
       " 'min_urea',\n",
       " 'traumatismos_int_intracraneales_y_otr',\n",
       " 'malformaciones_congenitas',\n",
       " 'ANTIHELMINTICOS',\n",
       " 'num_med_ldl',\n",
       " 'avg_urea',\n",
       " 'num_med_creatinina',\n",
       " 'num_med_acido_urico',\n",
       " 'E13',\n",
       " 'ANTIADRENERGICOS',\n",
       " 'R0_R4',\n",
       " 'O22',\n",
       " 'max_urea',\n",
       " 'ANTINEOPLASICOS',\n",
       " 'comp_aten_med_qx_no_clasif',\n",
       " 'enf_inf_intestinales',\n",
       " 'num_med_tfg',\n",
       " 'g1',\n",
       " 'ANTIMIGRANOSOS',\n",
       " 'urea',\n",
       " 'num_med_plaquetas',\n",
       " 'avg_hdl',\n",
       " 'num_med_hdl',\n",
       " 'ANTIPROSTATICOS',\n",
       " 'COAGULANTES',\n",
       " 'enf_piel_tejido_subcutaneo',\n",
       " 'comp_precoces_traumatismos',\n",
       " 'BRONCODILATADORES',\n",
       " 'RELAJANTES MUSCULARES',\n",
       " 'sec_traumatismos_envenenamiento_causas_ext',\n",
       " 'tfg',\n",
       " 'g7',\n",
       " 'ANTIAMEBIANOS',\n",
       " 'ldl',\n",
       " 'E12',\n",
       " 'sintomas_signos_hallazgos_anormales_clin_lab_no_clasif',\n",
       " 'ANTIPALUDICOS',\n",
       " 'max_tfg',\n",
       " 'bezafibrato',\n",
       " 'min_num_med',\n",
       " 'label']"
      ]
     },
     "execution_count": 3,
     "metadata": {},
     "output_type": "execute_result"
    }
   ],
   "source": [
    "list(df.columns)"
   ]
  },
  {
   "cell_type": "code",
   "execution_count": 4,
   "metadata": {},
   "outputs": [],
   "source": [
    "df = df[['enf_endocrinas',\n",
    "'dm_años_int',\n",
    "'min_preglucosa',\n",
    "'num_med_presion_a',\n",
    "'año_dx_dm',\n",
    "'colesterol',\n",
    "'ventana',\n",
    "'dm',\n",
    "'num_med',\n",
    "'avg_num_med',\n",
    "'avg_num_consultas_by_year',\n",
    "'trigliceridos',\n",
    "'sum_num_consultas',\n",
    "'num_med_preglucosa',\n",
    "'avg_diastolica_a',\n",
    "'avg_preglucosa',\n",
    "'ANTIANEMICOS',\n",
    "'max_preglucosa',\n",
    "'avg_sistolica_a',\n",
    "'num_med_trigliceridos',\n",
    "'edad_range',\n",
    "'E70_E90',\n",
    "'max_sistolica_a',\n",
    "'max_colesterol',\n",
    "'max_num_med',\n",
    "'imc_range',\n",
    "'epoca_nac',\n",
    "'min_colesterol',\n",
    "'fn_sistolica_a',\n",
    "'min_trigliceridos',\n",
    "'ANTIRREUMATICOS',\n",
    "'g8','label']]"
   ]
  },
  {
   "cell_type": "code",
   "execution_count": 5,
   "metadata": {},
   "outputs": [
    {
     "name": "stdout",
     "output_type": "stream",
     "text": [
      "<class 'pandas.core.frame.DataFrame'>\n",
      "RangeIndex: 346 entries, 0 to 345\n",
      "Data columns (total 33 columns):\n",
      " #   Column                     Non-Null Count  Dtype  \n",
      "---  ------                     --------------  -----  \n",
      " 0   enf_endocrinas             346 non-null    float64\n",
      " 1   dm_años_int                346 non-null    float64\n",
      " 2   min_preglucosa             346 non-null    float64\n",
      " 3   num_med_presion_a          346 non-null    float64\n",
      " 4   año_dx_dm                  346 non-null    float64\n",
      " 5   colesterol                 346 non-null    float64\n",
      " 6   ventana                    346 non-null    float64\n",
      " 7   dm                         346 non-null    float64\n",
      " 8   num_med                    346 non-null    float64\n",
      " 9   avg_num_med                346 non-null    float64\n",
      " 10  avg_num_consultas_by_year  346 non-null    float64\n",
      " 11  trigliceridos              346 non-null    float64\n",
      " 12  sum_num_consultas          346 non-null    float64\n",
      " 13  num_med_preglucosa         346 non-null    float64\n",
      " 14  avg_diastolica_a           346 non-null    float64\n",
      " 15  avg_preglucosa             346 non-null    float64\n",
      " 16  ANTIANEMICOS               346 non-null    float64\n",
      " 17  max_preglucosa             346 non-null    float64\n",
      " 18  avg_sistolica_a            346 non-null    float64\n",
      " 19  num_med_trigliceridos      346 non-null    float64\n",
      " 20  edad_range                 346 non-null    float64\n",
      " 21  E70_E90                    346 non-null    float64\n",
      " 22  max_sistolica_a            346 non-null    float64\n",
      " 23  max_colesterol             346 non-null    float64\n",
      " 24  max_num_med                346 non-null    float64\n",
      " 25  imc_range                  346 non-null    float64\n",
      " 26  epoca_nac                  346 non-null    float64\n",
      " 27  min_colesterol             346 non-null    float64\n",
      " 28  fn_sistolica_a             346 non-null    float64\n",
      " 29  min_trigliceridos          346 non-null    float64\n",
      " 30  ANTIRREUMATICOS            346 non-null    float64\n",
      " 31  g8                         346 non-null    float64\n",
      " 32  label                      346 non-null    int32  \n",
      "dtypes: float64(32), int32(1)\n",
      "memory usage: 88.0 KB\n"
     ]
    }
   ],
   "source": [
    "df.info()"
   ]
  },
  {
   "cell_type": "code",
   "execution_count": 6,
   "metadata": {},
   "outputs": [
    {
     "name": "stdout",
     "output_type": "stream",
     "text": [
      "(346, 32)\n",
      "(346, 1)\n"
     ]
    }
   ],
   "source": [
    "X = df.loc[:, df.columns != 'label']\n",
    "print(X.shape)\n",
    "Y = df[[\"label\"]]\n",
    "print(Y.shape)"
   ]
  },
  {
   "cell_type": "code",
   "execution_count": 7,
   "metadata": {},
   "outputs": [],
   "source": [
    "X_train,X_test,y_train,y_test = train_test_split(X,Y,test_size=0.3)"
   ]
  },
  {
   "cell_type": "code",
   "execution_count": 8,
   "metadata": {},
   "outputs": [],
   "source": [
    "#from imblearn.over_sampling import SMOTE\n",
    "#sm = SMOTE(random_state=42)\n",
    "#X_res, y_res = sm.fit_resample(X_train, y_train)\n",
    "#X_train = X_res\n",
    "#y_train = y_res"
   ]
  },
  {
   "cell_type": "markdown",
   "metadata": {},
   "source": [
    "### 3. Magic Loop\n",
    "\n",
    "- Diccionario de algoritmos a aplicar"
   ]
  },
  {
   "cell_type": "code",
   "execution_count": 9,
   "metadata": {},
   "outputs": [],
   "source": [
    "algorithms_dict = {'tree': 'tree_grid_search',\n",
    "                   'random_forest': 'rf_grid_search',\n",
    "                   'logistic': 'logistic_grid_search',\n",
    "                   'xgboost': 'xgboost_grid_search'}"
   ]
  },
  {
   "cell_type": "markdown",
   "metadata": {},
   "source": [
    "- Diccionario de configuraciones"
   ]
  },
  {
   "cell_type": "code",
   "execution_count": 10,
   "metadata": {},
   "outputs": [],
   "source": [
    "grid_search_dict = {\n",
    "                        'tree_grid_search': {\n",
    "                            'max_depth': [5, 10, 15],\n",
    "                            'min_samples_leaf': [3, 5, 7]\n",
    "                        },\n",
    "                        'rf_grid_search': {\n",
    "                            'n_estimators': [30, 50, 100],\n",
    "                            'max_depth': [5, 10, 15],\n",
    "                            'min_samples_leaf': [3, 5, 10]\n",
    "                        },\n",
    "                        'logistic_grid_search':{\n",
    "                            'C':np.logspace(-3,3,7),\n",
    "                            'penalty':['l2']\n",
    "                        },\n",
    "                        'xgboost_grid_search':{\n",
    "                            'max_depth': range (2, 10, 1),\n",
    "                            'n_estimators': range(60, 220, 40),\n",
    "                            'learning_rate': [0.1, 0.01, 0.05]\n",
    "                        }\n",
    "                    }"
   ]
  },
  {
   "cell_type": "markdown",
   "metadata": {},
   "source": [
    "- Diccionario de estimadores"
   ]
  },
  {
   "cell_type": "code",
   "execution_count": 11,
   "metadata": {},
   "outputs": [],
   "source": [
    "from xgboost import XGBClassifier"
   ]
  },
  {
   "cell_type": "code",
   "execution_count": 12,
   "metadata": {},
   "outputs": [],
   "source": [
    "from sklearn.tree import DecisionTreeClassifier\n",
    "estimators_dict = {'tree': DecisionTreeClassifier(random_state=1111),\n",
    "                   'random_forest': RandomForestClassifier(oob_score=True, random_state=2222),\n",
    "                   'logistic': LogisticRegression(random_state=3333),\n",
    "                   'xgboost': XGBClassifier(objective= 'binary:logistic',nthread=4,seed=42)\n",
    "                  } "
   ]
  },
  {
   "cell_type": "code",
   "execution_count": 13,
   "metadata": {},
   "outputs": [],
   "source": [
    "def magic_loop(algorithms, features, labels):\n",
    "    best_estimators = []\n",
    "    for algorithm in algorithms:\n",
    "        estimator = estimators_dict[algorithm]\n",
    "        grid_search_to_look = algorithms_dict[algorithm]\n",
    "        grid_params = grid_search_dict[grid_search_to_look]\n",
    "        #tscv = TimeSeriesSplit(n_splits=5)\n",
    "        \n",
    "        #gs = GridSearchCV(estimator, grid_params, scoring='precision', cv=5, n_jobs=-1)\n",
    "        gs = GridSearchCV(estimator, grid_params, scoring='roc_auc', cv=5, n_jobs=-1)\n",
    "        \n",
    "        #train\n",
    "        gs.fit(features, labels)\n",
    "        #best estimator\n",
    "        best_estimators.append(gs)\n",
    "        \n",
    "        \n",
    "    return best_estimators"
   ]
  },
  {
   "cell_type": "code",
   "execution_count": 14,
   "metadata": {},
   "outputs": [],
   "source": [
    "#scoring_met= 'recall'\n",
    "algorithms = ['tree', 'random_forest','logistic','xgboost']\n",
    "models = []\n",
    "start_time = time.time()\n",
    "models_list = []"
   ]
  },
  {
   "cell_type": "code",
   "execution_count": 15,
   "metadata": {},
   "outputs": [
    {
     "name": "stdout",
     "output_type": "stream",
     "text": [
      "Empty DataFrame\n",
      "Columns: []\n",
      "Index: [72, 21, 38, 156, 81, 189, 276, 251, 292, 11, 67, 236, 116, 87, 324, 91, 208, 36, 323, 277, 100, 265, 96, 212, 264, 289, 176, 210, 342, 2, 235, 229, 144, 13, 331, 63, 29, 106, 68, 180, 182, 115, 61, 77, 216, 288, 291, 50, 343, 309, 98, 35, 90, 318, 108, 221, 329, 268, 261, 12, 164, 142, 75, 135, 172, 109, 224, 28, 338, 203, 281, 322, 136, 22, 41, 241, 340, 134, 259, 198, 295, 18, 186, 65, 284, 3, 255, 131, 39, 311, 177, 60, 122, 73, 78, 105, 126, 74, 312, 231, ...]\n",
      "\n",
      "[242 rows x 0 columns]\n"
     ]
    }
   ],
   "source": [
    "# Select dataframe columns with any NaN value\n",
    "subset_df = X_train.loc[:, X_train.isnull().any()]\n",
    "print(subset_df)"
   ]
  },
  {
   "cell_type": "code",
   "execution_count": 16,
   "metadata": {},
   "outputs": [
    {
     "data": {
      "text/plain": [
       "['enf_endocrinas',\n",
       " 'dm_años_int',\n",
       " 'min_preglucosa',\n",
       " 'num_med_presion_a',\n",
       " 'año_dx_dm',\n",
       " 'colesterol',\n",
       " 'ventana',\n",
       " 'dm',\n",
       " 'num_med',\n",
       " 'avg_num_med',\n",
       " 'avg_num_consultas_by_year',\n",
       " 'trigliceridos',\n",
       " 'sum_num_consultas',\n",
       " 'num_med_preglucosa',\n",
       " 'avg_diastolica_a',\n",
       " 'avg_preglucosa',\n",
       " 'ANTIANEMICOS',\n",
       " 'max_preglucosa',\n",
       " 'avg_sistolica_a',\n",
       " 'num_med_trigliceridos',\n",
       " 'edad_range',\n",
       " 'E70_E90',\n",
       " 'max_sistolica_a',\n",
       " 'max_colesterol',\n",
       " 'max_num_med',\n",
       " 'imc_range',\n",
       " 'epoca_nac',\n",
       " 'min_colesterol',\n",
       " 'fn_sistolica_a',\n",
       " 'min_trigliceridos',\n",
       " 'ANTIRREUMATICOS',\n",
       " 'g8']"
      ]
     },
     "execution_count": 16,
     "metadata": {},
     "output_type": "execute_result"
    }
   ],
   "source": [
    "X_train.columns.values.tolist()"
   ]
  },
  {
   "cell_type": "code",
   "execution_count": null,
   "metadata": {},
   "outputs": [],
   "source": []
  },
  {
   "cell_type": "code",
   "execution_count": 17,
   "metadata": {},
   "outputs": [
    {
     "name": "stdout",
     "output_type": "stream",
     "text": [
      "Selección de variables completada satisfactoriamente en  22.55299997329712  segundos\n"
     ]
    }
   ],
   "source": [
    "best = magic_loop(algorithms, X_train, y_train)\n",
    "print(\"Selección de variables completada satisfactoriamente en \", time.time() - start_time, ' segundos')"
   ]
  },
  {
   "cell_type": "code",
   "execution_count": 18,
   "metadata": {},
   "outputs": [
    {
     "data": {
      "text/plain": [
       "XGBClassifier(base_score=0.5, booster='gbtree', callbacks=None,\n",
       "              colsample_bylevel=1, colsample_bynode=1, colsample_bytree=1,\n",
       "              early_stopping_rounds=None, enable_categorical=False,\n",
       "              eval_metric=None, gamma=0, gpu_id=-1, grow_policy='depthwise',\n",
       "              importance_type=None, interaction_constraints='',\n",
       "              learning_rate=0.1, max_bin=256, max_cat_to_onehot=4,\n",
       "              max_delta_step=0, max_depth=2, max_leaves=0, min_child_weight=1,\n",
       "              missing=nan, monotone_constraints='()', n_estimators=180,\n",
       "              n_jobs=4, nthread=4, num_parallel_tree=1, predictor='auto',\n",
       "              random_state=42, reg_alpha=0, ...)"
      ]
     },
     "execution_count": 18,
     "metadata": {},
     "output_type": "execute_result"
    }
   ],
   "source": [
    "model0 = best[0].best_estimator_\n",
    "model0\n",
    "\n",
    "model1 = best[1].best_estimator_\n",
    "model1\n",
    "\n",
    "model2 = best[2].best_estimator_\n",
    "model2\n",
    "\n",
    "model3 = best[3].best_estimator_\n",
    "model3"
   ]
  },
  {
   "cell_type": "code",
   "execution_count": 19,
   "metadata": {},
   "outputs": [],
   "source": [
    "utils.save_df(model0, \"../output/best_model0_av.pkl\")\n",
    "utils.save_df(model1, \"../output/best_model1_av.pkl\")\n",
    "utils.save_df(model2, \"../output/best_model2_av.pkl\")\n",
    "utils.save_df(model3, \"../output/best_model3_av.pkl\")"
   ]
  },
  {
   "cell_type": "markdown",
   "metadata": {},
   "source": [
    "### 4. Evaluando modelo"
   ]
  },
  {
   "cell_type": "code",
   "execution_count": 20,
   "metadata": {},
   "outputs": [],
   "source": [
    "from sklearn.metrics import roc_curve, roc_auc_score\n",
    "from sklearn.metrics import accuracy_score, precision_recall_curve, precision_score, recall_score\n",
    "from sklearn.metrics import confusion_matrix, plot_confusion_matrix\n",
    "import matplotlib.pyplot as plt"
   ]
  },
  {
   "cell_type": "code",
   "execution_count": 21,
   "metadata": {},
   "outputs": [],
   "source": [
    "predicted_labels0 = model0.predict(X_test)\n",
    "predicted_scores0 = model0.predict_proba(X_test)\n",
    "\n",
    "predicted_labels1 = model1.predict(X_test)\n",
    "predicted_scores1 = model1.predict_proba(X_test)\n",
    "\n",
    "predicted_labels2 = model2.predict(X_test)\n",
    "predicted_scores2 = model2.predict_proba(X_test)\n",
    "\n",
    "predicted_labels3 = model3.predict(X_test)\n",
    "predicted_scores3 = model3.predict_proba(X_test)\n"
   ]
  },
  {
   "cell_type": "code",
   "execution_count": 22,
   "metadata": {},
   "outputs": [
    {
     "data": {
      "image/png": "[encoded data removed]",
      "text/plain": [
       "<Figure size 432x288 with 1 Axes>"
      ]
     },
     "metadata": {
      "needs_background": "light"
     },
     "output_type": "display_data"
    },
    {
     "name": "stdout",
     "output_type": "stream",
     "text": [
      "[[42  7]\n",
      " [12 43]]\n"
     ]
    },
    {
     "data": {
      "text/plain": [
       "<sklearn.metrics._plot.confusion_matrix.ConfusionMatrixDisplay at 0xda36c08>"
      ]
     },
     "execution_count": 22,
     "metadata": {},
     "output_type": "execute_result"
    },
    {
     "data": {
      "image/png": "[encoded data removed]",
      "text/plain": [
       "<Figure size 432x288 with 2 Axes>"
      ]
     },
     "metadata": {
      "needs_background": "light"
     },
     "output_type": "display_data"
    }
   ],
   "source": [
    "### Curva ROC\n",
    "plt.figure()\n",
    "fpr, tpr, thresholds = roc_curve(y_test, predicted_scores0[:, 1], pos_label=1)\n",
    "plt.clf()\n",
    "plt.plot([0, 1], [0, 1], 'k--', c=\"red\")\n",
    "plt.plot(fpr, tpr)\n",
    "plt.title(\"ROC best RF, AUC: {}\".format(roc_auc_score(y_test, predicted_labels0)))\n",
    "plt.xlabel(\"fpr\")\n",
    "plt.ylabel(\"tpr\")\n",
    "#plt.savefig('../output/ROC_curve.png', bbox_inches='tight')\n",
    "plt.show()\n",
    "\n",
    "print(confusion_matrix(y_test, predicted_labels0))\n",
    "plot_confusion_matrix(model0, X_test, y_test, cmap=plt.cm.Blues)  "
   ]
  },
  {
   "cell_type": "code",
   "execution_count": 23,
   "metadata": {},
   "outputs": [
    {
     "data": {
      "image/png": "[encoded data removed]",
      "text/plain": [
       "<Figure size 432x288 with 1 Axes>"
      ]
     },
     "metadata": {
      "needs_background": "light"
     },
     "output_type": "display_data"
    },
    {
     "name": "stdout",
     "output_type": "stream",
     "text": [
      "[[34 15]\n",
      " [11 44]]\n"
     ]
    },
    {
     "data": {
      "text/plain": [
       "<sklearn.metrics._plot.confusion_matrix.ConfusionMatrixDisplay at 0xf449188>"
      ]
     },
     "execution_count": 23,
     "metadata": {},
     "output_type": "execute_result"
    },
    {
     "data": {
      "image/png": "[encoded data removed]",
      "text/plain": [
       "<Figure size 432x288 with 2 Axes>"
      ]
     },
     "metadata": {
      "needs_background": "light"
     },
     "output_type": "display_data"
    }
   ],
   "source": [
    "### Curva ROC\n",
    "plt.figure()\n",
    "fpr, tpr, thresholds = roc_curve(y_test, predicted_scores1[:, 1], pos_label=1)\n",
    "plt.clf()\n",
    "plt.plot([0, 1], [0, 1], 'k--', c=\"red\")\n",
    "plt.plot(fpr, tpr)\n",
    "plt.title(\"ROC best RF, AUC: {}\".format(roc_auc_score(y_test, predicted_labels1)))\n",
    "plt.xlabel(\"fpr\")\n",
    "plt.ylabel(\"tpr\")\n",
    "#plt.savefig('../output/ROC_curve.png', bbox_inches='tight')\n",
    "plt.show()\n",
    "\n",
    "print(confusion_matrix(y_test, predicted_labels1))\n",
    "plot_confusion_matrix(model1, X_test, y_test, cmap=plt.cm.Blues)  "
   ]
  },
  {
   "cell_type": "code",
   "execution_count": 24,
   "metadata": {},
   "outputs": [
    {
     "data": {
      "image/png": "[encoded data removed]",
      "text/plain": [
       "<Figure size 432x288 with 1 Axes>"
      ]
     },
     "metadata": {
      "needs_background": "light"
     },
     "output_type": "display_data"
    },
    {
     "name": "stdout",
     "output_type": "stream",
     "text": [
      "[[32 17]\n",
      " [10 45]]\n"
     ]
    },
    {
     "data": {
      "text/plain": [
       "<sklearn.metrics._plot.confusion_matrix.ConfusionMatrixDisplay at 0xd9f84c8>"
      ]
     },
     "execution_count": 24,
     "metadata": {},
     "output_type": "execute_result"
    },
    {
     "data": {
      "image/png": "[encoded data removed]",
      "text/plain": [
       "<Figure size 432x288 with 2 Axes>"
      ]
     },
     "metadata": {
      "needs_background": "light"
     },
     "output_type": "display_data"
    }
   ],
   "source": [
    "### Curva ROC\n",
    "plt.figure()\n",
    "fpr, tpr, thresholds = roc_curve(y_test, predicted_scores2[:, 1], pos_label=1)\n",
    "plt.clf()\n",
    "plt.plot([0, 1], [0, 1], 'k--', c=\"red\")\n",
    "plt.plot(fpr, tpr)\n",
    "plt.title(\"ROC best RF, AUC: {}\".format(roc_auc_score(y_test, predicted_labels2)))\n",
    "plt.xlabel(\"fpr\")\n",
    "plt.ylabel(\"tpr\")\n",
    "#plt.savefig('../output/ROC_curve.png', bbox_inches='tight')\n",
    "plt.show()\n",
    "\n",
    "print(confusion_matrix(y_test, predicted_labels2))\n",
    "plot_confusion_matrix(model2, X_test, y_test, cmap=plt.cm.Blues)  "
   ]
  },
  {
   "cell_type": "code",
   "execution_count": 25,
   "metadata": {},
   "outputs": [
    {
     "data": {
      "image/png": "[encoded data removed]",
      "text/plain": [
       "<Figure size 432x288 with 1 Axes>"
      ]
     },
     "metadata": {
      "needs_background": "light"
     },
     "output_type": "display_data"
    },
    {
     "name": "stdout",
     "output_type": "stream",
     "text": [
      "[[34 15]\n",
      " [ 9 46]]\n"
     ]
    },
    {
     "data": {
      "text/plain": [
       "<sklearn.metrics._plot.confusion_matrix.ConfusionMatrixDisplay at 0xf6294c8>"
      ]
     },
     "execution_count": 25,
     "metadata": {},
     "output_type": "execute_result"
    },
    {
     "data": {
      "image/png": "[encoded data removed]",
      "text/plain": [
       "<Figure size 432x288 with 2 Axes>"
      ]
     },
     "metadata": {
      "needs_background": "light"
     },
     "output_type": "display_data"
    }
   ],
   "source": [
    "### Curva ROC\n",
    "plt.figure()\n",
    "fpr, tpr, thresholds = roc_curve(y_test, predicted_scores3[:, 1], pos_label=1)\n",
    "plt.clf()\n",
    "plt.plot([0, 1], [0, 1], 'k--', c=\"red\")\n",
    "plt.plot(fpr, tpr)\n",
    "plt.title(\"ROC best RF, AUC: {}\".format(roc_auc_score(y_test, predicted_labels3)))\n",
    "plt.xlabel(\"fpr\")\n",
    "plt.ylabel(\"tpr\")\n",
    "#plt.savefig('../output/ROC_curve.png', bbox_inches='tight')\n",
    "plt.show()\n",
    "\n",
    "print(confusion_matrix(y_test, predicted_labels3))\n",
    "plot_confusion_matrix(model3, X_test, y_test, cmap=plt.cm.Blues)  "
   ]
  },
  {
   "cell_type": "code",
   "execution_count": 26,
   "metadata": {},
   "outputs": [],
   "source": [
    "def get_metrics_report(fpr, tpr, thresholds, precision, recall, thresholds_2):\n",
    "    df_1 = pd.DataFrame({'threshold': thresholds_2, 'precision': precision,\n",
    "                         'recall': recall})\n",
    "    df_1['f1_score'] = 2 * (df_1.precision * df_1.recall) / (df_1.precision + df_1.recall)\n",
    "\n",
    "    df_2 = pd.DataFrame({'tpr': tpr, 'fpr': fpr, 'threshold': thresholds})\n",
    "    df_2['tnr'] = 1 - df_2['fpr']\n",
    "    df_2['fnr'] = 1 - df_2['tpr']\n",
    "\n",
    "    df = df_1.merge(df_2, on=\"threshold\")\n",
    "\n",
    "    return df"
   ]
  },
  {
   "cell_type": "code",
   "execution_count": 27,
   "metadata": {},
   "outputs": [
    {
     "data": {
      "image/png": "[encoded data removed]",
      "text/plain": [
       "<Figure size 432x288 with 1 Axes>"
      ]
     },
     "metadata": {
      "needs_background": "light"
     },
     "output_type": "display_data"
    }
   ],
   "source": [
    "# Generando métricas\n",
    "precision, recall, thresholds_2 = precision_recall_curve(y_test, predicted_scores1[:, 1], pos_label=1)\n",
    "thresholds_2 = np.append(thresholds_2, 1)\n",
    "metrics_report = get_metrics_report(fpr, tpr, thresholds, precision, recall, thresholds_2)\n",
    "#save_metrics(metrics_report, '../output/metricas_offline.pkl')\n",
    "\n",
    "# Curva: Precision-recall\n",
    "plt.figure()\n",
    "plt.plot(metrics_report['threshold'], metrics_report['precision'], 'k--', c=\"red\", label='precision')\n",
    "plt.plot(metrics_report['threshold'], metrics_report['recall'], 'k--', c=\"blue\", label='recall')\n",
    "plt.xlabel('threshold')\n",
    "plt.ylim([0, 1])\n",
    "plt.legend(bbox_to_anchor=(1, 1), fontsize=12)\n",
    "plt.savefig('../output/recall_precision.png', bbox_inches='tight')\n",
    "#plt.show()"
   ]
  },
  {
   "cell_type": "code",
   "execution_count": 28,
   "metadata": {},
   "outputs": [],
   "source": [
    "# Curva: recall-precision @k\n",
    "data_junta = pd.concat([X_test, y_test], axis=1)\n",
    "data_filtrada = data_junta\n",
    "datos_finales_X = pd.DataFrame(data_filtrada.drop(['label'], axis=1))\n",
    "y_true = data_filtrada.label\n",
    "y_scores = model1.predict_proba(datos_finales_X)"
   ]
  },
  {
   "cell_type": "code",
   "execution_count": 29,
   "metadata": {},
   "outputs": [],
   "source": [
    "def param_graf(y_true, y_scores):\n",
    "    k_values = np.linspace(0, 0.99, 100)\n",
    "    lista = []\n",
    "\n",
    "    for k in k_values:\n",
    "        p_k = precision_at_k(y_true, pd.DataFrame(y_scores)[1], k)\n",
    "        r_k = recall_at_k(y_true, pd.DataFrame(y_scores)[1], k)\n",
    "        lista = lista + [[p_k, r_k, k]]\n",
    "\n",
    "    p_r_g = pd.DataFrame(lista, columns=[\"p_k\", \"r_k\", \"k\"])\n",
    "\n",
    "    return p_r_g\n",
    "\n",
    "def precision_at_k(y_true, y_scores, k):\n",
    "    threshold = np.sort(y_scores)[::-1][int(k * len(y_scores))]\n",
    "    y_pred = np.asarray([1 if i >= threshold else 0 for i in y_scores])\n",
    "\n",
    "    return precision_score(y_true, y_pred)\n",
    "\n",
    "def recall_at_k(y_true, y_scores, k):\n",
    "    threshold = np.sort(y_scores)[::-1][int(k * len(y_scores))]\n",
    "    y_pred = np.asarray([1 if i >= threshold else 0 for i in y_scores])\n",
    "\n",
    "    return recall_score(y_true, y_pred)"
   ]
  },
  {
   "cell_type": "code",
   "execution_count": 30,
   "metadata": {},
   "outputs": [
    {
     "data": {
      "image/png": "[encoded data removed]",
      "text/plain": [
       "<Figure size 432x288 with 1 Axes>"
      ]
     },
     "metadata": {
      "needs_background": "light"
     },
     "output_type": "display_data"
    }
   ],
   "source": [
    "p_r_g = param_graf(y_true, y_scores)\n",
    "\n",
    "plt.figure()\n",
    "plt.plot(p_r_g[\"k\"], p_r_g[\"p_k\"], label=\"P\")\n",
    "plt.plot(p_r_g[\"k\"], p_r_g[\"r_k\"], label=\"R\")\n",
    "plt.title(\"Precision and recall at k%: PA\")\n",
    "plt.axvline(x=0.037, c='red', linestyle='--')\n",
    "plt.ylabel(\"Mejor valor\")\n",
    "plt.legend(['Precision', 'Recall'])\n",
    "plt.xlabel(\"%k\")\n",
    "plt.savefig('../output/recall_precision_k.png', bbox_inches='tight')\n",
    "#plt.show()"
   ]
  },
  {
   "cell_type": "code",
   "execution_count": null,
   "metadata": {},
   "outputs": [],
   "source": []
  }
 ],
 "metadata": {
  "kernelspec": {
   "display_name": "Python 3",
   "language": "python",
   "name": "python3"
  },
  "language_info": {
   "codemirror_mode": {
    "name": "ipython",
    "version": 3
   },
   "file_extension": ".py",
   "mimetype": "text/x-python",
   "name": "python",
   "nbconvert_exporter": "python",
   "pygments_lexer": "ipython3",
   "version": "3.7.4"
  }
 },
 "nbformat": 4,
 "nbformat_minor": 4
}
