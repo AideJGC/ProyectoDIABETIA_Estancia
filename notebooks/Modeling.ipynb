{
 "cells": [
  {
   "cell_type": "markdown",
   "metadata": {},
   "source": [
    "# Modeling\n",
    "## Estancia de investigación Maestría de Ciencia de Datos\n",
    "## Aide Jazmín González Cruz\n",
    "\n",
    "### 1. Carga de librerías"
   ]
  },
  {
   "cell_type": "code",
   "execution_count": 12,
   "metadata": {},
   "outputs": [],
   "source": [
    "import pandas as pd\n",
    "import numpy as np\n",
    "from sklearn.model_selection import GridSearchCV, TimeSeriesSplit, train_test_split\n",
    "from sklearn.ensemble import RandomForestClassifier\n",
    "from sklearn.preprocessing import MinMaxScaler, OneHotEncoder, KBinsDiscretizer\n",
    "from sklearn.compose import ColumnTransformer\n",
    "from sklearn.base import BaseEstimator,TransformerMixin\n",
    "from sklearn.linear_model import LogisticRegression\n",
    "from sklearn.tree import DecisionTreeClassifier\n",
    "from siuba import *\n",
    "import time\n",
    "from time import gmtime, strftime\n",
    "\n",
    "import sys\n",
    "import os\n",
    "from os.path import dirname\n",
    "from datetime import datetime\n",
    "import warnings\n",
    "warnings.filterwarnings('ignore')\n",
    "sys.path.append(dirname('../src'))\n",
    "from src.utils import utils"
   ]
  },
  {
   "cell_type": "markdown",
   "metadata": {},
   "source": [
    "### 2. Carga de features y división de datos de entrenamiento y validación"
   ]
  },
  {
   "cell_type": "code",
   "execution_count": 57,
   "metadata": {},
   "outputs": [
    {
     "data": {
      "text/html": [
       "<div>\n",
       "<style scoped>\n",
       "    .dataframe tbody tr th:only-of-type {\n",
       "        vertical-align: middle;\n",
       "    }\n",
       "\n",
       "    .dataframe tbody tr th {\n",
       "        vertical-align: top;\n",
       "    }\n",
       "\n",
       "    .dataframe thead th {\n",
       "        text-align: right;\n",
       "    }\n",
       "</style>\n",
       "<table border=\"1\" class=\"dataframe\">\n",
       "  <thead>\n",
       "    <tr style=\"text-align: right;\">\n",
       "      <th></th>\n",
       "      <th>ventana</th>\n",
       "      <th>max_altura</th>\n",
       "      <th>min_preglucosa</th>\n",
       "      <th>num_med_preglucosa</th>\n",
       "      <th>max_edad</th>\n",
       "      <th>min_edad</th>\n",
       "      <th>max_dif_vent_entre_consul</th>\n",
       "      <th>max_sistolica_a</th>\n",
       "      <th>avg_preglucosa</th>\n",
       "      <th>avg_edad</th>\n",
       "      <th>...</th>\n",
       "      <th>tumores_benignos</th>\n",
       "      <th>hdl</th>\n",
       "      <th>altura</th>\n",
       "      <th>comp_precoces_traumatismos</th>\n",
       "      <th>avg_enf_aparato_urinario</th>\n",
       "      <th>enf_circulacion_pulmonar_enf_corazon</th>\n",
       "      <th>malformaciones_congenitas</th>\n",
       "      <th>fiebre_y_enf_cardiacas_reumaticas</th>\n",
       "      <th>imc</th>\n",
       "      <th>label</th>\n",
       "    </tr>\n",
       "  </thead>\n",
       "  <tbody>\n",
       "    <tr>\n",
       "      <th>0</th>\n",
       "      <td>1.0</td>\n",
       "      <td>1.64</td>\n",
       "      <td>108.000000</td>\n",
       "      <td>9.000000</td>\n",
       "      <td>49.0</td>\n",
       "      <td>47.0</td>\n",
       "      <td>100.0</td>\n",
       "      <td>130.0</td>\n",
       "      <td>150.000000</td>\n",
       "      <td>48.160000</td>\n",
       "      <td>...</td>\n",
       "      <td>0.0</td>\n",
       "      <td>0.0</td>\n",
       "      <td>1.0</td>\n",
       "      <td>1.0</td>\n",
       "      <td>0.9</td>\n",
       "      <td>0.0</td>\n",
       "      <td>1.0</td>\n",
       "      <td>1.0</td>\n",
       "      <td>1.0</td>\n",
       "      <td>0</td>\n",
       "    </tr>\n",
       "    <tr>\n",
       "      <th>1</th>\n",
       "      <td>2.0</td>\n",
       "      <td>1.64</td>\n",
       "      <td>109.000000</td>\n",
       "      <td>4.000000</td>\n",
       "      <td>50.0</td>\n",
       "      <td>48.0</td>\n",
       "      <td>69.0</td>\n",
       "      <td>130.0</td>\n",
       "      <td>158.000000</td>\n",
       "      <td>49.000000</td>\n",
       "      <td>...</td>\n",
       "      <td>0.0</td>\n",
       "      <td>0.0</td>\n",
       "      <td>1.0</td>\n",
       "      <td>1.0</td>\n",
       "      <td>0.9</td>\n",
       "      <td>0.0</td>\n",
       "      <td>1.0</td>\n",
       "      <td>1.0</td>\n",
       "      <td>1.0</td>\n",
       "      <td>0</td>\n",
       "    </tr>\n",
       "    <tr>\n",
       "      <th>2</th>\n",
       "      <td>3.0</td>\n",
       "      <td>1.64</td>\n",
       "      <td>253.000000</td>\n",
       "      <td>1.000000</td>\n",
       "      <td>51.0</td>\n",
       "      <td>49.0</td>\n",
       "      <td>69.0</td>\n",
       "      <td>130.0</td>\n",
       "      <td>253.000000</td>\n",
       "      <td>50.142857</td>\n",
       "      <td>...</td>\n",
       "      <td>0.0</td>\n",
       "      <td>0.0</td>\n",
       "      <td>1.0</td>\n",
       "      <td>1.0</td>\n",
       "      <td>0.9</td>\n",
       "      <td>0.0</td>\n",
       "      <td>1.0</td>\n",
       "      <td>1.0</td>\n",
       "      <td>1.0</td>\n",
       "      <td>0</td>\n",
       "    </tr>\n",
       "    <tr>\n",
       "      <th>3</th>\n",
       "      <td>4.0</td>\n",
       "      <td>1.64</td>\n",
       "      <td>80.000000</td>\n",
       "      <td>4.000000</td>\n",
       "      <td>52.0</td>\n",
       "      <td>50.0</td>\n",
       "      <td>112.0</td>\n",
       "      <td>160.0</td>\n",
       "      <td>155.750000</td>\n",
       "      <td>51.200000</td>\n",
       "      <td>...</td>\n",
       "      <td>0.0</td>\n",
       "      <td>0.0</td>\n",
       "      <td>1.0</td>\n",
       "      <td>1.0</td>\n",
       "      <td>0.9</td>\n",
       "      <td>0.0</td>\n",
       "      <td>1.0</td>\n",
       "      <td>1.0</td>\n",
       "      <td>1.0</td>\n",
       "      <td>1</td>\n",
       "    </tr>\n",
       "    <tr>\n",
       "      <th>4</th>\n",
       "      <td>1.0</td>\n",
       "      <td>1.76</td>\n",
       "      <td>125.188235</td>\n",
       "      <td>3.941176</td>\n",
       "      <td>33.0</td>\n",
       "      <td>32.0</td>\n",
       "      <td>542.0</td>\n",
       "      <td>100.0</td>\n",
       "      <td>157.012007</td>\n",
       "      <td>32.500000</td>\n",
       "      <td>...</td>\n",
       "      <td>0.0</td>\n",
       "      <td>0.0</td>\n",
       "      <td>1.0</td>\n",
       "      <td>1.0</td>\n",
       "      <td>0.9</td>\n",
       "      <td>0.0</td>\n",
       "      <td>1.0</td>\n",
       "      <td>1.0</td>\n",
       "      <td>1.0</td>\n",
       "      <td>0</td>\n",
       "    </tr>\n",
       "  </tbody>\n",
       "</table>\n",
       "<p>5 rows × 138 columns</p>\n",
       "</div>"
      ],
      "text/plain": [
       "   ventana  max_altura  min_preglucosa  num_med_preglucosa  max_edad  \\\n",
       "0      1.0        1.64      108.000000            9.000000      49.0   \n",
       "1      2.0        1.64      109.000000            4.000000      50.0   \n",
       "2      3.0        1.64      253.000000            1.000000      51.0   \n",
       "3      4.0        1.64       80.000000            4.000000      52.0   \n",
       "4      1.0        1.76      125.188235            3.941176      33.0   \n",
       "\n",
       "   min_edad  max_dif_vent_entre_consul  max_sistolica_a  avg_preglucosa  \\\n",
       "0      47.0                      100.0            130.0      150.000000   \n",
       "1      48.0                       69.0            130.0      158.000000   \n",
       "2      49.0                       69.0            130.0      253.000000   \n",
       "3      50.0                      112.0            160.0      155.750000   \n",
       "4      32.0                      542.0            100.0      157.012007   \n",
       "\n",
       "    avg_edad  ...  tumores_benignos  hdl  altura  comp_precoces_traumatismos  \\\n",
       "0  48.160000  ...               0.0  0.0     1.0                         1.0   \n",
       "1  49.000000  ...               0.0  0.0     1.0                         1.0   \n",
       "2  50.142857  ...               0.0  0.0     1.0                         1.0   \n",
       "3  51.200000  ...               0.0  0.0     1.0                         1.0   \n",
       "4  32.500000  ...               0.0  0.0     1.0                         1.0   \n",
       "\n",
       "   avg_enf_aparato_urinario  enf_circulacion_pulmonar_enf_corazon  \\\n",
       "0                       0.9                                   0.0   \n",
       "1                       0.9                                   0.0   \n",
       "2                       0.9                                   0.0   \n",
       "3                       0.9                                   0.0   \n",
       "4                       0.9                                   0.0   \n",
       "\n",
       "   malformaciones_congenitas  fiebre_y_enf_cardiacas_reumaticas  imc  label  \n",
       "0                        1.0                                1.0  1.0      0  \n",
       "1                        1.0                                1.0  1.0      0  \n",
       "2                        1.0                                1.0  1.0      0  \n",
       "3                        1.0                                1.0  1.0      1  \n",
       "4                        1.0                                1.0  1.0      0  \n",
       "\n",
       "[5 rows x 138 columns]"
      ]
     },
     "execution_count": 57,
     "metadata": {},
     "output_type": "execute_result"
    }
   ],
   "source": [
    "df = utils.load_df(\"../Data/feature_selection.pkl\")\n",
    "df.head(5)"
   ]
  },
  {
   "cell_type": "code",
   "execution_count": 58,
   "metadata": {},
   "outputs": [
    {
     "name": "stdout",
     "output_type": "stream",
     "text": [
      "<class 'pandas.core.frame.DataFrame'>\n",
      "RangeIndex: 154 entries, 0 to 153\n",
      "Columns: 138 entries, ventana to label\n",
      "dtypes: float64(137), int64(1)\n",
      "memory usage: 166.2 KB\n"
     ]
    }
   ],
   "source": [
    "df.info()"
   ]
  },
  {
   "cell_type": "code",
   "execution_count": 59,
   "metadata": {},
   "outputs": [
    {
     "name": "stdout",
     "output_type": "stream",
     "text": [
      "(154, 137)\n",
      "(154, 1)\n"
     ]
    }
   ],
   "source": [
    "X = df.loc[:, df.columns != 'label']\n",
    "print(X.shape)\n",
    "Y = df[[\"label\"]]\n",
    "print(Y.shape)"
   ]
  },
  {
   "cell_type": "code",
   "execution_count": 60,
   "metadata": {},
   "outputs": [],
   "source": [
    "X_train,X_test,y_train,y_test = train_test_split(X,Y,test_size=0.3)"
   ]
  },
  {
   "cell_type": "markdown",
   "metadata": {},
   "source": [
    "### 3. Magic Loop\n",
    "\n",
    "- Diccionario de algoritmos a aplicar"
   ]
  },
  {
   "cell_type": "code",
   "execution_count": 61,
   "metadata": {},
   "outputs": [],
   "source": [
    "algorithms_dict = {'tree': 'tree_grid_search',\n",
    "                   'random_forest': 'rf_grid_search',\n",
    "                   'logistic': 'logistic_grid_search',\n",
    "                   'xgboost': 'xgboost_grid_search'}"
   ]
  },
  {
   "cell_type": "markdown",
   "metadata": {},
   "source": [
    "- Diccionario de configuraciones"
   ]
  },
  {
   "cell_type": "code",
   "execution_count": 62,
   "metadata": {},
   "outputs": [],
   "source": [
    "grid_search_dict = {\n",
    "                        'tree_grid_search': {\n",
    "                            'max_depth': [5, 10, 15],\n",
    "                            'min_samples_leaf': [3, 5, 7]\n",
    "                        },\n",
    "                        'rf_grid_search': {\n",
    "                            'n_estimators': [30, 50, 100],\n",
    "                            'max_depth': [5, 10, 15],\n",
    "                            'min_samples_leaf': [3, 5, 10]\n",
    "                        },\n",
    "                        'logistic_grid_search':{\n",
    "                            'C':np.logspace(-3,3,7),\n",
    "                            'penalty':['l2']\n",
    "                        },\n",
    "                        'xgboost_grid_search':{\n",
    "                            'max_depth': range (2, 10, 1),\n",
    "                            'n_estimators': range(60, 220, 40),\n",
    "                            'learning_rate': [0.1, 0.01, 0.05]\n",
    "                        }\n",
    "                    }"
   ]
  },
  {
   "cell_type": "markdown",
   "metadata": {},
   "source": [
    "- Diccionario de estimadores"
   ]
  },
  {
   "cell_type": "code",
   "execution_count": 63,
   "metadata": {},
   "outputs": [],
   "source": [
    "from xgboost import XGBClassifier"
   ]
  },
  {
   "cell_type": "code",
   "execution_count": 64,
   "metadata": {},
   "outputs": [],
   "source": [
    "from sklearn.tree import DecisionTreeClassifier\n",
    "estimators_dict = {'tree': DecisionTreeClassifier(random_state=1111),\n",
    "                   'random_forest': RandomForestClassifier(oob_score=True, random_state=2222),\n",
    "                   'logistic': LogisticRegression(random_state=3333),\n",
    "                   'xgboost': XGBClassifier(objective= 'binary:logistic',nthread=4,seed=42)\n",
    "                  } "
   ]
  },
  {
   "cell_type": "code",
   "execution_count": 65,
   "metadata": {},
   "outputs": [],
   "source": [
    "def magic_loop(algorithms, features, labels):\n",
    "    best_estimators = []\n",
    "    for algorithm in algorithms:\n",
    "        estimator = estimators_dict[algorithm]\n",
    "        grid_search_to_look = algorithms_dict[algorithm]\n",
    "        grid_params = grid_search_dict[grid_search_to_look]\n",
    "        #tscv = TimeSeriesSplit(n_splits=5)\n",
    "        \n",
    "        #gs = GridSearchCV(estimator, grid_params, scoring='precision', cv=5, n_jobs=-1)\n",
    "        gs = GridSearchCV(estimator, grid_params, scoring='roc_auc', cv=5, n_jobs=-1)\n",
    "        \n",
    "        #train\n",
    "        gs.fit(features, labels)\n",
    "        #best estimator\n",
    "        best_estimators.append(gs)\n",
    "        \n",
    "        \n",
    "    return best_estimators"
   ]
  },
  {
   "cell_type": "code",
   "execution_count": 66,
   "metadata": {},
   "outputs": [],
   "source": [
    "#scoring_met= 'recall'\n",
    "algorithms = ['tree', 'random_forest','logistic','xgboost']\n",
    "models = []\n",
    "start_time = time.time()\n",
    "models_list = []"
   ]
  },
  {
   "cell_type": "code",
   "execution_count": 67,
   "metadata": {},
   "outputs": [
    {
     "data": {
      "text/plain": [
       "['ventana',\n",
       " 'max_altura',\n",
       " 'min_preglucosa',\n",
       " 'num_med_preglucosa',\n",
       " 'max_edad',\n",
       " 'min_edad',\n",
       " 'max_dif_vent_entre_consul',\n",
       " 'max_sistolica_a',\n",
       " 'avg_preglucosa',\n",
       " 'avg_edad',\n",
       " 'max_preglucosa',\n",
       " 'avg_enf_endocrinas',\n",
       " 'avg_altura',\n",
       " 'avg_sistolica_a',\n",
       " 'avg_vent_entre_consul',\n",
       " 'avg_peso',\n",
       " 'min_altura',\n",
       " 'max_peso',\n",
       " 'num_med_presion_a',\n",
       " 'min_peso',\n",
       " 'sum_num_consultas',\n",
       " 'avg_dif_imc_calculado',\n",
       " 'min_sistolica_a',\n",
       " 'min_dif_imc_calculado',\n",
       " 'num_med_altura',\n",
       " 'avg_diastolica_a',\n",
       " 'max_dif_imc_calculado',\n",
       " 'dm',\n",
       " 'min_dif_vent_entre_consul',\n",
       " 'num_med_sintomas_signos_hallazgos_anormales_clin_lab_no_clasif',\n",
       " 'num_med_edad',\n",
       " 'min_diastolica_a',\n",
       " 'num_med_imc_calculado',\n",
       " 'avg_num_consultas_by_year',\n",
       " 'num_med_comp_precoces_traumatismos',\n",
       " 'avg_trastornos_sist_genitourinario_consec_proced',\n",
       " 'num_med_enf_sist_nervioso',\n",
       " 'num_med_peso',\n",
       " 'num_med_tumores_malig_org_respiratorios_intratoracicos',\n",
       " 'num_med_colesterol',\n",
       " 'avg_fiebre_y_enf_cardiacas_reumaticas',\n",
       " 'avg_enf_sist_nervioso',\n",
       " 'colesterol',\n",
       " 'avg_enf_sist_osteomuscular_y_tejido',\n",
       " 'num_med_vent_entre_consul',\n",
       " 'avg_tumores_insitu',\n",
       " 'max_diastolica_a',\n",
       " 'num_med_sindrome_maltrato',\n",
       " 'num_med_fiebre_y_enf_cardiacas_reumaticas',\n",
       " 'avg_malformaciones_congenitas',\n",
       " 'avg_sintomas_signos_hallazgos_anormales_clin_lab_no_clasif',\n",
       " 'num_med_enf_sist_osteomuscular_y_tejido',\n",
       " 'min_creatinina',\n",
       " 'max_trigliceridos',\n",
       " 'num_med_enf_cerebrovasculares',\n",
       " 'min_colesterol',\n",
       " 'avg_tumores_malig_sitios_mul_indep',\n",
       " 'num_med_dif_date_lab',\n",
       " 'num_med_trastornos_sist_genitourinario_consec_proced',\n",
       " 'num_med_enf_inf_intestinales',\n",
       " 'genero__x0_',\n",
       " 'genero__x0_F',\n",
       " 'genero__x0_M',\n",
       " 'num_med_malformaciones_congenitas',\n",
       " 'trastornos_mama',\n",
       " 'num_med_tumores_insitu',\n",
       " 'avg_comp_precoces_traumatismos',\n",
       " 'num_med_tumores_malig_sitios_mul_indep',\n",
       " 'enf_sist_osteomuscular_y_tejido',\n",
       " 'avg_tumores_malig_org_respiratorios_intratoracicos',\n",
       " 'avg_enf_inf_intestinales',\n",
       " 'min_dif_vent_entre_lab',\n",
       " 'avg_trigliceridos',\n",
       " 'max_colesterol',\n",
       " 'min_trigliceridos',\n",
       " 'imc_r__x0_Bajo peso',\n",
       " 'imc_r__x0_Obesidad Grado 1',\n",
       " 'imc_r__x0_Obesidad Grado 2',\n",
       " 'imc_r__x0_Obesidad Grado 3',\n",
       " 'imc_r__x0_Peso normal',\n",
       " 'imc_r__x0_Sin dato',\n",
       " 'imc_r__x0_Sobrepeso',\n",
       " 'avg_colesterol',\n",
       " 'avg_enf_cerebrovasculares',\n",
       " 'preglucosa',\n",
       " 'avg_sindrome_maltrato',\n",
       " 'creatinina',\n",
       " 'max_creatinina',\n",
       " 'ot_enf_inf_y_paras_y_efec_tardios',\n",
       " 'avg_vent_entre_lab',\n",
       " 'num_med_enf_ot_partes_aparato_digestivo',\n",
       " 'enf_aparato_urinario',\n",
       " 'num_med_enf_aparato_urinario',\n",
       " 'max_postglucosa',\n",
       " 'num_med_enf_endocrinas',\n",
       " 'avg_creatinina',\n",
       " 'trigliceridos',\n",
       " 'num_med_trigliceridos',\n",
       " 'postglucosa',\n",
       " 'vent_entre_consul',\n",
       " 'tfg',\n",
       " 'vent_entre_lab',\n",
       " 'num_med_acido_urico',\n",
       " 'enf_endocrinas',\n",
       " 'num_med_urea',\n",
       " 'num_med_creatinina',\n",
       " 'edad',\n",
       " 'enf_sist_nervioso',\n",
       " 'enf_org_genitales_masculinos',\n",
       " 'max_dif_vent_entre_lab',\n",
       " 'tumores_insitu',\n",
       " 'trastornos_sist_genitourinario_consec_proced',\n",
       " 'num_med_hba1c',\n",
       " 'avg_urea',\n",
       " 'max_hba1c',\n",
       " 'min_postglucosa',\n",
       " 'min_dif_date_lab',\n",
       " 'enf_inf_intestinales',\n",
       " 'hba1c',\n",
       " 'tumores_malig_sitios_mul_indep',\n",
       " 'avg_enf_org_genitales_masculinos',\n",
       " 'enf_viricas',\n",
       " 'enf_cerebrovasculares',\n",
       " 'sintomas_signos_hallazgos_anormales_clin_lab_no_clasif',\n",
       " 'max_dif_date_lab',\n",
       " 'sindrome_maltrato',\n",
       " 'num_med_tumores_malig_huesos_articulares_conjuntivo_piel_mama',\n",
       " 'enf_ot_partes_aparato_digestivo',\n",
       " 'tumores_benignos',\n",
       " 'hdl',\n",
       " 'altura',\n",
       " 'comp_precoces_traumatismos',\n",
       " 'avg_enf_aparato_urinario',\n",
       " 'enf_circulacion_pulmonar_enf_corazon',\n",
       " 'malformaciones_congenitas',\n",
       " 'fiebre_y_enf_cardiacas_reumaticas',\n",
       " 'imc']"
      ]
     },
     "execution_count": 67,
     "metadata": {},
     "output_type": "execute_result"
    }
   ],
   "source": [
    "X_train.columns.values.tolist()"
   ]
  },
  {
   "cell_type": "code",
   "execution_count": 68,
   "metadata": {},
   "outputs": [
    {
     "name": "stdout",
     "output_type": "stream",
     "text": [
      "Selección de variables completada satisfactoriamente en  3760.5381116867065  segundos\n"
     ]
    }
   ],
   "source": [
    "best = magic_loop(algorithms, X_train, y_train)\n",
    "print(\"Selección de variables completada satisfactoriamente en \", time.time() - start_time, ' segundos')"
   ]
  },
  {
   "cell_type": "code",
   "execution_count": 69,
   "metadata": {},
   "outputs": [
    {
     "data": {
      "text/plain": [
       "DecisionTreeClassifier(max_depth=5, min_samples_leaf=7, random_state=1111)"
      ]
     },
     "execution_count": 69,
     "metadata": {},
     "output_type": "execute_result"
    }
   ],
   "source": [
    "model = best[0].best_estimator_\n",
    "model"
   ]
  },
  {
   "cell_type": "code",
   "execution_count": 70,
   "metadata": {},
   "outputs": [],
   "source": [
    "utils.save_df(model, \"../output/best_model.pkl\")"
   ]
  },
  {
   "cell_type": "markdown",
   "metadata": {},
   "source": [
    "### 4. Evaluando modelo"
   ]
  },
  {
   "cell_type": "code",
   "execution_count": 71,
   "metadata": {},
   "outputs": [],
   "source": [
    "from sklearn.metrics import roc_curve, roc_auc_score\n",
    "\n",
    "from sklearn.metrics import accuracy_score, precision_recall_curve, precision_score, recall_score\n",
    "import matplotlib.pyplot as plt"
   ]
  },
  {
   "cell_type": "code",
   "execution_count": 72,
   "metadata": {},
   "outputs": [],
   "source": [
    "predicted_labels = model.predict(X_test)\n",
    "predicted_scores = model.predict_proba(X_test)"
   ]
  },
  {
   "cell_type": "code",
   "execution_count": 73,
   "metadata": {},
   "outputs": [
    {
     "data": {
      "image/png": "[encoded data removed]",
      "text/plain": [
       "<Figure size 432x288 with 1 Axes>"
      ]
     },
     "metadata": {
      "needs_background": "light"
     },
     "output_type": "display_data"
    }
   ],
   "source": [
    "### Curva ROC\n",
    "plt.figure()\n",
    "fpr, tpr, thresholds = roc_curve(y_test, predicted_scores[:, 1], pos_label=1)\n",
    "plt.clf()\n",
    "plt.plot([0, 1], [0, 1], 'k--', c=\"red\")\n",
    "plt.plot(fpr, tpr)\n",
    "plt.title(\"ROC best RF, AUC: {}\".format(roc_auc_score(y_test, predicted_labels)))\n",
    "plt.xlabel(\"fpr\")\n",
    "plt.ylabel(\"tpr\")\n",
    "#plt.savefig('../output/ROC_curve.png', bbox_inches='tight')\n",
    "plt.show()"
   ]
  },
  {
   "cell_type": "code",
   "execution_count": 74,
   "metadata": {},
   "outputs": [],
   "source": [
    "def get_metrics_report(fpr, tpr, thresholds, precision, recall, thresholds_2):\n",
    "    df_1 = pd.DataFrame({'threshold': thresholds_2, 'precision': precision,\n",
    "                         'recall': recall})\n",
    "    df_1['f1_score'] = 2 * (df_1.precision * df_1.recall) / (df_1.precision + df_1.recall)\n",
    "\n",
    "    df_2 = pd.DataFrame({'tpr': tpr, 'fpr': fpr, 'threshold': thresholds})\n",
    "    df_2['tnr'] = 1 - df_2['fpr']\n",
    "    df_2['fnr'] = 1 - df_2['tpr']\n",
    "\n",
    "    df = df_1.merge(df_2, on=\"threshold\")\n",
    "\n",
    "    return df"
   ]
  },
  {
   "cell_type": "code",
   "execution_count": 75,
   "metadata": {},
   "outputs": [
    {
     "data": {
      "image/png": "[encoded data removed]",
      "text/plain": [
       "<Figure size 432x288 with 1 Axes>"
      ]
     },
     "metadata": {
      "needs_background": "light"
     },
     "output_type": "display_data"
    }
   ],
   "source": [
    "# Generando métricas\n",
    "precision, recall, thresholds_2 = precision_recall_curve(y_test, predicted_scores[:, 1], pos_label=1)\n",
    "thresholds_2 = np.append(thresholds_2, 1)\n",
    "metrics_report = get_metrics_report(fpr, tpr, thresholds, precision, recall, thresholds_2)\n",
    "#save_metrics(metrics_report, '../output/metricas_offline.pkl')\n",
    "\n",
    "# Curva: Precision-recall\n",
    "plt.figure()\n",
    "plt.plot(metrics_report['threshold'], metrics_report['precision'], 'k--', c=\"red\", label='precision')\n",
    "plt.plot(metrics_report['threshold'], metrics_report['recall'], 'k--', c=\"blue\", label='recall')\n",
    "plt.xlabel('threshold')\n",
    "plt.ylim([0, 1])\n",
    "plt.legend(bbox_to_anchor=(1, 1), fontsize=12)\n",
    "plt.savefig('../output/recall_precision.png', bbox_inches='tight')\n",
    "#plt.show()"
   ]
  },
  {
   "cell_type": "code",
   "execution_count": 76,
   "metadata": {},
   "outputs": [],
   "source": [
    "# Curva: recall-precision @k\n",
    "data_junta = pd.concat([X_test, y_test], axis=1)\n",
    "data_filtrada = data_junta\n",
    "datos_finales_X = pd.DataFrame(data_filtrada.drop(['label'], axis=1))\n",
    "y_true = data_filtrada.label\n",
    "y_scores = model.predict_proba(datos_finales_X)"
   ]
  },
  {
   "cell_type": "code",
   "execution_count": 77,
   "metadata": {},
   "outputs": [],
   "source": [
    "def param_graf(y_true, y_scores):\n",
    "    k_values = np.linspace(0, 0.99, 100)\n",
    "    lista = []\n",
    "\n",
    "    for k in k_values:\n",
    "        p_k = precision_at_k(y_true, pd.DataFrame(y_scores)[1], k)\n",
    "        r_k = recall_at_k(y_true, pd.DataFrame(y_scores)[1], k)\n",
    "        lista = lista + [[p_k, r_k, k]]\n",
    "\n",
    "    p_r_g = pd.DataFrame(lista, columns=[\"p_k\", \"r_k\", \"k\"])\n",
    "\n",
    "    return p_r_g\n",
    "\n",
    "def precision_at_k(y_true, y_scores, k):\n",
    "    threshold = np.sort(y_scores)[::-1][int(k * len(y_scores))]\n",
    "    y_pred = np.asarray([1 if i >= threshold else 0 for i in y_scores])\n",
    "\n",
    "    return precision_score(y_true, y_pred)\n",
    "\n",
    "def recall_at_k(y_true, y_scores, k):\n",
    "    threshold = np.sort(y_scores)[::-1][int(k * len(y_scores))]\n",
    "    y_pred = np.asarray([1 if i >= threshold else 0 for i in y_scores])\n",
    "\n",
    "    return recall_score(y_true, y_pred)"
   ]
  },
  {
   "cell_type": "code",
   "execution_count": 78,
   "metadata": {},
   "outputs": [
    {
     "data": {
      "image/png": "[encoded data removed]",
      "text/plain": [
       "<Figure size 432x288 with 1 Axes>"
      ]
     },
     "metadata": {
      "needs_background": "light"
     },
     "output_type": "display_data"
    }
   ],
   "source": [
    "p_r_g = param_graf(y_true, y_scores)\n",
    "\n",
    "plt.figure()\n",
    "plt.plot(p_r_g[\"k\"], p_r_g[\"p_k\"], label=\"P\")\n",
    "plt.plot(p_r_g[\"k\"], p_r_g[\"r_k\"], label=\"R\")\n",
    "plt.title(\"Precision and recall at k%: PA\")\n",
    "plt.axvline(x=0.037, c='red', linestyle='--')\n",
    "plt.ylabel(\"Mejor valor\")\n",
    "plt.legend(['Precision', 'Recall'])\n",
    "plt.xlabel(\"%k\")\n",
    "plt.savefig('../output/recall_precision_k.png', bbox_inches='tight')\n",
    "#plt.show()"
   ]
  },
  {
   "cell_type": "code",
   "execution_count": null,
   "metadata": {},
   "outputs": [],
   "source": []
  }
 ],
 "metadata": {
  "kernelspec": {
   "display_name": "Python 3",
   "language": "python",
   "name": "python3"
  },
  "language_info": {
   "codemirror_mode": {
    "name": "ipython",
    "version": 3
   },
   "file_extension": ".py",
   "mimetype": "text/x-python",
   "name": "python",
   "nbconvert_exporter": "python",
   "pygments_lexer": "ipython3",
   "version": "3.7.4"
  }
 },
 "nbformat": 4,
 "nbformat_minor": 4
}
