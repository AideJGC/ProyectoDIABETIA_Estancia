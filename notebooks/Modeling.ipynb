{
 "cells": [
  {
   "cell_type": "markdown",
   "metadata": {},
   "source": [
    "# Modeling\n",
    "## Estancia de investigación Maestría de Ciencia de Datos\n",
    "## Aide Jazmín González Cruz\n",
    "\n",
    "### 1. Carga de librerías"
   ]
  },
  {
   "cell_type": "code",
   "execution_count": 1,
   "metadata": {},
   "outputs": [],
   "source": [
    "import pandas as pd\n",
    "import numpy as np\n",
    "from sklearn.model_selection import GridSearchCV, TimeSeriesSplit, train_test_split\n",
    "from sklearn.ensemble import RandomForestClassifier\n",
    "from sklearn.preprocessing import MinMaxScaler, OneHotEncoder, KBinsDiscretizer\n",
    "from sklearn.compose import ColumnTransformer\n",
    "from sklearn.base import BaseEstimator,TransformerMixin\n",
    "from sklearn.linear_model import LogisticRegression\n",
    "from sklearn.tree import DecisionTreeClassifier\n",
    "#from siuba import *\n",
    "import time\n",
    "from time import gmtime, strftime\n",
    "\n",
    "import sys\n",
    "import os\n",
    "from os.path import dirname\n",
    "from datetime import datetime\n",
    "import warnings\n",
    "warnings.filterwarnings('ignore')\n",
    "sys.path.append(dirname('../src'))\n",
    "from src.utils import utils\n"
   ]
  },
  {
   "cell_type": "markdown",
   "metadata": {},
   "source": [
    "### 2. Carga de features y división de datos de entrenamiento y validación"
   ]
  },
  {
   "cell_type": "code",
   "execution_count": 2,
   "metadata": {},
   "outputs": [
    {
     "data": {
      "text/html": [
       "<div>\n",
       "<style scoped>\n",
       "    .dataframe tbody tr th:only-of-type {\n",
       "        vertical-align: middle;\n",
       "    }\n",
       "\n",
       "    .dataframe tbody tr th {\n",
       "        vertical-align: top;\n",
       "    }\n",
       "\n",
       "    .dataframe thead th {\n",
       "        text-align: right;\n",
       "    }\n",
       "</style>\n",
       "<table border=\"1\" class=\"dataframe\">\n",
       "  <thead>\n",
       "    <tr style=\"text-align: right;\">\n",
       "      <th></th>\n",
       "      <th>dm_años_int</th>\n",
       "      <th>enf_endocrinas</th>\n",
       "      <th>min_preglucosa</th>\n",
       "      <th>año_dx_dm</th>\n",
       "      <th>num_med</th>\n",
       "      <th>num_med_preglucosa</th>\n",
       "      <th>num_med_presion_a</th>\n",
       "      <th>avg_num_consultas_by_year</th>\n",
       "      <th>ventana</th>\n",
       "      <th>dm</th>\n",
       "      <th>...</th>\n",
       "      <th>comp_aten_med_qx_no_clasif</th>\n",
       "      <th>enf_viricas</th>\n",
       "      <th>ANTITIROIDEOS</th>\n",
       "      <th>presion_arterial</th>\n",
       "      <th>g13</th>\n",
       "      <th>enf_cavidad_bucal_glandulas_salivales</th>\n",
       "      <th>tumores_malig_huesos_articulares_conjuntivo_piel_mama</th>\n",
       "      <th>tumores_malig_org_genitourinarios</th>\n",
       "      <th>hdl</th>\n",
       "      <th>label</th>\n",
       "    </tr>\n",
       "  </thead>\n",
       "  <tbody>\n",
       "    <tr>\n",
       "      <th>0</th>\n",
       "      <td>0.375000</td>\n",
       "      <td>1.0</td>\n",
       "      <td>47.0</td>\n",
       "      <td>1998.0</td>\n",
       "      <td>26.0</td>\n",
       "      <td>14.0</td>\n",
       "      <td>26.0</td>\n",
       "      <td>13.0</td>\n",
       "      <td>1.0</td>\n",
       "      <td>1.0</td>\n",
       "      <td>...</td>\n",
       "      <td>0.0</td>\n",
       "      <td>0.0</td>\n",
       "      <td>0.0</td>\n",
       "      <td>1.0</td>\n",
       "      <td>0.0</td>\n",
       "      <td>0.0</td>\n",
       "      <td>0.0</td>\n",
       "      <td>0.0</td>\n",
       "      <td>0.0</td>\n",
       "      <td>1</td>\n",
       "    </tr>\n",
       "    <tr>\n",
       "      <th>1</th>\n",
       "      <td>1.190476</td>\n",
       "      <td>1.0</td>\n",
       "      <td>67.0</td>\n",
       "      <td>1998.0</td>\n",
       "      <td>21.0</td>\n",
       "      <td>8.0</td>\n",
       "      <td>21.0</td>\n",
       "      <td>10.5</td>\n",
       "      <td>2.0</td>\n",
       "      <td>1.0</td>\n",
       "      <td>...</td>\n",
       "      <td>0.0</td>\n",
       "      <td>0.0</td>\n",
       "      <td>0.0</td>\n",
       "      <td>1.0</td>\n",
       "      <td>0.0</td>\n",
       "      <td>0.0</td>\n",
       "      <td>0.0</td>\n",
       "      <td>0.0</td>\n",
       "      <td>0.0</td>\n",
       "      <td>1</td>\n",
       "    </tr>\n",
       "    <tr>\n",
       "      <th>2</th>\n",
       "      <td>2.409091</td>\n",
       "      <td>1.0</td>\n",
       "      <td>62.0</td>\n",
       "      <td>1998.0</td>\n",
       "      <td>22.0</td>\n",
       "      <td>10.0</td>\n",
       "      <td>21.0</td>\n",
       "      <td>11.0</td>\n",
       "      <td>3.0</td>\n",
       "      <td>1.0</td>\n",
       "      <td>...</td>\n",
       "      <td>0.0</td>\n",
       "      <td>0.0</td>\n",
       "      <td>0.0</td>\n",
       "      <td>1.0</td>\n",
       "      <td>1.0</td>\n",
       "      <td>0.0</td>\n",
       "      <td>0.0</td>\n",
       "      <td>0.0</td>\n",
       "      <td>0.0</td>\n",
       "      <td>1</td>\n",
       "    </tr>\n",
       "    <tr>\n",
       "      <th>3</th>\n",
       "      <td>3.291667</td>\n",
       "      <td>1.0</td>\n",
       "      <td>46.0</td>\n",
       "      <td>1998.0</td>\n",
       "      <td>24.0</td>\n",
       "      <td>14.0</td>\n",
       "      <td>23.0</td>\n",
       "      <td>12.0</td>\n",
       "      <td>4.0</td>\n",
       "      <td>1.0</td>\n",
       "      <td>...</td>\n",
       "      <td>0.0</td>\n",
       "      <td>0.0</td>\n",
       "      <td>1.0</td>\n",
       "      <td>1.0</td>\n",
       "      <td>1.0</td>\n",
       "      <td>1.0</td>\n",
       "      <td>0.0</td>\n",
       "      <td>0.0</td>\n",
       "      <td>1.0</td>\n",
       "      <td>1</td>\n",
       "    </tr>\n",
       "    <tr>\n",
       "      <th>4</th>\n",
       "      <td>1.709221</td>\n",
       "      <td>0.0</td>\n",
       "      <td>108.0</td>\n",
       "      <td>1999.0</td>\n",
       "      <td>25.0</td>\n",
       "      <td>9.0</td>\n",
       "      <td>21.0</td>\n",
       "      <td>12.5</td>\n",
       "      <td>1.0</td>\n",
       "      <td>1.0</td>\n",
       "      <td>...</td>\n",
       "      <td>0.0</td>\n",
       "      <td>0.0</td>\n",
       "      <td>0.0</td>\n",
       "      <td>1.0</td>\n",
       "      <td>0.0</td>\n",
       "      <td>0.0</td>\n",
       "      <td>0.0</td>\n",
       "      <td>0.0</td>\n",
       "      <td>0.0</td>\n",
       "      <td>0</td>\n",
       "    </tr>\n",
       "  </tbody>\n",
       "</table>\n",
       "<p>5 rows × 207 columns</p>\n",
       "</div>"
      ],
      "text/plain": [
       "   dm_años_int  enf_endocrinas  min_preglucosa  año_dx_dm  num_med  \\\n",
       "0     0.375000             1.0            47.0     1998.0     26.0   \n",
       "1     1.190476             1.0            67.0     1998.0     21.0   \n",
       "2     2.409091             1.0            62.0     1998.0     22.0   \n",
       "3     3.291667             1.0            46.0     1998.0     24.0   \n",
       "4     1.709221             0.0           108.0     1999.0     25.0   \n",
       "\n",
       "   num_med_preglucosa  num_med_presion_a  avg_num_consultas_by_year  ventana  \\\n",
       "0                14.0               26.0                       13.0      1.0   \n",
       "1                 8.0               21.0                       10.5      2.0   \n",
       "2                10.0               21.0                       11.0      3.0   \n",
       "3                14.0               23.0                       12.0      4.0   \n",
       "4                 9.0               21.0                       12.5      1.0   \n",
       "\n",
       "    dm  ...  comp_aten_med_qx_no_clasif  enf_viricas  ANTITIROIDEOS  \\\n",
       "0  1.0  ...                         0.0          0.0            0.0   \n",
       "1  1.0  ...                         0.0          0.0            0.0   \n",
       "2  1.0  ...                         0.0          0.0            0.0   \n",
       "3  1.0  ...                         0.0          0.0            1.0   \n",
       "4  1.0  ...                         0.0          0.0            0.0   \n",
       "\n",
       "   presion_arterial  g13  enf_cavidad_bucal_glandulas_salivales  \\\n",
       "0               1.0  0.0                                    0.0   \n",
       "1               1.0  0.0                                    0.0   \n",
       "2               1.0  1.0                                    0.0   \n",
       "3               1.0  1.0                                    1.0   \n",
       "4               1.0  0.0                                    0.0   \n",
       "\n",
       "   tumores_malig_huesos_articulares_conjuntivo_piel_mama  \\\n",
       "0                                                0.0       \n",
       "1                                                0.0       \n",
       "2                                                0.0       \n",
       "3                                                0.0       \n",
       "4                                                0.0       \n",
       "\n",
       "   tumores_malig_org_genitourinarios  hdl  label  \n",
       "0                                0.0  0.0      1  \n",
       "1                                0.0  0.0      1  \n",
       "2                                0.0  0.0      1  \n",
       "3                                0.0  1.0      1  \n",
       "4                                0.0  0.0      0  \n",
       "\n",
       "[5 rows x 207 columns]"
      ]
     },
     "execution_count": 2,
     "metadata": {},
     "output_type": "execute_result"
    }
   ],
   "source": [
    "df = utils.load_df(\"../Data/feature_sel.pkl\")\n",
    "df.head(5)"
   ]
  },
  {
   "cell_type": "code",
   "execution_count": 3,
   "metadata": {},
   "outputs": [
    {
     "data": {
      "text/plain": [
       "['dm_años_int',\n",
       " 'enf_endocrinas',\n",
       " 'min_preglucosa',\n",
       " 'año_dx_dm',\n",
       " 'num_med',\n",
       " 'num_med_preglucosa',\n",
       " 'num_med_presion_a',\n",
       " 'avg_num_consultas_by_year',\n",
       " 'ventana',\n",
       " 'dm',\n",
       " 'sum_num_consultas',\n",
       " 'avg_preglucosa',\n",
       " 'trigliceridos',\n",
       " 'edad_range',\n",
       " 'avg_diastolica_a',\n",
       " 'avg_num_med',\n",
       " 'colesterol',\n",
       " 'max_preglucosa',\n",
       " 'avg_colesterol',\n",
       " 'avg_sistolica_a',\n",
       " 'E70_E90',\n",
       " 'max_num_med',\n",
       " 'avg_trigliceridos',\n",
       " 'min_sistolica_a',\n",
       " 'max_colesterol',\n",
       " 'max_sistolica_a',\n",
       " 'min_colesterol',\n",
       " 'fn_sistolica_a',\n",
       " 'ANALGESICOS',\n",
       " 'epoca_nac',\n",
       " 'ANTIANEMICOS',\n",
       " 'ANTIDIABETICOS',\n",
       " 'max_diastolica_a',\n",
       " 'num_med_trigliceridos',\n",
       " 'min_diastolica_a',\n",
       " 'fn_diastolica_a',\n",
       " 'imc_range',\n",
       " 'max_trigliceridos',\n",
       " 'postglucosa',\n",
       " 'HIPOLIPEMIANTES',\n",
       " 'num_med_colesterol',\n",
       " 'ANTIGOTOSOS',\n",
       " 'min_trigliceridos',\n",
       " 'ANTITUSIGENOS',\n",
       " 'EXPECTORANTES',\n",
       " 'g23',\n",
       " 'ANTIMICROBIANOS',\n",
       " 'enf_aparato_urinario',\n",
       " 'ANSIOLITICOS',\n",
       " 'max_postglucosa',\n",
       " 'E65_E68',\n",
       " 'g6',\n",
       " 'sexo',\n",
       " 'enf_sist_osteomuscular_y_tejido',\n",
       " 'g5',\n",
       " 'DIURETICOS',\n",
       " 'g8',\n",
       " 'preglucosa',\n",
       " 'MINERALES',\n",
       " 'ANTIDEPRESIVOS',\n",
       " 'ANTIEPILEPTICOS',\n",
       " 'ANTIRREUMATICOS',\n",
       " 'PROCINETICOS GASTROINTESTINALES',\n",
       " 'ot_enf_inf_y_paras_y_efec_tardios',\n",
       " 'ANTIALERGICOS',\n",
       " 'enf_ot_partes_aparato_digestivo',\n",
       " 'ANTIMICOTICOS',\n",
       " 'avg_creatinina',\n",
       " 'ANESTESICOS LOCALES',\n",
       " 'GLUCOSIDOS CARDIACOS',\n",
       " 'CORTICOSTEROIDES',\n",
       " 'max_creatinina',\n",
       " 'min_creatinina',\n",
       " 'ANTIULCEROSOS',\n",
       " 'avg_postglucosa',\n",
       " 'ADYUVANTES DE LA ANALGESIA',\n",
       " 'ANTIINFLAMATORIOS',\n",
       " 'OFTALMICOS',\n",
       " 'trastornos_mentales',\n",
       " 'creatinina',\n",
       " 'OTROS INOTROPICOS POSITIVOS',\n",
       " 'ANTIHISTAMINICOS',\n",
       " 'ANTIDIARREICOS',\n",
       " 'max_tfg',\n",
       " 'min_postglucosa',\n",
       " 'acido_urico',\n",
       " 'VITAMINAS',\n",
       " 'avg_tfg',\n",
       " 'ANTIESPASMODICOS',\n",
       " 'ANTICOLINERGICOS',\n",
       " 'num_med_postglucosa',\n",
       " 'enf_inf_intestinales',\n",
       " 'max_hba1c',\n",
       " 'ANTISEPTICOS URINARIOS',\n",
       " 'O24',\n",
       " 'ANTIACIDOS',\n",
       " 'comp_precoces_traumatismos',\n",
       " 'g14',\n",
       " 'SEDANTES HIPNOTICOS',\n",
       " 'DERMATOLOGICOS',\n",
       " 'ANTIEMETICOS',\n",
       " 'num_med_creatinina',\n",
       " 'trastornos_mama',\n",
       " 'sindrome_maltrato',\n",
       " 'ANTIARTRITICOS',\n",
       " 'map_g',\n",
       " 'E12',\n",
       " 'ANTIOSTEOPOROSICOS',\n",
       " 'malformaciones_congenitas',\n",
       " 'E14',\n",
       " 'tumores_malig_sitios_mul_indep',\n",
       " 'ELECTROLITOS ORALES',\n",
       " 'BRONCODILATADORES',\n",
       " 'ANTIPROTOZOARIOS',\n",
       " 'enf_org_genitales_femeninos',\n",
       " 'min_acido_urico',\n",
       " 'ANTIHELMINTICOS',\n",
       " 'HEMATOPOYETICOS',\n",
       " 'enf_ojo_anexos',\n",
       " 'sintomas_signos_hallazgos_anormales_clin_lab_no_clasif',\n",
       " 'g3',\n",
       " 'num_med_hba1c',\n",
       " 'ACIDIFICANTES DE LAS VIAS URINARIAS',\n",
       " 'num_med_acido_urico',\n",
       " 'min_hba1c',\n",
       " 'O22',\n",
       " 'ANTIASMATICOS',\n",
       " 'g9',\n",
       " 'max_acido_urico',\n",
       " 'g12',\n",
       " 'I6_I8',\n",
       " 'enf_cerebrovasculares',\n",
       " 'trastornos_sist_genitourinario_consec_proced',\n",
       " 'avg_plaquetas',\n",
       " 'SOLUCIONES ELECTROLITICAS',\n",
       " 'fracturas',\n",
       " 'tumores_insitu',\n",
       " 'avg_acido_urico',\n",
       " 'urea',\n",
       " 'g4',\n",
       " 'E13',\n",
       " 'min_urea',\n",
       " 'num_med_tfg',\n",
       " 'E10',\n",
       " 'ADRENERGICOS',\n",
       " 'avg_urea',\n",
       " 'avg_hba1c',\n",
       " 'enf_sangre_org_hematop',\n",
       " 'min_tfg',\n",
       " 'enf_sist_nervioso',\n",
       " 'min_plaquetas',\n",
       " 'max_urea',\n",
       " 'sec_traumatismos_envenenamiento_causas_ext',\n",
       " 'ANTIMIGRANOSOS',\n",
       " 'ANTAGONISTAS',\n",
       " 'otras_enf_aparato_vasc',\n",
       " 'inf_y_enf_vias_respiratorias_sup',\n",
       " 'enf_circulacion_pulmonar_enf_corazon',\n",
       " 'min_hdl',\n",
       " 'num_med_ldl',\n",
       " 'hba1c',\n",
       " 'max_ldl',\n",
       " 'enf_org_genitales_masculinos',\n",
       " 'traumatismos_int_intracraneales_y_otr',\n",
       " 'enf_piel_tejido_subcutaneo',\n",
       " 'HORMONAS',\n",
       " 'avg_hdl',\n",
       " 'min_num_med',\n",
       " 'num_med_plaquetas',\n",
       " 'ANTINEOPLASICOS',\n",
       " 'ANTISEPTICOS',\n",
       " 'g1',\n",
       " 'tumores_malig_org_respiratorios_intratoracicos',\n",
       " 'R0_R4',\n",
       " 'fiebre_y_enf_cardiacas_reumaticas',\n",
       " 'INMUNODEPRESORES',\n",
       " 'ANTIAMEBIANOS',\n",
       " 'renal',\n",
       " 'E0_E64',\n",
       " 'ANTIADRENERGICOS',\n",
       " 'max_plaquetas',\n",
       " 'otras_enf_aparato_resp',\n",
       " 'avg_ldl',\n",
       " 'ANTIPALUDICOS',\n",
       " 'ANTIVIRALES',\n",
       " 'ANTIPARASITARIOS VAGINALES',\n",
       " 'min_ldl',\n",
       " 'tfg',\n",
       " 'max_hdl',\n",
       " 'num_med_urea',\n",
       " 'RELAJANTES MUSCULARES',\n",
       " 'ldl',\n",
       " 'plaquetas',\n",
       " 'g19',\n",
       " 'ANTIPROSTATICOS',\n",
       " 'num_med_hdl',\n",
       " 'g7',\n",
       " 'comp_aten_med_qx_no_clasif',\n",
       " 'enf_viricas',\n",
       " 'ANTITIROIDEOS',\n",
       " 'presion_arterial',\n",
       " 'g13',\n",
       " 'enf_cavidad_bucal_glandulas_salivales',\n",
       " 'tumores_malig_huesos_articulares_conjuntivo_piel_mama',\n",
       " 'tumores_malig_org_genitourinarios',\n",
       " 'hdl',\n",
       " 'label']"
      ]
     },
     "execution_count": 3,
     "metadata": {},
     "output_type": "execute_result"
    }
   ],
   "source": [
    "list(df.columns)"
   ]
  },
  {
   "cell_type": "code",
   "execution_count": 4,
   "metadata": {},
   "outputs": [
    {
     "data": {
      "text/plain": [
       "\"\\ndf = df[['enf_endocrinas',\\n'dm_años_int',\\n'min_preglucosa',\\n'num_med_presion_a',\\n'año_dx_dm',\\n'colesterol',\\n'ventana',\\n'dm',\\n'num_med',\\n'avg_num_med',\\n'avg_num_consultas_by_year',\\n'trigliceridos',\\n'sum_num_consultas',\\n'num_med_preglucosa',\\n'avg_diastolica_a',\\n'avg_preglucosa',\\n'ANTIANEMICOS',\\n'max_preglucosa',\\n'avg_sistolica_a',\\n'num_med_trigliceridos',\\n'edad_range',\\n'E70_E90',\\n'max_sistolica_a',\\n'max_colesterol',\\n'max_num_med',\\n'imc_range',\\n'epoca_nac',\\n'min_colesterol',\\n'fn_sistolica_a',\\n'min_trigliceridos',\\n'ANTIRREUMATICOS',\\n'g8','label']]\\n\""
      ]
     },
     "execution_count": 4,
     "metadata": {},
     "output_type": "execute_result"
    }
   ],
   "source": [
    "\n",
    "\"\"\"\n",
    "df = df[['enf_endocrinas',\n",
    "'dm_años_int',\n",
    "'min_preglucosa',\n",
    "'num_med_presion_a',\n",
    "'año_dx_dm',\n",
    "'colesterol',\n",
    "'ventana',\n",
    "'dm',\n",
    "'num_med',\n",
    "'avg_num_med',\n",
    "'avg_num_consultas_by_year',\n",
    "'trigliceridos',\n",
    "'sum_num_consultas',\n",
    "'num_med_preglucosa',\n",
    "'avg_diastolica_a',\n",
    "'avg_preglucosa',\n",
    "'ANTIANEMICOS',\n",
    "'max_preglucosa',\n",
    "'avg_sistolica_a',\n",
    "'num_med_trigliceridos',\n",
    "'edad_range',\n",
    "'E70_E90',\n",
    "'max_sistolica_a',\n",
    "'max_colesterol',\n",
    "'max_num_med',\n",
    "'imc_range',\n",
    "'epoca_nac',\n",
    "'min_colesterol',\n",
    "'fn_sistolica_a',\n",
    "'min_trigliceridos',\n",
    "'ANTIRREUMATICOS',\n",
    "'g8','label']]\n",
    "\"\"\""
   ]
  },
  {
   "cell_type": "code",
   "execution_count": 5,
   "metadata": {},
   "outputs": [
    {
     "name": "stdout",
     "output_type": "stream",
     "text": [
      "<class 'pandas.core.frame.DataFrame'>\n",
      "RangeIndex: 346 entries, 0 to 345\n",
      "Columns: 207 entries, dm_años_int to label\n",
      "dtypes: float64(206), int64(1)\n",
      "memory usage: 559.7 KB\n"
     ]
    }
   ],
   "source": [
    "df.info()"
   ]
  },
  {
   "cell_type": "code",
   "execution_count": 6,
   "metadata": {},
   "outputs": [
    {
     "name": "stdout",
     "output_type": "stream",
     "text": [
      "(346, 206)\n",
      "(346, 1)\n"
     ]
    }
   ],
   "source": [
    "X = df.loc[:, df.columns != 'label']\n",
    "print(X.shape)\n",
    "Y = df[[\"label\"]]\n",
    "print(Y.shape)"
   ]
  },
  {
   "cell_type": "code",
   "execution_count": 7,
   "metadata": {},
   "outputs": [],
   "source": [
    "X_train,X_test,y_train,y_test = train_test_split(X,Y,test_size=0.3)"
   ]
  },
  {
   "cell_type": "code",
   "execution_count": 8,
   "metadata": {},
   "outputs": [],
   "source": [
    "#from imblearn.over_sampling import SMOTE\n",
    "#sm = SMOTE(random_state=42)\n",
    "#X_res, y_res = sm.fit_resample(X_train, y_train)\n",
    "#X_train = X_res\n",
    "#y_train = y_res"
   ]
  },
  {
   "cell_type": "markdown",
   "metadata": {},
   "source": [
    "### 3. Magic Loop\n",
    "\n",
    "- Diccionario de algoritmos a aplicar"
   ]
  },
  {
   "cell_type": "code",
   "execution_count": 9,
   "metadata": {},
   "outputs": [],
   "source": [
    "algorithms_dict = {'tree': 'tree_grid_search',\n",
    "                   'random_forest': 'rf_grid_search',\n",
    "                   'logistic': 'logistic_grid_search',\n",
    "                   'xgboost': 'xgboost_grid_search'}"
   ]
  },
  {
   "cell_type": "markdown",
   "metadata": {},
   "source": [
    "- Diccionario de configuraciones"
   ]
  },
  {
   "cell_type": "code",
   "execution_count": 10,
   "metadata": {},
   "outputs": [],
   "source": [
    "grid_search_dict = {\n",
    "                        'tree_grid_search': {\n",
    "                            'max_depth': [5, 10, 15],\n",
    "                            'min_samples_leaf': [3, 5, 7]\n",
    "                        },\n",
    "                        'rf_grid_search': {\n",
    "                            'n_estimators': [30, 50, 100],\n",
    "                            'max_depth': [5, 10, 15],\n",
    "                            'min_samples_leaf': [3, 5, 10]\n",
    "                        },\n",
    "                        'logistic_grid_search':{\n",
    "                            'C':np.logspace(-3,3,7),\n",
    "                            'penalty':['l2']\n",
    "                        },\n",
    "                        'xgboost_grid_search':{\n",
    "                            'max_depth': range (2, 10, 1),\n",
    "                            'n_estimators': range(60, 220, 40),\n",
    "                            'learning_rate': [0.1, 0.01, 0.05]\n",
    "                        }\n",
    "                    }"
   ]
  },
  {
   "cell_type": "markdown",
   "metadata": {},
   "source": [
    "- Diccionario de estimadores"
   ]
  },
  {
   "cell_type": "code",
   "execution_count": 11,
   "metadata": {},
   "outputs": [],
   "source": [
    "from xgboost import XGBClassifier"
   ]
  },
  {
   "cell_type": "code",
   "execution_count": 12,
   "metadata": {},
   "outputs": [],
   "source": [
    "from sklearn.tree import DecisionTreeClassifier\n",
    "estimators_dict = {'tree': DecisionTreeClassifier(random_state=1111),\n",
    "                   'random_forest': RandomForestClassifier(oob_score=True, random_state=2222),\n",
    "                   'logistic': LogisticRegression(random_state=3333),\n",
    "                   'xgboost': XGBClassifier(objective= 'binary:logistic',nthread=4,seed=42)\n",
    "                  } "
   ]
  },
  {
   "cell_type": "code",
   "execution_count": 13,
   "metadata": {},
   "outputs": [],
   "source": [
    "def magic_loop(algorithms, features, labels):\n",
    "    best_estimators = []\n",
    "    for algorithm in algorithms:\n",
    "        estimator = estimators_dict[algorithm]\n",
    "        grid_search_to_look = algorithms_dict[algorithm]\n",
    "        grid_params = grid_search_dict[grid_search_to_look]\n",
    "        #tscv = TimeSeriesSplit(n_splits=5)\n",
    "        \n",
    "        #gs = GridSearchCV(estimator, grid_params, scoring='precision', cv=5, n_jobs=-1)\n",
    "        gs = GridSearchCV(estimator, grid_params, scoring='roc_auc', cv=5, n_jobs=-1)\n",
    "        \n",
    "        #train\n",
    "        gs.fit(features, labels)\n",
    "        #best estimator\n",
    "        best_estimators.append(gs)\n",
    "        \n",
    "        \n",
    "    return best_estimators"
   ]
  },
  {
   "cell_type": "code",
   "execution_count": 14,
   "metadata": {},
   "outputs": [],
   "source": [
    "#scoring_met= 'recall'\n",
    "algorithms = ['tree', 'random_forest','logistic','xgboost']\n",
    "models = []\n",
    "start_time = time.time()\n",
    "models_list = []"
   ]
  },
  {
   "cell_type": "code",
   "execution_count": 15,
   "metadata": {},
   "outputs": [
    {
     "name": "stdout",
     "output_type": "stream",
     "text": [
      "Empty DataFrame\n",
      "Columns: []\n",
      "Index: [268, 210, 58, 56, 99, 304, 90, 341, 57, 145, 39, 303, 44, 207, 191, 54, 339, 229, 261, 260, 286, 17, 245, 279, 16, 216, 296, 274, 203, 252, 123, 283, 62, 208, 204, 312, 151, 219, 332, 155, 11, 211, 231, 333, 74, 122, 139, 325, 281, 331, 130, 239, 214, 199, 93, 104, 34, 287, 225, 142, 205, 295, 240, 28, 25, 33, 221, 343, 263, 186, 247, 108, 42, 51, 174, 241, 119, 230, 328, 257, 264, 161, 187, 238, 103, 77, 149, 83, 258, 243, 244, 200, 198, 269, 335, 288, 307, 146, 135, 272, ...]\n",
      "\n",
      "[242 rows x 0 columns]\n"
     ]
    }
   ],
   "source": [
    "# Select dataframe columns with any NaN value\n",
    "subset_df = X_train.loc[:, X_train.isnull().any()]\n",
    "print(subset_df)"
   ]
  },
  {
   "cell_type": "code",
   "execution_count": 16,
   "metadata": {},
   "outputs": [
    {
     "data": {
      "text/plain": [
       "['dm_años_int',\n",
       " 'enf_endocrinas',\n",
       " 'min_preglucosa',\n",
       " 'año_dx_dm',\n",
       " 'num_med',\n",
       " 'num_med_preglucosa',\n",
       " 'num_med_presion_a',\n",
       " 'avg_num_consultas_by_year',\n",
       " 'ventana',\n",
       " 'dm',\n",
       " 'sum_num_consultas',\n",
       " 'avg_preglucosa',\n",
       " 'trigliceridos',\n",
       " 'edad_range',\n",
       " 'avg_diastolica_a',\n",
       " 'avg_num_med',\n",
       " 'colesterol',\n",
       " 'max_preglucosa',\n",
       " 'avg_colesterol',\n",
       " 'avg_sistolica_a',\n",
       " 'E70_E90',\n",
       " 'max_num_med',\n",
       " 'avg_trigliceridos',\n",
       " 'min_sistolica_a',\n",
       " 'max_colesterol',\n",
       " 'max_sistolica_a',\n",
       " 'min_colesterol',\n",
       " 'fn_sistolica_a',\n",
       " 'ANALGESICOS',\n",
       " 'epoca_nac',\n",
       " 'ANTIANEMICOS',\n",
       " 'ANTIDIABETICOS',\n",
       " 'max_diastolica_a',\n",
       " 'num_med_trigliceridos',\n",
       " 'min_diastolica_a',\n",
       " 'fn_diastolica_a',\n",
       " 'imc_range',\n",
       " 'max_trigliceridos',\n",
       " 'postglucosa',\n",
       " 'HIPOLIPEMIANTES',\n",
       " 'num_med_colesterol',\n",
       " 'ANTIGOTOSOS',\n",
       " 'min_trigliceridos',\n",
       " 'ANTITUSIGENOS',\n",
       " 'EXPECTORANTES',\n",
       " 'g23',\n",
       " 'ANTIMICROBIANOS',\n",
       " 'enf_aparato_urinario',\n",
       " 'ANSIOLITICOS',\n",
       " 'max_postglucosa',\n",
       " 'E65_E68',\n",
       " 'g6',\n",
       " 'sexo',\n",
       " 'enf_sist_osteomuscular_y_tejido',\n",
       " 'g5',\n",
       " 'DIURETICOS',\n",
       " 'g8',\n",
       " 'preglucosa',\n",
       " 'MINERALES',\n",
       " 'ANTIDEPRESIVOS',\n",
       " 'ANTIEPILEPTICOS',\n",
       " 'ANTIRREUMATICOS',\n",
       " 'PROCINETICOS GASTROINTESTINALES',\n",
       " 'ot_enf_inf_y_paras_y_efec_tardios',\n",
       " 'ANTIALERGICOS',\n",
       " 'enf_ot_partes_aparato_digestivo',\n",
       " 'ANTIMICOTICOS',\n",
       " 'avg_creatinina',\n",
       " 'ANESTESICOS LOCALES',\n",
       " 'GLUCOSIDOS CARDIACOS',\n",
       " 'CORTICOSTEROIDES',\n",
       " 'max_creatinina',\n",
       " 'min_creatinina',\n",
       " 'ANTIULCEROSOS',\n",
       " 'avg_postglucosa',\n",
       " 'ADYUVANTES DE LA ANALGESIA',\n",
       " 'ANTIINFLAMATORIOS',\n",
       " 'OFTALMICOS',\n",
       " 'trastornos_mentales',\n",
       " 'creatinina',\n",
       " 'OTROS INOTROPICOS POSITIVOS',\n",
       " 'ANTIHISTAMINICOS',\n",
       " 'ANTIDIARREICOS',\n",
       " 'max_tfg',\n",
       " 'min_postglucosa',\n",
       " 'acido_urico',\n",
       " 'VITAMINAS',\n",
       " 'avg_tfg',\n",
       " 'ANTIESPASMODICOS',\n",
       " 'ANTICOLINERGICOS',\n",
       " 'num_med_postglucosa',\n",
       " 'enf_inf_intestinales',\n",
       " 'max_hba1c',\n",
       " 'ANTISEPTICOS URINARIOS',\n",
       " 'O24',\n",
       " 'ANTIACIDOS',\n",
       " 'comp_precoces_traumatismos',\n",
       " 'g14',\n",
       " 'SEDANTES HIPNOTICOS',\n",
       " 'DERMATOLOGICOS',\n",
       " 'ANTIEMETICOS',\n",
       " 'num_med_creatinina',\n",
       " 'trastornos_mama',\n",
       " 'sindrome_maltrato',\n",
       " 'ANTIARTRITICOS',\n",
       " 'map_g',\n",
       " 'E12',\n",
       " 'ANTIOSTEOPOROSICOS',\n",
       " 'malformaciones_congenitas',\n",
       " 'E14',\n",
       " 'tumores_malig_sitios_mul_indep',\n",
       " 'ELECTROLITOS ORALES',\n",
       " 'BRONCODILATADORES',\n",
       " 'ANTIPROTOZOARIOS',\n",
       " 'enf_org_genitales_femeninos',\n",
       " 'min_acido_urico',\n",
       " 'ANTIHELMINTICOS',\n",
       " 'HEMATOPOYETICOS',\n",
       " 'enf_ojo_anexos',\n",
       " 'sintomas_signos_hallazgos_anormales_clin_lab_no_clasif',\n",
       " 'g3',\n",
       " 'num_med_hba1c',\n",
       " 'ACIDIFICANTES DE LAS VIAS URINARIAS',\n",
       " 'num_med_acido_urico',\n",
       " 'min_hba1c',\n",
       " 'O22',\n",
       " 'ANTIASMATICOS',\n",
       " 'g9',\n",
       " 'max_acido_urico',\n",
       " 'g12',\n",
       " 'I6_I8',\n",
       " 'enf_cerebrovasculares',\n",
       " 'trastornos_sist_genitourinario_consec_proced',\n",
       " 'avg_plaquetas',\n",
       " 'SOLUCIONES ELECTROLITICAS',\n",
       " 'fracturas',\n",
       " 'tumores_insitu',\n",
       " 'avg_acido_urico',\n",
       " 'urea',\n",
       " 'g4',\n",
       " 'E13',\n",
       " 'min_urea',\n",
       " 'num_med_tfg',\n",
       " 'E10',\n",
       " 'ADRENERGICOS',\n",
       " 'avg_urea',\n",
       " 'avg_hba1c',\n",
       " 'enf_sangre_org_hematop',\n",
       " 'min_tfg',\n",
       " 'enf_sist_nervioso',\n",
       " 'min_plaquetas',\n",
       " 'max_urea',\n",
       " 'sec_traumatismos_envenenamiento_causas_ext',\n",
       " 'ANTIMIGRANOSOS',\n",
       " 'ANTAGONISTAS',\n",
       " 'otras_enf_aparato_vasc',\n",
       " 'inf_y_enf_vias_respiratorias_sup',\n",
       " 'enf_circulacion_pulmonar_enf_corazon',\n",
       " 'min_hdl',\n",
       " 'num_med_ldl',\n",
       " 'hba1c',\n",
       " 'max_ldl',\n",
       " 'enf_org_genitales_masculinos',\n",
       " 'traumatismos_int_intracraneales_y_otr',\n",
       " 'enf_piel_tejido_subcutaneo',\n",
       " 'HORMONAS',\n",
       " 'avg_hdl',\n",
       " 'min_num_med',\n",
       " 'num_med_plaquetas',\n",
       " 'ANTINEOPLASICOS',\n",
       " 'ANTISEPTICOS',\n",
       " 'g1',\n",
       " 'tumores_malig_org_respiratorios_intratoracicos',\n",
       " 'R0_R4',\n",
       " 'fiebre_y_enf_cardiacas_reumaticas',\n",
       " 'INMUNODEPRESORES',\n",
       " 'ANTIAMEBIANOS',\n",
       " 'renal',\n",
       " 'E0_E64',\n",
       " 'ANTIADRENERGICOS',\n",
       " 'max_plaquetas',\n",
       " 'otras_enf_aparato_resp',\n",
       " 'avg_ldl',\n",
       " 'ANTIPALUDICOS',\n",
       " 'ANTIVIRALES',\n",
       " 'ANTIPARASITARIOS VAGINALES',\n",
       " 'min_ldl',\n",
       " 'tfg',\n",
       " 'max_hdl',\n",
       " 'num_med_urea',\n",
       " 'RELAJANTES MUSCULARES',\n",
       " 'ldl',\n",
       " 'plaquetas',\n",
       " 'g19',\n",
       " 'ANTIPROSTATICOS',\n",
       " 'num_med_hdl',\n",
       " 'g7',\n",
       " 'comp_aten_med_qx_no_clasif',\n",
       " 'enf_viricas',\n",
       " 'ANTITIROIDEOS',\n",
       " 'presion_arterial',\n",
       " 'g13',\n",
       " 'enf_cavidad_bucal_glandulas_salivales',\n",
       " 'tumores_malig_huesos_articulares_conjuntivo_piel_mama',\n",
       " 'tumores_malig_org_genitourinarios',\n",
       " 'hdl']"
      ]
     },
     "execution_count": 16,
     "metadata": {},
     "output_type": "execute_result"
    }
   ],
   "source": [
    "X_train.columns.values.tolist()"
   ]
  },
  {
   "cell_type": "code",
   "execution_count": null,
   "metadata": {},
   "outputs": [],
   "source": []
  },
  {
   "cell_type": "code",
   "execution_count": 17,
   "metadata": {},
   "outputs": [
    {
     "name": "stdout",
     "output_type": "stream",
     "text": [
      "Selección de variables completada satisfactoriamente en  4823.117515087128  segundos\n"
     ]
    }
   ],
   "source": [
    "best = magic_loop(algorithms, X_train, y_train)\n",
    "print(\"Selección de variables completada satisfactoriamente en \", time.time() - start_time, ' segundos')"
   ]
  },
  {
   "cell_type": "code",
   "execution_count": 18,
   "metadata": {},
   "outputs": [
    {
     "data": {
      "text/plain": [
       "XGBClassifier(base_score=0.5, booster='gbtree', callbacks=None,\n",
       "              colsample_bylevel=1, colsample_bynode=1, colsample_bytree=1,\n",
       "              early_stopping_rounds=None, enable_categorical=False,\n",
       "              eval_metric=None, gamma=0, gpu_id=-1, grow_policy='depthwise',\n",
       "              importance_type=None, interaction_constraints='',\n",
       "              learning_rate=0.1, max_bin=256, max_cat_to_onehot=4,\n",
       "              max_delta_step=0, max_depth=5, max_leaves=0, min_child_weight=1,\n",
       "              missing=nan, monotone_constraints='()', n_estimators=140,\n",
       "              n_jobs=4, nthread=4, num_parallel_tree=1, predictor='auto',\n",
       "              random_state=42, reg_alpha=0, ...)"
      ]
     },
     "execution_count": 18,
     "metadata": {},
     "output_type": "execute_result"
    }
   ],
   "source": [
    "model0 = best[0].best_estimator_\n",
    "model0\n",
    "\n",
    "model1 = best[1].best_estimator_\n",
    "model1\n",
    "\n",
    "model2 = best[2].best_estimator_\n",
    "model2\n",
    "\n",
    "model3 = best[3].best_estimator_\n",
    "model3"
   ]
  },
  {
   "cell_type": "code",
   "execution_count": 19,
   "metadata": {},
   "outputs": [],
   "source": [
    "utils.save_df(model0, \"../output/best_model0_av.pkl\")\n",
    "utils.save_df(model1, \"../output/best_model1_av.pkl\")\n",
    "utils.save_df(model2, \"../output/best_model2_av.pkl\")\n",
    "utils.save_df(model3, \"../output/best_model3_av.pkl\")"
   ]
  },
  {
   "cell_type": "markdown",
   "metadata": {},
   "source": [
    "### 4. Evaluando modelo"
   ]
  },
  {
   "cell_type": "code",
   "execution_count": 20,
   "metadata": {},
   "outputs": [],
   "source": [
    "from sklearn.metrics import roc_curve, roc_auc_score\n",
    "from sklearn.metrics import accuracy_score, precision_recall_curve, precision_score, recall_score\n",
    "from sklearn.metrics import confusion_matrix, plot_confusion_matrix\n",
    "import matplotlib.pyplot as plt"
   ]
  },
  {
   "cell_type": "code",
   "execution_count": 21,
   "metadata": {},
   "outputs": [],
   "source": [
    "predicted_labels0 = model0.predict(X_test)\n",
    "predicted_scores0 = model0.predict_proba(X_test)\n",
    "\n",
    "predicted_labels1 = model1.predict(X_test)\n",
    "predicted_scores1 = model1.predict_proba(X_test)\n",
    "\n",
    "predicted_labels2 = model2.predict(X_test)\n",
    "predicted_scores2 = model2.predict_proba(X_test)\n",
    "\n",
    "predicted_labels3 = model3.predict(X_test)\n",
    "predicted_scores3 = model3.predict_proba(X_test)\n"
   ]
  },
  {
   "cell_type": "code",
   "execution_count": 22,
   "metadata": {},
   "outputs": [
    {
     "data": {
      "image/png": "[encoded data removed]",
      "text/plain": [
       "<Figure size 432x288 with 1 Axes>"
      ]
     },
     "metadata": {
      "needs_background": "light"
     },
     "output_type": "display_data"
    },
    {
     "name": "stdout",
     "output_type": "stream",
     "text": [
      "[[44  7]\n",
      " [14 39]]\n"
     ]
    },
    {
     "data": {
      "text/plain": [
       "<sklearn.metrics._plot.confusion_matrix.ConfusionMatrixDisplay at 0x7f65b23dbb90>"
      ]
     },
     "execution_count": 22,
     "metadata": {},
     "output_type": "execute_result"
    },
    {
     "data": {
      "image/png": "[encoded data removed]",
      "text/plain": [
       "<Figure size 432x288 with 2 Axes>"
      ]
     },
     "metadata": {
      "needs_background": "light"
     },
     "output_type": "display_data"
    }
   ],
   "source": [
    "### Curva ROC\n",
    "plt.figure()\n",
    "fpr, tpr, thresholds = roc_curve(y_test, predicted_scores0[:, 1], pos_label=1)\n",
    "plt.clf()\n",
    "plt.plot([0, 1], [0, 1], 'k--', c=\"red\")\n",
    "plt.plot(fpr, tpr)\n",
    "plt.title(\"ROC best RF, AUC: {}\".format(roc_auc_score(y_test, predicted_labels0)))\n",
    "plt.xlabel(\"fpr\")\n",
    "plt.ylabel(\"tpr\")\n",
    "#plt.savefig('../output/ROC_curve.png', bbox_inches='tight')\n",
    "plt.show()\n",
    "\n",
    "print(confusion_matrix(y_test, predicted_labels0))\n",
    "plot_confusion_matrix(model0, X_test, y_test, cmap=plt.cm.Blues)  "
   ]
  },
  {
   "cell_type": "code",
   "execution_count": 23,
   "metadata": {},
   "outputs": [
    {
     "data": {
      "image/png": "[encoded data removed]",
      "text/plain": [
       "<Figure size 432x288 with 1 Axes>"
      ]
     },
     "metadata": {
      "needs_background": "light"
     },
     "output_type": "display_data"
    },
    {
     "name": "stdout",
     "output_type": "stream",
     "text": [
      "[[43  8]\n",
      " [13 40]]\n"
     ]
    },
    {
     "data": {
      "text/plain": [
       "<sklearn.metrics._plot.confusion_matrix.ConfusionMatrixDisplay at 0x7f65b19ab110>"
      ]
     },
     "execution_count": 23,
     "metadata": {},
     "output_type": "execute_result"
    },
    {
     "data": {
      "image/png": "[encoded data removed]",
      "text/plain": [
       "<Figure size 432x288 with 2 Axes>"
      ]
     },
     "metadata": {
      "needs_background": "light"
     },
     "output_type": "display_data"
    }
   ],
   "source": [
    "### Curva ROC\n",
    "plt.figure()\n",
    "fpr, tpr, thresholds = roc_curve(y_test, predicted_scores1[:, 1], pos_label=1)\n",
    "plt.clf()\n",
    "plt.plot([0, 1], [0, 1], 'k--', c=\"red\")\n",
    "plt.plot(fpr, tpr)\n",
    "plt.title(\"ROC best RF, AUC: {}\".format(roc_auc_score(y_test, predicted_labels1)))\n",
    "plt.xlabel(\"fpr\")\n",
    "plt.ylabel(\"tpr\")\n",
    "#plt.savefig('../output/ROC_curve.png', bbox_inches='tight')\n",
    "plt.show()\n",
    "\n",
    "print(confusion_matrix(y_test, predicted_labels1))\n",
    "plot_confusion_matrix(model1, X_test, y_test, cmap=plt.cm.Blues)  "
   ]
  },
  {
   "cell_type": "code",
   "execution_count": 24,
   "metadata": {},
   "outputs": [
    {
     "data": {
      "image/png": "[encoded data removed]",
      "text/plain": [
       "<Figure size 432x288 with 1 Axes>"
      ]
     },
     "metadata": {
      "needs_background": "light"
     },
     "output_type": "display_data"
    },
    {
     "name": "stdout",
     "output_type": "stream",
     "text": [
      "[[21 30]\n",
      " [16 37]]\n"
     ]
    },
    {
     "data": {
      "text/plain": [
       "<sklearn.metrics._plot.confusion_matrix.ConfusionMatrixDisplay at 0x7f65b18b4f50>"
      ]
     },
     "execution_count": 24,
     "metadata": {},
     "output_type": "execute_result"
    },
    {
     "data": {
      "image/png": "[encoded data removed]",
      "text/plain": [
       "<Figure size 432x288 with 2 Axes>"
      ]
     },
     "metadata": {
      "needs_background": "light"
     },
     "output_type": "display_data"
    }
   ],
   "source": [
    "### Curva ROC\n",
    "plt.figure()\n",
    "fpr, tpr, thresholds = roc_curve(y_test, predicted_scores2[:, 1], pos_label=1)\n",
    "plt.clf()\n",
    "plt.plot([0, 1], [0, 1], 'k--', c=\"red\")\n",
    "plt.plot(fpr, tpr)\n",
    "plt.title(\"ROC best RF, AUC: {}\".format(roc_auc_score(y_test, predicted_labels2)))\n",
    "plt.xlabel(\"fpr\")\n",
    "plt.ylabel(\"tpr\")\n",
    "#plt.savefig('../output/ROC_curve.png', bbox_inches='tight')\n",
    "plt.show()\n",
    "\n",
    "print(confusion_matrix(y_test, predicted_labels2))\n",
    "plot_confusion_matrix(model2, X_test, y_test, cmap=plt.cm.Blues)  "
   ]
  },
  {
   "cell_type": "code",
   "execution_count": 25,
   "metadata": {},
   "outputs": [
    {
     "data": {
      "image/png": "[encoded data removed]",
      "text/plain": [
       "<Figure size 432x288 with 1 Axes>"
      ]
     },
     "metadata": {
      "needs_background": "light"
     },
     "output_type": "display_data"
    },
    {
     "name": "stdout",
     "output_type": "stream",
     "text": [
      "[[41 10]\n",
      " [10 43]]\n"
     ]
    },
    {
     "data": {
      "text/plain": [
       "<sklearn.metrics._plot.confusion_matrix.ConfusionMatrixDisplay at 0x7f65b17d0350>"
      ]
     },
     "execution_count": 25,
     "metadata": {},
     "output_type": "execute_result"
    },
    {
     "data": {
      "image/png": "[encoded data removed]",
      "text/plain": [
       "<Figure size 432x288 with 2 Axes>"
      ]
     },
     "metadata": {
      "needs_background": "light"
     },
     "output_type": "display_data"
    }
   ],
   "source": [
    "### Curva ROC\n",
    "plt.figure()\n",
    "fpr, tpr, thresholds = roc_curve(y_test, predicted_scores3[:, 1], pos_label=1)\n",
    "plt.clf()\n",
    "plt.plot([0, 1], [0, 1], 'k--', c=\"red\")\n",
    "plt.plot(fpr, tpr)\n",
    "plt.title(\"ROC best RF, AUC: {}\".format(roc_auc_score(y_test, predicted_labels3)))\n",
    "plt.xlabel(\"fpr\")\n",
    "plt.ylabel(\"tpr\")\n",
    "#plt.savefig('../output/ROC_curve.png', bbox_inches='tight')\n",
    "plt.show()\n",
    "\n",
    "print(confusion_matrix(y_test, predicted_labels3))\n",
    "plot_confusion_matrix(model3, X_test, y_test, cmap=plt.cm.Blues)  "
   ]
  },
  {
   "cell_type": "code",
   "execution_count": 26,
   "metadata": {},
   "outputs": [],
   "source": [
    "def get_metrics_report(fpr, tpr, thresholds, precision, recall, thresholds_2):\n",
    "    df_1 = pd.DataFrame({'threshold': thresholds_2, 'precision': precision,\n",
    "                         'recall': recall})\n",
    "    df_1['f1_score'] = 2 * (df_1.precision * df_1.recall) / (df_1.precision + df_1.recall)\n",
    "\n",
    "    df_2 = pd.DataFrame({'tpr': tpr, 'fpr': fpr, 'threshold': thresholds})\n",
    "    df_2['tnr'] = 1 - df_2['fpr']\n",
    "    df_2['fnr'] = 1 - df_2['tpr']\n",
    "\n",
    "    df = df_1.merge(df_2, on=\"threshold\")\n",
    "\n",
    "    return df"
   ]
  },
  {
   "cell_type": "code",
   "execution_count": 27,
   "metadata": {},
   "outputs": [
    {
     "data": {
      "image/png": "[encoded data removed]",
      "text/plain": [
       "<Figure size 432x288 with 1 Axes>"
      ]
     },
     "metadata": {
      "needs_background": "light"
     },
     "output_type": "display_data"
    }
   ],
   "source": [
    "# Generando métricas\n",
    "precision, recall, thresholds_2 = precision_recall_curve(y_test, predicted_scores1[:, 1], pos_label=1)\n",
    "thresholds_2 = np.append(thresholds_2, 1)\n",
    "metrics_report = get_metrics_report(fpr, tpr, thresholds, precision, recall, thresholds_2)\n",
    "#save_metrics(metrics_report, '../output/metricas_offline.pkl')\n",
    "\n",
    "# Curva: Precision-recall\n",
    "plt.figure()\n",
    "plt.plot(metrics_report['threshold'], metrics_report['precision'], 'k--', c=\"red\", label='precision')\n",
    "plt.plot(metrics_report['threshold'], metrics_report['recall'], 'k--', c=\"blue\", label='recall')\n",
    "plt.xlabel('threshold')\n",
    "plt.ylim([0, 1])\n",
    "plt.legend(bbox_to_anchor=(1, 1), fontsize=12)\n",
    "plt.savefig('../output/recall_precision.png', bbox_inches='tight')\n",
    "#plt.show()"
   ]
  },
  {
   "cell_type": "code",
   "execution_count": 28,
   "metadata": {},
   "outputs": [],
   "source": [
    "# Curva: recall-precision @k\n",
    "data_junta = pd.concat([X_test, y_test], axis=1)\n",
    "data_filtrada = data_junta\n",
    "datos_finales_X = pd.DataFrame(data_filtrada.drop(['label'], axis=1))\n",
    "y_true = data_filtrada.label\n",
    "y_scores = model1.predict_proba(datos_finales_X)"
   ]
  },
  {
   "cell_type": "code",
   "execution_count": 29,
   "metadata": {},
   "outputs": [],
   "source": [
    "def param_graf(y_true, y_scores):\n",
    "    k_values = np.linspace(0, 0.99, 100)\n",
    "    lista = []\n",
    "\n",
    "    for k in k_values:\n",
    "        p_k = precision_at_k(y_true, pd.DataFrame(y_scores)[1], k)\n",
    "        r_k = recall_at_k(y_true, pd.DataFrame(y_scores)[1], k)\n",
    "        lista = lista + [[p_k, r_k, k]]\n",
    "\n",
    "    p_r_g = pd.DataFrame(lista, columns=[\"p_k\", \"r_k\", \"k\"])\n",
    "\n",
    "    return p_r_g\n",
    "\n",
    "def precision_at_k(y_true, y_scores, k):\n",
    "    threshold = np.sort(y_scores)[::-1][int(k * len(y_scores))]\n",
    "    y_pred = np.asarray([1 if i >= threshold else 0 for i in y_scores])\n",
    "\n",
    "    return precision_score(y_true, y_pred)\n",
    "\n",
    "def recall_at_k(y_true, y_scores, k):\n",
    "    threshold = np.sort(y_scores)[::-1][int(k * len(y_scores))]\n",
    "    y_pred = np.asarray([1 if i >= threshold else 0 for i in y_scores])\n",
    "\n",
    "    return recall_score(y_true, y_pred)"
   ]
  },
  {
   "cell_type": "code",
   "execution_count": 30,
   "metadata": {},
   "outputs": [
    {
     "data": {
      "image/png": "[encoded data removed]",
      "text/plain": [
       "<Figure size 432x288 with 1 Axes>"
      ]
     },
     "metadata": {
      "needs_background": "light"
     },
     "output_type": "display_data"
    }
   ],
   "source": [
    "p_r_g = param_graf(y_true, y_scores)\n",
    "\n",
    "plt.figure()\n",
    "plt.plot(p_r_g[\"k\"], p_r_g[\"p_k\"], label=\"P\")\n",
    "plt.plot(p_r_g[\"k\"], p_r_g[\"r_k\"], label=\"R\")\n",
    "plt.title(\"Precision and recall at k%: PA\")\n",
    "plt.axvline(x=0.037, c='red', linestyle='--')\n",
    "plt.ylabel(\"Mejor valor\")\n",
    "plt.legend(['Precision', 'Recall'])\n",
    "plt.xlabel(\"%k\")\n",
    "plt.savefig('../output/recall_precision_k.png', bbox_inches='tight')\n",
    "#plt.show()"
   ]
  },
  {
   "cell_type": "code",
   "execution_count": null,
   "metadata": {},
   "outputs": [],
   "source": []
  }
 ],
 "metadata": {
  "kernelspec": {
   "display_name": "Python 3",
   "language": "python",
   "name": "python3"
  },
  "language_info": {
   "codemirror_mode": {
    "name": "ipython",
    "version": 3
   },
   "file_extension": ".py",
   "mimetype": "text/x-python",
   "name": "python",
   "nbconvert_exporter": "python",
   "pygments_lexer": "ipython3",
   "version": "3.7.4"
  }
 },
 "nbformat": 4,
 "nbformat_minor": 4
}
