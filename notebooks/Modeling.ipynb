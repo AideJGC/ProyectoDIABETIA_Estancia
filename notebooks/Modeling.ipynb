{
 "cells": [
  {
   "cell_type": "markdown",
   "metadata": {},
   "source": [
    "# Modeling\n",
    "## Estancia de investigación Maestría de Ciencia de Datos\n",
    "## Aide Jazmín González Cruz\n",
    "\n",
    "### 1. Carga de librerías"
   ]
  },
  {
   "cell_type": "code",
   "execution_count": 1,
   "metadata": {},
   "outputs": [],
   "source": [
    "import pandas as pd\n",
    "import numpy as np\n",
    "from sklearn.model_selection import GridSearchCV, TimeSeriesSplit, train_test_split\n",
    "from sklearn.ensemble import RandomForestClassifier\n",
    "from sklearn.preprocessing import MinMaxScaler, OneHotEncoder, KBinsDiscretizer\n",
    "from sklearn.compose import ColumnTransformer\n",
    "from sklearn.base import BaseEstimator,TransformerMixin\n",
    "from sklearn.linear_model import LogisticRegression\n",
    "from sklearn.tree import DecisionTreeClassifier\n",
    "#from siuba import *\n",
    "import time\n",
    "from time import gmtime, strftime\n",
    "\n",
    "import sys\n",
    "import os\n",
    "from os.path import dirname\n",
    "from datetime import datetime\n",
    "import warnings\n",
    "warnings.filterwarnings('ignore')\n",
    "sys.path.append(dirname('../src'))\n",
    "from src.utils import utils\n"
   ]
  },
  {
   "cell_type": "markdown",
   "metadata": {},
   "source": [
    "### 2. Carga de features y división de datos de entrenamiento y validación"
   ]
  },
  {
   "cell_type": "code",
   "execution_count": 2,
   "metadata": {},
   "outputs": [
    {
     "data": {
      "text/html": [
       "<div>\n",
       "<style scoped>\n",
       "    .dataframe tbody tr th:only-of-type {\n",
       "        vertical-align: middle;\n",
       "    }\n",
       "\n",
       "    .dataframe tbody tr th {\n",
       "        vertical-align: top;\n",
       "    }\n",
       "\n",
       "    .dataframe thead th {\n",
       "        text-align: right;\n",
       "    }\n",
       "</style>\n",
       "<table border=\"1\" class=\"dataframe\">\n",
       "  <thead>\n",
       "    <tr style=\"text-align: right;\">\n",
       "      <th></th>\n",
       "      <th>año_dx_dm</th>\n",
       "      <th>dm_años_int</th>\n",
       "      <th>ventana</th>\n",
       "      <th>dm</th>\n",
       "      <th>enf_endocrinas</th>\n",
       "      <th>edad_range</th>\n",
       "      <th>avg_num_med</th>\n",
       "      <th>max_num_med</th>\n",
       "      <th>avg_preglucosa</th>\n",
       "      <th>max_preglucosa</th>\n",
       "      <th>...</th>\n",
       "      <th>avg_plaquetas</th>\n",
       "      <th>luxaciones_esguinces_torceduras</th>\n",
       "      <th>num_med_plaquetas</th>\n",
       "      <th>sec_traumatismos_envenenamiento_causas_ext</th>\n",
       "      <th>ot_enf_bacterianas</th>\n",
       "      <th>ANTIVIRALES</th>\n",
       "      <th>tumores_malig_org_genitourinarios</th>\n",
       "      <th>ANTIPARASITARIOS VAGINALES</th>\n",
       "      <th>ANTIPROSTATICOS</th>\n",
       "      <th>label</th>\n",
       "    </tr>\n",
       "  </thead>\n",
       "  <tbody>\n",
       "    <tr>\n",
       "      <th>0</th>\n",
       "      <td>1998.0</td>\n",
       "      <td>0.0</td>\n",
       "      <td>1.0</td>\n",
       "      <td>1.0</td>\n",
       "      <td>1.0</td>\n",
       "      <td>6.0</td>\n",
       "      <td>0.666667</td>\n",
       "      <td>1.0</td>\n",
       "      <td>419.500000</td>\n",
       "      <td>448.000000</td>\n",
       "      <td>...</td>\n",
       "      <td>234764.705882</td>\n",
       "      <td>0.0</td>\n",
       "      <td>1.058824</td>\n",
       "      <td>0.0</td>\n",
       "      <td>0.0</td>\n",
       "      <td>0.0</td>\n",
       "      <td>0.0</td>\n",
       "      <td>0.0</td>\n",
       "      <td>0.0</td>\n",
       "      <td>0</td>\n",
       "    </tr>\n",
       "    <tr>\n",
       "      <th>1</th>\n",
       "      <td>1998.0</td>\n",
       "      <td>0.0</td>\n",
       "      <td>2.0</td>\n",
       "      <td>1.0</td>\n",
       "      <td>1.0</td>\n",
       "      <td>6.0</td>\n",
       "      <td>0.000000</td>\n",
       "      <td>0.0</td>\n",
       "      <td>391.000000</td>\n",
       "      <td>391.000000</td>\n",
       "      <td>...</td>\n",
       "      <td>234764.705882</td>\n",
       "      <td>0.0</td>\n",
       "      <td>1.058824</td>\n",
       "      <td>0.0</td>\n",
       "      <td>0.0</td>\n",
       "      <td>0.0</td>\n",
       "      <td>0.0</td>\n",
       "      <td>0.0</td>\n",
       "      <td>0.0</td>\n",
       "      <td>0</td>\n",
       "    </tr>\n",
       "    <tr>\n",
       "      <th>2</th>\n",
       "      <td>1998.0</td>\n",
       "      <td>0.0</td>\n",
       "      <td>3.0</td>\n",
       "      <td>1.0</td>\n",
       "      <td>1.0</td>\n",
       "      <td>6.0</td>\n",
       "      <td>0.500000</td>\n",
       "      <td>1.0</td>\n",
       "      <td>149.231699</td>\n",
       "      <td>160.489459</td>\n",
       "      <td>...</td>\n",
       "      <td>234764.705882</td>\n",
       "      <td>0.0</td>\n",
       "      <td>1.058824</td>\n",
       "      <td>0.0</td>\n",
       "      <td>0.0</td>\n",
       "      <td>0.0</td>\n",
       "      <td>0.0</td>\n",
       "      <td>0.0</td>\n",
       "      <td>0.0</td>\n",
       "      <td>0</td>\n",
       "    </tr>\n",
       "    <tr>\n",
       "      <th>3</th>\n",
       "      <td>1998.0</td>\n",
       "      <td>0.0</td>\n",
       "      <td>4.0</td>\n",
       "      <td>1.0</td>\n",
       "      <td>1.0</td>\n",
       "      <td>6.0</td>\n",
       "      <td>1.000000</td>\n",
       "      <td>2.0</td>\n",
       "      <td>127.000000</td>\n",
       "      <td>127.000000</td>\n",
       "      <td>...</td>\n",
       "      <td>234764.705882</td>\n",
       "      <td>0.0</td>\n",
       "      <td>1.058824</td>\n",
       "      <td>0.0</td>\n",
       "      <td>0.0</td>\n",
       "      <td>0.0</td>\n",
       "      <td>0.0</td>\n",
       "      <td>0.0</td>\n",
       "      <td>0.0</td>\n",
       "      <td>0</td>\n",
       "    </tr>\n",
       "    <tr>\n",
       "      <th>4</th>\n",
       "      <td>1998.0</td>\n",
       "      <td>0.0</td>\n",
       "      <td>5.0</td>\n",
       "      <td>1.0</td>\n",
       "      <td>1.0</td>\n",
       "      <td>6.0</td>\n",
       "      <td>1.000000</td>\n",
       "      <td>2.0</td>\n",
       "      <td>123.333333</td>\n",
       "      <td>127.000000</td>\n",
       "      <td>...</td>\n",
       "      <td>234764.705882</td>\n",
       "      <td>0.0</td>\n",
       "      <td>1.058824</td>\n",
       "      <td>0.0</td>\n",
       "      <td>0.0</td>\n",
       "      <td>0.0</td>\n",
       "      <td>0.0</td>\n",
       "      <td>0.0</td>\n",
       "      <td>0.0</td>\n",
       "      <td>1</td>\n",
       "    </tr>\n",
       "  </tbody>\n",
       "</table>\n",
       "<p>5 rows × 216 columns</p>\n",
       "</div>"
      ],
      "text/plain": [
       "   año_dx_dm  dm_años_int  ventana   dm  enf_endocrinas  edad_range  \\\n",
       "0     1998.0          0.0      1.0  1.0             1.0         6.0   \n",
       "1     1998.0          0.0      2.0  1.0             1.0         6.0   \n",
       "2     1998.0          0.0      3.0  1.0             1.0         6.0   \n",
       "3     1998.0          0.0      4.0  1.0             1.0         6.0   \n",
       "4     1998.0          0.0      5.0  1.0             1.0         6.0   \n",
       "\n",
       "   avg_num_med  max_num_med  avg_preglucosa  max_preglucosa  ...  \\\n",
       "0     0.666667          1.0      419.500000      448.000000  ...   \n",
       "1     0.000000          0.0      391.000000      391.000000  ...   \n",
       "2     0.500000          1.0      149.231699      160.489459  ...   \n",
       "3     1.000000          2.0      127.000000      127.000000  ...   \n",
       "4     1.000000          2.0      123.333333      127.000000  ...   \n",
       "\n",
       "   avg_plaquetas  luxaciones_esguinces_torceduras  num_med_plaquetas  \\\n",
       "0  234764.705882                              0.0           1.058824   \n",
       "1  234764.705882                              0.0           1.058824   \n",
       "2  234764.705882                              0.0           1.058824   \n",
       "3  234764.705882                              0.0           1.058824   \n",
       "4  234764.705882                              0.0           1.058824   \n",
       "\n",
       "   sec_traumatismos_envenenamiento_causas_ext  ot_enf_bacterianas  \\\n",
       "0                                         0.0                 0.0   \n",
       "1                                         0.0                 0.0   \n",
       "2                                         0.0                 0.0   \n",
       "3                                         0.0                 0.0   \n",
       "4                                         0.0                 0.0   \n",
       "\n",
       "   ANTIVIRALES  tumores_malig_org_genitourinarios  ANTIPARASITARIOS VAGINALES  \\\n",
       "0          0.0                                0.0                         0.0   \n",
       "1          0.0                                0.0                         0.0   \n",
       "2          0.0                                0.0                         0.0   \n",
       "3          0.0                                0.0                         0.0   \n",
       "4          0.0                                0.0                         0.0   \n",
       "\n",
       "   ANTIPROSTATICOS  label  \n",
       "0              0.0      0  \n",
       "1              0.0      0  \n",
       "2              0.0      0  \n",
       "3              0.0      0  \n",
       "4              0.0      1  \n",
       "\n",
       "[5 rows x 216 columns]"
      ]
     },
     "execution_count": 2,
     "metadata": {},
     "output_type": "execute_result"
    }
   ],
   "source": [
    "df = utils.load_df(\"../Data/feature_sel.pkl\")\n",
    "df.head(5)"
   ]
  },
  {
   "cell_type": "code",
   "execution_count": 3,
   "metadata": {},
   "outputs": [
    {
     "data": {
      "text/plain": [
       "['año_dx_dm',\n",
       " 'dm_años_int',\n",
       " 'ventana',\n",
       " 'dm',\n",
       " 'enf_endocrinas',\n",
       " 'edad_range',\n",
       " 'avg_num_med',\n",
       " 'max_num_med',\n",
       " 'avg_preglucosa',\n",
       " 'max_preglucosa',\n",
       " 'avg_sistolica_a',\n",
       " 'min_preglucosa',\n",
       " 'epoca_nac',\n",
       " 'avg_diastolica_a',\n",
       " 'max_sistolica_a',\n",
       " 'fn_sistolica_a',\n",
       " 'min_sistolica_a',\n",
       " 'num_med',\n",
       " 'num_med_presion_a',\n",
       " 'avg_num_consultas_by_year',\n",
       " 'imc_range',\n",
       " 'num_med_preglucosa',\n",
       " 'fn_diastolica_a',\n",
       " 'max_diastolica_a',\n",
       " 'min_diastolica_a',\n",
       " 'min_num_med',\n",
       " 'sum_num_consultas',\n",
       " 'HIPOLIPEMIANTES',\n",
       " 'tumores_malig_sitios_mul_indep',\n",
       " 'DIURETICOS',\n",
       " 'E12',\n",
       " 'g8',\n",
       " 'g23',\n",
       " 'ANTIRREUMATICOS',\n",
       " 'VITAMINAS',\n",
       " 'ANALGESICOS',\n",
       " 'MINERALES',\n",
       " 'ANTIEPILEPTICOS',\n",
       " 'sexo',\n",
       " 'ANTIULCEROSOS',\n",
       " 'sindrome_maltrato',\n",
       " 'preglucosa',\n",
       " 'ANTIHISTAMINICOS',\n",
       " 'ANTIMICROBIANOS',\n",
       " 'g3',\n",
       " 'E14',\n",
       " 'ANTIARTRITICOS',\n",
       " 'max_trigliceridos',\n",
       " 'ANTIANEMICOS',\n",
       " 'max_colesterol',\n",
       " 'ANTIINFLAMATORIOS',\n",
       " 'avg_colesterol',\n",
       " 'ANTIMICOTICOS',\n",
       " 'fiebre_y_enf_cardiacas_reumaticas',\n",
       " 'g5',\n",
       " 'ANTIDIABETICOS',\n",
       " 'min_colesterol',\n",
       " 'ANTIDEPRESIVOS',\n",
       " 'E10',\n",
       " 'num_med_trigliceridos',\n",
       " 'avg_trigliceridos',\n",
       " 'E70_E90',\n",
       " 'PROCINETICOS GASTROINTESTINALES',\n",
       " 'tumores_insitu',\n",
       " 'min_trigliceridos',\n",
       " 'colesterol',\n",
       " 'tumores_malig_org_respiratorios_intratoracicos',\n",
       " 'E65_E68',\n",
       " 'OFTALMICOS',\n",
       " 'enf_cerebrovasculares',\n",
       " 'EXPECTORANTES',\n",
       " 'comp_precoces_traumatismos',\n",
       " 'O24',\n",
       " 'ANTITUSIGENOS',\n",
       " 'ANTINEOPLASICOS',\n",
       " 'O22',\n",
       " 'num_med_colesterol',\n",
       " 'ANTIALERGICOS',\n",
       " 'enf_sist_nervioso',\n",
       " 'ADYUVANTES DE LA ANALGESIA',\n",
       " 'inf_y_enf_vias_respiratorias_sup',\n",
       " 'enf_sist_osteomuscular_y_tejido',\n",
       " 'ANTIGOTOSOS',\n",
       " 'CORTICOSTEROIDES',\n",
       " 'sintomas_signos_hallazgos_anormales_clin_lab_no_clasif',\n",
       " 'GLUCOSIDOS CARDIACOS',\n",
       " 'E13',\n",
       " 'g14',\n",
       " 'trastornos_mentales',\n",
       " 'enf_inf_intestinales',\n",
       " 'enf_ot_partes_aparato_digestivo',\n",
       " 'ANSIOLITICOS',\n",
       " 'malformaciones_congenitas',\n",
       " 'SEDANTES HIPNOTICOS',\n",
       " 'trastornos_sist_genitourinario_consec_proced',\n",
       " 'trigliceridos',\n",
       " 'g6',\n",
       " 'ANTIACIDOS',\n",
       " 'E11',\n",
       " 'avg_creatinina',\n",
       " 'max_creatinina',\n",
       " 'ot_enf_inf_y_paras_y_efec_tardios',\n",
       " 'ANTICOLINERGICOS',\n",
       " 'HORMONAS',\n",
       " 'OTROS INOTROPICOS POSITIVOS',\n",
       " 'enf_ojo_anexos',\n",
       " 'avg_acido_urico',\n",
       " 'ANTITIROIDEOS',\n",
       " 'I6_I8',\n",
       " 'ANTIDIARREICOS',\n",
       " 'min_creatinina',\n",
       " 'ANTIESPASMODICOS',\n",
       " 'enf_aparato_urinario',\n",
       " 'map_g',\n",
       " 'min_postglucosa',\n",
       " 'ANTISEPTICOS URINARIOS',\n",
       " 'ELECTROLITOS ORALES',\n",
       " 'otras_enf_aparato_vasc',\n",
       " 'min_acido_urico',\n",
       " 'ANESTESICOS LOCALES',\n",
       " 'BRONCODILATADORES',\n",
       " 'avg_hba1c',\n",
       " 'max_postglucosa',\n",
       " 'INMUNODEPRESORES',\n",
       " 'renal',\n",
       " 'max_hba1c',\n",
       " 'min_tfg',\n",
       " 'avg_postglucosa',\n",
       " 'creatinina',\n",
       " 'ANTIEMETICOS',\n",
       " 'num_med_creatinina',\n",
       " 'DERMATOLOGICOS',\n",
       " 'postglucosa',\n",
       " 'num_med_postglucosa',\n",
       " 'ANTIADRENERGICOS',\n",
       " 'ANTIASMATICOS',\n",
       " 'max_tfg',\n",
       " 'g9',\n",
       " 'avg_tfg',\n",
       " 'ACIDIFICANTES DE LAS VIAS URINARIAS',\n",
       " 'g12',\n",
       " 'hba1c',\n",
       " 'ANTISEPTICOS',\n",
       " 'min_hba1c',\n",
       " 'presion_arterial',\n",
       " 'num_med_acido_urico',\n",
       " 'enf_sangre_org_hematop',\n",
       " 'num_med_hba1c',\n",
       " 'ANTIPROTOZOARIOS',\n",
       " 'ADRENERGICOS',\n",
       " 'max_acido_urico',\n",
       " 'avg_urea',\n",
       " 'ANTIMIGRANOSOS',\n",
       " 'g19',\n",
       " 'enf_piel_tejido_subcutaneo',\n",
       " 'HEMATOPOYETICOS',\n",
       " 'tumores_malig_huesos_articulares_conjuntivo_piel_mama',\n",
       " 'renal_años_int',\n",
       " 'min_urea',\n",
       " 'enf_org_genitales_femeninos',\n",
       " 'ANTIHELMINTICOS',\n",
       " 'min_hdl',\n",
       " 'num_med_tfg',\n",
       " 'SOLUCIONES ELECTROLITICAS',\n",
       " 'max_hdl',\n",
       " 'enf_circulacion_pulmonar_enf_corazon',\n",
       " 'acido_urico',\n",
       " 'g4',\n",
       " 'num_med_urea',\n",
       " 'enf_org_genitales_masculinos',\n",
       " 'max_urea',\n",
       " 'tumores_benignos',\n",
       " 'tfg',\n",
       " 'E0_E64',\n",
       " 'avg_hdl',\n",
       " 'RELAJANTES MUSCULARES',\n",
       " 'R0_R4',\n",
       " 'ANTIOSTEOPOROSICOS',\n",
       " 'urea',\n",
       " 'g13',\n",
       " 'ANTIAMEBIANOS',\n",
       " 'comp_aten_med_qx_no_clasif',\n",
       " 'otras_enf_aparato_resp',\n",
       " 'trastornos_mama',\n",
       " 'avg_ldl',\n",
       " 'COAGULANTES',\n",
       " 'num_med_hdl',\n",
       " 'ldl',\n",
       " 'g7',\n",
       " 'enf_oido_apofisis_mastoides',\n",
       " 'g1',\n",
       " 'fracturas',\n",
       " 'ANTAGONISTAS',\n",
       " 'max_ldl',\n",
       " 'enf_cavidad_bucal_glandulas_salivales',\n",
       " 'enf_viricas',\n",
       " 'max_plaquetas',\n",
       " 'min_ldl',\n",
       " 'plaquetas',\n",
       " 'min_plaquetas',\n",
       " 'quemaduras_corrosiones',\n",
       " 'ANTIPALUDICOS',\n",
       " 'K70_K77',\n",
       " 'hdl',\n",
       " 'num_med_ldl',\n",
       " 'heridas',\n",
       " 'avg_plaquetas',\n",
       " 'luxaciones_esguinces_torceduras',\n",
       " 'num_med_plaquetas',\n",
       " 'sec_traumatismos_envenenamiento_causas_ext',\n",
       " 'ot_enf_bacterianas',\n",
       " 'ANTIVIRALES',\n",
       " 'tumores_malig_org_genitourinarios',\n",
       " 'ANTIPARASITARIOS VAGINALES',\n",
       " 'ANTIPROSTATICOS',\n",
       " 'label']"
      ]
     },
     "execution_count": 3,
     "metadata": {},
     "output_type": "execute_result"
    }
   ],
   "source": [
    "list(df.columns)"
   ]
  },
  {
   "cell_type": "code",
   "execution_count": 4,
   "metadata": {},
   "outputs": [
    {
     "data": {
      "text/plain": [
       "\"\\ndf = df[['enf_endocrinas',\\n'dm_años_int',\\n'min_preglucosa',\\n'num_med_presion_a',\\n'año_dx_dm',\\n'colesterol',\\n'ventana',\\n'dm',\\n'num_med',\\n'avg_num_med',\\n'avg_num_consultas_by_year',\\n'trigliceridos',\\n'sum_num_consultas',\\n'num_med_preglucosa',\\n'avg_diastolica_a',\\n'avg_preglucosa',\\n'ANTIANEMICOS',\\n'max_preglucosa',\\n'avg_sistolica_a',\\n'num_med_trigliceridos',\\n'edad_range',\\n'E70_E90',\\n'max_sistolica_a',\\n'max_colesterol',\\n'max_num_med',\\n'imc_range',\\n'epoca_nac',\\n'min_colesterol',\\n'fn_sistolica_a',\\n'min_trigliceridos',\\n'ANTIRREUMATICOS',\\n'g8','label']]\\n\""
      ]
     },
     "execution_count": 4,
     "metadata": {},
     "output_type": "execute_result"
    }
   ],
   "source": [
    "\n",
    "\"\"\"\n",
    "df = df[['enf_endocrinas',\n",
    "'dm_años_int',\n",
    "'min_preglucosa',\n",
    "'num_med_presion_a',\n",
    "'año_dx_dm',\n",
    "'colesterol',\n",
    "'ventana',\n",
    "'dm',\n",
    "'num_med',\n",
    "'avg_num_med',\n",
    "'avg_num_consultas_by_year',\n",
    "'trigliceridos',\n",
    "'sum_num_consultas',\n",
    "'num_med_preglucosa',\n",
    "'avg_diastolica_a',\n",
    "'avg_preglucosa',\n",
    "'ANTIANEMICOS',\n",
    "'max_preglucosa',\n",
    "'avg_sistolica_a',\n",
    "'num_med_trigliceridos',\n",
    "'edad_range',\n",
    "'E70_E90',\n",
    "'max_sistolica_a',\n",
    "'max_colesterol',\n",
    "'max_num_med',\n",
    "'imc_range',\n",
    "'epoca_nac',\n",
    "'min_colesterol',\n",
    "'fn_sistolica_a',\n",
    "'min_trigliceridos',\n",
    "'ANTIRREUMATICOS',\n",
    "'g8','label']]\n",
    "\"\"\""
   ]
  },
  {
   "cell_type": "code",
   "execution_count": 5,
   "metadata": {},
   "outputs": [
    {
     "name": "stdout",
     "output_type": "stream",
     "text": [
      "<class 'pandas.core.frame.DataFrame'>\n",
      "RangeIndex: 2935 entries, 0 to 2934\n",
      "Columns: 216 entries, año_dx_dm to label\n",
      "dtypes: float64(215), int32(1)\n",
      "memory usage: 4.8 MB\n"
     ]
    }
   ],
   "source": [
    "df.info()"
   ]
  },
  {
   "cell_type": "code",
   "execution_count": 6,
   "metadata": {},
   "outputs": [
    {
     "name": "stdout",
     "output_type": "stream",
     "text": [
      "(2935, 215)\n",
      "(2935, 1)\n"
     ]
    }
   ],
   "source": [
    "X = df.loc[:, df.columns != 'label']\n",
    "print(X.shape)\n",
    "Y = df[[\"label\"]]\n",
    "print(Y.shape)"
   ]
  },
  {
   "cell_type": "code",
   "execution_count": 7,
   "metadata": {},
   "outputs": [],
   "source": [
    "X_train,X_test,y_train,y_test = train_test_split(X,Y,test_size=0.3)"
   ]
  },
  {
   "cell_type": "code",
   "execution_count": 8,
   "metadata": {},
   "outputs": [],
   "source": [
    "#from imblearn.over_sampling import SMOTE\n",
    "#sm = SMOTE(random_state=42)\n",
    "#X_res, y_res = sm.fit_resample(X_train, y_train)\n",
    "#X_train = X_res\n",
    "#y_train = y_res"
   ]
  },
  {
   "cell_type": "markdown",
   "metadata": {},
   "source": [
    "### 3. Magic Loop\n",
    "\n",
    "- Diccionario de algoritmos a aplicar"
   ]
  },
  {
   "cell_type": "code",
   "execution_count": 9,
   "metadata": {},
   "outputs": [],
   "source": [
    "algorithms_dict = {'tree': 'tree_grid_search',\n",
    "                   'random_forest': 'rf_grid_search',\n",
    "                   'logistic': 'logistic_grid_search',\n",
    "                   'xgboost': 'xgboost_grid_search'}"
   ]
  },
  {
   "cell_type": "markdown",
   "metadata": {},
   "source": [
    "- Diccionario de configuraciones"
   ]
  },
  {
   "cell_type": "code",
   "execution_count": 10,
   "metadata": {},
   "outputs": [],
   "source": [
    "grid_search_dict = {\n",
    "                        'tree_grid_search': {\n",
    "                            'max_depth': [5, 10, 15],\n",
    "                            'min_samples_leaf': [3, 5, 7]\n",
    "                        },\n",
    "                        'rf_grid_search': {\n",
    "                            'n_estimators': [30, 50, 100],\n",
    "                            'max_depth': [5, 10, 15],\n",
    "                            'min_samples_leaf': [3, 5, 10]\n",
    "                        },\n",
    "                        'logistic_grid_search':{\n",
    "                            'C':np.logspace(-3,3,7),\n",
    "                            'penalty':['l2']\n",
    "                        },\n",
    "                        'xgboost_grid_search':{\n",
    "                            'max_depth': range (2, 10, 1),\n",
    "                            'n_estimators': range(60, 220, 40),\n",
    "                            'learning_rate': [0.1, 0.01, 0.05]\n",
    "                        }\n",
    "                    }"
   ]
  },
  {
   "cell_type": "markdown",
   "metadata": {},
   "source": [
    "- Diccionario de estimadores"
   ]
  },
  {
   "cell_type": "code",
   "execution_count": 11,
   "metadata": {},
   "outputs": [],
   "source": [
    "from xgboost import XGBClassifier"
   ]
  },
  {
   "cell_type": "code",
   "execution_count": 12,
   "metadata": {},
   "outputs": [],
   "source": [
    "from sklearn.tree import DecisionTreeClassifier\n",
    "estimators_dict = {'tree': DecisionTreeClassifier(random_state=1111),\n",
    "                   'random_forest': RandomForestClassifier(oob_score=True, random_state=2222),\n",
    "                   'logistic': LogisticRegression(random_state=3333),\n",
    "                   'xgboost': XGBClassifier(objective= 'binary:logistic',nthread=4,seed=42)\n",
    "                  } "
   ]
  },
  {
   "cell_type": "code",
   "execution_count": 13,
   "metadata": {},
   "outputs": [],
   "source": [
    "def magic_loop(algorithms, features, labels):\n",
    "    best_estimators = []\n",
    "    for algorithm in algorithms:\n",
    "        estimator = estimators_dict[algorithm]\n",
    "        grid_search_to_look = algorithms_dict[algorithm]\n",
    "        grid_params = grid_search_dict[grid_search_to_look]\n",
    "        #tscv = TimeSeriesSplit(n_splits=5)\n",
    "        \n",
    "        #gs = GridSearchCV(estimator, grid_params, scoring='precision', cv=5, n_jobs=-1)\n",
    "        gs = GridSearchCV(estimator, grid_params, scoring='roc_auc', cv=5, n_jobs=-1)\n",
    "        \n",
    "        #train\n",
    "        gs.fit(features, labels)\n",
    "        #best estimator\n",
    "        best_estimators.append(gs)\n",
    "        \n",
    "        \n",
    "    return best_estimators"
   ]
  },
  {
   "cell_type": "code",
   "execution_count": 14,
   "metadata": {},
   "outputs": [],
   "source": [
    "#scoring_met= 'recall'\n",
    "algorithms = ['tree', 'random_forest','logistic','xgboost']\n",
    "models = []\n",
    "start_time = time.time()\n",
    "models_list = []"
   ]
  },
  {
   "cell_type": "code",
   "execution_count": 15,
   "metadata": {},
   "outputs": [
    {
     "name": "stdout",
     "output_type": "stream",
     "text": [
      "Empty DataFrame\n",
      "Columns: []\n",
      "Index: [2067, 1225, 115, 1299, 1376, 2519, 1117, 21, 2714, 1809, 588, 681, 2255, 974, 2523, 2806, 2804, 1754, 2825, 580, 368, 2431, 2832, 1086, 471, 1262, 1337, 1654, 2365, 1053, 549, 2574, 2829, 130, 2505, 1795, 1901, 763, 2293, 635, 583, 230, 71, 1702, 1511, 841, 2481, 2492, 1741, 1413, 56, 39, 232, 2408, 913, 2833, 2220, 2883, 129, 590, 879, 1885, 2024, 751, 2009, 1913, 2247, 1848, 2145, 1421, 2036, 2724, 45, 1591, 374, 1024, 2268, 1, 631, 200, 2797, 1366, 372, 122, 1699, 2086, 178, 2679, 309, 1605, 904, 542, 2895, 1203, 2352, 1106, 2607, 2576, 2744, 2196, ...]\n",
      "\n",
      "[2054 rows x 0 columns]\n"
     ]
    }
   ],
   "source": [
    "# Select dataframe columns with any NaN value\n",
    "subset_df = X_train.loc[:, X_train.isnull().any()]\n",
    "print(subset_df)"
   ]
  },
  {
   "cell_type": "code",
   "execution_count": 16,
   "metadata": {},
   "outputs": [
    {
     "data": {
      "text/plain": [
       "['año_dx_dm',\n",
       " 'dm_años_int',\n",
       " 'ventana',\n",
       " 'dm',\n",
       " 'enf_endocrinas',\n",
       " 'edad_range',\n",
       " 'avg_num_med',\n",
       " 'max_num_med',\n",
       " 'avg_preglucosa',\n",
       " 'max_preglucosa',\n",
       " 'avg_sistolica_a',\n",
       " 'min_preglucosa',\n",
       " 'epoca_nac',\n",
       " 'avg_diastolica_a',\n",
       " 'max_sistolica_a',\n",
       " 'fn_sistolica_a',\n",
       " 'min_sistolica_a',\n",
       " 'num_med',\n",
       " 'num_med_presion_a',\n",
       " 'avg_num_consultas_by_year',\n",
       " 'imc_range',\n",
       " 'num_med_preglucosa',\n",
       " 'fn_diastolica_a',\n",
       " 'max_diastolica_a',\n",
       " 'min_diastolica_a',\n",
       " 'min_num_med',\n",
       " 'sum_num_consultas',\n",
       " 'HIPOLIPEMIANTES',\n",
       " 'tumores_malig_sitios_mul_indep',\n",
       " 'DIURETICOS',\n",
       " 'E12',\n",
       " 'g8',\n",
       " 'g23',\n",
       " 'ANTIRREUMATICOS',\n",
       " 'VITAMINAS',\n",
       " 'ANALGESICOS',\n",
       " 'MINERALES',\n",
       " 'ANTIEPILEPTICOS',\n",
       " 'sexo',\n",
       " 'ANTIULCEROSOS',\n",
       " 'sindrome_maltrato',\n",
       " 'preglucosa',\n",
       " 'ANTIHISTAMINICOS',\n",
       " 'ANTIMICROBIANOS',\n",
       " 'g3',\n",
       " 'E14',\n",
       " 'ANTIARTRITICOS',\n",
       " 'max_trigliceridos',\n",
       " 'ANTIANEMICOS',\n",
       " 'max_colesterol',\n",
       " 'ANTIINFLAMATORIOS',\n",
       " 'avg_colesterol',\n",
       " 'ANTIMICOTICOS',\n",
       " 'fiebre_y_enf_cardiacas_reumaticas',\n",
       " 'g5',\n",
       " 'ANTIDIABETICOS',\n",
       " 'min_colesterol',\n",
       " 'ANTIDEPRESIVOS',\n",
       " 'E10',\n",
       " 'num_med_trigliceridos',\n",
       " 'avg_trigliceridos',\n",
       " 'E70_E90',\n",
       " 'PROCINETICOS GASTROINTESTINALES',\n",
       " 'tumores_insitu',\n",
       " 'min_trigliceridos',\n",
       " 'colesterol',\n",
       " 'tumores_malig_org_respiratorios_intratoracicos',\n",
       " 'E65_E68',\n",
       " 'OFTALMICOS',\n",
       " 'enf_cerebrovasculares',\n",
       " 'EXPECTORANTES',\n",
       " 'comp_precoces_traumatismos',\n",
       " 'O24',\n",
       " 'ANTITUSIGENOS',\n",
       " 'ANTINEOPLASICOS',\n",
       " 'O22',\n",
       " 'num_med_colesterol',\n",
       " 'ANTIALERGICOS',\n",
       " 'enf_sist_nervioso',\n",
       " 'ADYUVANTES DE LA ANALGESIA',\n",
       " 'inf_y_enf_vias_respiratorias_sup',\n",
       " 'enf_sist_osteomuscular_y_tejido',\n",
       " 'ANTIGOTOSOS',\n",
       " 'CORTICOSTEROIDES',\n",
       " 'sintomas_signos_hallazgos_anormales_clin_lab_no_clasif',\n",
       " 'GLUCOSIDOS CARDIACOS',\n",
       " 'E13',\n",
       " 'g14',\n",
       " 'trastornos_mentales',\n",
       " 'enf_inf_intestinales',\n",
       " 'enf_ot_partes_aparato_digestivo',\n",
       " 'ANSIOLITICOS',\n",
       " 'malformaciones_congenitas',\n",
       " 'SEDANTES HIPNOTICOS',\n",
       " 'trastornos_sist_genitourinario_consec_proced',\n",
       " 'trigliceridos',\n",
       " 'g6',\n",
       " 'ANTIACIDOS',\n",
       " 'E11',\n",
       " 'avg_creatinina',\n",
       " 'max_creatinina',\n",
       " 'ot_enf_inf_y_paras_y_efec_tardios',\n",
       " 'ANTICOLINERGICOS',\n",
       " 'HORMONAS',\n",
       " 'OTROS INOTROPICOS POSITIVOS',\n",
       " 'enf_ojo_anexos',\n",
       " 'avg_acido_urico',\n",
       " 'ANTITIROIDEOS',\n",
       " 'I6_I8',\n",
       " 'ANTIDIARREICOS',\n",
       " 'min_creatinina',\n",
       " 'ANTIESPASMODICOS',\n",
       " 'enf_aparato_urinario',\n",
       " 'map_g',\n",
       " 'min_postglucosa',\n",
       " 'ANTISEPTICOS URINARIOS',\n",
       " 'ELECTROLITOS ORALES',\n",
       " 'otras_enf_aparato_vasc',\n",
       " 'min_acido_urico',\n",
       " 'ANESTESICOS LOCALES',\n",
       " 'BRONCODILATADORES',\n",
       " 'avg_hba1c',\n",
       " 'max_postglucosa',\n",
       " 'INMUNODEPRESORES',\n",
       " 'renal',\n",
       " 'max_hba1c',\n",
       " 'min_tfg',\n",
       " 'avg_postglucosa',\n",
       " 'creatinina',\n",
       " 'ANTIEMETICOS',\n",
       " 'num_med_creatinina',\n",
       " 'DERMATOLOGICOS',\n",
       " 'postglucosa',\n",
       " 'num_med_postglucosa',\n",
       " 'ANTIADRENERGICOS',\n",
       " 'ANTIASMATICOS',\n",
       " 'max_tfg',\n",
       " 'g9',\n",
       " 'avg_tfg',\n",
       " 'ACIDIFICANTES DE LAS VIAS URINARIAS',\n",
       " 'g12',\n",
       " 'hba1c',\n",
       " 'ANTISEPTICOS',\n",
       " 'min_hba1c',\n",
       " 'presion_arterial',\n",
       " 'num_med_acido_urico',\n",
       " 'enf_sangre_org_hematop',\n",
       " 'num_med_hba1c',\n",
       " 'ANTIPROTOZOARIOS',\n",
       " 'ADRENERGICOS',\n",
       " 'max_acido_urico',\n",
       " 'avg_urea',\n",
       " 'ANTIMIGRANOSOS',\n",
       " 'g19',\n",
       " 'enf_piel_tejido_subcutaneo',\n",
       " 'HEMATOPOYETICOS',\n",
       " 'tumores_malig_huesos_articulares_conjuntivo_piel_mama',\n",
       " 'renal_años_int',\n",
       " 'min_urea',\n",
       " 'enf_org_genitales_femeninos',\n",
       " 'ANTIHELMINTICOS',\n",
       " 'min_hdl',\n",
       " 'num_med_tfg',\n",
       " 'SOLUCIONES ELECTROLITICAS',\n",
       " 'max_hdl',\n",
       " 'enf_circulacion_pulmonar_enf_corazon',\n",
       " 'acido_urico',\n",
       " 'g4',\n",
       " 'num_med_urea',\n",
       " 'enf_org_genitales_masculinos',\n",
       " 'max_urea',\n",
       " 'tumores_benignos',\n",
       " 'tfg',\n",
       " 'E0_E64',\n",
       " 'avg_hdl',\n",
       " 'RELAJANTES MUSCULARES',\n",
       " 'R0_R4',\n",
       " 'ANTIOSTEOPOROSICOS',\n",
       " 'urea',\n",
       " 'g13',\n",
       " 'ANTIAMEBIANOS',\n",
       " 'comp_aten_med_qx_no_clasif',\n",
       " 'otras_enf_aparato_resp',\n",
       " 'trastornos_mama',\n",
       " 'avg_ldl',\n",
       " 'COAGULANTES',\n",
       " 'num_med_hdl',\n",
       " 'ldl',\n",
       " 'g7',\n",
       " 'enf_oido_apofisis_mastoides',\n",
       " 'g1',\n",
       " 'fracturas',\n",
       " 'ANTAGONISTAS',\n",
       " 'max_ldl',\n",
       " 'enf_cavidad_bucal_glandulas_salivales',\n",
       " 'enf_viricas',\n",
       " 'max_plaquetas',\n",
       " 'min_ldl',\n",
       " 'plaquetas',\n",
       " 'min_plaquetas',\n",
       " 'quemaduras_corrosiones',\n",
       " 'ANTIPALUDICOS',\n",
       " 'K70_K77',\n",
       " 'hdl',\n",
       " 'num_med_ldl',\n",
       " 'heridas',\n",
       " 'avg_plaquetas',\n",
       " 'luxaciones_esguinces_torceduras',\n",
       " 'num_med_plaquetas',\n",
       " 'sec_traumatismos_envenenamiento_causas_ext',\n",
       " 'ot_enf_bacterianas',\n",
       " 'ANTIVIRALES',\n",
       " 'tumores_malig_org_genitourinarios',\n",
       " 'ANTIPARASITARIOS VAGINALES',\n",
       " 'ANTIPROSTATICOS']"
      ]
     },
     "execution_count": 16,
     "metadata": {},
     "output_type": "execute_result"
    }
   ],
   "source": [
    "X_train.columns.values.tolist()"
   ]
  },
  {
   "cell_type": "code",
   "execution_count": null,
   "metadata": {},
   "outputs": [],
   "source": []
  },
  {
   "cell_type": "code",
   "execution_count": 17,
   "metadata": {},
   "outputs": [
    {
     "name": "stdout",
     "output_type": "stream",
     "text": [
      "Selección de variables completada satisfactoriamente en  197.1190001964569  segundos\n"
     ]
    }
   ],
   "source": [
    "best = magic_loop(algorithms, X_train, y_train)\n",
    "print(\"Selección de variables completada satisfactoriamente en \", time.time() - start_time, ' segundos')"
   ]
  },
  {
   "cell_type": "code",
   "execution_count": 18,
   "metadata": {},
   "outputs": [
    {
     "data": {
      "text/plain": [
       "XGBClassifier(base_score=0.5, booster='gbtree', callbacks=None,\n",
       "              colsample_bylevel=1, colsample_bynode=1, colsample_bytree=1,\n",
       "              early_stopping_rounds=None, enable_categorical=False,\n",
       "              eval_metric=None, gamma=0, gpu_id=-1, grow_policy='depthwise',\n",
       "              importance_type=None, interaction_constraints='',\n",
       "              learning_rate=0.1, max_bin=256, max_cat_to_onehot=4,\n",
       "              max_delta_step=0, max_depth=9, max_leaves=0, min_child_weight=1,\n",
       "              missing=nan, monotone_constraints='()', n_estimators=180,\n",
       "              n_jobs=4, nthread=4, num_parallel_tree=1, predictor='auto',\n",
       "              random_state=42, reg_alpha=0, ...)"
      ]
     },
     "execution_count": 18,
     "metadata": {},
     "output_type": "execute_result"
    }
   ],
   "source": [
    "model0 = best[0].best_estimator_\n",
    "model0\n",
    "\n",
    "model1 = best[1].best_estimator_\n",
    "model1\n",
    "\n",
    "model2 = best[2].best_estimator_\n",
    "model2\n",
    "\n",
    "model3 = best[3].best_estimator_\n",
    "model3"
   ]
  },
  {
   "cell_type": "code",
   "execution_count": 19,
   "metadata": {},
   "outputs": [],
   "source": [
    "utils.save_df(model0, \"../output/best_model0_av.pkl\")\n",
    "utils.save_df(model1, \"../output/best_model1_av.pkl\")\n",
    "utils.save_df(model2, \"../output/best_model2_av.pkl\")\n",
    "utils.save_df(model3, \"../output/best_model3_av.pkl\")"
   ]
  },
  {
   "cell_type": "markdown",
   "metadata": {},
   "source": [
    "### 4. Evaluando modelo"
   ]
  },
  {
   "cell_type": "code",
   "execution_count": 20,
   "metadata": {},
   "outputs": [],
   "source": [
    "from sklearn.metrics import roc_curve, roc_auc_score\n",
    "from sklearn.metrics import accuracy_score, precision_recall_curve, precision_score, recall_score\n",
    "from sklearn.metrics import confusion_matrix, plot_confusion_matrix\n",
    "import matplotlib.pyplot as plt"
   ]
  },
  {
   "cell_type": "code",
   "execution_count": 21,
   "metadata": {},
   "outputs": [],
   "source": [
    "predicted_labels0 = model0.predict(X_test)\n",
    "predicted_scores0 = model0.predict_proba(X_test)\n",
    "\n",
    "predicted_labels1 = model1.predict(X_test)\n",
    "predicted_scores1 = model1.predict_proba(X_test)\n",
    "\n",
    "predicted_labels2 = model2.predict(X_test)\n",
    "predicted_scores2 = model2.predict_proba(X_test)\n",
    "\n",
    "predicted_labels3 = model3.predict(X_test)\n",
    "predicted_scores3 = model3.predict_proba(X_test)\n"
   ]
  },
  {
   "cell_type": "code",
   "execution_count": 22,
   "metadata": {},
   "outputs": [
    {
     "data": {
      "image/png": "[encoded data removed]",
      "text/plain": [
       "<Figure size 432x288 with 1 Axes>"
      ]
     },
     "metadata": {
      "needs_background": "light"
     },
     "output_type": "display_data"
    },
    {
     "name": "stdout",
     "output_type": "stream",
     "text": [
      "[[412 105]\n",
      " [107 257]]\n"
     ]
    },
    {
     "data": {
      "text/plain": [
       "<sklearn.metrics._plot.confusion_matrix.ConfusionMatrixDisplay at 0xeaaccc8>"
      ]
     },
     "execution_count": 22,
     "metadata": {},
     "output_type": "execute_result"
    },
    {
     "data": {
      "image/png": "[encoded data removed]",
      "text/plain": [
       "<Figure size 432x288 with 2 Axes>"
      ]
     },
     "metadata": {
      "needs_background": "light"
     },
     "output_type": "display_data"
    }
   ],
   "source": [
    "### Curva ROC\n",
    "plt.figure()\n",
    "fpr, tpr, thresholds = roc_curve(y_test, predicted_scores0[:, 1], pos_label=1)\n",
    "plt.clf()\n",
    "plt.plot([0, 1], [0, 1], 'k--', c=\"red\")\n",
    "plt.plot(fpr, tpr)\n",
    "plt.title(\"ROC best RF, AUC: {}\".format(roc_auc_score(y_test, predicted_labels0)))\n",
    "plt.xlabel(\"fpr\")\n",
    "plt.ylabel(\"tpr\")\n",
    "#plt.savefig('../output/ROC_curve.png', bbox_inches='tight')\n",
    "plt.show()\n",
    "\n",
    "print(confusion_matrix(y_test, predicted_labels0))\n",
    "plot_confusion_matrix(model0, X_test, y_test, cmap=plt.cm.Blues)  "
   ]
  },
  {
   "cell_type": "code",
   "execution_count": 23,
   "metadata": {},
   "outputs": [
    {
     "data": {
      "image/png": "[encoded data removed]",
      "text/plain": [
       "<Figure size 432x288 with 1 Axes>"
      ]
     },
     "metadata": {
      "needs_background": "light"
     },
     "output_type": "display_data"
    },
    {
     "name": "stdout",
     "output_type": "stream",
     "text": [
      "[[421  96]\n",
      " [ 60 304]]\n"
     ]
    },
    {
     "data": {
      "text/plain": [
       "<sklearn.metrics._plot.confusion_matrix.ConfusionMatrixDisplay at 0xe951148>"
      ]
     },
     "execution_count": 23,
     "metadata": {},
     "output_type": "execute_result"
    },
    {
     "data": {
      "image/png": "[encoded data removed]",
      "text/plain": [
       "<Figure size 432x288 with 2 Axes>"
      ]
     },
     "metadata": {
      "needs_background": "light"
     },
     "output_type": "display_data"
    }
   ],
   "source": [
    "### Curva ROC\n",
    "plt.figure()\n",
    "fpr, tpr, thresholds = roc_curve(y_test, predicted_scores1[:, 1], pos_label=1)\n",
    "plt.clf()\n",
    "plt.plot([0, 1], [0, 1], 'k--', c=\"red\")\n",
    "plt.plot(fpr, tpr)\n",
    "plt.title(\"ROC best RF, AUC: {}\".format(roc_auc_score(y_test, predicted_labels1)))\n",
    "plt.xlabel(\"fpr\")\n",
    "plt.ylabel(\"tpr\")\n",
    "#plt.savefig('../output/ROC_curve.png', bbox_inches='tight')\n",
    "plt.show()\n",
    "\n",
    "print(confusion_matrix(y_test, predicted_labels1))\n",
    "plot_confusion_matrix(model1, X_test, y_test, cmap=plt.cm.Blues)  "
   ]
  },
  {
   "cell_type": "code",
   "execution_count": 24,
   "metadata": {},
   "outputs": [
    {
     "data": {
      "image/png": "[encoded data removed]",
      "text/plain": [
       "<Figure size 432x288 with 1 Axes>"
      ]
     },
     "metadata": {
      "needs_background": "light"
     },
     "output_type": "display_data"
    },
    {
     "name": "stdout",
     "output_type": "stream",
     "text": [
      "[[427  90]\n",
      " [227 137]]\n"
     ]
    },
    {
     "data": {
      "text/plain": [
       "<sklearn.metrics._plot.confusion_matrix.ConfusionMatrixDisplay at 0xeffd5c8>"
      ]
     },
     "execution_count": 24,
     "metadata": {},
     "output_type": "execute_result"
    },
    {
     "data": {
      "image/png": "[encoded data removed]",
      "text/plain": [
       "<Figure size 432x288 with 2 Axes>"
      ]
     },
     "metadata": {
      "needs_background": "light"
     },
     "output_type": "display_data"
    }
   ],
   "source": [
    "### Curva ROC\n",
    "plt.figure()\n",
    "fpr, tpr, thresholds = roc_curve(y_test, predicted_scores2[:, 1], pos_label=1)\n",
    "plt.clf()\n",
    "plt.plot([0, 1], [0, 1], 'k--', c=\"red\")\n",
    "plt.plot(fpr, tpr)\n",
    "plt.title(\"ROC best RF, AUC: {}\".format(roc_auc_score(y_test, predicted_labels2)))\n",
    "plt.xlabel(\"fpr\")\n",
    "plt.ylabel(\"tpr\")\n",
    "#plt.savefig('../output/ROC_curve.png', bbox_inches='tight')\n",
    "plt.show()\n",
    "\n",
    "print(confusion_matrix(y_test, predicted_labels2))\n",
    "plot_confusion_matrix(model2, X_test, y_test, cmap=plt.cm.Blues)  "
   ]
  },
  {
   "cell_type": "code",
   "execution_count": 25,
   "metadata": {},
   "outputs": [
    {
     "data": {
      "image/png": "[encoded data removed]",
      "text/plain": [
       "<Figure size 432x288 with 1 Axes>"
      ]
     },
     "metadata": {
      "needs_background": "light"
     },
     "output_type": "display_data"
    },
    {
     "name": "stdout",
     "output_type": "stream",
     "text": [
      "[[433  84]\n",
      " [ 53 311]]\n"
     ]
    },
    {
     "data": {
      "text/plain": [
       "<sklearn.metrics._plot.confusion_matrix.ConfusionMatrixDisplay at 0xf055288>"
      ]
     },
     "execution_count": 25,
     "metadata": {},
     "output_type": "execute_result"
    },
    {
     "data": {
      "image/png": "[encoded data removed]",
      "text/plain": [
       "<Figure size 432x288 with 2 Axes>"
      ]
     },
     "metadata": {
      "needs_background": "light"
     },
     "output_type": "display_data"
    }
   ],
   "source": [
    "### Curva ROC\n",
    "plt.figure()\n",
    "fpr, tpr, thresholds = roc_curve(y_test, predicted_scores3[:, 1], pos_label=1)\n",
    "plt.clf()\n",
    "plt.plot([0, 1], [0, 1], 'k--', c=\"red\")\n",
    "plt.plot(fpr, tpr)\n",
    "plt.title(\"ROC best RF, AUC: {}\".format(roc_auc_score(y_test, predicted_labels3)))\n",
    "plt.xlabel(\"fpr\")\n",
    "plt.ylabel(\"tpr\")\n",
    "#plt.savefig('../output/ROC_curve.png', bbox_inches='tight')\n",
    "plt.show()\n",
    "\n",
    "print(confusion_matrix(y_test, predicted_labels3))\n",
    "plot_confusion_matrix(model3, X_test, y_test, cmap=plt.cm.Blues)  "
   ]
  },
  {
   "cell_type": "code",
   "execution_count": 26,
   "metadata": {},
   "outputs": [],
   "source": [
    "def get_metrics_report(fpr, tpr, thresholds, precision, recall, thresholds_2):\n",
    "    df_1 = pd.DataFrame({'threshold': thresholds_2, 'precision': precision,\n",
    "                         'recall': recall})\n",
    "    df_1['f1_score'] = 2 * (df_1.precision * df_1.recall) / (df_1.precision + df_1.recall)\n",
    "\n",
    "    df_2 = pd.DataFrame({'tpr': tpr, 'fpr': fpr, 'threshold': thresholds})\n",
    "    df_2['tnr'] = 1 - df_2['fpr']\n",
    "    df_2['fnr'] = 1 - df_2['tpr']\n",
    "\n",
    "    df = df_1.merge(df_2, on=\"threshold\")\n",
    "\n",
    "    return df"
   ]
  },
  {
   "cell_type": "code",
   "execution_count": 27,
   "metadata": {},
   "outputs": [
    {
     "data": {
      "image/png": "[encoded data removed]",
      "text/plain": [
       "<Figure size 432x288 with 1 Axes>"
      ]
     },
     "metadata": {
      "needs_background": "light"
     },
     "output_type": "display_data"
    }
   ],
   "source": [
    "# Generando métricas\n",
    "precision, recall, thresholds_2 = precision_recall_curve(y_test, predicted_scores1[:, 1], pos_label=1)\n",
    "thresholds_2 = np.append(thresholds_2, 1)\n",
    "metrics_report = get_metrics_report(fpr, tpr, thresholds, precision, recall, thresholds_2)\n",
    "#save_metrics(metrics_report, '../output/metricas_offline.pkl')\n",
    "\n",
    "# Curva: Precision-recall\n",
    "plt.figure()\n",
    "plt.plot(metrics_report['threshold'], metrics_report['precision'], 'k--', c=\"red\", label='precision')\n",
    "plt.plot(metrics_report['threshold'], metrics_report['recall'], 'k--', c=\"blue\", label='recall')\n",
    "plt.xlabel('threshold')\n",
    "plt.ylim([0, 1])\n",
    "plt.legend(bbox_to_anchor=(1, 1), fontsize=12)\n",
    "plt.savefig('../output/recall_precision.png', bbox_inches='tight')\n",
    "#plt.show()"
   ]
  },
  {
   "cell_type": "code",
   "execution_count": 28,
   "metadata": {},
   "outputs": [],
   "source": [
    "# Curva: recall-precision @k\n",
    "data_junta = pd.concat([X_test, y_test], axis=1)\n",
    "data_filtrada = data_junta\n",
    "datos_finales_X = pd.DataFrame(data_filtrada.drop(['label'], axis=1))\n",
    "y_true = data_filtrada.label\n",
    "y_scores = model1.predict_proba(datos_finales_X)"
   ]
  },
  {
   "cell_type": "code",
   "execution_count": 29,
   "metadata": {},
   "outputs": [],
   "source": [
    "def param_graf(y_true, y_scores):\n",
    "    k_values = np.linspace(0, 0.99, 100)\n",
    "    lista = []\n",
    "\n",
    "    for k in k_values:\n",
    "        p_k = precision_at_k(y_true, pd.DataFrame(y_scores)[1], k)\n",
    "        r_k = recall_at_k(y_true, pd.DataFrame(y_scores)[1], k)\n",
    "        lista = lista + [[p_k, r_k, k]]\n",
    "\n",
    "    p_r_g = pd.DataFrame(lista, columns=[\"p_k\", \"r_k\", \"k\"])\n",
    "\n",
    "    return p_r_g\n",
    "\n",
    "def precision_at_k(y_true, y_scores, k):\n",
    "    threshold = np.sort(y_scores)[::-1][int(k * len(y_scores))]\n",
    "    y_pred = np.asarray([1 if i >= threshold else 0 for i in y_scores])\n",
    "\n",
    "    return precision_score(y_true, y_pred)\n",
    "\n",
    "def recall_at_k(y_true, y_scores, k):\n",
    "    threshold = np.sort(y_scores)[::-1][int(k * len(y_scores))]\n",
    "    y_pred = np.asarray([1 if i >= threshold else 0 for i in y_scores])\n",
    "\n",
    "    return recall_score(y_true, y_pred)"
   ]
  },
  {
   "cell_type": "code",
   "execution_count": 30,
   "metadata": {},
   "outputs": [
    {
     "data": {
      "image/png": "[encoded data removed]",
      "text/plain": [
       "<Figure size 432x288 with 1 Axes>"
      ]
     },
     "metadata": {
      "needs_background": "light"
     },
     "output_type": "display_data"
    }
   ],
   "source": [
    "p_r_g = param_graf(y_true, y_scores)\n",
    "\n",
    "plt.figure()\n",
    "plt.plot(p_r_g[\"k\"], p_r_g[\"p_k\"], label=\"P\")\n",
    "plt.plot(p_r_g[\"k\"], p_r_g[\"r_k\"], label=\"R\")\n",
    "plt.title(\"Precision and recall at k%: PA\")\n",
    "plt.axvline(x=0.037, c='red', linestyle='--')\n",
    "plt.ylabel(\"Mejor valor\")\n",
    "plt.legend(['Precision', 'Recall'])\n",
    "plt.xlabel(\"%k\")\n",
    "plt.savefig('../output/recall_precision_k.png', bbox_inches='tight')\n",
    "#plt.show()"
   ]
  },
  {
   "cell_type": "code",
   "execution_count": null,
   "metadata": {},
   "outputs": [],
   "source": []
  }
 ],
 "metadata": {
  "kernelspec": {
   "display_name": "Python 3",
   "language": "python",
   "name": "python3"
  },
  "language_info": {
   "codemirror_mode": {
    "name": "ipython",
    "version": 3
   },
   "file_extension": ".py",
   "mimetype": "text/x-python",
   "name": "python",
   "nbconvert_exporter": "python",
   "pygments_lexer": "ipython3",
   "version": "3.7.6"
  }
 },
 "nbformat": 4,
 "nbformat_minor": 4
}
