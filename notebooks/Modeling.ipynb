{
 "cells": [
  {
   "cell_type": "markdown",
   "metadata": {},
   "source": [
    "# Modeling\n",
    "## Estancia de investigación Maestría de Ciencia de Datos\n",
    "## Aide Jazmín González Cruz\n",
    "\n",
    "### 1. Carga de librerías"
   ]
  },
  {
   "cell_type": "code",
   "execution_count": 1,
   "metadata": {},
   "outputs": [],
   "source": [
    "import pandas as pd\n",
    "import numpy as np\n",
    "from sklearn.model_selection import GridSearchCV, TimeSeriesSplit, train_test_split\n",
    "from sklearn.ensemble import RandomForestClassifier\n",
    "from sklearn.preprocessing import MinMaxScaler, OneHotEncoder, KBinsDiscretizer\n",
    "from sklearn.compose import ColumnTransformer\n",
    "from sklearn.base import BaseEstimator,TransformerMixin\n",
    "from sklearn.linear_model import LogisticRegression\n",
    "from sklearn.tree import DecisionTreeClassifier\n",
    "from siuba import *\n",
    "import time\n",
    "from time import gmtime, strftime\n",
    "\n",
    "import sys\n",
    "import os\n",
    "from os.path import dirname\n",
    "from datetime import datetime\n",
    "import warnings\n",
    "warnings.filterwarnings('ignore')\n",
    "sys.path.append(dirname('../src'))\n",
    "from src.utils import utils\n"
   ]
  },
  {
   "cell_type": "markdown",
   "metadata": {},
   "source": [
    "### 2. Carga de features y división de datos de entrenamiento y validación"
   ]
  },
  {
   "cell_type": "code",
   "execution_count": 2,
   "metadata": {},
   "outputs": [
    {
     "data": {
      "text/html": [
       "<div>\n",
       "<style scoped>\n",
       "    .dataframe tbody tr th:only-of-type {\n",
       "        vertical-align: middle;\n",
       "    }\n",
       "\n",
       "    .dataframe tbody tr th {\n",
       "        vertical-align: top;\n",
       "    }\n",
       "\n",
       "    .dataframe thead th {\n",
       "        text-align: right;\n",
       "    }\n",
       "</style>\n",
       "<table border=\"1\" class=\"dataframe\">\n",
       "  <thead>\n",
       "    <tr style=\"text-align: right;\">\n",
       "      <th></th>\n",
       "      <th>ventana</th>\n",
       "      <th>epoca_nac</th>\n",
       "      <th>edad_range</th>\n",
       "      <th>max_dif_vent_entre_consul</th>\n",
       "      <th>num_med_preglucosa</th>\n",
       "      <th>avg_vent_entre_consul</th>\n",
       "      <th>min_sistolica_a</th>\n",
       "      <th>avg_sistolica_a</th>\n",
       "      <th>avg_preglucosa</th>\n",
       "      <th>min_preglucosa</th>\n",
       "      <th>...</th>\n",
       "      <th>R00</th>\n",
       "      <th>trastornos_mentales</th>\n",
       "      <th>R03</th>\n",
       "      <th>tumores_insitu</th>\n",
       "      <th>avg_K71</th>\n",
       "      <th>ANTIBIOTICOS.1</th>\n",
       "      <th>FARMACOS_UTILIZADOS_EN_NEFROLOGIA</th>\n",
       "      <th>avg_I15</th>\n",
       "      <th>O14</th>\n",
       "      <th>label</th>\n",
       "    </tr>\n",
       "  </thead>\n",
       "  <tbody>\n",
       "    <tr>\n",
       "      <th>0</th>\n",
       "      <td>1.0</td>\n",
       "      <td>5.0</td>\n",
       "      <td>5.0</td>\n",
       "      <td>100.0</td>\n",
       "      <td>9.0</td>\n",
       "      <td>29.833333</td>\n",
       "      <td>110.0</td>\n",
       "      <td>119.523810</td>\n",
       "      <td>150.000000</td>\n",
       "      <td>108.000</td>\n",
       "      <td>...</td>\n",
       "      <td>1.0</td>\n",
       "      <td>0.0</td>\n",
       "      <td>1.0</td>\n",
       "      <td>1.0</td>\n",
       "      <td>12.5</td>\n",
       "      <td>0.0</td>\n",
       "      <td>0.0</td>\n",
       "      <td>12.5</td>\n",
       "      <td>1.0</td>\n",
       "      <td>0</td>\n",
       "    </tr>\n",
       "    <tr>\n",
       "      <th>1</th>\n",
       "      <td>2.0</td>\n",
       "      <td>5.0</td>\n",
       "      <td>5.0</td>\n",
       "      <td>69.0</td>\n",
       "      <td>3.0</td>\n",
       "      <td>29.956522</td>\n",
       "      <td>110.0</td>\n",
       "      <td>120.000000</td>\n",
       "      <td>169.000000</td>\n",
       "      <td>109.000</td>\n",
       "      <td>...</td>\n",
       "      <td>1.0</td>\n",
       "      <td>0.0</td>\n",
       "      <td>1.0</td>\n",
       "      <td>1.0</td>\n",
       "      <td>11.5</td>\n",
       "      <td>0.0</td>\n",
       "      <td>0.0</td>\n",
       "      <td>11.5</td>\n",
       "      <td>1.0</td>\n",
       "      <td>0</td>\n",
       "    </tr>\n",
       "    <tr>\n",
       "      <th>2</th>\n",
       "      <td>3.0</td>\n",
       "      <td>5.0</td>\n",
       "      <td>6.0</td>\n",
       "      <td>69.0</td>\n",
       "      <td>1.0</td>\n",
       "      <td>33.857143</td>\n",
       "      <td>110.0</td>\n",
       "      <td>120.476190</td>\n",
       "      <td>253.000000</td>\n",
       "      <td>253.000</td>\n",
       "      <td>...</td>\n",
       "      <td>1.0</td>\n",
       "      <td>0.0</td>\n",
       "      <td>1.0</td>\n",
       "      <td>1.0</td>\n",
       "      <td>10.5</td>\n",
       "      <td>0.0</td>\n",
       "      <td>0.0</td>\n",
       "      <td>10.5</td>\n",
       "      <td>1.0</td>\n",
       "      <td>0</td>\n",
       "    </tr>\n",
       "    <tr>\n",
       "      <th>3</th>\n",
       "      <td>4.0</td>\n",
       "      <td>5.0</td>\n",
       "      <td>6.0</td>\n",
       "      <td>112.0</td>\n",
       "      <td>4.0</td>\n",
       "      <td>37.450000</td>\n",
       "      <td>110.0</td>\n",
       "      <td>122.842105</td>\n",
       "      <td>155.750000</td>\n",
       "      <td>80.000</td>\n",
       "      <td>...</td>\n",
       "      <td>1.0</td>\n",
       "      <td>0.0</td>\n",
       "      <td>1.0</td>\n",
       "      <td>1.0</td>\n",
       "      <td>10.0</td>\n",
       "      <td>0.0</td>\n",
       "      <td>0.0</td>\n",
       "      <td>10.0</td>\n",
       "      <td>1.0</td>\n",
       "      <td>1</td>\n",
       "    </tr>\n",
       "    <tr>\n",
       "      <th>4</th>\n",
       "      <td>1.0</td>\n",
       "      <td>7.0</td>\n",
       "      <td>4.0</td>\n",
       "      <td>542.0</td>\n",
       "      <td>5.0</td>\n",
       "      <td>185.000000</td>\n",
       "      <td>100.0</td>\n",
       "      <td>100.000000</td>\n",
       "      <td>152.899811</td>\n",
       "      <td>119.675</td>\n",
       "      <td>...</td>\n",
       "      <td>1.0</td>\n",
       "      <td>0.0</td>\n",
       "      <td>1.0</td>\n",
       "      <td>1.0</td>\n",
       "      <td>2.0</td>\n",
       "      <td>0.0</td>\n",
       "      <td>0.0</td>\n",
       "      <td>2.0</td>\n",
       "      <td>1.0</td>\n",
       "      <td>0</td>\n",
       "    </tr>\n",
       "  </tbody>\n",
       "</table>\n",
       "<p>5 rows × 337 columns</p>\n",
       "</div>"
      ],
      "text/plain": [
       "   ventana  epoca_nac  edad_range  max_dif_vent_entre_consul  \\\n",
       "0      1.0        5.0         5.0                      100.0   \n",
       "1      2.0        5.0         5.0                       69.0   \n",
       "2      3.0        5.0         6.0                       69.0   \n",
       "3      4.0        5.0         6.0                      112.0   \n",
       "4      1.0        7.0         4.0                      542.0   \n",
       "\n",
       "   num_med_preglucosa  avg_vent_entre_consul  min_sistolica_a  \\\n",
       "0                 9.0              29.833333            110.0   \n",
       "1                 3.0              29.956522            110.0   \n",
       "2                 1.0              33.857143            110.0   \n",
       "3                 4.0              37.450000            110.0   \n",
       "4                 5.0             185.000000            100.0   \n",
       "\n",
       "   avg_sistolica_a  avg_preglucosa  min_preglucosa  ...  R00  \\\n",
       "0       119.523810      150.000000         108.000  ...  1.0   \n",
       "1       120.000000      169.000000         109.000  ...  1.0   \n",
       "2       120.476190      253.000000         253.000  ...  1.0   \n",
       "3       122.842105      155.750000          80.000  ...  1.0   \n",
       "4       100.000000      152.899811         119.675  ...  1.0   \n",
       "\n",
       "   trastornos_mentales  R03  tumores_insitu  avg_K71  ANTIBIOTICOS.1  \\\n",
       "0                  0.0  1.0             1.0     12.5             0.0   \n",
       "1                  0.0  1.0             1.0     11.5             0.0   \n",
       "2                  0.0  1.0             1.0     10.5             0.0   \n",
       "3                  0.0  1.0             1.0     10.0             0.0   \n",
       "4                  0.0  1.0             1.0      2.0             0.0   \n",
       "\n",
       "   FARMACOS_UTILIZADOS_EN_NEFROLOGIA  avg_I15  O14  label  \n",
       "0                                0.0     12.5  1.0      0  \n",
       "1                                0.0     11.5  1.0      0  \n",
       "2                                0.0     10.5  1.0      0  \n",
       "3                                0.0     10.0  1.0      1  \n",
       "4                                0.0      2.0  1.0      0  \n",
       "\n",
       "[5 rows x 337 columns]"
      ]
     },
     "execution_count": 2,
     "metadata": {},
     "output_type": "execute_result"
    }
   ],
   "source": [
    "df = utils.load_df(\"../Data/feature_sel.pkl\")\n",
    "df.head(5)"
   ]
  },
  {
   "cell_type": "code",
   "execution_count": 3,
   "metadata": {},
   "outputs": [
    {
     "name": "stdout",
     "output_type": "stream",
     "text": [
      "<class 'pandas.core.frame.DataFrame'>\n",
      "RangeIndex: 166 entries, 0 to 165\n",
      "Columns: 337 entries, ventana to label\n",
      "dtypes: float64(336), int64(1)\n",
      "memory usage: 437.2 KB\n"
     ]
    }
   ],
   "source": [
    "df.info()"
   ]
  },
  {
   "cell_type": "code",
   "execution_count": 4,
   "metadata": {},
   "outputs": [
    {
     "name": "stdout",
     "output_type": "stream",
     "text": [
      "(166, 336)\n",
      "(166, 1)\n"
     ]
    }
   ],
   "source": [
    "X = df.loc[:, df.columns != 'label']\n",
    "print(X.shape)\n",
    "Y = df[[\"label\"]]\n",
    "print(Y.shape)"
   ]
  },
  {
   "cell_type": "code",
   "execution_count": 5,
   "metadata": {},
   "outputs": [],
   "source": [
    "X_train,X_test,y_train,y_test = train_test_split(X,Y,test_size=0.3)"
   ]
  },
  {
   "cell_type": "code",
   "execution_count": 6,
   "metadata": {},
   "outputs": [],
   "source": [
    "from imblearn.over_sampling import SMOTE\n",
    "sm = SMOTE(random_state=42)\n",
    "X_res, y_res = sm.fit_resample(X_train, y_train)\n",
    "X_train = X_res\n",
    "y_train = y_res"
   ]
  },
  {
   "cell_type": "markdown",
   "metadata": {},
   "source": [
    "### 3. Magic Loop\n",
    "\n",
    "- Diccionario de algoritmos a aplicar"
   ]
  },
  {
   "cell_type": "code",
   "execution_count": 7,
   "metadata": {},
   "outputs": [],
   "source": [
    "algorithms_dict = {'tree': 'tree_grid_search',\n",
    "                   'random_forest': 'rf_grid_search',\n",
    "                   'logistic': 'logistic_grid_search',\n",
    "                   'xgboost': 'xgboost_grid_search'}"
   ]
  },
  {
   "cell_type": "markdown",
   "metadata": {},
   "source": [
    "- Diccionario de configuraciones"
   ]
  },
  {
   "cell_type": "code",
   "execution_count": 8,
   "metadata": {},
   "outputs": [],
   "source": [
    "grid_search_dict = {\n",
    "                        'tree_grid_search': {\n",
    "                            'max_depth': [5, 10, 15],\n",
    "                            'min_samples_leaf': [3, 5, 7]\n",
    "                        },\n",
    "                        'rf_grid_search': {\n",
    "                            'n_estimators': [30, 50, 100],\n",
    "                            'max_depth': [5, 10, 15],\n",
    "                            'min_samples_leaf': [3, 5, 10]\n",
    "                        },\n",
    "                        'logistic_grid_search':{\n",
    "                            'C':np.logspace(-3,3,7),\n",
    "                            'penalty':['l2']\n",
    "                        },\n",
    "                        'xgboost_grid_search':{\n",
    "                            'max_depth': range (2, 10, 1),\n",
    "                            'n_estimators': range(60, 220, 40),\n",
    "                            'learning_rate': [0.1, 0.01, 0.05]\n",
    "                        }\n",
    "                    }"
   ]
  },
  {
   "cell_type": "markdown",
   "metadata": {},
   "source": [
    "- Diccionario de estimadores"
   ]
  },
  {
   "cell_type": "code",
   "execution_count": 9,
   "metadata": {},
   "outputs": [],
   "source": [
    "from xgboost import XGBClassifier"
   ]
  },
  {
   "cell_type": "code",
   "execution_count": 10,
   "metadata": {},
   "outputs": [],
   "source": [
    "from sklearn.tree import DecisionTreeClassifier\n",
    "estimators_dict = {'tree': DecisionTreeClassifier(random_state=1111),\n",
    "                   'random_forest': RandomForestClassifier(oob_score=True, random_state=2222),\n",
    "                   'logistic': LogisticRegression(random_state=3333),\n",
    "                   'xgboost': XGBClassifier(objective= 'binary:logistic',nthread=4,seed=42)\n",
    "                  } "
   ]
  },
  {
   "cell_type": "code",
   "execution_count": 11,
   "metadata": {},
   "outputs": [],
   "source": [
    "def magic_loop(algorithms, features, labels):\n",
    "    best_estimators = []\n",
    "    for algorithm in algorithms:\n",
    "        estimator = estimators_dict[algorithm]\n",
    "        grid_search_to_look = algorithms_dict[algorithm]\n",
    "        grid_params = grid_search_dict[grid_search_to_look]\n",
    "        #tscv = TimeSeriesSplit(n_splits=5)\n",
    "        \n",
    "        #gs = GridSearchCV(estimator, grid_params, scoring='precision', cv=5, n_jobs=-1)\n",
    "        gs = GridSearchCV(estimator, grid_params, scoring='roc_auc', cv=5, n_jobs=-1)\n",
    "        \n",
    "        #train\n",
    "        gs.fit(features, labels)\n",
    "        #best estimator\n",
    "        best_estimators.append(gs)\n",
    "        \n",
    "        \n",
    "    return best_estimators"
   ]
  },
  {
   "cell_type": "code",
   "execution_count": 12,
   "metadata": {},
   "outputs": [],
   "source": [
    "#scoring_met= 'recall'\n",
    "algorithms = ['tree', 'random_forest','logistic','xgboost']\n",
    "models = []\n",
    "start_time = time.time()\n",
    "models_list = []"
   ]
  },
  {
   "cell_type": "code",
   "execution_count": 13,
   "metadata": {},
   "outputs": [
    {
     "name": "stdout",
     "output_type": "stream",
     "text": [
      "Empty DataFrame\n",
      "Columns: []\n",
      "Index: [0, 1, 2, 3, 4, 5, 6, 7, 8, 9, 10, 11, 12, 13, 14, 15, 16, 17, 18, 19, 20, 21, 22, 23, 24, 25, 26, 27, 28, 29, 30, 31, 32, 33, 34, 35, 36, 37, 38, 39, 40, 41, 42, 43, 44, 45, 46, 47, 48, 49, 50, 51, 52, 53, 54, 55, 56, 57, 58, 59, 60, 61, 62, 63, 64, 65, 66, 67, 68, 69, 70, 71, 72, 73, 74, 75, 76, 77, 78, 79, 80, 81, 82, 83, 84, 85, 86, 87, 88, 89, 90, 91, 92, 93, 94, 95, 96, 97, 98, 99, ...]\n",
      "\n",
      "[176 rows x 0 columns]\n"
     ]
    }
   ],
   "source": [
    "# Select dataframe columns with any NaN value\n",
    "subset_df = X_train.loc[:, X_train.isnull().any()]\n",
    "print(subset_df)"
   ]
  },
  {
   "cell_type": "code",
   "execution_count": 14,
   "metadata": {},
   "outputs": [
    {
     "data": {
      "text/plain": [
       "['ventana',\n",
       " 'epoca_nac',\n",
       " 'edad_range',\n",
       " 'max_dif_vent_entre_consul',\n",
       " 'num_med_preglucosa',\n",
       " 'avg_vent_entre_consul',\n",
       " 'min_sistolica_a',\n",
       " 'avg_sistolica_a',\n",
       " 'avg_preglucosa',\n",
       " 'min_preglucosa',\n",
       " 'num_med_presion_a',\n",
       " 'max_preglucosa',\n",
       " 'sexo',\n",
       " 'avg_diastolica_a',\n",
       " 'sum_num_consultas',\n",
       " 'min_diastolica_a',\n",
       " 'avg_num_consultas_by_year',\n",
       " 'dm_años_int',\n",
       " 'imc_range',\n",
       " 'dm_años_flt',\n",
       " 'avg_E11',\n",
       " 'preglucosa',\n",
       " 'num_med_vent_entre_consul',\n",
       " 'max_diastolica_a',\n",
       " 'año_dx_dm',\n",
       " 'num_ANTIEMETICOS',\n",
       " 'enf_endocrinas',\n",
       " 'min_dif_vent_entre_consul',\n",
       " 'max_sistolica_a',\n",
       " 'num_med_enf_endocrinas',\n",
       " 'num_bezafibrato',\n",
       " 'avg_ANTIEMETICOS',\n",
       " 'num_E11',\n",
       " 'dm',\n",
       " 'num_E10',\n",
       " 'num_med',\n",
       " 'max_num_med',\n",
       " 'avg_num_med',\n",
       " 'avg_E10',\n",
       " 'avg_bezafibrato',\n",
       " 'num_O15',\n",
       " 'num_FACTOR_VITAMINICO',\n",
       " 'max_trigliceridos',\n",
       " 'avg_FACTOR_VITAMINICO',\n",
       " 'VITAMINICOS',\n",
       " 'avg_VITAMINICOS',\n",
       " 'avg_E66',\n",
       " 'avg_enf_endocrinas',\n",
       " 'num_E66',\n",
       " 'avg_E77',\n",
       " 'avg_O13',\n",
       " 'avg_enf_inf_intestinales',\n",
       " 'avg_E78',\n",
       " 'avg_N3',\n",
       " 'vent_entre_lab',\n",
       " 'num_g14',\n",
       " 'avg_trigliceridos',\n",
       " 'num_g6',\n",
       " 'ANTIEPILEPTICOS',\n",
       " 'avg_I8',\n",
       " 'avg_O260',\n",
       " 'num_med_enf_sist_nervioso',\n",
       " 'num_E90',\n",
       " 'avg_E83',\n",
       " 'avg_Tumor_maligo',\n",
       " 'num_med_tumores_malig_sitios_mul_indep',\n",
       " 'g5',\n",
       " 'num_I6',\n",
       " 'num_E0',\n",
       " 'enf_sist_osteomuscular_y_tejido',\n",
       " 'num_N3',\n",
       " 'avg_R1',\n",
       " 'num_E67',\n",
       " 'num_g5',\n",
       " 'ANTIDIABETICOS.1',\n",
       " 'num_I8',\n",
       " 'num_VITAMINICOS',\n",
       " 'num_R01',\n",
       " 'num_Tumor_maligo',\n",
       " 'trigliceridos',\n",
       " 'num_K75',\n",
       " 'min_colesterol',\n",
       " 'num_Tumor_insitu',\n",
       " 'avg_R07',\n",
       " 'avg_R05',\n",
       " 'avg_g14',\n",
       " 'num_med_enf_cerebrovasculares',\n",
       " 'avg_g23',\n",
       " 'avg_R635',\n",
       " 'num_R00',\n",
       " 'avg_O16',\n",
       " 'g23',\n",
       " 'num_med_sindrome_maltrato',\n",
       " 'avg_I11',\n",
       " 'num_I10',\n",
       " 'num_O10',\n",
       " 'colesterol',\n",
       " 'ANTINEURITICOS',\n",
       " 'num_I15',\n",
       " 'avg_E89',\n",
       " 'avg_g12',\n",
       " 'num_R635',\n",
       " 'avg_E72',\n",
       " 'num_ANTIANEMICOS',\n",
       " 'num_g23',\n",
       " 'num_R03',\n",
       " 'avg_ANTIDIABETICOS.1',\n",
       " 'num_O14',\n",
       " 'num_med_enf_inf_intestinales',\n",
       " 'avg_E87',\n",
       " 'num_O260',\n",
       " 'avg_N1',\n",
       " 'num_K71',\n",
       " 'num_med_malformaciones_congenitas',\n",
       " 'avg_comp_precoces_traumatismos',\n",
       " 'num_E75',\n",
       " 'avg_ANTIANEMICOS',\n",
       " 'avg_N2',\n",
       " 'avg_R00',\n",
       " 'avg_enf_sist_osteomuscular_y_tejido',\n",
       " 'FACTOR_VITAMINICO',\n",
       " 'ANTIEMETICOS',\n",
       " 'num_E65',\n",
       " 'num_R09',\n",
       " 'g14',\n",
       " 'avg_R03',\n",
       " 'num_med_trastornos_sist_genitourinario_consec_proced',\n",
       " 'avg_K75',\n",
       " 'num_g12',\n",
       " 'E10',\n",
       " 'num_E77',\n",
       " 'avg_g6',\n",
       " 'num_R07',\n",
       " 'num_ANTIBIOTICOS.1',\n",
       " 'num_N1',\n",
       " 'avg_trastornos_sist_genitourinario_consec_proced',\n",
       " 'avg_E67',\n",
       " 'avg_tumores_malig_org_respiratorios_intratoracicos',\n",
       " 'ANTIANEMICOS',\n",
       " 'num_T46',\n",
       " 'avg_malformaciones_congenitas',\n",
       " 'num_E12',\n",
       " 'avg_enf_cerebrovasculares',\n",
       " 'avg_O11',\n",
       " 'num_med_trigliceridos',\n",
       " 'avg_E74',\n",
       " 'avg_I13',\n",
       " 'avg_I10',\n",
       " 'num_E78',\n",
       " 'avg_R08',\n",
       " 'num_N0',\n",
       " 'num_Y52',\n",
       " 'num_K73',\n",
       " 'avg_E12',\n",
       " 'num_E14',\n",
       " 'avg_E75',\n",
       " 'num_med_enf_sist_osteomuscular_y_tejido',\n",
       " 'num_Y526',\n",
       " 'avg_E88',\n",
       " 'num_O13',\n",
       " 'avg_O22',\n",
       " 'avg_R04',\n",
       " 'num_E80',\n",
       " 'num_O11',\n",
       " 'avg_ANTIBIOTICOS.1',\n",
       " 'num_g8',\n",
       " 'num_E70',\n",
       " 'num_I7',\n",
       " 'num_ANTIDIABETICOS.1',\n",
       " 'num_med_sintomas_signos_hallazgos_anormales_clin_lab_no_clasif',\n",
       " 'avg_g8',\n",
       " 'avg_R01',\n",
       " 'avg_E65',\n",
       " 'num_E76',\n",
       " 'num_E84',\n",
       " 'num_R02',\n",
       " 'avg_E0',\n",
       " 'avg_fiebre_y_enf_cardiacas_reumaticas',\n",
       " 'avg_T46',\n",
       " 'avg_E71',\n",
       " 'num_med_comp_precoces_traumatismos',\n",
       " 'num_R06',\n",
       " 'num_ANTIULCEROSOS_Y_PROTECTORES_DE_LA_MUCOSA_GASTRICA',\n",
       " 'num_I11',\n",
       " 'comp_aten_med_qx_no_clasif',\n",
       " 'num_med_fiebre_y_enf_cardiacas_reumaticas',\n",
       " 'avg_K73',\n",
       " 'avg_colesterol',\n",
       " 'avg_enf_sist_nervioso',\n",
       " 'avg_E90',\n",
       " 'num_E71',\n",
       " 'num_R3',\n",
       " 'num_E73',\n",
       " 'avg_K74',\n",
       " 'avg_T466',\n",
       " 'num_I12',\n",
       " 'ANSIOLITICOS',\n",
       " 'O12',\n",
       " 'avg_K70',\n",
       " 'num_I13',\n",
       " 'avg_Tumor_insitu',\n",
       " 'avg_sindrome_maltrato',\n",
       " 'num_O22',\n",
       " 'avg_E76',\n",
       " 'num_O16',\n",
       " 'avg_tumores_insitu',\n",
       " 'avg_E84',\n",
       " 'num_E68',\n",
       " 'avg_E85',\n",
       " 'num_med_enf_aparato_urinario',\n",
       " 'I8',\n",
       " 'enf_aparato_urinario',\n",
       " 'num_E72',\n",
       " 'num_R05',\n",
       " 'num_med_tumores_malig_org_respiratorios_intratoracicos',\n",
       " 'num_E83',\n",
       " 'avg_creatinina',\n",
       " 'avg_E68',\n",
       " 'num_K70',\n",
       " 'avg_R09',\n",
       " 'num_K72',\n",
       " 'avg_N0',\n",
       " 'num_N2',\n",
       " 'avg_E13',\n",
       " 'O11',\n",
       " 'avg_FARMACOS_UTILIZADOS_EN_NEFROLOGIA',\n",
       " 'Tumor_insitu',\n",
       " 'avg_tumores_malig_sitios_mul_indep',\n",
       " 'avg_O14',\n",
       " 'avg_E14',\n",
       " 'R05',\n",
       " 'g8',\n",
       " 'num_E85',\n",
       " 'num_ANTIULCEROSOS_PROTECTOR_GASTRICO',\n",
       " 'avg_E79',\n",
       " 'avg_ANTIULCEROSOS_PROTECTOR_GASTRICO',\n",
       " 'K74',\n",
       " 'avg_O15',\n",
       " 'avg_enf_aparato_urinario',\n",
       " 'num_E88',\n",
       " 'num_E74',\n",
       " 'num_K76',\n",
       " 'avg_g5',\n",
       " 'avg_I6',\n",
       " 'num_med_tumores_insitu',\n",
       " 'avg_K76',\n",
       " 'E72',\n",
       " 'num_E13',\n",
       " 'num_O244',\n",
       " 'avg_O244',\n",
       " 'num_E87',\n",
       " 'num_med_tumores_malig_huesos_articulares_conjuntivo_piel_mama',\n",
       " 'avg_O12',\n",
       " 'num_R04',\n",
       " 'avg_ANTIULCEROSOS_Y_PROTECTORES_DE_LA_MUCOSA_GASTRICA',\n",
       " 'ANTIFUNGICOS',\n",
       " 'avg_E73',\n",
       " 'max_urea',\n",
       " 'T466',\n",
       " 'avg_R06',\n",
       " 'avg_tumores_malig_huesos_articulares_conjuntivo_piel_mama',\n",
       " 'avg_E70',\n",
       " 'avg_vent_entre_lab',\n",
       " 'avg_O10',\n",
       " 'I7',\n",
       " 'avg_K72',\n",
       " 'ANTIALERGICOS',\n",
       " 'I15',\n",
       " 'num_O12',\n",
       " 'num_E79',\n",
       " 'num_med_colesterol',\n",
       " 'max_acido_urico',\n",
       " 'acido_urico',\n",
       " 'avg_Y526',\n",
       " 'trastornos_mama',\n",
       " 'avg_R02',\n",
       " 'enf_viricas',\n",
       " 'E67',\n",
       " 'avg_R3',\n",
       " 'max_dif_vent_entre_lab',\n",
       " 'K73',\n",
       " 'avg_Tumores',\n",
       " 'avg_I7',\n",
       " 'avg_E80',\n",
       " 'min_dif_vent_entre_lab',\n",
       " 'num_med_acido_urico',\n",
       " 'ot_enf_inf_y_paras_y_efec_tardios',\n",
       " 'E78',\n",
       " 'avg_sintomas_signos_hallazgos_anormales_clin_lab_no_clasif',\n",
       " 'I12',\n",
       " 'avg_Y52',\n",
       " 'g19',\n",
       " 'bezafibrato',\n",
       " 'num_ANTIBIOTICOS',\n",
       " 'num_E89',\n",
       " 'num_R1',\n",
       " 'min_creatinina',\n",
       " 'ANTIULCEROSOS_Y_PROTECTORES_DE_LA_MUCOSA_GASTRICA',\n",
       " 'avg_I12',\n",
       " 'ANTIULCEROSOS_PROTECTOR_GASTRICO',\n",
       " 'K70',\n",
       " 'sintomas_signos_hallazgos_anormales_clin_lab_no_clasif',\n",
       " 'num_K74',\n",
       " 'max_colesterol',\n",
       " 'ANTIMICOTICOS_SISTEMICOS_Y_TOPICOS',\n",
       " 'num_R08',\n",
       " 'E70',\n",
       " 'num_T466',\n",
       " 'E0',\n",
       " 'tumores_malig_sitios_mul_indep',\n",
       " 'g7',\n",
       " 'enf_sist_nervioso',\n",
       " 'avg_ANTIBIOTICOS',\n",
       " 'min_trigliceridos',\n",
       " 'E68',\n",
       " 'enf_inf_intestinales',\n",
       " 'avg_urea',\n",
       " 'E12',\n",
       " 'avg_hba1c',\n",
       " 'E89',\n",
       " 'avg_acido_urico',\n",
       " 'num_FARMACOS_UTILIZADOS_EN_NEFROLOGIA',\n",
       " 'urea',\n",
       " 'Tumor_maligo',\n",
       " 'O260',\n",
       " 'malformaciones_congenitas',\n",
       " 'g12',\n",
       " 'R00',\n",
       " 'trastornos_mentales',\n",
       " 'R03',\n",
       " 'tumores_insitu',\n",
       " 'avg_K71',\n",
       " 'ANTIBIOTICOS.1',\n",
       " 'FARMACOS_UTILIZADOS_EN_NEFROLOGIA',\n",
       " 'avg_I15',\n",
       " 'O14']"
      ]
     },
     "execution_count": 14,
     "metadata": {},
     "output_type": "execute_result"
    }
   ],
   "source": [
    "X_train.columns.values.tolist()"
   ]
  },
  {
   "cell_type": "code",
   "execution_count": null,
   "metadata": {},
   "outputs": [],
   "source": []
  },
  {
   "cell_type": "code",
   "execution_count": 15,
   "metadata": {},
   "outputs": [
    {
     "name": "stdout",
     "output_type": "stream",
     "text": [
      "Selección de variables completada satisfactoriamente en  4420.493908405304  segundos\n"
     ]
    }
   ],
   "source": [
    "best = magic_loop(algorithms, X_train, y_train)\n",
    "print(\"Selección de variables completada satisfactoriamente en \", time.time() - start_time, ' segundos')"
   ]
  },
  {
   "cell_type": "code",
   "execution_count": 16,
   "metadata": {},
   "outputs": [
    {
     "data": {
      "text/plain": [
       "XGBClassifier(base_score=0.5, booster='gbtree', callbacks=None,\n",
       "              colsample_bylevel=1, colsample_bynode=1, colsample_bytree=1,\n",
       "              early_stopping_rounds=None, enable_categorical=False,\n",
       "              eval_metric=None, gamma=0, gpu_id=-1, grow_policy='depthwise',\n",
       "              importance_type=None, interaction_constraints='',\n",
       "              learning_rate=0.1, max_bin=256, max_cat_to_onehot=4,\n",
       "              max_delta_step=0, max_depth=5, max_leaves=0, min_child_weight=1,\n",
       "              missing=nan, monotone_constraints='()', n_estimators=100,\n",
       "              n_jobs=4, nthread=4, num_parallel_tree=1, predictor='auto',\n",
       "              random_state=42, reg_alpha=0, ...)"
      ]
     },
     "execution_count": 16,
     "metadata": {},
     "output_type": "execute_result"
    }
   ],
   "source": [
    "model0 = best[0].best_estimator_\n",
    "model0\n",
    "\n",
    "model1 = best[1].best_estimator_\n",
    "model1\n",
    "\n",
    "model2 = best[2].best_estimator_\n",
    "model2\n",
    "\n",
    "model3 = best[3].best_estimator_\n",
    "model3"
   ]
  },
  {
   "cell_type": "code",
   "execution_count": 17,
   "metadata": {},
   "outputs": [],
   "source": [
    "utils.save_df(model0, \"../output/best_model0_av.pkl\")\n",
    "utils.save_df(model1, \"../output/best_model1_av.pkl\")\n",
    "utils.save_df(model2, \"../output/best_model2_av.pkl\")\n",
    "utils.save_df(model3, \"../output/best_model3_av.pkl\")"
   ]
  },
  {
   "cell_type": "markdown",
   "metadata": {},
   "source": [
    "### 4. Evaluando modelo"
   ]
  },
  {
   "cell_type": "code",
   "execution_count": 18,
   "metadata": {},
   "outputs": [],
   "source": [
    "from sklearn.metrics import roc_curve, roc_auc_score\n",
    "from sklearn.metrics import accuracy_score, precision_recall_curve, precision_score, recall_score\n",
    "from sklearn.metrics import confusion_matrix, plot_confusion_matrix\n",
    "import matplotlib.pyplot as plt"
   ]
  },
  {
   "cell_type": "code",
   "execution_count": 19,
   "metadata": {},
   "outputs": [],
   "source": [
    "predicted_labels0 = model0.predict(X_test)\n",
    "predicted_scores0 = model0.predict_proba(X_test)\n",
    "\n",
    "predicted_labels1 = model1.predict(X_test)\n",
    "predicted_scores1 = model1.predict_proba(X_test)\n",
    "\n",
    "predicted_labels2 = model2.predict(X_test)\n",
    "predicted_scores2 = model2.predict_proba(X_test)\n",
    "\n",
    "predicted_labels3 = model3.predict(X_test)\n",
    "predicted_scores3 = model3.predict_proba(X_test)\n"
   ]
  },
  {
   "cell_type": "code",
   "execution_count": 20,
   "metadata": {},
   "outputs": [
    {
     "data": {
      "image/png": "[encoded data removed]",
      "text/plain": [
       "<Figure size 432x288 with 1 Axes>"
      ]
     },
     "metadata": {
      "needs_background": "light"
     },
     "output_type": "display_data"
    },
    {
     "name": "stdout",
     "output_type": "stream",
     "text": [
      "[[38  4]\n",
      " [ 6  2]]\n"
     ]
    },
    {
     "data": {
      "text/plain": [
       "<sklearn.metrics._plot.confusion_matrix.ConfusionMatrixDisplay at 0x7fb6d5d1a790>"
      ]
     },
     "execution_count": 20,
     "metadata": {},
     "output_type": "execute_result"
    },
    {
     "data": {
      "image/png": "[encoded data removed]",
      "text/plain": [
       "<Figure size 432x288 with 2 Axes>"
      ]
     },
     "metadata": {
      "needs_background": "light"
     },
     "output_type": "display_data"
    }
   ],
   "source": [
    "### Curva ROC\n",
    "plt.figure()\n",
    "fpr, tpr, thresholds = roc_curve(y_test, predicted_scores0[:, 1], pos_label=1)\n",
    "plt.clf()\n",
    "plt.plot([0, 1], [0, 1], 'k--', c=\"red\")\n",
    "plt.plot(fpr, tpr)\n",
    "plt.title(\"ROC best RF, AUC: {}\".format(roc_auc_score(y_test, predicted_labels0)))\n",
    "plt.xlabel(\"fpr\")\n",
    "plt.ylabel(\"tpr\")\n",
    "#plt.savefig('../output/ROC_curve.png', bbox_inches='tight')\n",
    "plt.show()\n",
    "\n",
    "print(confusion_matrix(y_test, predicted_labels0))\n",
    "plot_confusion_matrix(model0, X_test, y_test, cmap=plt.cm.Blues)  "
   ]
  },
  {
   "cell_type": "code",
   "execution_count": 21,
   "metadata": {},
   "outputs": [
    {
     "data": {
      "image/png": "[encoded data removed]",
      "text/plain": [
       "<Figure size 432x288 with 1 Axes>"
      ]
     },
     "metadata": {
      "needs_background": "light"
     },
     "output_type": "display_data"
    },
    {
     "name": "stdout",
     "output_type": "stream",
     "text": [
      "[[38  4]\n",
      " [ 6  2]]\n"
     ]
    },
    {
     "data": {
      "text/plain": [
       "<sklearn.metrics._plot.confusion_matrix.ConfusionMatrixDisplay at 0x7fb6d52916d0>"
      ]
     },
     "execution_count": 21,
     "metadata": {},
     "output_type": "execute_result"
    },
    {
     "data": {
      "image/png": "[encoded data removed]",
      "text/plain": [
       "<Figure size 432x288 with 2 Axes>"
      ]
     },
     "metadata": {
      "needs_background": "light"
     },
     "output_type": "display_data"
    }
   ],
   "source": [
    "### Curva ROC\n",
    "plt.figure()\n",
    "fpr, tpr, thresholds = roc_curve(y_test, predicted_scores1[:, 1], pos_label=1)\n",
    "plt.clf()\n",
    "plt.plot([0, 1], [0, 1], 'k--', c=\"red\")\n",
    "plt.plot(fpr, tpr)\n",
    "plt.title(\"ROC best RF, AUC: {}\".format(roc_auc_score(y_test, predicted_labels1)))\n",
    "plt.xlabel(\"fpr\")\n",
    "plt.ylabel(\"tpr\")\n",
    "#plt.savefig('../output/ROC_curve.png', bbox_inches='tight')\n",
    "plt.show()\n",
    "\n",
    "print(confusion_matrix(y_test, predicted_labels1))\n",
    "plot_confusion_matrix(model1, X_test, y_test, cmap=plt.cm.Blues)  "
   ]
  },
  {
   "cell_type": "code",
   "execution_count": 22,
   "metadata": {},
   "outputs": [
    {
     "data": {
      "image/png": "[encoded data removed]",
      "text/plain": [
       "<Figure size 432x288 with 1 Axes>"
      ]
     },
     "metadata": {
      "needs_background": "light"
     },
     "output_type": "display_data"
    },
    {
     "name": "stdout",
     "output_type": "stream",
     "text": [
      "[[28 14]\n",
      " [ 8  0]]\n"
     ]
    },
    {
     "data": {
      "text/plain": [
       "<sklearn.metrics._plot.confusion_matrix.ConfusionMatrixDisplay at 0x7fb6d51d4e90>"
      ]
     },
     "execution_count": 22,
     "metadata": {},
     "output_type": "execute_result"
    },
    {
     "data": {
      "image/png": "[encoded data removed]",
      "text/plain": [
       "<Figure size 432x288 with 2 Axes>"
      ]
     },
     "metadata": {
      "needs_background": "light"
     },
     "output_type": "display_data"
    }
   ],
   "source": [
    "### Curva ROC\n",
    "plt.figure()\n",
    "fpr, tpr, thresholds = roc_curve(y_test, predicted_scores2[:, 1], pos_label=1)\n",
    "plt.clf()\n",
    "plt.plot([0, 1], [0, 1], 'k--', c=\"red\")\n",
    "plt.plot(fpr, tpr)\n",
    "plt.title(\"ROC best RF, AUC: {}\".format(roc_auc_score(y_test, predicted_labels2)))\n",
    "plt.xlabel(\"fpr\")\n",
    "plt.ylabel(\"tpr\")\n",
    "#plt.savefig('../output/ROC_curve.png', bbox_inches='tight')\n",
    "plt.show()\n",
    "\n",
    "print(confusion_matrix(y_test, predicted_labels2))\n",
    "plot_confusion_matrix(model2, X_test, y_test, cmap=plt.cm.Blues)  "
   ]
  },
  {
   "cell_type": "code",
   "execution_count": 23,
   "metadata": {},
   "outputs": [
    {
     "data": {
      "image/png": "[encoded data removed]",
      "text/plain": [
       "<Figure size 432x288 with 1 Axes>"
      ]
     },
     "metadata": {
      "needs_background": "light"
     },
     "output_type": "display_data"
    },
    {
     "name": "stdout",
     "output_type": "stream",
     "text": [
      "[[35  7]\n",
      " [ 6  2]]\n"
     ]
    },
    {
     "data": {
      "text/plain": [
       "<sklearn.metrics._plot.confusion_matrix.ConfusionMatrixDisplay at 0x7fb6d50ebb90>"
      ]
     },
     "execution_count": 23,
     "metadata": {},
     "output_type": "execute_result"
    },
    {
     "data": {
      "image/png": "[encoded data removed]",
      "text/plain": [
       "<Figure size 432x288 with 2 Axes>"
      ]
     },
     "metadata": {
      "needs_background": "light"
     },
     "output_type": "display_data"
    }
   ],
   "source": [
    "### Curva ROC\n",
    "plt.figure()\n",
    "fpr, tpr, thresholds = roc_curve(y_test, predicted_scores3[:, 1], pos_label=1)\n",
    "plt.clf()\n",
    "plt.plot([0, 1], [0, 1], 'k--', c=\"red\")\n",
    "plt.plot(fpr, tpr)\n",
    "plt.title(\"ROC best RF, AUC: {}\".format(roc_auc_score(y_test, predicted_labels3)))\n",
    "plt.xlabel(\"fpr\")\n",
    "plt.ylabel(\"tpr\")\n",
    "#plt.savefig('../output/ROC_curve.png', bbox_inches='tight')\n",
    "plt.show()\n",
    "\n",
    "print(confusion_matrix(y_test, predicted_labels3))\n",
    "plot_confusion_matrix(model3, X_test, y_test, cmap=plt.cm.Blues)  "
   ]
  },
  {
   "cell_type": "code",
   "execution_count": 24,
   "metadata": {},
   "outputs": [],
   "source": [
    "def get_metrics_report(fpr, tpr, thresholds, precision, recall, thresholds_2):\n",
    "    df_1 = pd.DataFrame({'threshold': thresholds_2, 'precision': precision,\n",
    "                         'recall': recall})\n",
    "    df_1['f1_score'] = 2 * (df_1.precision * df_1.recall) / (df_1.precision + df_1.recall)\n",
    "\n",
    "    df_2 = pd.DataFrame({'tpr': tpr, 'fpr': fpr, 'threshold': thresholds})\n",
    "    df_2['tnr'] = 1 - df_2['fpr']\n",
    "    df_2['fnr'] = 1 - df_2['tpr']\n",
    "\n",
    "    df = df_1.merge(df_2, on=\"threshold\")\n",
    "\n",
    "    return df"
   ]
  },
  {
   "cell_type": "code",
   "execution_count": 26,
   "metadata": {},
   "outputs": [
    {
     "data": {
      "image/png": "[encoded data removed]",
      "text/plain": [
       "<Figure size 432x288 with 1 Axes>"
      ]
     },
     "metadata": {
      "needs_background": "light"
     },
     "output_type": "display_data"
    }
   ],
   "source": [
    "# Generando métricas\n",
    "precision, recall, thresholds_2 = precision_recall_curve(y_test, predicted_scores1[:, 1], pos_label=1)\n",
    "thresholds_2 = np.append(thresholds_2, 1)\n",
    "metrics_report = get_metrics_report(fpr, tpr, thresholds, precision, recall, thresholds_2)\n",
    "#save_metrics(metrics_report, '../output/metricas_offline.pkl')\n",
    "\n",
    "# Curva: Precision-recall\n",
    "plt.figure()\n",
    "plt.plot(metrics_report['threshold'], metrics_report['precision'], 'k--', c=\"red\", label='precision')\n",
    "plt.plot(metrics_report['threshold'], metrics_report['recall'], 'k--', c=\"blue\", label='recall')\n",
    "plt.xlabel('threshold')\n",
    "plt.ylim([0, 1])\n",
    "plt.legend(bbox_to_anchor=(1, 1), fontsize=12)\n",
    "plt.savefig('../output/recall_precision.png', bbox_inches='tight')\n",
    "#plt.show()"
   ]
  },
  {
   "cell_type": "code",
   "execution_count": 30,
   "metadata": {},
   "outputs": [],
   "source": [
    "# Curva: recall-precision @k\n",
    "data_junta = pd.concat([X_test, y_test], axis=1)\n",
    "data_filtrada = data_junta\n",
    "datos_finales_X = pd.DataFrame(data_filtrada.drop(['label'], axis=1))\n",
    "y_true = data_filtrada.label\n",
    "y_scores = model1.predict_proba(datos_finales_X)"
   ]
  },
  {
   "cell_type": "code",
   "execution_count": 31,
   "metadata": {},
   "outputs": [],
   "source": [
    "def param_graf(y_true, y_scores):\n",
    "    k_values = np.linspace(0, 0.99, 100)\n",
    "    lista = []\n",
    "\n",
    "    for k in k_values:\n",
    "        p_k = precision_at_k(y_true, pd.DataFrame(y_scores)[1], k)\n",
    "        r_k = recall_at_k(y_true, pd.DataFrame(y_scores)[1], k)\n",
    "        lista = lista + [[p_k, r_k, k]]\n",
    "\n",
    "    p_r_g = pd.DataFrame(lista, columns=[\"p_k\", \"r_k\", \"k\"])\n",
    "\n",
    "    return p_r_g\n",
    "\n",
    "def precision_at_k(y_true, y_scores, k):\n",
    "    threshold = np.sort(y_scores)[::-1][int(k * len(y_scores))]\n",
    "    y_pred = np.asarray([1 if i >= threshold else 0 for i in y_scores])\n",
    "\n",
    "    return precision_score(y_true, y_pred)\n",
    "\n",
    "def recall_at_k(y_true, y_scores, k):\n",
    "    threshold = np.sort(y_scores)[::-1][int(k * len(y_scores))]\n",
    "    y_pred = np.asarray([1 if i >= threshold else 0 for i in y_scores])\n",
    "\n",
    "    return recall_score(y_true, y_pred)"
   ]
  },
  {
   "cell_type": "code",
   "execution_count": 32,
   "metadata": {},
   "outputs": [
    {
     "data": {
      "image/png": "[encoded data removed]",
      "text/plain": [
       "<Figure size 432x288 with 1 Axes>"
      ]
     },
     "metadata": {
      "needs_background": "light"
     },
     "output_type": "display_data"
    }
   ],
   "source": [
    "p_r_g = param_graf(y_true, y_scores)\n",
    "\n",
    "plt.figure()\n",
    "plt.plot(p_r_g[\"k\"], p_r_g[\"p_k\"], label=\"P\")\n",
    "plt.plot(p_r_g[\"k\"], p_r_g[\"r_k\"], label=\"R\")\n",
    "plt.title(\"Precision and recall at k%: PA\")\n",
    "plt.axvline(x=0.037, c='red', linestyle='--')\n",
    "plt.ylabel(\"Mejor valor\")\n",
    "plt.legend(['Precision', 'Recall'])\n",
    "plt.xlabel(\"%k\")\n",
    "plt.savefig('../output/recall_precision_k.png', bbox_inches='tight')\n",
    "#plt.show()"
   ]
  },
  {
   "cell_type": "code",
   "execution_count": null,
   "metadata": {},
   "outputs": [],
   "source": []
  }
 ],
 "metadata": {
  "kernelspec": {
   "display_name": "Python 3",
   "language": "python",
   "name": "python3"
  },
  "language_info": {
   "codemirror_mode": {
    "name": "ipython",
    "version": 3
   },
   "file_extension": ".py",
   "mimetype": "text/x-python",
   "name": "python",
   "nbconvert_exporter": "python",
   "pygments_lexer": "ipython3",
   "version": "3.7.4"
  }
 },
 "nbformat": 4,
 "nbformat_minor": 4
}
