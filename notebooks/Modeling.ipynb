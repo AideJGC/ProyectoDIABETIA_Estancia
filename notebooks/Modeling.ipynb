{
 "cells": [
  {
   "cell_type": "markdown",
   "metadata": {},
   "source": [
    "# Modeling\n",
    "## Estancia de investigación Maestría de Ciencia de Datos\n",
    "## Aide Jazmín González Cruz\n",
    "\n",
    "### 1. Carga de librerías"
   ]
  },
  {
   "cell_type": "code",
   "execution_count": 1,
   "metadata": {},
   "outputs": [],
   "source": [
    "import pandas as pd\n",
    "import numpy as np\n",
    "from sklearn.model_selection import GridSearchCV, TimeSeriesSplit, train_test_split\n",
    "from sklearn.ensemble import RandomForestClassifier\n",
    "from sklearn.preprocessing import MinMaxScaler, OneHotEncoder, KBinsDiscretizer\n",
    "from sklearn.compose import ColumnTransformer\n",
    "from sklearn.base import BaseEstimator,TransformerMixin\n",
    "from sklearn.linear_model import LogisticRegression\n",
    "from sklearn.tree import DecisionTreeClassifier\n",
    "from siuba import *\n",
    "import time\n",
    "from time import gmtime, strftime\n",
    "\n",
    "import sys\n",
    "import os\n",
    "from os.path import dirname\n",
    "from datetime import datetime\n",
    "import warnings\n",
    "warnings.filterwarnings('ignore')\n",
    "sys.path.append(dirname('../src'))\n",
    "from src.utils import utils\n"
   ]
  },
  {
   "cell_type": "markdown",
   "metadata": {},
   "source": [
    "### 2. Carga de features y división de datos de entrenamiento y validación"
   ]
  },
  {
   "cell_type": "code",
   "execution_count": 2,
   "metadata": {},
   "outputs": [
    {
     "data": {
      "text/html": [
       "<div>\n",
       "<style scoped>\n",
       "    .dataframe tbody tr th:only-of-type {\n",
       "        vertical-align: middle;\n",
       "    }\n",
       "\n",
       "    .dataframe tbody tr th {\n",
       "        vertical-align: top;\n",
       "    }\n",
       "\n",
       "    .dataframe thead th {\n",
       "        text-align: right;\n",
       "    }\n",
       "</style>\n",
       "<table border=\"1\" class=\"dataframe\">\n",
       "  <thead>\n",
       "    <tr style=\"text-align: right;\">\n",
       "      <th></th>\n",
       "      <th>max_dif_vent_entre_consul</th>\n",
       "      <th>avg_preglucosa</th>\n",
       "      <th>min_preglucosa</th>\n",
       "      <th>max_preglucosa</th>\n",
       "      <th>dm_años_flt</th>\n",
       "      <th>avg_sistolica_a</th>\n",
       "      <th>avg_diastolica_a</th>\n",
       "      <th>avg_vent_entre_consul</th>\n",
       "      <th>edad_range</th>\n",
       "      <th>dm_años_int</th>\n",
       "      <th>...</th>\n",
       "      <th>hdl</th>\n",
       "      <th>I15</th>\n",
       "      <th>FACTOR_VITAMINICO</th>\n",
       "      <th>I11</th>\n",
       "      <th>fiebre_y_enf_cardiacas_reumaticas</th>\n",
       "      <th>ANTIEMETICOS</th>\n",
       "      <th>trastornos_mentales</th>\n",
       "      <th>R2</th>\n",
       "      <th>ANTIULCEROSOS_Y_PROTECTORES_DE_LA_MUCOSA_GASTRICA</th>\n",
       "      <th>label</th>\n",
       "    </tr>\n",
       "  </thead>\n",
       "  <tbody>\n",
       "    <tr>\n",
       "      <th>0</th>\n",
       "      <td>100.0</td>\n",
       "      <td>150.000000</td>\n",
       "      <td>108.000</td>\n",
       "      <td>373.000000</td>\n",
       "      <td>1.569907</td>\n",
       "      <td>119.523810</td>\n",
       "      <td>78.571429</td>\n",
       "      <td>29.833333</td>\n",
       "      <td>5.0</td>\n",
       "      <td>1.184464</td>\n",
       "      <td>...</td>\n",
       "      <td>0.0</td>\n",
       "      <td>1.0</td>\n",
       "      <td>0.0</td>\n",
       "      <td>1.0</td>\n",
       "      <td>1.0</td>\n",
       "      <td>0.0</td>\n",
       "      <td>0.0</td>\n",
       "      <td>1.0</td>\n",
       "      <td>0.0</td>\n",
       "      <td>0</td>\n",
       "    </tr>\n",
       "    <tr>\n",
       "      <th>1</th>\n",
       "      <td>69.0</td>\n",
       "      <td>169.000000</td>\n",
       "      <td>109.000</td>\n",
       "      <td>253.000000</td>\n",
       "      <td>1.569907</td>\n",
       "      <td>120.000000</td>\n",
       "      <td>79.523810</td>\n",
       "      <td>29.956522</td>\n",
       "      <td>5.0</td>\n",
       "      <td>1.184464</td>\n",
       "      <td>...</td>\n",
       "      <td>0.0</td>\n",
       "      <td>1.0</td>\n",
       "      <td>0.0</td>\n",
       "      <td>1.0</td>\n",
       "      <td>1.0</td>\n",
       "      <td>0.0</td>\n",
       "      <td>0.0</td>\n",
       "      <td>1.0</td>\n",
       "      <td>0.0</td>\n",
       "      <td>0</td>\n",
       "    </tr>\n",
       "    <tr>\n",
       "      <th>2</th>\n",
       "      <td>69.0</td>\n",
       "      <td>253.000000</td>\n",
       "      <td>253.000</td>\n",
       "      <td>253.000000</td>\n",
       "      <td>1.569907</td>\n",
       "      <td>120.476190</td>\n",
       "      <td>79.523810</td>\n",
       "      <td>33.857143</td>\n",
       "      <td>6.0</td>\n",
       "      <td>1.184464</td>\n",
       "      <td>...</td>\n",
       "      <td>0.0</td>\n",
       "      <td>1.0</td>\n",
       "      <td>0.0</td>\n",
       "      <td>1.0</td>\n",
       "      <td>1.0</td>\n",
       "      <td>0.0</td>\n",
       "      <td>0.0</td>\n",
       "      <td>1.0</td>\n",
       "      <td>0.0</td>\n",
       "      <td>0</td>\n",
       "    </tr>\n",
       "    <tr>\n",
       "      <th>3</th>\n",
       "      <td>112.0</td>\n",
       "      <td>155.750000</td>\n",
       "      <td>80.000</td>\n",
       "      <td>210.000000</td>\n",
       "      <td>1.569907</td>\n",
       "      <td>122.842105</td>\n",
       "      <td>79.842105</td>\n",
       "      <td>37.450000</td>\n",
       "      <td>6.0</td>\n",
       "      <td>1.184464</td>\n",
       "      <td>...</td>\n",
       "      <td>0.0</td>\n",
       "      <td>1.0</td>\n",
       "      <td>0.0</td>\n",
       "      <td>1.0</td>\n",
       "      <td>1.0</td>\n",
       "      <td>0.0</td>\n",
       "      <td>0.0</td>\n",
       "      <td>1.0</td>\n",
       "      <td>0.0</td>\n",
       "      <td>1</td>\n",
       "    </tr>\n",
       "    <tr>\n",
       "      <th>4</th>\n",
       "      <td>542.0</td>\n",
       "      <td>152.899811</td>\n",
       "      <td>119.675</td>\n",
       "      <td>198.358333</td>\n",
       "      <td>1.569907</td>\n",
       "      <td>100.000000</td>\n",
       "      <td>77.500000</td>\n",
       "      <td>185.000000</td>\n",
       "      <td>4.0</td>\n",
       "      <td>1.184464</td>\n",
       "      <td>...</td>\n",
       "      <td>0.0</td>\n",
       "      <td>1.0</td>\n",
       "      <td>0.0</td>\n",
       "      <td>1.0</td>\n",
       "      <td>1.0</td>\n",
       "      <td>0.0</td>\n",
       "      <td>0.0</td>\n",
       "      <td>1.0</td>\n",
       "      <td>0.0</td>\n",
       "      <td>0</td>\n",
       "    </tr>\n",
       "  </tbody>\n",
       "</table>\n",
       "<p>5 rows × 242 columns</p>\n",
       "</div>"
      ],
      "text/plain": [
       "   max_dif_vent_entre_consul  avg_preglucosa  min_preglucosa  max_preglucosa  \\\n",
       "0                      100.0      150.000000         108.000      373.000000   \n",
       "1                       69.0      169.000000         109.000      253.000000   \n",
       "2                       69.0      253.000000         253.000      253.000000   \n",
       "3                      112.0      155.750000          80.000      210.000000   \n",
       "4                      542.0      152.899811         119.675      198.358333   \n",
       "\n",
       "   dm_años_flt  avg_sistolica_a  avg_diastolica_a  avg_vent_entre_consul  \\\n",
       "0     1.569907       119.523810         78.571429              29.833333   \n",
       "1     1.569907       120.000000         79.523810              29.956522   \n",
       "2     1.569907       120.476190         79.523810              33.857143   \n",
       "3     1.569907       122.842105         79.842105              37.450000   \n",
       "4     1.569907       100.000000         77.500000             185.000000   \n",
       "\n",
       "   edad_range  dm_años_int  ...  hdl  I15  FACTOR_VITAMINICO  I11  \\\n",
       "0         5.0     1.184464  ...  0.0  1.0                0.0  1.0   \n",
       "1         5.0     1.184464  ...  0.0  1.0                0.0  1.0   \n",
       "2         6.0     1.184464  ...  0.0  1.0                0.0  1.0   \n",
       "3         6.0     1.184464  ...  0.0  1.0                0.0  1.0   \n",
       "4         4.0     1.184464  ...  0.0  1.0                0.0  1.0   \n",
       "\n",
       "   fiebre_y_enf_cardiacas_reumaticas  ANTIEMETICOS  trastornos_mentales   R2  \\\n",
       "0                                1.0           0.0                  0.0  1.0   \n",
       "1                                1.0           0.0                  0.0  1.0   \n",
       "2                                1.0           0.0                  0.0  1.0   \n",
       "3                                1.0           0.0                  0.0  1.0   \n",
       "4                                1.0           0.0                  0.0  1.0   \n",
       "\n",
       "   ANTIULCEROSOS_Y_PROTECTORES_DE_LA_MUCOSA_GASTRICA  label  \n",
       "0                                                0.0      0  \n",
       "1                                                0.0      0  \n",
       "2                                                0.0      0  \n",
       "3                                                0.0      1  \n",
       "4                                                0.0      0  \n",
       "\n",
       "[5 rows x 242 columns]"
      ]
     },
     "execution_count": 2,
     "metadata": {},
     "output_type": "execute_result"
    }
   ],
   "source": [
    "df = utils.load_df(\"../Data/feature_sel.pkl\")\n",
    "df.head(5)"
   ]
  },
  {
   "cell_type": "code",
   "execution_count": 3,
   "metadata": {},
   "outputs": [
    {
     "name": "stdout",
     "output_type": "stream",
     "text": [
      "<class 'pandas.core.frame.DataFrame'>\n",
      "RangeIndex: 166 entries, 0 to 165\n",
      "Columns: 242 entries, max_dif_vent_entre_consul to label\n",
      "dtypes: float64(241), int64(1)\n",
      "memory usage: 314.0 KB\n"
     ]
    }
   ],
   "source": [
    "df.info()"
   ]
  },
  {
   "cell_type": "code",
   "execution_count": 4,
   "metadata": {},
   "outputs": [
    {
     "name": "stdout",
     "output_type": "stream",
     "text": [
      "(166, 241)\n",
      "(166, 1)\n"
     ]
    }
   ],
   "source": [
    "X = df.loc[:, df.columns != 'label']\n",
    "print(X.shape)\n",
    "Y = df[[\"label\"]]\n",
    "print(Y.shape)"
   ]
  },
  {
   "cell_type": "code",
   "execution_count": 5,
   "metadata": {},
   "outputs": [],
   "source": [
    "X_train,X_test,y_train,y_test = train_test_split(X,Y,test_size=0.3)"
   ]
  },
  {
   "cell_type": "code",
   "execution_count": 6,
   "metadata": {},
   "outputs": [],
   "source": [
    "#from imblearn.over_sampling import SMOTE\n",
    "#sm = SMOTE(random_state=42)\n",
    "#X_res, y_res = sm.fit_resample(X_train, y_train)\n",
    "#X_train = X_res\n",
    "#y_train = y_res"
   ]
  },
  {
   "cell_type": "markdown",
   "metadata": {},
   "source": [
    "### 3. Magic Loop\n",
    "\n",
    "- Diccionario de algoritmos a aplicar"
   ]
  },
  {
   "cell_type": "code",
   "execution_count": 7,
   "metadata": {},
   "outputs": [],
   "source": [
    "algorithms_dict = {'tree': 'tree_grid_search',\n",
    "                   'random_forest': 'rf_grid_search',\n",
    "                   'logistic': 'logistic_grid_search',\n",
    "                   'xgboost': 'xgboost_grid_search'}"
   ]
  },
  {
   "cell_type": "markdown",
   "metadata": {},
   "source": [
    "- Diccionario de configuraciones"
   ]
  },
  {
   "cell_type": "code",
   "execution_count": 8,
   "metadata": {},
   "outputs": [],
   "source": [
    "grid_search_dict = {\n",
    "                        'tree_grid_search': {\n",
    "                            'max_depth': [5, 10, 15],\n",
    "                            'min_samples_leaf': [3, 5, 7]\n",
    "                        },\n",
    "                        'rf_grid_search': {\n",
    "                            'n_estimators': [30, 50, 100],\n",
    "                            'max_depth': [5, 10, 15],\n",
    "                            'min_samples_leaf': [3, 5, 10]\n",
    "                        },\n",
    "                        'logistic_grid_search':{\n",
    "                            'C':np.logspace(-3,3,7),\n",
    "                            'penalty':['l2']\n",
    "                        },\n",
    "                        'xgboost_grid_search':{\n",
    "                            'max_depth': range (2, 10, 1),\n",
    "                            'n_estimators': range(60, 220, 40),\n",
    "                            'learning_rate': [0.1, 0.01, 0.05]\n",
    "                        }\n",
    "                    }"
   ]
  },
  {
   "cell_type": "markdown",
   "metadata": {},
   "source": [
    "- Diccionario de estimadores"
   ]
  },
  {
   "cell_type": "code",
   "execution_count": 9,
   "metadata": {},
   "outputs": [],
   "source": [
    "from xgboost import XGBClassifier"
   ]
  },
  {
   "cell_type": "code",
   "execution_count": 10,
   "metadata": {},
   "outputs": [],
   "source": [
    "from sklearn.tree import DecisionTreeClassifier\n",
    "estimators_dict = {'tree': DecisionTreeClassifier(random_state=1111),\n",
    "                   'random_forest': RandomForestClassifier(oob_score=True, random_state=2222),\n",
    "                   'logistic': LogisticRegression(random_state=3333),\n",
    "                   'xgboost': XGBClassifier(objective= 'binary:logistic',nthread=4,seed=42)\n",
    "                  } "
   ]
  },
  {
   "cell_type": "code",
   "execution_count": 11,
   "metadata": {},
   "outputs": [],
   "source": [
    "def magic_loop(algorithms, features, labels):\n",
    "    best_estimators = []\n",
    "    for algorithm in algorithms:\n",
    "        estimator = estimators_dict[algorithm]\n",
    "        grid_search_to_look = algorithms_dict[algorithm]\n",
    "        grid_params = grid_search_dict[grid_search_to_look]\n",
    "        #tscv = TimeSeriesSplit(n_splits=5)\n",
    "        \n",
    "        #gs = GridSearchCV(estimator, grid_params, scoring='precision', cv=5, n_jobs=-1)\n",
    "        gs = GridSearchCV(estimator, grid_params, scoring='roc_auc', cv=5, n_jobs=-1)\n",
    "        \n",
    "        #train\n",
    "        gs.fit(features, labels)\n",
    "        #best estimator\n",
    "        best_estimators.append(gs)\n",
    "        \n",
    "        \n",
    "    return best_estimators"
   ]
  },
  {
   "cell_type": "code",
   "execution_count": 12,
   "metadata": {},
   "outputs": [],
   "source": [
    "#scoring_met= 'recall'\n",
    "algorithms = ['tree', 'random_forest','logistic','xgboost']\n",
    "models = []\n",
    "start_time = time.time()\n",
    "models_list = []"
   ]
  },
  {
   "cell_type": "code",
   "execution_count": 13,
   "metadata": {},
   "outputs": [
    {
     "name": "stdout",
     "output_type": "stream",
     "text": [
      "Empty DataFrame\n",
      "Columns: []\n",
      "Index: [145, 3, 138, 54, 140, 100, 151, 42, 84, 126, 20, 121, 51, 103, 135, 78, 34, 81, 24, 155, 83, 113, 45, 9, 96, 111, 16, 133, 104, 107, 95, 152, 106, 108, 136, 131, 130, 158, 156, 142, 52, 64, 109, 160, 123, 17, 62, 125, 132, 31, 40, 56, 127, 12, 161, 69, 44, 1, 141, 124, 72, 153, 134, 144, 27, 70, 92, 4, 163, 59, 15, 49, 26, 68, 21, 0, 6, 5, 101, 48, 122, 116, 120, 66, 43, 8, 53, 22, 86, 23, 32, 102, 164, 129, 137, 119, 94, 29, 117, 13, ...]\n",
      "\n",
      "[116 rows x 0 columns]\n"
     ]
    }
   ],
   "source": [
    "# Select dataframe columns with any NaN value\n",
    "subset_df = X_train.loc[:, X_train.isnull().any()]\n",
    "print(subset_df)"
   ]
  },
  {
   "cell_type": "code",
   "execution_count": 14,
   "metadata": {},
   "outputs": [
    {
     "data": {
      "text/plain": [
       "['max_dif_vent_entre_consul',\n",
       " 'avg_preglucosa',\n",
       " 'min_preglucosa',\n",
       " 'max_preglucosa',\n",
       " 'dm_años_flt',\n",
       " 'avg_sistolica_a',\n",
       " 'avg_diastolica_a',\n",
       " 'avg_vent_entre_consul',\n",
       " 'edad_range',\n",
       " 'dm_años_int',\n",
       " 'ventana',\n",
       " 'avg_E11',\n",
       " 'num_med_presion_a',\n",
       " 'avg_num_med',\n",
       " 'avg_enf_endocrinas',\n",
       " 'num_med_preglucosa',\n",
       " 'avg_bezafibrato',\n",
       " 'E70_E90',\n",
       " 'avg_g5',\n",
       " 'epoca_nac',\n",
       " 'min_dif_vent_entre_consul',\n",
       " 'sum_num_consultas',\n",
       " 'max_diastolica_a',\n",
       " 'avg_ANTIEMETICOS',\n",
       " 'max_trigliceridos',\n",
       " 'num_bezafibrato',\n",
       " 'min_sistolica_a',\n",
       " 'max_colesterol',\n",
       " 'num_med',\n",
       " 'num_med_vent_entre_consul',\n",
       " 'num_g5',\n",
       " 'num_E11',\n",
       " 'num_g12',\n",
       " 'avg_trigliceridos',\n",
       " 'año_dx_dm',\n",
       " 'num_med_sindrome_maltrato',\n",
       " 'num_ANTIEMETICOS',\n",
       " 'avg_ANTIDIABETICOS',\n",
       " 'min_colesterol',\n",
       " 'g14',\n",
       " 'enf_endocrinas',\n",
       " 'E65_E68',\n",
       " 'avg_num_consultas_by_year',\n",
       " 'g5',\n",
       " 'num_E70_E90',\n",
       " 'avg_colesterol',\n",
       " 'avg_sintomas_signos_hallazgos_anormales_clin_lab_no_clasif',\n",
       " 'num_med_enf_sist_osteomuscular_y_tejido',\n",
       " 'avg_E65_E68',\n",
       " 'ot_enf_inf_y_paras_y_efec_tardios',\n",
       " 'avg_E70_E90',\n",
       " 'avg_g12',\n",
       " 'num_g23',\n",
       " 'avg_sindrome_maltrato',\n",
       " 'num_Y526',\n",
       " 'avg_Tumor_maligo',\n",
       " 'num_g6',\n",
       " 'avg_Y52',\n",
       " 'num_VITAMINICOS',\n",
       " 'num_Tumor_maligo',\n",
       " 'min_trigliceridos',\n",
       " 'ANTIDIABETICOS',\n",
       " 'num_med_enf_sist_nervioso',\n",
       " 'num_Tumor_insitu',\n",
       " 'max_num_med',\n",
       " 'avg_g14',\n",
       " 'avg_g23',\n",
       " 'max_sistolica_a',\n",
       " 'num_R0',\n",
       " 'avg_T46',\n",
       " 'imc_range',\n",
       " 'avg_I8',\n",
       " 'g7',\n",
       " 'num_T466',\n",
       " 'avg_O244',\n",
       " 'num_med_malformaciones_congenitas',\n",
       " 'num_ANTIDIABETICOS',\n",
       " 'avg_creatinina',\n",
       " 'avg_I6',\n",
       " 'num_R4',\n",
       " 'avg_I7',\n",
       " 'ANTINEURITICOS',\n",
       " 'avg_R635',\n",
       " 'num_R1',\n",
       " 'avg_Tumor_insitu',\n",
       " 'ANTIANEMICOS',\n",
       " 'avg_enf_inf_intestinales',\n",
       " 'avg_I11',\n",
       " 'ANTIALERGICOS',\n",
       " 'avg_tumores_malig_sitios_mul_indep',\n",
       " 'num_T46',\n",
       " 'ANSIOLITICOS',\n",
       " 'avg_O22',\n",
       " 'num_med_enf_inf_intestinales',\n",
       " 'num_O244',\n",
       " 'avg_enf_sist_osteomuscular_y_tejido',\n",
       " 'avg_I13',\n",
       " 'num_E13',\n",
       " 'num_I11',\n",
       " 'enf_aparato_urinario',\n",
       " 'avg_O260',\n",
       " 'num_med_tumores_insitu',\n",
       " 'avg_tumores_insitu',\n",
       " 'num_Y52',\n",
       " 'avg_g8',\n",
       " 'num_ANTIBIOTICOS',\n",
       " 'enf_sist_osteomuscular_y_tejido',\n",
       " 'avg_FACTOR_VITAMINICO',\n",
       " 'num_E0',\n",
       " 'num_E12',\n",
       " 'avg_comp_precoces_traumatismos',\n",
       " 'sexo',\n",
       " 'num_I12',\n",
       " 'num_I6',\n",
       " 'colesterol',\n",
       " 'g6',\n",
       " 'E10',\n",
       " 'avg_I12',\n",
       " 'num_med_trastornos_sist_genitourinario_consec_proced',\n",
       " 'num_O260',\n",
       " 'num_O22',\n",
       " 'num_med_enf_cerebrovasculares',\n",
       " 'avg_fiebre_y_enf_cardiacas_reumaticas',\n",
       " 'num_E10',\n",
       " 'vent_entre_lab',\n",
       " 'num_R3',\n",
       " 'avg_I10',\n",
       " 'avg_g6',\n",
       " 'avg_R4',\n",
       " 'avg_trastornos_sist_genitourinario_consec_proced',\n",
       " 'num_ANTIULCEROSOS_Y_PROTECTORES_DE_LA_MUCOSA_GASTRICA',\n",
       " 'avg_R3',\n",
       " 'preglucosa',\n",
       " 'num_R635',\n",
       " 'num_med_tumores_malig_org_respiratorios_intratoracicos',\n",
       " 'num_R2',\n",
       " 'avg_ANTIANEMICOS',\n",
       " 'avg_ANTIULCEROSOS_Y_PROTECTORES_DE_LA_MUCOSA_GASTRICA',\n",
       " 'min_diastolica_a',\n",
       " 'avg_VITAMINICOS',\n",
       " 'avg_E14',\n",
       " 'num_I15',\n",
       " 'num_I7',\n",
       " 'num_med_fiebre_y_enf_cardiacas_reumaticas',\n",
       " 'trastornos_mama',\n",
       " 'avg_E0',\n",
       " 'g12',\n",
       " 'ANTIEPILEPTICOS',\n",
       " 'avg_malformaciones_congenitas',\n",
       " 'num_g14',\n",
       " 'max_dif_vent_entre_lab',\n",
       " 'num_I10',\n",
       " 'avg_E12',\n",
       " 'avg_I15',\n",
       " 'num_med_enf_endocrinas',\n",
       " 'num_g8',\n",
       " 'avg_ANTIBIOTICOS',\n",
       " 'num_med_trigliceridos',\n",
       " 'num_med_tumores_malig_sitios_mul_indep',\n",
       " 'num_I13',\n",
       " 'avg_E10',\n",
       " 'avg_E13',\n",
       " 'min_num_med',\n",
       " 'trigliceridos',\n",
       " 'ANTIMICOTICOS_SISTEMICOS_Y_TOPICOS',\n",
       " 'ANTIBIOTICOS',\n",
       " 'avg_vent_entre_lab',\n",
       " 'num_med_sintomas_signos_hallazgos_anormales_clin_lab_no_clasif',\n",
       " 'avg_enf_aparato_urinario',\n",
       " 'enf_viricas',\n",
       " 'min_dif_vent_entre_lab',\n",
       " 'avg_enf_cerebrovasculares',\n",
       " 'O260',\n",
       " 'avg_R2',\n",
       " 'num_ANTIANEMICOS',\n",
       " 'num_I8',\n",
       " 'avg_T466',\n",
       " 'dm',\n",
       " 'num_med_comp_precoces_traumatismos',\n",
       " 'avg_enf_sist_nervioso',\n",
       " 'avg_Y526',\n",
       " 'Tumor_insitu',\n",
       " 'avg_ANTIULCEROSOS_PROTECTOR_GASTRICO',\n",
       " 'max_urea',\n",
       " 'tumores_malig_org_respiratorios_intratoracicos',\n",
       " 'num_FACTOR_VITAMINICO',\n",
       " 'I8',\n",
       " 'num_ANTIULCEROSOS_PROTECTOR_GASTRICO',\n",
       " 'max_creatinina',\n",
       " 'tfg',\n",
       " 'avg_R0',\n",
       " 'num_med_urea',\n",
       " 'T466',\n",
       " 'avg_FARMACOS_UTILIZADOS_EN_NEFROLOGIA',\n",
       " 'enf_cerebrovasculares',\n",
       " 'num_E14',\n",
       " 'num_med_enf_aparato_urinario',\n",
       " 'R4',\n",
       " 'ANTIFUNGICOS',\n",
       " 'avg_tumores_malig_org_respiratorios_intratoracicos',\n",
       " 'tumores_malig_sitios_mul_indep',\n",
       " 'ANTIULCEROSOS_PROTECTOR_GASTRICO',\n",
       " 'sindrome_maltrato',\n",
       " 'num_med_acido_urico',\n",
       " 'g23',\n",
       " 'trastornos_sist_genitourinario_consec_proced',\n",
       " 'bezafibrato',\n",
       " 'avg_hba1c',\n",
       " 'I12',\n",
       " 'num_med_colesterol',\n",
       " 'O244',\n",
       " 'E14',\n",
       " 'creatinina',\n",
       " 'VITAMINICOS',\n",
       " 'avg_urea',\n",
       " 'tumores_insitu',\n",
       " 'I6',\n",
       " 'urea',\n",
       " 'I7',\n",
       " 'num_E65_E68',\n",
       " 'E12',\n",
       " 'Tumor_maligo',\n",
       " 'malformaciones_congenitas',\n",
       " 'avg_R1',\n",
       " 'acido_urico',\n",
       " 'avg_enf_ot_partes_aparato_digestivo',\n",
       " 'T46',\n",
       " 'avg_tumores_malig_huesos_articulares_conjuntivo_piel_mama',\n",
       " 'E20_E35',\n",
       " 'E13',\n",
       " 'enf_sist_nervioso',\n",
       " 'g8',\n",
       " 'hdl',\n",
       " 'I15',\n",
       " 'FACTOR_VITAMINICO',\n",
       " 'I11',\n",
       " 'fiebre_y_enf_cardiacas_reumaticas',\n",
       " 'ANTIEMETICOS',\n",
       " 'trastornos_mentales',\n",
       " 'R2',\n",
       " 'ANTIULCEROSOS_Y_PROTECTORES_DE_LA_MUCOSA_GASTRICA']"
      ]
     },
     "execution_count": 14,
     "metadata": {},
     "output_type": "execute_result"
    }
   ],
   "source": [
    "X_train.columns.values.tolist()"
   ]
  },
  {
   "cell_type": "code",
   "execution_count": null,
   "metadata": {},
   "outputs": [],
   "source": []
  },
  {
   "cell_type": "code",
   "execution_count": 15,
   "metadata": {},
   "outputs": [
    {
     "name": "stdout",
     "output_type": "stream",
     "text": [
      "Selección de variables completada satisfactoriamente en  3757.365652322769  segundos\n"
     ]
    }
   ],
   "source": [
    "best = magic_loop(algorithms, X_train, y_train)\n",
    "print(\"Selección de variables completada satisfactoriamente en \", time.time() - start_time, ' segundos')"
   ]
  },
  {
   "cell_type": "code",
   "execution_count": 16,
   "metadata": {},
   "outputs": [
    {
     "data": {
      "text/plain": [
       "XGBClassifier(base_score=0.5, booster='gbtree', callbacks=None,\n",
       "              colsample_bylevel=1, colsample_bynode=1, colsample_bytree=1,\n",
       "              early_stopping_rounds=None, enable_categorical=False,\n",
       "              eval_metric=None, gamma=0, gpu_id=-1, grow_policy='depthwise',\n",
       "              importance_type=None, interaction_constraints='',\n",
       "              learning_rate=0.01, max_bin=256, max_cat_to_onehot=4,\n",
       "              max_delta_step=0, max_depth=4, max_leaves=0, min_child_weight=1,\n",
       "              missing=nan, monotone_constraints='()', n_estimators=140,\n",
       "              n_jobs=4, nthread=4, num_parallel_tree=1, predictor='auto',\n",
       "              random_state=42, reg_alpha=0, ...)"
      ]
     },
     "execution_count": 16,
     "metadata": {},
     "output_type": "execute_result"
    }
   ],
   "source": [
    "model0 = best[0].best_estimator_\n",
    "model0\n",
    "\n",
    "model1 = best[1].best_estimator_\n",
    "model1\n",
    "\n",
    "model2 = best[2].best_estimator_\n",
    "model2\n",
    "\n",
    "model3 = best[3].best_estimator_\n",
    "model3"
   ]
  },
  {
   "cell_type": "code",
   "execution_count": 17,
   "metadata": {},
   "outputs": [],
   "source": [
    "utils.save_df(model0, \"../output/best_model0_av.pkl\")\n",
    "utils.save_df(model1, \"../output/best_model1_av.pkl\")\n",
    "utils.save_df(model2, \"../output/best_model2_av.pkl\")\n",
    "utils.save_df(model3, \"../output/best_model3_av.pkl\")"
   ]
  },
  {
   "cell_type": "markdown",
   "metadata": {},
   "source": [
    "### 4. Evaluando modelo"
   ]
  },
  {
   "cell_type": "code",
   "execution_count": 18,
   "metadata": {},
   "outputs": [],
   "source": [
    "from sklearn.metrics import roc_curve, roc_auc_score\n",
    "from sklearn.metrics import accuracy_score, precision_recall_curve, precision_score, recall_score\n",
    "from sklearn.metrics import confusion_matrix, plot_confusion_matrix\n",
    "import matplotlib.pyplot as plt"
   ]
  },
  {
   "cell_type": "code",
   "execution_count": 19,
   "metadata": {},
   "outputs": [],
   "source": [
    "predicted_labels0 = model0.predict(X_test)\n",
    "predicted_scores0 = model0.predict_proba(X_test)\n",
    "\n",
    "predicted_labels1 = model1.predict(X_test)\n",
    "predicted_scores1 = model1.predict_proba(X_test)\n",
    "\n",
    "predicted_labels2 = model2.predict(X_test)\n",
    "predicted_scores2 = model2.predict_proba(X_test)\n",
    "\n",
    "predicted_labels3 = model3.predict(X_test)\n",
    "predicted_scores3 = model3.predict_proba(X_test)\n"
   ]
  },
  {
   "cell_type": "code",
   "execution_count": 20,
   "metadata": {},
   "outputs": [
    {
     "data": {
      "image/png": "[encoded data removed]",
      "text/plain": [
       "<Figure size 432x288 with 1 Axes>"
      ]
     },
     "metadata": {
      "needs_background": "light"
     },
     "output_type": "display_data"
    },
    {
     "name": "stdout",
     "output_type": "stream",
     "text": [
      "[[34  3]\n",
      " [10  3]]\n"
     ]
    },
    {
     "data": {
      "text/plain": [
       "<sklearn.metrics._plot.confusion_matrix.ConfusionMatrixDisplay at 0x7fe14a807190>"
      ]
     },
     "execution_count": 20,
     "metadata": {},
     "output_type": "execute_result"
    },
    {
     "data": {
      "image/png": "[encoded data removed]",
      "text/plain": [
       "<Figure size 432x288 with 2 Axes>"
      ]
     },
     "metadata": {
      "needs_background": "light"
     },
     "output_type": "display_data"
    }
   ],
   "source": [
    "### Curva ROC\n",
    "plt.figure()\n",
    "fpr, tpr, thresholds = roc_curve(y_test, predicted_scores0[:, 1], pos_label=1)\n",
    "plt.clf()\n",
    "plt.plot([0, 1], [0, 1], 'k--', c=\"red\")\n",
    "plt.plot(fpr, tpr)\n",
    "plt.title(\"ROC best RF, AUC: {}\".format(roc_auc_score(y_test, predicted_labels0)))\n",
    "plt.xlabel(\"fpr\")\n",
    "plt.ylabel(\"tpr\")\n",
    "#plt.savefig('../output/ROC_curve.png', bbox_inches='tight')\n",
    "plt.show()\n",
    "\n",
    "print(confusion_matrix(y_test, predicted_labels0))\n",
    "plot_confusion_matrix(model0, X_test, y_test, cmap=plt.cm.Blues)  "
   ]
  },
  {
   "cell_type": "code",
   "execution_count": 21,
   "metadata": {},
   "outputs": [
    {
     "data": {
      "image/png": "[encoded data removed]",
      "text/plain": [
       "<Figure size 432x288 with 1 Axes>"
      ]
     },
     "metadata": {
      "needs_background": "light"
     },
     "output_type": "display_data"
    },
    {
     "name": "stdout",
     "output_type": "stream",
     "text": [
      "[[35  2]\n",
      " [11  2]]\n"
     ]
    },
    {
     "data": {
      "text/plain": [
       "<sklearn.metrics._plot.confusion_matrix.ConfusionMatrixDisplay at 0x7fe15d1c37d0>"
      ]
     },
     "execution_count": 21,
     "metadata": {},
     "output_type": "execute_result"
    },
    {
     "data": {
      "image/png": "[encoded data removed]",
      "text/plain": [
       "<Figure size 432x288 with 2 Axes>"
      ]
     },
     "metadata": {
      "needs_background": "light"
     },
     "output_type": "display_data"
    }
   ],
   "source": [
    "### Curva ROC\n",
    "plt.figure()\n",
    "fpr, tpr, thresholds = roc_curve(y_test, predicted_scores1[:, 1], pos_label=1)\n",
    "plt.clf()\n",
    "plt.plot([0, 1], [0, 1], 'k--', c=\"red\")\n",
    "plt.plot(fpr, tpr)\n",
    "plt.title(\"ROC best RF, AUC: {}\".format(roc_auc_score(y_test, predicted_labels1)))\n",
    "plt.xlabel(\"fpr\")\n",
    "plt.ylabel(\"tpr\")\n",
    "#plt.savefig('../output/ROC_curve.png', bbox_inches='tight')\n",
    "plt.show()\n",
    "\n",
    "print(confusion_matrix(y_test, predicted_labels1))\n",
    "plot_confusion_matrix(model1, X_test, y_test, cmap=plt.cm.Blues)  "
   ]
  },
  {
   "cell_type": "code",
   "execution_count": 22,
   "metadata": {},
   "outputs": [
    {
     "data": {
      "image/png": "[encoded data removed]",
      "text/plain": [
       "<Figure size 432x288 with 1 Axes>"
      ]
     },
     "metadata": {
      "needs_background": "light"
     },
     "output_type": "display_data"
    },
    {
     "name": "stdout",
     "output_type": "stream",
     "text": [
      "[[33  4]\n",
      " [12  1]]\n"
     ]
    },
    {
     "data": {
      "text/plain": [
       "<sklearn.metrics._plot.confusion_matrix.ConfusionMatrixDisplay at 0x7fe15d128bd0>"
      ]
     },
     "execution_count": 22,
     "metadata": {},
     "output_type": "execute_result"
    },
    {
     "data": {
      "image/png": "[encoded data removed]",
      "text/plain": [
       "<Figure size 432x288 with 2 Axes>"
      ]
     },
     "metadata": {
      "needs_background": "light"
     },
     "output_type": "display_data"
    }
   ],
   "source": [
    "### Curva ROC\n",
    "plt.figure()\n",
    "fpr, tpr, thresholds = roc_curve(y_test, predicted_scores2[:, 1], pos_label=1)\n",
    "plt.clf()\n",
    "plt.plot([0, 1], [0, 1], 'k--', c=\"red\")\n",
    "plt.plot(fpr, tpr)\n",
    "plt.title(\"ROC best RF, AUC: {}\".format(roc_auc_score(y_test, predicted_labels2)))\n",
    "plt.xlabel(\"fpr\")\n",
    "plt.ylabel(\"tpr\")\n",
    "#plt.savefig('../output/ROC_curve.png', bbox_inches='tight')\n",
    "plt.show()\n",
    "\n",
    "print(confusion_matrix(y_test, predicted_labels2))\n",
    "plot_confusion_matrix(model2, X_test, y_test, cmap=plt.cm.Blues)  "
   ]
  },
  {
   "cell_type": "code",
   "execution_count": 23,
   "metadata": {},
   "outputs": [
    {
     "data": {
      "image/png": "[encoded data removed]",
      "text/plain": [
       "<Figure size 432x288 with 1 Axes>"
      ]
     },
     "metadata": {
      "needs_background": "light"
     },
     "output_type": "display_data"
    },
    {
     "name": "stdout",
     "output_type": "stream",
     "text": [
      "[[35  2]\n",
      " [12  1]]\n"
     ]
    },
    {
     "data": {
      "text/plain": [
       "<sklearn.metrics._plot.confusion_matrix.ConfusionMatrixDisplay at 0x7fe15cf95790>"
      ]
     },
     "execution_count": 23,
     "metadata": {},
     "output_type": "execute_result"
    },
    {
     "data": {
      "image/png": "[encoded data removed]",
      "text/plain": [
       "<Figure size 432x288 with 2 Axes>"
      ]
     },
     "metadata": {
      "needs_background": "light"
     },
     "output_type": "display_data"
    }
   ],
   "source": [
    "### Curva ROC\n",
    "plt.figure()\n",
    "fpr, tpr, thresholds = roc_curve(y_test, predicted_scores3[:, 1], pos_label=1)\n",
    "plt.clf()\n",
    "plt.plot([0, 1], [0, 1], 'k--', c=\"red\")\n",
    "plt.plot(fpr, tpr)\n",
    "plt.title(\"ROC best RF, AUC: {}\".format(roc_auc_score(y_test, predicted_labels3)))\n",
    "plt.xlabel(\"fpr\")\n",
    "plt.ylabel(\"tpr\")\n",
    "#plt.savefig('../output/ROC_curve.png', bbox_inches='tight')\n",
    "plt.show()\n",
    "\n",
    "print(confusion_matrix(y_test, predicted_labels3))\n",
    "plot_confusion_matrix(model3, X_test, y_test, cmap=plt.cm.Blues)  "
   ]
  },
  {
   "cell_type": "code",
   "execution_count": 24,
   "metadata": {},
   "outputs": [],
   "source": [
    "def get_metrics_report(fpr, tpr, thresholds, precision, recall, thresholds_2):\n",
    "    df_1 = pd.DataFrame({'threshold': thresholds_2, 'precision': precision,\n",
    "                         'recall': recall})\n",
    "    df_1['f1_score'] = 2 * (df_1.precision * df_1.recall) / (df_1.precision + df_1.recall)\n",
    "\n",
    "    df_2 = pd.DataFrame({'tpr': tpr, 'fpr': fpr, 'threshold': thresholds})\n",
    "    df_2['tnr'] = 1 - df_2['fpr']\n",
    "    df_2['fnr'] = 1 - df_2['tpr']\n",
    "\n",
    "    df = df_1.merge(df_2, on=\"threshold\")\n",
    "\n",
    "    return df"
   ]
  },
  {
   "cell_type": "code",
   "execution_count": 25,
   "metadata": {},
   "outputs": [
    {
     "data": {
      "image/png": "[encoded data removed]",
      "text/plain": [
       "<Figure size 432x288 with 1 Axes>"
      ]
     },
     "metadata": {
      "needs_background": "light"
     },
     "output_type": "display_data"
    }
   ],
   "source": [
    "# Generando métricas\n",
    "precision, recall, thresholds_2 = precision_recall_curve(y_test, predicted_scores1[:, 1], pos_label=1)\n",
    "thresholds_2 = np.append(thresholds_2, 1)\n",
    "metrics_report = get_metrics_report(fpr, tpr, thresholds, precision, recall, thresholds_2)\n",
    "#save_metrics(metrics_report, '../output/metricas_offline.pkl')\n",
    "\n",
    "# Curva: Precision-recall\n",
    "plt.figure()\n",
    "plt.plot(metrics_report['threshold'], metrics_report['precision'], 'k--', c=\"red\", label='precision')\n",
    "plt.plot(metrics_report['threshold'], metrics_report['recall'], 'k--', c=\"blue\", label='recall')\n",
    "plt.xlabel('threshold')\n",
    "plt.ylim([0, 1])\n",
    "plt.legend(bbox_to_anchor=(1, 1), fontsize=12)\n",
    "plt.savefig('../output/recall_precision.png', bbox_inches='tight')\n",
    "#plt.show()"
   ]
  },
  {
   "cell_type": "code",
   "execution_count": 26,
   "metadata": {},
   "outputs": [],
   "source": [
    "# Curva: recall-precision @k\n",
    "data_junta = pd.concat([X_test, y_test], axis=1)\n",
    "data_filtrada = data_junta\n",
    "datos_finales_X = pd.DataFrame(data_filtrada.drop(['label'], axis=1))\n",
    "y_true = data_filtrada.label\n",
    "y_scores = model1.predict_proba(datos_finales_X)"
   ]
  },
  {
   "cell_type": "code",
   "execution_count": 27,
   "metadata": {},
   "outputs": [],
   "source": [
    "def param_graf(y_true, y_scores):\n",
    "    k_values = np.linspace(0, 0.99, 100)\n",
    "    lista = []\n",
    "\n",
    "    for k in k_values:\n",
    "        p_k = precision_at_k(y_true, pd.DataFrame(y_scores)[1], k)\n",
    "        r_k = recall_at_k(y_true, pd.DataFrame(y_scores)[1], k)\n",
    "        lista = lista + [[p_k, r_k, k]]\n",
    "\n",
    "    p_r_g = pd.DataFrame(lista, columns=[\"p_k\", \"r_k\", \"k\"])\n",
    "\n",
    "    return p_r_g\n",
    "\n",
    "def precision_at_k(y_true, y_scores, k):\n",
    "    threshold = np.sort(y_scores)[::-1][int(k * len(y_scores))]\n",
    "    y_pred = np.asarray([1 if i >= threshold else 0 for i in y_scores])\n",
    "\n",
    "    return precision_score(y_true, y_pred)\n",
    "\n",
    "def recall_at_k(y_true, y_scores, k):\n",
    "    threshold = np.sort(y_scores)[::-1][int(k * len(y_scores))]\n",
    "    y_pred = np.asarray([1 if i >= threshold else 0 for i in y_scores])\n",
    "\n",
    "    return recall_score(y_true, y_pred)"
   ]
  },
  {
   "cell_type": "code",
   "execution_count": 28,
   "metadata": {},
   "outputs": [
    {
     "data": {
      "image/png": "[encoded data removed]",
      "text/plain": [
       "<Figure size 432x288 with 1 Axes>"
      ]
     },
     "metadata": {
      "needs_background": "light"
     },
     "output_type": "display_data"
    }
   ],
   "source": [
    "p_r_g = param_graf(y_true, y_scores)\n",
    "\n",
    "plt.figure()\n",
    "plt.plot(p_r_g[\"k\"], p_r_g[\"p_k\"], label=\"P\")\n",
    "plt.plot(p_r_g[\"k\"], p_r_g[\"r_k\"], label=\"R\")\n",
    "plt.title(\"Precision and recall at k%: PA\")\n",
    "plt.axvline(x=0.037, c='red', linestyle='--')\n",
    "plt.ylabel(\"Mejor valor\")\n",
    "plt.legend(['Precision', 'Recall'])\n",
    "plt.xlabel(\"%k\")\n",
    "plt.savefig('../output/recall_precision_k.png', bbox_inches='tight')\n",
    "#plt.show()"
   ]
  },
  {
   "cell_type": "code",
   "execution_count": null,
   "metadata": {},
   "outputs": [],
   "source": []
  }
 ],
 "metadata": {
  "kernelspec": {
   "display_name": "Python 3",
   "language": "python",
   "name": "python3"
  },
  "language_info": {
   "codemirror_mode": {
    "name": "ipython",
    "version": 3
   },
   "file_extension": ".py",
   "mimetype": "text/x-python",
   "name": "python",
   "nbconvert_exporter": "python",
   "pygments_lexer": "ipython3",
   "version": "3.7.4"
  }
 },
 "nbformat": 4,
 "nbformat_minor": 4
}
