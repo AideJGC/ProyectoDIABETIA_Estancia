{
 "cells": [
  {
   "cell_type": "markdown",
   "metadata": {},
   "source": [
    "# Modeling\n",
    "## Estancia de investigación Maestría de Ciencia de Datos\n",
    "## Aide Jazmín González Cruz\n",
    "\n",
    "### 1. Carga de librerías"
   ]
  },
  {
   "cell_type": "code",
   "execution_count": 1,
   "metadata": {},
   "outputs": [],
   "source": [
    "import pandas as pd\n",
    "import numpy as np\n",
    "from sklearn.model_selection import GridSearchCV, TimeSeriesSplit, train_test_split\n",
    "from sklearn.ensemble import RandomForestClassifier\n",
    "from sklearn.preprocessing import MinMaxScaler, OneHotEncoder, KBinsDiscretizer\n",
    "from sklearn.compose import ColumnTransformer\n",
    "from sklearn.base import BaseEstimator,TransformerMixin\n",
    "from sklearn.linear_model import LogisticRegression\n",
    "from sklearn.tree import DecisionTreeClassifier\n",
    "from siuba import *\n",
    "import time\n",
    "from time import gmtime, strftime\n",
    "\n",
    "import sys\n",
    "import os\n",
    "from os.path import dirname\n",
    "from datetime import datetime\n",
    "import warnings\n",
    "warnings.filterwarnings('ignore')\n",
    "sys.path.append(dirname('../src'))\n",
    "from src.utils import utils\n"
   ]
  },
  {
   "cell_type": "markdown",
   "metadata": {},
   "source": [
    "### 2. Carga de features y división de datos de entrenamiento y validación"
   ]
  },
  {
   "cell_type": "code",
   "execution_count": 2,
   "metadata": {},
   "outputs": [
    {
     "data": {
      "text/html": [
       "<div>\n",
       "<style scoped>\n",
       "    .dataframe tbody tr th:only-of-type {\n",
       "        vertical-align: middle;\n",
       "    }\n",
       "\n",
       "    .dataframe tbody tr th {\n",
       "        vertical-align: top;\n",
       "    }\n",
       "\n",
       "    .dataframe thead th {\n",
       "        text-align: right;\n",
       "    }\n",
       "</style>\n",
       "<table border=\"1\" class=\"dataframe\">\n",
       "  <thead>\n",
       "    <tr style=\"text-align: right;\">\n",
       "      <th></th>\n",
       "      <th>ventana</th>\n",
       "      <th>año_dx_dm</th>\n",
       "      <th>dm_años_flt</th>\n",
       "      <th>avg_vent_entre_consul</th>\n",
       "      <th>num_med_preglucosa</th>\n",
       "      <th>avg_sistolica_a</th>\n",
       "      <th>min_dif_vent_entre_consul</th>\n",
       "      <th>avg_preglucosa</th>\n",
       "      <th>dm_años_int</th>\n",
       "      <th>min_sistolica_a</th>\n",
       "      <th>...</th>\n",
       "      <th>ANTIMIGRANOSOS</th>\n",
       "      <th>R635</th>\n",
       "      <th>enf_inf_intestinales</th>\n",
       "      <th>ANTIADRENERGICOS</th>\n",
       "      <th>E10</th>\n",
       "      <th>T46</th>\n",
       "      <th>malformaciones_congenitas</th>\n",
       "      <th>colesterol</th>\n",
       "      <th>avg_OFTALMICOS</th>\n",
       "      <th>label</th>\n",
       "    </tr>\n",
       "  </thead>\n",
       "  <tbody>\n",
       "    <tr>\n",
       "      <th>0</th>\n",
       "      <td>1.0</td>\n",
       "      <td>1998.0</td>\n",
       "      <td>0.058829</td>\n",
       "      <td>39.666667</td>\n",
       "      <td>2.0</td>\n",
       "      <td>121.25</td>\n",
       "      <td>37.0</td>\n",
       "      <td>419.5</td>\n",
       "      <td>0.000000</td>\n",
       "      <td>120.0</td>\n",
       "      <td>...</td>\n",
       "      <td>0.0</td>\n",
       "      <td>1.0</td>\n",
       "      <td>1.0</td>\n",
       "      <td>0.0</td>\n",
       "      <td>1.0</td>\n",
       "      <td>1.0</td>\n",
       "      <td>1.0</td>\n",
       "      <td>0.0</td>\n",
       "      <td>0.365079</td>\n",
       "      <td>0</td>\n",
       "    </tr>\n",
       "    <tr>\n",
       "      <th>1</th>\n",
       "      <td>2.0</td>\n",
       "      <td>1998.0</td>\n",
       "      <td>0.108582</td>\n",
       "      <td>38.333333</td>\n",
       "      <td>1.0</td>\n",
       "      <td>120.00</td>\n",
       "      <td>33.0</td>\n",
       "      <td>391.0</td>\n",
       "      <td>0.000000</td>\n",
       "      <td>120.0</td>\n",
       "      <td>...</td>\n",
       "      <td>0.0</td>\n",
       "      <td>0.0</td>\n",
       "      <td>0.0</td>\n",
       "      <td>0.0</td>\n",
       "      <td>0.0</td>\n",
       "      <td>0.0</td>\n",
       "      <td>0.0</td>\n",
       "      <td>0.0</td>\n",
       "      <td>0.365079</td>\n",
       "      <td>0</td>\n",
       "    </tr>\n",
       "    <tr>\n",
       "      <th>2</th>\n",
       "      <td>3.0</td>\n",
       "      <td>1998.0</td>\n",
       "      <td>0.271919</td>\n",
       "      <td>26.800000</td>\n",
       "      <td>2.0</td>\n",
       "      <td>116.00</td>\n",
       "      <td>0.0</td>\n",
       "      <td>127.0</td>\n",
       "      <td>0.000000</td>\n",
       "      <td>110.0</td>\n",
       "      <td>...</td>\n",
       "      <td>0.0</td>\n",
       "      <td>1.0</td>\n",
       "      <td>1.0</td>\n",
       "      <td>0.0</td>\n",
       "      <td>1.0</td>\n",
       "      <td>1.0</td>\n",
       "      <td>1.0</td>\n",
       "      <td>1.0</td>\n",
       "      <td>0.365079</td>\n",
       "      <td>0</td>\n",
       "    </tr>\n",
       "    <tr>\n",
       "      <th>3</th>\n",
       "      <td>1.0</td>\n",
       "      <td>1999.0</td>\n",
       "      <td>1.694576</td>\n",
       "      <td>18.666667</td>\n",
       "      <td>1.0</td>\n",
       "      <td>115.00</td>\n",
       "      <td>9.0</td>\n",
       "      <td>126.0</td>\n",
       "      <td>1.286534</td>\n",
       "      <td>110.0</td>\n",
       "      <td>...</td>\n",
       "      <td>0.0</td>\n",
       "      <td>1.0</td>\n",
       "      <td>1.0</td>\n",
       "      <td>0.0</td>\n",
       "      <td>1.0</td>\n",
       "      <td>1.0</td>\n",
       "      <td>1.0</td>\n",
       "      <td>0.0</td>\n",
       "      <td>0.365079</td>\n",
       "      <td>0</td>\n",
       "    </tr>\n",
       "    <tr>\n",
       "      <th>4</th>\n",
       "      <td>2.0</td>\n",
       "      <td>1999.0</td>\n",
       "      <td>1.694576</td>\n",
       "      <td>39.333333</td>\n",
       "      <td>1.0</td>\n",
       "      <td>120.00</td>\n",
       "      <td>9.0</td>\n",
       "      <td>373.0</td>\n",
       "      <td>1.286534</td>\n",
       "      <td>120.0</td>\n",
       "      <td>...</td>\n",
       "      <td>0.0</td>\n",
       "      <td>1.0</td>\n",
       "      <td>1.0</td>\n",
       "      <td>0.0</td>\n",
       "      <td>1.0</td>\n",
       "      <td>1.0</td>\n",
       "      <td>1.0</td>\n",
       "      <td>0.0</td>\n",
       "      <td>0.365079</td>\n",
       "      <td>0</td>\n",
       "    </tr>\n",
       "  </tbody>\n",
       "</table>\n",
       "<p>5 rows × 295 columns</p>\n",
       "</div>"
      ],
      "text/plain": [
       "   ventana  año_dx_dm  dm_años_flt  avg_vent_entre_consul  num_med_preglucosa  \\\n",
       "0      1.0     1998.0     0.058829              39.666667                 2.0   \n",
       "1      2.0     1998.0     0.108582              38.333333                 1.0   \n",
       "2      3.0     1998.0     0.271919              26.800000                 2.0   \n",
       "3      1.0     1999.0     1.694576              18.666667                 1.0   \n",
       "4      2.0     1999.0     1.694576              39.333333                 1.0   \n",
       "\n",
       "   avg_sistolica_a  min_dif_vent_entre_consul  avg_preglucosa  dm_años_int  \\\n",
       "0           121.25                       37.0           419.5     0.000000   \n",
       "1           120.00                       33.0           391.0     0.000000   \n",
       "2           116.00                        0.0           127.0     0.000000   \n",
       "3           115.00                        9.0           126.0     1.286534   \n",
       "4           120.00                        9.0           373.0     1.286534   \n",
       "\n",
       "   min_sistolica_a  ...  ANTIMIGRANOSOS  R635  enf_inf_intestinales  \\\n",
       "0            120.0  ...             0.0   1.0                   1.0   \n",
       "1            120.0  ...             0.0   0.0                   0.0   \n",
       "2            110.0  ...             0.0   1.0                   1.0   \n",
       "3            110.0  ...             0.0   1.0                   1.0   \n",
       "4            120.0  ...             0.0   1.0                   1.0   \n",
       "\n",
       "   ANTIADRENERGICOS  E10  T46  malformaciones_congenitas  colesterol  \\\n",
       "0               0.0  1.0  1.0                        1.0         0.0   \n",
       "1               0.0  0.0  0.0                        0.0         0.0   \n",
       "2               0.0  1.0  1.0                        1.0         1.0   \n",
       "3               0.0  1.0  1.0                        1.0         0.0   \n",
       "4               0.0  1.0  1.0                        1.0         0.0   \n",
       "\n",
       "   avg_OFTALMICOS  label  \n",
       "0        0.365079      0  \n",
       "1        0.365079      0  \n",
       "2        0.365079      0  \n",
       "3        0.365079      0  \n",
       "4        0.365079      0  \n",
       "\n",
       "[5 rows x 295 columns]"
      ]
     },
     "execution_count": 2,
     "metadata": {},
     "output_type": "execute_result"
    }
   ],
   "source": [
    "df = utils.load_df(\"../Data/feature_sel2.pkl\")\n",
    "df.head(5)"
   ]
  },
  {
   "cell_type": "code",
   "execution_count": 3,
   "metadata": {},
   "outputs": [
    {
     "name": "stdout",
     "output_type": "stream",
     "text": [
      "<class 'pandas.core.frame.DataFrame'>\n",
      "RangeIndex: 1341 entries, 0 to 1340\n",
      "Columns: 295 entries, ventana to label\n",
      "dtypes: float64(294), int64(1)\n",
      "memory usage: 3.0 MB\n"
     ]
    }
   ],
   "source": [
    "df.info()"
   ]
  },
  {
   "cell_type": "code",
   "execution_count": 4,
   "metadata": {},
   "outputs": [
    {
     "name": "stdout",
     "output_type": "stream",
     "text": [
      "(1341, 294)\n",
      "(1341, 1)\n"
     ]
    }
   ],
   "source": [
    "X = df.loc[:, df.columns != 'label']\n",
    "print(X.shape)\n",
    "Y = df[[\"label\"]]\n",
    "print(Y.shape)"
   ]
  },
  {
   "cell_type": "code",
   "execution_count": 5,
   "metadata": {},
   "outputs": [],
   "source": [
    "X_train,X_test,y_train,y_test = train_test_split(X,Y,test_size=0.3)"
   ]
  },
  {
   "cell_type": "code",
   "execution_count": 6,
   "metadata": {},
   "outputs": [],
   "source": [
    "#from imblearn.over_sampling import SMOTE\n",
    "#sm = SMOTE(random_state=42)\n",
    "#X_res, y_res = sm.fit_resample(X_train, y_train)\n",
    "#X_train = X_res\n",
    "#y_train = y_res"
   ]
  },
  {
   "cell_type": "markdown",
   "metadata": {},
   "source": [
    "### 3. Magic Loop\n",
    "\n",
    "- Diccionario de algoritmos a aplicar"
   ]
  },
  {
   "cell_type": "code",
   "execution_count": 7,
   "metadata": {},
   "outputs": [],
   "source": [
    "algorithms_dict = {'tree': 'tree_grid_search',\n",
    "                   'random_forest': 'rf_grid_search',\n",
    "                   'logistic': 'logistic_grid_search',\n",
    "                   'xgboost': 'xgboost_grid_search'}"
   ]
  },
  {
   "cell_type": "markdown",
   "metadata": {},
   "source": [
    "- Diccionario de configuraciones"
   ]
  },
  {
   "cell_type": "code",
   "execution_count": 8,
   "metadata": {},
   "outputs": [],
   "source": [
    "grid_search_dict = {\n",
    "                        'tree_grid_search': {\n",
    "                            'max_depth': [5, 10, 15],\n",
    "                            'min_samples_leaf': [3, 5, 7]\n",
    "                        },\n",
    "                        'rf_grid_search': {\n",
    "                            'n_estimators': [30, 50, 100],\n",
    "                            'max_depth': [5, 10, 15],\n",
    "                            'min_samples_leaf': [3, 5, 10]\n",
    "                        },\n",
    "                        'logistic_grid_search':{\n",
    "                            'C':np.logspace(-3,3,7),\n",
    "                            'penalty':['l2']\n",
    "                        },\n",
    "                        'xgboost_grid_search':{\n",
    "                            'max_depth': range (2, 10, 1),\n",
    "                            'n_estimators': range(60, 220, 40),\n",
    "                            'learning_rate': [0.1, 0.01, 0.05]\n",
    "                        }\n",
    "                    }"
   ]
  },
  {
   "cell_type": "markdown",
   "metadata": {},
   "source": [
    "- Diccionario de estimadores"
   ]
  },
  {
   "cell_type": "code",
   "execution_count": 9,
   "metadata": {},
   "outputs": [],
   "source": [
    "from xgboost import XGBClassifier"
   ]
  },
  {
   "cell_type": "code",
   "execution_count": 10,
   "metadata": {},
   "outputs": [],
   "source": [
    "from sklearn.tree import DecisionTreeClassifier\n",
    "estimators_dict = {'tree': DecisionTreeClassifier(random_state=1111),\n",
    "                   'random_forest': RandomForestClassifier(oob_score=True, random_state=2222),\n",
    "                   'logistic': LogisticRegression(random_state=3333),\n",
    "                   'xgboost': XGBClassifier(objective= 'binary:logistic',nthread=4,seed=42)\n",
    "                  } "
   ]
  },
  {
   "cell_type": "code",
   "execution_count": 11,
   "metadata": {},
   "outputs": [],
   "source": [
    "def magic_loop(algorithms, features, labels):\n",
    "    best_estimators = []\n",
    "    for algorithm in algorithms:\n",
    "        estimator = estimators_dict[algorithm]\n",
    "        grid_search_to_look = algorithms_dict[algorithm]\n",
    "        grid_params = grid_search_dict[grid_search_to_look]\n",
    "        #tscv = TimeSeriesSplit(n_splits=5)\n",
    "        \n",
    "        #gs = GridSearchCV(estimator, grid_params, scoring='precision', cv=5, n_jobs=-1)\n",
    "        gs = GridSearchCV(estimator, grid_params, scoring='roc_auc', cv=5, n_jobs=-1)\n",
    "        \n",
    "        #train\n",
    "        gs.fit(features, labels)\n",
    "        #best estimator\n",
    "        best_estimators.append(gs)\n",
    "        \n",
    "        \n",
    "    return best_estimators"
   ]
  },
  {
   "cell_type": "code",
   "execution_count": 12,
   "metadata": {},
   "outputs": [],
   "source": [
    "#scoring_met= 'recall'\n",
    "algorithms = ['tree', 'random_forest','logistic','xgboost']\n",
    "models = []\n",
    "start_time = time.time()\n",
    "models_list = []"
   ]
  },
  {
   "cell_type": "code",
   "execution_count": 13,
   "metadata": {},
   "outputs": [
    {
     "name": "stdout",
     "output_type": "stream",
     "text": [
      "Empty DataFrame\n",
      "Columns: []\n",
      "Index: [276, 1097, 515, 748, 331, 591, 1257, 36, 1057, 231, 851, 857, 328, 1129, 305, 187, 497, 346, 88, 775, 485, 407, 1064, 609, 128, 1061, 657, 737, 117, 909, 417, 674, 45, 262, 314, 1121, 1163, 1171, 611, 174, 460, 699, 453, 1119, 1059, 73, 393, 405, 997, 902, 278, 1270, 357, 441, 1278, 679, 233, 1212, 929, 206, 313, 991, 144, 443, 237, 109, 665, 10, 340, 72, 1298, 1133, 1185, 1089, 18, 1266, 1096, 87, 449, 1193, 148, 542, 841, 492, 655, 220, 1134, 933, 428, 917, 440, 215, 173, 627, 133, 1007, 1131, 530, 1014, 756, ...]\n",
      "\n",
      "[938 rows x 0 columns]\n"
     ]
    }
   ],
   "source": [
    "# Select dataframe columns with any NaN value\n",
    "subset_df = X_train.loc[:, X_train.isnull().any()]\n",
    "print(subset_df)"
   ]
  },
  {
   "cell_type": "code",
   "execution_count": 14,
   "metadata": {},
   "outputs": [
    {
     "data": {
      "text/plain": [
       "['ventana',\n",
       " 'año_dx_dm',\n",
       " 'dm_años_flt',\n",
       " 'avg_vent_entre_consul',\n",
       " 'num_med_preglucosa',\n",
       " 'avg_sistolica_a',\n",
       " 'min_dif_vent_entre_consul',\n",
       " 'avg_preglucosa',\n",
       " 'dm_años_int',\n",
       " 'min_sistolica_a',\n",
       " 'min_preglucosa',\n",
       " 'avg_diastolica_a',\n",
       " 'max_preglucosa',\n",
       " 'num_ANALGESICOS',\n",
       " 'max_dif_vent_entre_consul',\n",
       " 'min_diastolica_a',\n",
       " 'epoca_nac',\n",
       " 'num_ADYUVANTES DE LA ANALGESIA',\n",
       " 'num_ANTIDIABETICOS',\n",
       " 'avg_ANTIHIPERTENSIVOS',\n",
       " 'avg_ANTIEPILEPTICOS',\n",
       " 'avg_HIPOLIPEMIANTES',\n",
       " 'avg_ANALGESICOS',\n",
       " 'max_sistolica_a',\n",
       " 'num_ANTIMICOTICOS',\n",
       " 'avg_bezafibrato',\n",
       " 'enf_sist_osteomuscular_y_tejido',\n",
       " 'max_diastolica_a',\n",
       " 'ANESTESICOS LOCALES',\n",
       " 'avg_ANTIMICROBIANOS',\n",
       " 'avg_ANTIINFLAMATORIOS',\n",
       " 'num_med_enf_endocrinas',\n",
       " 'num_ANTIHIPERTENSIVOS',\n",
       " 'imc_range',\n",
       " 'num_ANTIEPILEPTICOS',\n",
       " 'num_ANTIGOTOSOS',\n",
       " 'num_ANTIARTRITICOS',\n",
       " 'ANTIARRITMICOS',\n",
       " 'edad_range',\n",
       " 'num_ANTIHISTAMINICOS',\n",
       " 'avg_ANTIARTRITICOS',\n",
       " 'avg_ANESTESICOS LOCALES',\n",
       " 'avg_ANTIRREUMATICOS',\n",
       " 'num_g8',\n",
       " 'num_HIPOLIPEMIANTES',\n",
       " 'avg_ADYUVANTES DE LA ANALGESIA',\n",
       " 'avg_ANTIMICOTICOS',\n",
       " 'num_ANTIDEPRESIVOS',\n",
       " 'num_VITAMINAS',\n",
       " 'num_ANTIULCEROSOS',\n",
       " 'num_ANTIRREUMATICOS',\n",
       " 'avg_E11',\n",
       " 'num_ANTIANGINOSOS',\n",
       " 'num_ANTIANEMICOS',\n",
       " 'num_g5',\n",
       " 'ANTIHIPERTENSIVOS',\n",
       " 'avg_MINERALES',\n",
       " 'num_med_trastornos_sist_genitourinario_consec_proced',\n",
       " 'dm',\n",
       " 'avg_ANTIDEPRESIVOS',\n",
       " 'enf_endocrinas',\n",
       " 'avg_num_med',\n",
       " 'avg_ANTITUSIGENOS',\n",
       " 'num_ANTIINFLAMATORIOS',\n",
       " 'num_med_presion_a',\n",
       " 'num_ANTIARRITMICOS',\n",
       " 'avg_ANTIHISTAMINICOS',\n",
       " 'num_E11',\n",
       " 'num_ANTIALERGICOS',\n",
       " 'ANTIMICROBIANOS',\n",
       " 'num_MINERALES',\n",
       " 'avg_EXPECTORANTES',\n",
       " 'EXPECTORANTES',\n",
       " 'avg_ANTIARRITMICOS',\n",
       " 'sexo',\n",
       " 'avg_I6',\n",
       " 'num_PROCINETICOS GASTROINTESTINALES',\n",
       " 'ANALGESICOS',\n",
       " 'num_I12',\n",
       " 'num_bezafibrato',\n",
       " 'enf_viricas',\n",
       " 'ANTIHISTAMINICOS',\n",
       " 'E65_E68',\n",
       " 'num_g23',\n",
       " 'ANTIANGINOSOS',\n",
       " 'avg_ANTIANGINOSOS',\n",
       " 'avg_g8',\n",
       " 'avg_enf_endocrinas',\n",
       " 'num_EXPECTORANTES',\n",
       " 'avg_ANTIALERGICOS',\n",
       " 'avg_Y52',\n",
       " 'avg_VITAMINAS',\n",
       " 'num_DERMATOLOGICOS',\n",
       " 'avg_I7',\n",
       " 'avg_enf_sist_nervioso',\n",
       " 'avg_enf_ot_partes_aparato_digestivo',\n",
       " 'avg_enf_cerebrovasculares',\n",
       " 'avg_Tumor_insitu',\n",
       " 'sum_num_consultas',\n",
       " 'avg_g5',\n",
       " 'avg_g23',\n",
       " 'num_Tumor_maligo',\n",
       " 'avg_ANTIDIABETICOS',\n",
       " 'avg_ANTIULCEROSOS',\n",
       " 'ANTIARTRITICOS',\n",
       " 'avg_ANTISEPTICOS',\n",
       " 'ANTIDEPRESIVOS',\n",
       " 'avg_E10',\n",
       " 'avg_E65_E68',\n",
       " 'ANTIEPILEPTICOS',\n",
       " 'avg_O260',\n",
       " 'min_num_med',\n",
       " 'num_Tumor_insitu',\n",
       " 'num_med_tumores_malig_sitios_mul_indep',\n",
       " 'num_med',\n",
       " 'avg_CORTICOSTEROIDES',\n",
       " 'num_R1',\n",
       " 'avg_T466',\n",
       " 'num_I6',\n",
       " 'g23',\n",
       " 'num_ANTIMICROBIANOS',\n",
       " 'ANTIRREUMATICOS',\n",
       " 'ANTISEPTICOS URINARIOS',\n",
       " 'num_DIURETICOS',\n",
       " 'max_num_med',\n",
       " 'avg_DERMATOLOGICOS',\n",
       " 'num_T46',\n",
       " 'VITAMINAS',\n",
       " 'bezafibrato',\n",
       " 'num_ANESTESICOS LOCALES',\n",
       " 'avg_O244',\n",
       " 'ANTITUSIGENOS',\n",
       " 'ADYUVANTES DE LA ANALGESIA',\n",
       " 'avg_enf_inf_intestinales',\n",
       " 'ANTIGOTOSOS',\n",
       " 'MINERALES',\n",
       " 'num_med_sindrome_maltrato',\n",
       " 'num_I10',\n",
       " 'avg_E0',\n",
       " 'num_CORTICOSTEROIDES',\n",
       " 'avg_SEDANTES HIPNOTICOS',\n",
       " 'g8',\n",
       " 'avg_ANTIADRENERGICOS',\n",
       " 'num_med_vent_entre_consul',\n",
       " 'num_E14',\n",
       " 'ANTIALERGICOS',\n",
       " 'num_I11',\n",
       " 'ANTIULCEROSOS',\n",
       " 'avg_g14',\n",
       " 'ANTIANEMICOS',\n",
       " 'num_T466',\n",
       " 'num_med_enf_ot_partes_aparato_digestivo',\n",
       " 'ANTIINFLAMATORIOS',\n",
       " 'num_I13',\n",
       " 'num_O22',\n",
       " 'HIPOLIPEMIANTES',\n",
       " 'avg_comp_precoces_traumatismos',\n",
       " 'ANTISEPTICOS',\n",
       " 'num_ANTISEPTICOS',\n",
       " 'num_ANTITUSIGENOS',\n",
       " 'num_Y52',\n",
       " 'avg_E14',\n",
       " 'avg_I15',\n",
       " 'avg_I10',\n",
       " 'num_ANTICOLINERGICOS',\n",
       " 'avg_tumores_malig_sitios_mul_indep',\n",
       " 'avg_PROCINETICOS GASTROINTESTINALES',\n",
       " 'g5',\n",
       " 'num_med_sintomas_signos_hallazgos_anormales_clin_lab_no_clasif',\n",
       " 'num_R635',\n",
       " 'num_R2',\n",
       " 'num_med_malformaciones_congenitas',\n",
       " 'num_med_comp_precoces_traumatismos',\n",
       " 'num_g14',\n",
       " 'avg_R4',\n",
       " 'DIURETICOS',\n",
       " 'avg_O22',\n",
       " 'PROCINETICOS GASTROINTESTINALES',\n",
       " 'num_I7',\n",
       " 'ANTIASMATICOS',\n",
       " 'avg_I12',\n",
       " 'avg_malformaciones_congenitas',\n",
       " 'ANTIDIABETICOS',\n",
       " 'avg_R2',\n",
       " 'ANTIVIRALES',\n",
       " 'num_E10',\n",
       " 'avg_I13',\n",
       " 'avg_E70_E90',\n",
       " 'num_R0',\n",
       " 'num_med_fiebre_y_enf_cardiacas_reumaticas',\n",
       " 'avg_ANTIASMATICOS',\n",
       " 'num_ANSIOLITICOS',\n",
       " 'ACIDIFICANTES DE LAS VIAS URINARIAS',\n",
       " 'avg_num_consultas_by_year',\n",
       " 'avg_sintomas_signos_hallazgos_anormales_clin_lab_no_clasif',\n",
       " 'num_ANTIADRENERGICOS',\n",
       " 'avg_I8',\n",
       " 'num_O244',\n",
       " 'num_R3',\n",
       " 'num_E13',\n",
       " 'avg_trastornos_sist_genitourinario_consec_proced',\n",
       " 'avg_tumores_insitu',\n",
       " 'avg_E12',\n",
       " 'num_I8',\n",
       " 'num_med_tumores_insitu',\n",
       " 'preglucosa',\n",
       " 'avg_sindrome_maltrato',\n",
       " 'num_E70_E90',\n",
       " 'num_E0',\n",
       " 'avg_Y526',\n",
       " 'avg_ANTIESPASMODICOS',\n",
       " 'num_I15',\n",
       " 'num_Y526',\n",
       " 'num_ANTIESPASMODICOS',\n",
       " 'E70_E90',\n",
       " 'avg_tumores_malig_org_respiratorios_intratoracicos',\n",
       " 'num_med_enf_sist_nervioso',\n",
       " 'ANTIMICOTICOS',\n",
       " 'num_med_enf_cerebrovasculares',\n",
       " 'ANTIESPASMODICOS',\n",
       " 'I13',\n",
       " 'avg_DIURETICOS',\n",
       " 'num_SEDANTES HIPNOTICOS',\n",
       " 'num_ADRENERGICOS',\n",
       " 'num_med_tumores_malig_org_respiratorios_intratoracicos',\n",
       " 'avg_T46',\n",
       " 'avg_ANTIMIGRANOSOS',\n",
       " 'num_ANTIPROTOZOARIOS',\n",
       " 'max_colesterol',\n",
       " 'avg_ANSIOLITICOS',\n",
       " 'avg_I11',\n",
       " 'OTROS INOTROPICOS POSITIVOS',\n",
       " 'num_ACIDIFICANTES DE LAS VIAS URINARIAS',\n",
       " 'avg_Tumor_maligo',\n",
       " 'CORTICOSTEROIDES',\n",
       " 'enf_aparato_urinario',\n",
       " 'avg_E13',\n",
       " 'avg_R0',\n",
       " 'num_ANTIASMATICOS',\n",
       " 'SEDANTES HIPNOTICOS',\n",
       " 'avg_R635',\n",
       " 'R3',\n",
       " 'I12',\n",
       " 'map_g',\n",
       " 'num_med_enf_inf_intestinales',\n",
       " 'avg_R3',\n",
       " 'ANTIPROTOZOARIOS',\n",
       " 'avg_ANTIANEMICOS',\n",
       " 'num_E65_E68',\n",
       " 'avg_ANTIACIDOS',\n",
       " 'R2',\n",
       " 'avg_R1',\n",
       " 'num_E12',\n",
       " 'I15',\n",
       " 'avg_fiebre_y_enf_cardiacas_reumaticas',\n",
       " 'avg_ANTIGOTOSOS',\n",
       " 'ANTIVERTIGINOSOS',\n",
       " 'num_OFTALMICOS',\n",
       " 'num_HEMATOPOYETICOS',\n",
       " 'max_trigliceridos',\n",
       " 'num_ANTIACIDOS',\n",
       " 'num_med_colesterol',\n",
       " 'num_O260',\n",
       " 'avg_g6',\n",
       " 'g6',\n",
       " 'avg_BRONCODILATADORES',\n",
       " 'g9',\n",
       " 'avg_ACIDIFICANTES DE LAS VIAS URINARIAS',\n",
       " 'num_BRONCODILATADORES',\n",
       " 'num_med_tumores_malig_huesos_articulares_conjuntivo_piel_mama',\n",
       " 'R1',\n",
       " 'fiebre_y_enf_cardiacas_reumaticas',\n",
       " 'num_g6',\n",
       " 'E14',\n",
       " 'tumores_malig_sitios_mul_indep',\n",
       " 'num_R4',\n",
       " 'inf_y_enf_vias_respiratorias_sup',\n",
       " 'ANTICOLINERGICOS',\n",
       " 'ANTIPARASITARIOS VAGINALES',\n",
       " 'num_ANTIVERTIGINOSOS',\n",
       " 'E13',\n",
       " 'DERMATOLOGICOS',\n",
       " 'trigliceridos',\n",
       " 'ANTIHELMINTICOS',\n",
       " 'avg_ANTICOLINERGICOS',\n",
       " 'ANTIMIGRANOSOS',\n",
       " 'R635',\n",
       " 'enf_inf_intestinales',\n",
       " 'ANTIADRENERGICOS',\n",
       " 'E10',\n",
       " 'T46',\n",
       " 'malformaciones_congenitas',\n",
       " 'colesterol',\n",
       " 'avg_OFTALMICOS']"
      ]
     },
     "execution_count": 14,
     "metadata": {},
     "output_type": "execute_result"
    }
   ],
   "source": [
    "X_train.columns.values.tolist()"
   ]
  },
  {
   "cell_type": "code",
   "execution_count": null,
   "metadata": {},
   "outputs": [],
   "source": []
  },
  {
   "cell_type": "code",
   "execution_count": 15,
   "metadata": {},
   "outputs": [
    {
     "name": "stdout",
     "output_type": "stream",
     "text": [
      "Selección de variables completada satisfactoriamente en  4165.117528676987  segundos\n"
     ]
    }
   ],
   "source": [
    "best = magic_loop(algorithms, X_train, y_train)\n",
    "print(\"Selección de variables completada satisfactoriamente en \", time.time() - start_time, ' segundos')"
   ]
  },
  {
   "cell_type": "code",
   "execution_count": 16,
   "metadata": {},
   "outputs": [
    {
     "data": {
      "text/plain": [
       "XGBClassifier(base_score=0.5, booster='gbtree', callbacks=None,\n",
       "              colsample_bylevel=1, colsample_bynode=1, colsample_bytree=1,\n",
       "              early_stopping_rounds=None, enable_categorical=False,\n",
       "              eval_metric=None, gamma=0, gpu_id=-1, grow_policy='depthwise',\n",
       "              importance_type=None, interaction_constraints='',\n",
       "              learning_rate=0.05, max_bin=256, max_cat_to_onehot=4,\n",
       "              max_delta_step=0, max_depth=3, max_leaves=0, min_child_weight=1,\n",
       "              missing=nan, monotone_constraints='()', n_estimators=140,\n",
       "              n_jobs=4, nthread=4, num_parallel_tree=1, predictor='auto',\n",
       "              random_state=42, reg_alpha=0, ...)"
      ]
     },
     "execution_count": 16,
     "metadata": {},
     "output_type": "execute_result"
    }
   ],
   "source": [
    "model0 = best[0].best_estimator_\n",
    "model0\n",
    "\n",
    "model1 = best[1].best_estimator_\n",
    "model1\n",
    "\n",
    "model2 = best[2].best_estimator_\n",
    "model2\n",
    "\n",
    "model3 = best[3].best_estimator_\n",
    "model3"
   ]
  },
  {
   "cell_type": "code",
   "execution_count": 17,
   "metadata": {},
   "outputs": [],
   "source": [
    "utils.save_df(model0, \"../output/best_model0_av.pkl\")\n",
    "utils.save_df(model1, \"../output/best_model1_av.pkl\")\n",
    "utils.save_df(model2, \"../output/best_model2_av.pkl\")\n",
    "utils.save_df(model3, \"../output/best_model3_av.pkl\")"
   ]
  },
  {
   "cell_type": "markdown",
   "metadata": {},
   "source": [
    "### 4. Evaluando modelo"
   ]
  },
  {
   "cell_type": "code",
   "execution_count": 18,
   "metadata": {},
   "outputs": [],
   "source": [
    "from sklearn.metrics import roc_curve, roc_auc_score\n",
    "from sklearn.metrics import accuracy_score, precision_recall_curve, precision_score, recall_score\n",
    "from sklearn.metrics import confusion_matrix, plot_confusion_matrix\n",
    "import matplotlib.pyplot as plt"
   ]
  },
  {
   "cell_type": "code",
   "execution_count": 19,
   "metadata": {},
   "outputs": [],
   "source": [
    "predicted_labels0 = model0.predict(X_test)\n",
    "predicted_scores0 = model0.predict_proba(X_test)\n",
    "\n",
    "predicted_labels1 = model1.predict(X_test)\n",
    "predicted_scores1 = model1.predict_proba(X_test)\n",
    "\n",
    "predicted_labels2 = model2.predict(X_test)\n",
    "predicted_scores2 = model2.predict_proba(X_test)\n",
    "\n",
    "predicted_labels3 = model3.predict(X_test)\n",
    "predicted_scores3 = model3.predict_proba(X_test)\n"
   ]
  },
  {
   "cell_type": "code",
   "execution_count": 20,
   "metadata": {},
   "outputs": [
    {
     "data": {
      "image/png": "[encoded data removed]",
      "text/plain": [
       "<Figure size 432x288 with 1 Axes>"
      ]
     },
     "metadata": {
      "needs_background": "light"
     },
     "output_type": "display_data"
    },
    {
     "name": "stdout",
     "output_type": "stream",
     "text": [
      "[[390   2]\n",
      " [ 11   0]]\n"
     ]
    },
    {
     "data": {
      "text/plain": [
       "<sklearn.metrics._plot.confusion_matrix.ConfusionMatrixDisplay at 0x7f9988b79e10>"
      ]
     },
     "execution_count": 20,
     "metadata": {},
     "output_type": "execute_result"
    },
    {
     "data": {
      "image/png": "[encoded data removed]",
      "text/plain": [
       "<Figure size 432x288 with 2 Axes>"
      ]
     },
     "metadata": {
      "needs_background": "light"
     },
     "output_type": "display_data"
    }
   ],
   "source": [
    "### Curva ROC\n",
    "plt.figure()\n",
    "fpr, tpr, thresholds = roc_curve(y_test, predicted_scores0[:, 1], pos_label=1)\n",
    "plt.clf()\n",
    "plt.plot([0, 1], [0, 1], 'k--', c=\"red\")\n",
    "plt.plot(fpr, tpr)\n",
    "plt.title(\"ROC best RF, AUC: {}\".format(roc_auc_score(y_test, predicted_labels0)))\n",
    "plt.xlabel(\"fpr\")\n",
    "plt.ylabel(\"tpr\")\n",
    "#plt.savefig('../output/ROC_curve.png', bbox_inches='tight')\n",
    "plt.show()\n",
    "\n",
    "print(confusion_matrix(y_test, predicted_labels0))\n",
    "plot_confusion_matrix(model0, X_test, y_test, cmap=plt.cm.Blues)  "
   ]
  },
  {
   "cell_type": "code",
   "execution_count": 21,
   "metadata": {},
   "outputs": [
    {
     "data": {
      "image/png": "[encoded data removed]",
      "text/plain": [
       "<Figure size 432x288 with 1 Axes>"
      ]
     },
     "metadata": {
      "needs_background": "light"
     },
     "output_type": "display_data"
    },
    {
     "name": "stdout",
     "output_type": "stream",
     "text": [
      "[[392   0]\n",
      " [ 11   0]]\n"
     ]
    },
    {
     "data": {
      "text/plain": [
       "<sklearn.metrics._plot.confusion_matrix.ConfusionMatrixDisplay at 0x7f99889f4990>"
      ]
     },
     "execution_count": 21,
     "metadata": {},
     "output_type": "execute_result"
    },
    {
     "data": {
      "image/png": "[encoded data removed]",
      "text/plain": [
       "<Figure size 432x288 with 2 Axes>"
      ]
     },
     "metadata": {
      "needs_background": "light"
     },
     "output_type": "display_data"
    }
   ],
   "source": [
    "### Curva ROC\n",
    "plt.figure()\n",
    "fpr, tpr, thresholds = roc_curve(y_test, predicted_scores1[:, 1], pos_label=1)\n",
    "plt.clf()\n",
    "plt.plot([0, 1], [0, 1], 'k--', c=\"red\")\n",
    "plt.plot(fpr, tpr)\n",
    "plt.title(\"ROC best RF, AUC: {}\".format(roc_auc_score(y_test, predicted_labels1)))\n",
    "plt.xlabel(\"fpr\")\n",
    "plt.ylabel(\"tpr\")\n",
    "#plt.savefig('../output/ROC_curve.png', bbox_inches='tight')\n",
    "plt.show()\n",
    "\n",
    "print(confusion_matrix(y_test, predicted_labels1))\n",
    "plot_confusion_matrix(model1, X_test, y_test, cmap=plt.cm.Blues)  "
   ]
  },
  {
   "cell_type": "code",
   "execution_count": 22,
   "metadata": {},
   "outputs": [
    {
     "data": {
      "image/png": "[encoded data removed]",
      "text/plain": [
       "<Figure size 432x288 with 1 Axes>"
      ]
     },
     "metadata": {
      "needs_background": "light"
     },
     "output_type": "display_data"
    },
    {
     "name": "stdout",
     "output_type": "stream",
     "text": [
      "[[391   1]\n",
      " [ 11   0]]\n"
     ]
    },
    {
     "data": {
      "text/plain": [
       "<sklearn.metrics._plot.confusion_matrix.ConfusionMatrixDisplay at 0x7f99889a3090>"
      ]
     },
     "execution_count": 22,
     "metadata": {},
     "output_type": "execute_result"
    },
    {
     "data": {
      "image/png": "[encoded data removed]",
      "text/plain": [
       "<Figure size 432x288 with 2 Axes>"
      ]
     },
     "metadata": {
      "needs_background": "light"
     },
     "output_type": "display_data"
    }
   ],
   "source": [
    "### Curva ROC\n",
    "plt.figure()\n",
    "fpr, tpr, thresholds = roc_curve(y_test, predicted_scores2[:, 1], pos_label=1)\n",
    "plt.clf()\n",
    "plt.plot([0, 1], [0, 1], 'k--', c=\"red\")\n",
    "plt.plot(fpr, tpr)\n",
    "plt.title(\"ROC best RF, AUC: {}\".format(roc_auc_score(y_test, predicted_labels2)))\n",
    "plt.xlabel(\"fpr\")\n",
    "plt.ylabel(\"tpr\")\n",
    "#plt.savefig('../output/ROC_curve.png', bbox_inches='tight')\n",
    "plt.show()\n",
    "\n",
    "print(confusion_matrix(y_test, predicted_labels2))\n",
    "plot_confusion_matrix(model2, X_test, y_test, cmap=plt.cm.Blues)  "
   ]
  },
  {
   "cell_type": "code",
   "execution_count": 23,
   "metadata": {},
   "outputs": [
    {
     "data": {
      "image/png": "[encoded data removed]",
      "text/plain": [
       "<Figure size 432x288 with 1 Axes>"
      ]
     },
     "metadata": {
      "needs_background": "light"
     },
     "output_type": "display_data"
    },
    {
     "name": "stdout",
     "output_type": "stream",
     "text": [
      "[[392   0]\n",
      " [ 11   0]]\n"
     ]
    },
    {
     "data": {
      "text/plain": [
       "<sklearn.metrics._plot.confusion_matrix.ConfusionMatrixDisplay at 0x7f99893d80d0>"
      ]
     },
     "execution_count": 23,
     "metadata": {},
     "output_type": "execute_result"
    },
    {
     "data": {
      "image/png": "[encoded data removed]",
      "text/plain": [
       "<Figure size 432x288 with 2 Axes>"
      ]
     },
     "metadata": {
      "needs_background": "light"
     },
     "output_type": "display_data"
    }
   ],
   "source": [
    "### Curva ROC\n",
    "plt.figure()\n",
    "fpr, tpr, thresholds = roc_curve(y_test, predicted_scores3[:, 1], pos_label=1)\n",
    "plt.clf()\n",
    "plt.plot([0, 1], [0, 1], 'k--', c=\"red\")\n",
    "plt.plot(fpr, tpr)\n",
    "plt.title(\"ROC best RF, AUC: {}\".format(roc_auc_score(y_test, predicted_labels3)))\n",
    "plt.xlabel(\"fpr\")\n",
    "plt.ylabel(\"tpr\")\n",
    "#plt.savefig('../output/ROC_curve.png', bbox_inches='tight')\n",
    "plt.show()\n",
    "\n",
    "print(confusion_matrix(y_test, predicted_labels3))\n",
    "plot_confusion_matrix(model3, X_test, y_test, cmap=plt.cm.Blues)  "
   ]
  },
  {
   "cell_type": "code",
   "execution_count": 24,
   "metadata": {},
   "outputs": [],
   "source": [
    "def get_metrics_report(fpr, tpr, thresholds, precision, recall, thresholds_2):\n",
    "    df_1 = pd.DataFrame({'threshold': thresholds_2, 'precision': precision,\n",
    "                         'recall': recall})\n",
    "    df_1['f1_score'] = 2 * (df_1.precision * df_1.recall) / (df_1.precision + df_1.recall)\n",
    "\n",
    "    df_2 = pd.DataFrame({'tpr': tpr, 'fpr': fpr, 'threshold': thresholds})\n",
    "    df_2['tnr'] = 1 - df_2['fpr']\n",
    "    df_2['fnr'] = 1 - df_2['tpr']\n",
    "\n",
    "    df = df_1.merge(df_2, on=\"threshold\")\n",
    "\n",
    "    return df"
   ]
  },
  {
   "cell_type": "code",
   "execution_count": 25,
   "metadata": {},
   "outputs": [
    {
     "data": {
      "image/png": "[encoded data removed]",
      "text/plain": [
       "<Figure size 432x288 with 1 Axes>"
      ]
     },
     "metadata": {
      "needs_background": "light"
     },
     "output_type": "display_data"
    }
   ],
   "source": [
    "# Generando métricas\n",
    "precision, recall, thresholds_2 = precision_recall_curve(y_test, predicted_scores1[:, 1], pos_label=1)\n",
    "thresholds_2 = np.append(thresholds_2, 1)\n",
    "metrics_report = get_metrics_report(fpr, tpr, thresholds, precision, recall, thresholds_2)\n",
    "#save_metrics(metrics_report, '../output/metricas_offline.pkl')\n",
    "\n",
    "# Curva: Precision-recall\n",
    "plt.figure()\n",
    "plt.plot(metrics_report['threshold'], metrics_report['precision'], 'k--', c=\"red\", label='precision')\n",
    "plt.plot(metrics_report['threshold'], metrics_report['recall'], 'k--', c=\"blue\", label='recall')\n",
    "plt.xlabel('threshold')\n",
    "plt.ylim([0, 1])\n",
    "plt.legend(bbox_to_anchor=(1, 1), fontsize=12)\n",
    "plt.savefig('../output/recall_precision.png', bbox_inches='tight')\n",
    "#plt.show()"
   ]
  },
  {
   "cell_type": "code",
   "execution_count": 26,
   "metadata": {},
   "outputs": [],
   "source": [
    "# Curva: recall-precision @k\n",
    "data_junta = pd.concat([X_test, y_test], axis=1)\n",
    "data_filtrada = data_junta\n",
    "datos_finales_X = pd.DataFrame(data_filtrada.drop(['label'], axis=1))\n",
    "y_true = data_filtrada.label\n",
    "y_scores = model1.predict_proba(datos_finales_X)"
   ]
  },
  {
   "cell_type": "code",
   "execution_count": 27,
   "metadata": {},
   "outputs": [],
   "source": [
    "def param_graf(y_true, y_scores):\n",
    "    k_values = np.linspace(0, 0.99, 100)\n",
    "    lista = []\n",
    "\n",
    "    for k in k_values:\n",
    "        p_k = precision_at_k(y_true, pd.DataFrame(y_scores)[1], k)\n",
    "        r_k = recall_at_k(y_true, pd.DataFrame(y_scores)[1], k)\n",
    "        lista = lista + [[p_k, r_k, k]]\n",
    "\n",
    "    p_r_g = pd.DataFrame(lista, columns=[\"p_k\", \"r_k\", \"k\"])\n",
    "\n",
    "    return p_r_g\n",
    "\n",
    "def precision_at_k(y_true, y_scores, k):\n",
    "    threshold = np.sort(y_scores)[::-1][int(k * len(y_scores))]\n",
    "    y_pred = np.asarray([1 if i >= threshold else 0 for i in y_scores])\n",
    "\n",
    "    return precision_score(y_true, y_pred)\n",
    "\n",
    "def recall_at_k(y_true, y_scores, k):\n",
    "    threshold = np.sort(y_scores)[::-1][int(k * len(y_scores))]\n",
    "    y_pred = np.asarray([1 if i >= threshold else 0 for i in y_scores])\n",
    "\n",
    "    return recall_score(y_true, y_pred)"
   ]
  },
  {
   "cell_type": "code",
   "execution_count": 28,
   "metadata": {},
   "outputs": [
    {
     "data": {
      "image/png": "[encoded data removed]",
      "text/plain": [
       "<Figure size 432x288 with 1 Axes>"
      ]
     },
     "metadata": {
      "needs_background": "light"
     },
     "output_type": "display_data"
    }
   ],
   "source": [
    "p_r_g = param_graf(y_true, y_scores)\n",
    "\n",
    "plt.figure()\n",
    "plt.plot(p_r_g[\"k\"], p_r_g[\"p_k\"], label=\"P\")\n",
    "plt.plot(p_r_g[\"k\"], p_r_g[\"r_k\"], label=\"R\")\n",
    "plt.title(\"Precision and recall at k%: PA\")\n",
    "plt.axvline(x=0.037, c='red', linestyle='--')\n",
    "plt.ylabel(\"Mejor valor\")\n",
    "plt.legend(['Precision', 'Recall'])\n",
    "plt.xlabel(\"%k\")\n",
    "plt.savefig('../output/recall_precision_k.png', bbox_inches='tight')\n",
    "#plt.show()"
   ]
  },
  {
   "cell_type": "code",
   "execution_count": null,
   "metadata": {},
   "outputs": [],
   "source": []
  }
 ],
 "metadata": {
  "kernelspec": {
   "display_name": "Python 3",
   "language": "python",
   "name": "python3"
  },
  "language_info": {
   "codemirror_mode": {
    "name": "ipython",
    "version": 3
   },
   "file_extension": ".py",
   "mimetype": "text/x-python",
   "name": "python",
   "nbconvert_exporter": "python",
   "pygments_lexer": "ipython3",
   "version": "3.7.4"
  }
 },
 "nbformat": 4,
 "nbformat_minor": 4
}
